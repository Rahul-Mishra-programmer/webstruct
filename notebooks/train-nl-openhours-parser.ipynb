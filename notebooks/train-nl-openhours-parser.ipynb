{
 "metadata": {
  "name": "train-nl-openhours-parser"
 },
 "nbformat": 3,
 "nbformat_minor": 0,
 "worksheets": [
  {
   "cells": [
    {
     "cell_type": "code",
     "collapsed": true,
     "input": [
      "import os\n",
      "import sys\n",
      "import re\n",
      "import codecs\n",
      "import random\n",
      "import itertools\n",
      "\n",
      "import wapiti\n",
      "sys.path.insert(0, '../token_model/')\n",
      "\n",
      "from webstruct_token.feature_extraction import HtmlFeaturesExtractor\n",
      "from webstruct_token.wapiti import WapitiFeatureEncoder\n",
      "from webstruct_token.features.utils import CombinedFeatures\n",
      "from webstruct_token.features.block_features import parent_tag, borders, block_length\n",
      "from webstruct_token.features.token_features import token_shape, number_pattern, prefixes_and_suffixes\n",
      "from webstruct_token.features.data_features import looks_like_time, looks_like_month, looks_like_year, \\\n",
      "                                                   looks_like_weekday, looks_like_email, looks_like_range\n",
      "\n",
      "def tagged_data(folder):\n",
      "    for fname in os.listdir(folder):\n",
      "        path = os.path.join(folder, fname)\n",
      "        try:\n",
      "            with codecs.open(path, 'r', encoding='utf8') as f:\n",
      "                yield path, f.read()\n",
      "        except UnicodeDecodeError:\n",
      "            print 'unicode decode error', path\n",
      "            \n",
      "DEFAULT_TAGSET = {\"hours\"}\n",
      "\n",
      "DEFAULT_FEATRUE = CombinedFeatures(\n",
      "   parent_tag,\n",
      "   borders,\n",
      "   block_length,\n",
      "   \n",
      "   token_shape,\n",
      "   number_pattern,\n",
      "   prefixes_and_suffixes,\n",
      "   looks_like_email,\n",
      "   \n",
      "   # datetime\n",
      "   looks_like_year,\n",
      "   looks_like_time,\n",
      "   looks_like_month,\n",
      "   looks_like_weekday,\n",
      "   looks_like_range\n",
      ")\n",
      "                                   \n",
      "fe = HtmlFeaturesExtractor(tags=DEFAULT_TAGSET, feature_func=DEFAULT_FEATRUE)    \n",
      "\n",
      "def fit_wapiti_encoder(tagged_data_iter):\n",
      "    we = WapitiFeatureEncoder(['token', 'lower'])    \n",
      "    for path, html in tagged_data_iter:\n",
      "        try:\n",
      "            features, labels = fe.fit_transform(html)\n",
      "            we.partial_fit(features)\n",
      "        except Exception as e:\n",
      "            print(\"error decoding %s:\\n%s\" % (path, e))\n",
      "    return we\n",
      "\n",
      "\n",
      "def to_wapiti_seq(features, labels, include_labels=True):\n",
      "    lines = []\n",
      "    for line, label in zip(we.transform(features), labels):\n",
      "        if include_labels:\n",
      "            lines.append(\"%s %s\" % (line, label))\n",
      "        else:\n",
      "            lines.append(line)\n",
      "    return '\\n'.join(lines)\n",
      "    \n",
      "\n",
      "def iter_wapiti_sequences(tagged_data_iter, we, include_labels=True):\n",
      "    \n",
      "    for path, html in tagged_data_iter:\n",
      "        try:\n",
      "            features, labels = fe.fit_transform(html)\n",
      "        except AssertionError as e:\n",
      "            print(\"error decoding %s:\\n%s\" % (path, e))\n",
      "        else:\n",
      "            yield to_wapiti_seq(features, labels, include_labels)\n",
      "        \n",
      "    \n",
      "def create_wapiti_data(fname, tagged_data_iter, we, include_labels=True):\n",
      "    with codecs.open(fname, 'w', encoding='utf8') as f:            \n",
      "        for seq in iter_wapiti_sequences(tagged_data_iter, we, include_labels):\n",
      "            f.write(seq)\n",
      "            f.write('\\n\\n')\n",
      "            "
     ],
     "language": "python",
     "metadata": {},
     "outputs": [],
     "prompt_number": 42
    },
    {
     "cell_type": "code",
     "collapsed": true,
     "input": [
      "corpus_paths = [\n",
      "    '../webstruct_data/corpus/nl/annotated/',\n",
      "]\n",
      "\n",
      "data = list(itertools.chain(*map(tagged_data, corpus_paths)))\n",
      "print len(data)\n",
      "\n",
      "random.shuffle(data)\n",
      "train, dev = data[:45], data[45:]\n",
      "\n",
      "print(len(train), len(dev))\n",
      "\n",
      "we = fit_wapiti_encoder(train)\n",
      "\n",
      "create_wapiti_data('nl_train.txt', train, we=we)\n",
      "create_wapiti_data('nl_test.txt', dev, we=we)\n",
      "\n",
      "from sklearn.externals.joblib import dump\n",
      "dump(we, 'nl-wfe.joblib', compress=1)"
     ],
     "language": "python",
     "metadata": {},
     "outputs": [
      {
       "output_type": "stream",
       "stream": "stdout",
       "text": [
        "57"
       ]
      },
      {
       "output_type": "stream",
       "stream": "stdout",
       "text": [
        "\n",
        "(45, 12)\n"
       ]
      },
      {
       "output_type": "pyout",
       "prompt_number": 47,
       "text": [
        "['nl-wfe.joblib']"
       ]
      }
     ],
     "prompt_number": 47
    },
    {
     "cell_type": "code",
     "collapsed": false,
     "input": [
      "template = '''\n",
      "# Label unigram & bigram\n",
      "*\n",
      "\n",
      "# Nearby token unigrams (lower)\n",
      "u-LL:%x[-2,lower]\n",
      "u--L:%x[-1,lower]\n",
      "u--R:%x[ 1,lower]\n",
      "u-RR:%x[ 2,lower]\n",
      "\n",
      "# Nearby token bigrams (lower)\n",
      "u:wrd-2-LL:%x[-2,lower]/%x[-1,lower]\n",
      "u:wrd-2-L:%x[-1,lower]/%x[0,lower]\n",
      "u:wrd-2-R:%x[0,lower]/%x[1,lower]\n",
      "u:wrd-2-RR:%x[1,lower]/%x[2,lower]\n",
      "\n",
      "# Nearby shapes\n",
      "u:shape-L:%x[-1,shape]\n",
      "u:shape-R:%x[1,shape]\n",
      "\n",
      "u:shape:%x[-1,shape]/%x[0,shape]\n",
      "\n",
      "u:pattern--L:%x[-1,num_pattern2]\n",
      "u:pattern--R:%x[ 1,num_pattern2]\n",
      "\n",
      "u:token-L-weekday:%x[-1,lower]/%x[0, looks_like_weekday]\n",
      "u:token-L-time:%x[-1,lower]/%x[0, looks_like_time]\n",
      "\n",
      "u:weekday-L:%x[-1, looks_like_weekday]\n",
      "u:weekday-R:%x[1, looks_like_weekday]\n",
      "\n",
      "u:time-L:%x[-1, looks_like_time]\n",
      "u:time-R:%x[1, looks_like_time]]\n",
      "\n",
      "u:time-range-2:%x[-1,looks_like_time]/%x[0, looks_like_range]\n",
      "u:time-range-3:%x[-1,looks_like_time]/%x[0, looks_like_range]/%x[1,looks_like_time]\n",
      "\n",
      "u:weekday-range-2:%x[-1,looks_like_weekday]/%x[0, looks_like_weekday]\n",
      "u:weekday-range-3:%x[-1,looks_like_weekday]/%x[0, looks_like_range]/%x[1,looks_like_weekday]\n",
      "'''\n",
      "\n",
      "wapiti_template = we.unigram_features_template() + we.prepare_template(template) \n",
      "\n",
      "with codecs.open('wapiti-template.txt', 'w', encoding='utf8') as f:\n",
      "    f.write(wapiti_template)"
     ],
     "language": "python",
     "metadata": {},
     "outputs": [],
     "prompt_number": 48
    },
    {
     "cell_type": "code",
     "collapsed": false,
     "input": [
      "!wapiti train --pattern wapiti-template.txt --algo l-bfgs nl_train.txt nl-open-hours.wapiti"
     ],
     "language": "python",
     "metadata": {},
     "outputs": [
      {
       "output_type": "stream",
       "stream": "stdout",
       "text": [
        "* Load patterns\r\n",
        "* Load training data\r\n"
       ]
      },
      {
       "output_type": "stream",
       "stream": "stdout",
       "text": [
        "* Initialize the model\r\n",
        "* Summary\r\n",
        "    nb train:    45\r\n",
        "    nb labels:   3\r\n",
        "    nb blocks:   48988\r\n",
        "    nb features: 253533\r\n",
        "* Train the model with l-bfgs\r\n"
       ]
      },
      {
       "output_type": "stream",
       "stream": "stdout",
       "text": [
        "  [   1] obj=5460.07    act=119489   err=11.25%/100.00% time=0.14s/0.14s\r\n"
       ]
      },
      {
       "output_type": "stream",
       "stream": "stdout",
       "text": [
        "  [   2] obj=4497.04    act=68562    err=11.25%/100.00% time=0.08s/0.21s\r\n"
       ]
      },
      {
       "output_type": "stream",
       "stream": "stdout",
       "text": [
        "  [   3] obj=597.55     act=26521    err= 3.45%/100.00% time=0.34s/0.55s\r\n"
       ]
      },
      {
       "output_type": "stream",
       "stream": "stdout",
       "text": [
        "  [   4] obj=591.73     act=27187    err= 3.04%/100.00% time=0.19s/0.74s\r\n"
       ]
      },
      {
       "output_type": "stream",
       "stream": "stdout",
       "text": [
        "  [   5] obj=572.68     act=27932    err= 4.17%/100.00% time=0.25s/0.99s\r\n"
       ]
      },
      {
       "output_type": "stream",
       "stream": "stdout",
       "text": [
        "  [   6] obj=562.60     act=27725    err= 3.05%/100.00% time=0.26s/1.25s\r\n"
       ]
      },
      {
       "output_type": "stream",
       "stream": "stdout",
       "text": [
        "  [   7] obj=561.01     act=27817    err= 3.27%/100.00% time=0.41s/1.66s\r\n"
       ]
      },
      {
       "output_type": "stream",
       "stream": "stdout",
       "text": [
        "  [   8] obj=523.21     act=26055    err= 3.27%/100.00% time=0.08s/1.74s\r\n"
       ]
      },
      {
       "output_type": "stream",
       "stream": "stdout",
       "text": [
        "  [   9] obj=269.21     act=7743     err= 2.95%/57.78% time=0.10s/1.85s\r\n"
       ]
      },
      {
       "output_type": "stream",
       "stream": "stdout",
       "text": [
        "  [  10] obj=237.07     act=9210     err= 2.11%/62.22% time=0.12s/1.97s\r\n"
       ]
      },
      {
       "output_type": "stream",
       "stream": "stdout",
       "text": [
        "  [  11] obj=229.04     act=9423     err= 2.07%/60.00% time=0.39s/2.36s\r\n"
       ]
      },
      {
       "output_type": "stream",
       "stream": "stdout",
       "text": [
        "  [  12] obj=227.14     act=9250     err= 2.03%/60.00% time=0.14s/2.49s\r\n"
       ]
      },
      {
       "output_type": "stream",
       "stream": "stdout",
       "text": [
        "  [  13] obj=212.99     act=9146     err= 2.16%/60.00% time=0.26s/2.75s\r\n"
       ]
      },
      {
       "output_type": "stream",
       "stream": "stdout",
       "text": [
        "  [  14] obj=207.01     act=8699     err= 1.76%/51.11% time=0.09s/2.84s\r\n"
       ]
      },
      {
       "output_type": "stream",
       "stream": "stdout",
       "text": [
        "  [  15] obj=189.26     act=8796     err= 1.88%/53.33% time=0.09s/2.93s\r\n"
       ]
      },
      {
       "output_type": "stream",
       "stream": "stdout",
       "text": [
        "  [  16] obj=175.75     act=8333     err= 1.74%/51.11% time=0.08s/3.01s\r\n"
       ]
      },
      {
       "output_type": "stream",
       "stream": "stdout",
       "text": [
        "  [  17] obj=170.01     act=8063     err= 1.91%/51.11% time=0.14s/3.15s\r\n"
       ]
      },
      {
       "output_type": "stream",
       "stream": "stdout",
       "text": [
        "  [  18] obj=158.59     act=8046     err= 1.24%/35.56% time=0.08s/3.23s\r\n"
       ]
      },
      {
       "output_type": "stream",
       "stream": "stdout",
       "text": [
        "  [  19] obj=157.33     act=8020     err= 1.40%/40.00% time=0.08s/3.31s\r\n"
       ]
      },
      {
       "output_type": "stream",
       "stream": "stdout",
       "text": [
        "  [  20] obj=147.42     act=8008     err= 0.63%/26.67% time=0.07s/3.38s\r\n"
       ]
      },
      {
       "output_type": "stream",
       "stream": "stdout",
       "text": [
        "  [  21] obj=143.31     act=8013     err= 0.96%/28.89% time=0.07s/3.46s\r\n"
       ]
      },
      {
       "output_type": "stream",
       "stream": "stdout",
       "text": [
        "  [  22] obj=138.12     act=7551     err= 0.62%/26.67% time=0.08s/3.53s\r\n"
       ]
      },
      {
       "output_type": "stream",
       "stream": "stdout",
       "text": [
        "  [  23] obj=130.47     act=7033     err= 0.84%/26.67% time=0.08s/3.61s\r\n"
       ]
      },
      {
       "output_type": "stream",
       "stream": "stdout",
       "text": [
        "  [  24] obj=125.09     act=6579     err= 0.54%/20.00% time=0.08s/3.69s\r\n"
       ]
      },
      {
       "output_type": "stream",
       "stream": "stdout",
       "text": [
        "  [  25] obj=120.86     act=6283     err= 0.24%/15.56% time=0.08s/3.77s\r\n"
       ]
      },
      {
       "output_type": "stream",
       "stream": "stdout",
       "text": [
        "  [  26] obj=118.50     act=5953     err= 0.24%/15.56% time=0.10s/3.86s\r\n"
       ]
      },
      {
       "output_type": "stream",
       "stream": "stdout",
       "text": [
        "  [  27] obj=114.27     act=4985     err= 0.39%/13.33% time=0.20s/4.06s\r\n"
       ]
      },
      {
       "output_type": "stream",
       "stream": "stdout",
       "text": [
        "  [  28] obj=111.59     act=5116     err= 0.29%/11.11% time=0.09s/4.15s\r\n"
       ]
      },
      {
       "output_type": "stream",
       "stream": "stdout",
       "text": [
        "  [  29] obj=111.09     act=5036     err= 0.29%/11.11% time=0.08s/4.23s\r\n"
       ]
      },
      {
       "output_type": "stream",
       "stream": "stdout",
       "text": [
        "  [  30] obj=107.57     act=4616     err= 0.34%/ 8.89% time=0.08s/4.31s\r\n"
       ]
      },
      {
       "output_type": "stream",
       "stream": "stdout",
       "text": [
        "  [  31] obj=106.44     act=4367     err= 0.31%/ 8.89% time=0.18s/4.49s\r\n"
       ]
      },
      {
       "output_type": "stream",
       "stream": "stdout",
       "text": [
        "  [  32] obj=105.80     act=3964     err= 0.34%/ 8.89% time=0.07s/4.56s\r\n"
       ]
      },
      {
       "output_type": "stream",
       "stream": "stdout",
       "text": [
        "  [  33] obj=102.13     act=3776     err= 0.31%/ 8.89% time=0.08s/4.64s\r\n"
       ]
      },
      {
       "output_type": "stream",
       "stream": "stdout",
       "text": [
        "  [  34] obj=101.45     act=3448     err= 0.31%/ 6.67% time=0.08s/4.72s\r\n"
       ]
      },
      {
       "output_type": "stream",
       "stream": "stdout",
       "text": [
        "  [  35] obj=99.66      act=3134     err= 0.29%/ 6.67% time=0.08s/4.81s\r\n"
       ]
      },
      {
       "output_type": "stream",
       "stream": "stdout",
       "text": [
        "  [  36] obj=98.95      act=2878     err= 0.31%/ 6.67% time=0.08s/4.89s\r\n"
       ]
      },
      {
       "output_type": "stream",
       "stream": "stdout",
       "text": [
        "  [  37] obj=97.53      act=2780     err= 0.29%/ 6.67% time=0.07s/4.96s\r\n"
       ]
      },
      {
       "output_type": "stream",
       "stream": "stdout",
       "text": [
        "  [  38] obj=97.08      act=2650     err= 0.31%/ 6.67% time=0.08s/5.04s\r\n"
       ]
      },
      {
       "output_type": "stream",
       "stream": "stdout",
       "text": [
        "  [  39] obj=96.08      act=2533     err= 0.29%/ 6.67% time=0.10s/5.14s\r\n"
       ]
      },
      {
       "output_type": "stream",
       "stream": "stdout",
       "text": [
        "  [  40] obj=95.45      act=2390     err= 0.04%/ 2.22% time=0.11s/5.24s\r\n"
       ]
      },
      {
       "output_type": "stream",
       "stream": "stdout",
       "text": [
        "  [  41] obj=94.74      act=2345     err= 0.04%/ 2.22% time=0.10s/5.35s\r\n"
       ]
      },
      {
       "output_type": "stream",
       "stream": "stdout",
       "text": [
        "  [  42] obj=94.42      act=2257     err= 0.04%/ 2.22% time=0.11s/5.46s\r\n"
       ]
      },
      {
       "output_type": "stream",
       "stream": "stdout",
       "text": [
        "  [  43] obj=93.69      act=2140     err= 0.04%/ 2.22% time=0.09s/5.55s\r\n"
       ]
      },
      {
       "output_type": "stream",
       "stream": "stdout",
       "text": [
        "  [  44] obj=93.48      act=1973     err= 0.30%/ 4.44% time=0.08s/5.63s\r\n"
       ]
      },
      {
       "output_type": "stream",
       "stream": "stdout",
       "text": [
        "  [  45] obj=92.62      act=1879     err= 0.04%/ 2.22% time=0.07s/5.70s\r\n"
       ]
      },
      {
       "output_type": "stream",
       "stream": "stdout",
       "text": [
        "  [  46] obj=92.51      act=1833     err= 0.04%/ 2.22% time=0.07s/5.77s\r\n"
       ]
      },
      {
       "output_type": "stream",
       "stream": "stdout",
       "text": [
        "  [  47] obj=91.86      act=1782     err= 0.04%/ 2.22% time=0.08s/5.85s\r\n",
        "* Save the model\r\n",
        "* Done\r\n"
       ]
      }
     ],
     "prompt_number": 49
    },
    {
     "cell_type": "code",
     "collapsed": false,
     "input": [
      "!wapiti label --model nl-open-hours.wapiti -c nl_test.txt res.txt"
     ],
     "language": "python",
     "metadata": {},
     "outputs": [
      {
       "output_type": "stream",
       "stream": "stdout",
       "text": [
        "* Load model\r\n"
       ]
      },
      {
       "output_type": "stream",
       "stream": "stdout",
       "text": [
        "* Label sequences\r\n"
       ]
      },
      {
       "output_type": "stream",
       "stream": "stdout",
       "text": [
        "    Nb sequences  : 12\r\n",
        "    Token error   :  2.02%\r\n",
        "    Sequence error: 25.00%\r\n",
        "* Per label statistics\r\n",
        "    O       Pr=0.98  Rc=0.99  F1=0.99\r\n",
        "    B-HOURS  Pr=0.90  Rc=0.86  F1=0.88\r\n",
        "    I-HOURS  Pr=0.95  Rc=0.89  F1=0.92\r\n",
        "* Done\r\n"
       ]
      }
     ],
     "prompt_number": 50
    },
    {
     "cell_type": "code",
     "collapsed": false,
     "input": [],
     "language": "python",
     "metadata": {},
     "outputs": [],
     "prompt_number": 5
    },
    {
     "cell_type": "code",
     "collapsed": false,
     "input": [],
     "language": "python",
     "metadata": {},
     "outputs": []
    }
   ],
   "metadata": {}
  }
 ]
}