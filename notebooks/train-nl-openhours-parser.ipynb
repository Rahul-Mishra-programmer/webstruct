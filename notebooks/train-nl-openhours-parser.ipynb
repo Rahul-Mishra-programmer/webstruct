{
 "metadata": {
  "name": "train-nl-openhours-parser"
 },
 "nbformat": 3,
 "nbformat_minor": 0,
 "worksheets": [
  {
   "cells": [
    {
     "cell_type": "code",
     "collapsed": true,
     "input": [
      "import os\n",
      "import sys\n",
      "import re\n",
      "import codecs\n",
      "import random\n",
      "import itertools\n",
      "\n",
      "sys.path.insert(0, '../')\n",
      "\n",
      "import wapiti\n",
      "\n",
      "from webstruct.wapiti import WapitiFeatureEncoder\n",
      "from webstruct.feature_extraction import HtmlFeaturesExtractor\n",
      "from webstruct.features.utils import CombinedFeatures\n",
      "from webstruct.features.block_features import parent_tag, borders, block_length\n",
      "from webstruct.features.token_features import token_shape, number_pattern, prefixes_and_suffixes\n",
      "from webstruct.features.data_features import looks_like_time, looks_like_month, looks_like_year, \\\n",
      "                                             looks_like_weekday, looks_like_email, looks_like_range\n",
      "\n",
      "def tagged_data(folder):\n",
      "    for fname in os.listdir(folder):\n",
      "        path = os.path.join(folder, fname)\n",
      "        try:\n",
      "            with codecs.open(path, 'r', encoding='utf8') as f:\n",
      "                yield path, f.read()\n",
      "        except UnicodeDecodeError:\n",
      "            print 'unicode decode error', path\n",
      "            \n",
      "DEFAULT_TAGSET = {\"hours\"}\n",
      "\n",
      "DEFAULT_FEATURES = CombinedFeatures(\n",
      "   parent_tag,\n",
      "   borders,\n",
      "   block_length,\n",
      "   \n",
      "   token_shape,\n",
      "   number_pattern,\n",
      "   prefixes_and_suffixes,\n",
      "   looks_like_email,\n",
      "   \n",
      "   # datetime\n",
      "   looks_like_year,\n",
      "   looks_like_time,\n",
      "   looks_like_month,\n",
      "   looks_like_weekday,\n",
      "   looks_like_range\n",
      ")\n",
      "                                   \n",
      "fe = HtmlFeaturesExtractor(tags=DEFAULT_TAGSET, feature_func=DEFAULT_FEATURES)    \n",
      "\n",
      "def fit_wapiti_encoder(tagged_data_iter):\n",
      "    we = WapitiFeatureEncoder(['token', 'lower'])    \n",
      "    for path, html in tagged_data_iter:\n",
      "        try:\n",
      "            features, labels = fe.fit_transform(html)\n",
      "            we.partial_fit(features)\n",
      "        except Exception as e:\n",
      "            print(\"error decoding %s:\\n%s\" % (path, e))\n",
      "    return we\n",
      "\n",
      "\n",
      "def to_wapiti_seq(features, labels, include_labels=True):\n",
      "    lines = []\n",
      "    for line, label in zip(we.transform(features), labels):\n",
      "        if include_labels:\n",
      "            lines.append(\"%s %s\" % (line, label))\n",
      "        else:\n",
      "            lines.append(line)\n",
      "    return '\\n'.join(lines)\n",
      "    \n",
      "\n",
      "def iter_wapiti_sequences(tagged_data_iter, we, include_labels=True):\n",
      "    \n",
      "    for path, html in tagged_data_iter:\n",
      "        try:\n",
      "            features, labels = fe.fit_transform(html)\n",
      "        except AssertionError as e:\n",
      "            print(\"error decoding %s:\\n%s\" % (path, e))\n",
      "        else:\n",
      "            yield to_wapiti_seq(features, labels, include_labels)\n",
      "        \n",
      "    \n",
      "def create_wapiti_data(fname, tagged_data_iter, we, include_labels=True):\n",
      "    with codecs.open(fname, 'w', encoding='utf8') as f:            \n",
      "        for seq in iter_wapiti_sequences(tagged_data_iter, we, include_labels):\n",
      "            f.write(seq)\n",
      "            f.write('\\n\\n')\n",
      "            "
     ],
     "language": "python",
     "metadata": {},
     "outputs": [],
     "prompt_number": 33
    },
    {
     "cell_type": "code",
     "collapsed": true,
     "input": [
      "corpus_paths = [\n",
      "    '../webstruct_data/corpus/nl/annotated/',\n",
      "]\n",
      "\n",
      "data = list(itertools.chain(*map(tagged_data, corpus_paths)))\n",
      "print len(data)\n",
      "\n",
      "random.shuffle(data)\n",
      "train, dev = data[:45], data[45:]\n",
      "\n",
      "print(len(train), len(dev))\n",
      "\n",
      "we = fit_wapiti_encoder(train)\n",
      "\n",
      "create_wapiti_data('nl_train.txt', train, we=we)\n",
      "create_wapiti_data('nl_test.txt', dev, we=we)\n",
      "\n",
      "from sklearn.externals.joblib import dump\n",
      "dump(we, 'nl-openhoursparser-wfe.joblib', compress=1)\n",
      "dump(fe, 'nl-openhoursparser-fe.joblib', compress=1)"
     ],
     "language": "python",
     "metadata": {},
     "outputs": [
      {
       "output_type": "stream",
       "stream": "stdout",
       "text": [
        "57\n",
        "(45, 12)\n"
       ]
      },
      {
       "output_type": "pyout",
       "prompt_number": 34,
       "text": [
        "['nl-openhoursparser-fe.joblib']"
       ]
      }
     ],
     "prompt_number": 34
    },
    {
     "cell_type": "code",
     "collapsed": false,
     "input": [
      "template = '''\n",
      "# Label unigram & bigram\n",
      "*\n",
      "\n",
      "# Nearby token unigrams (lower)\n",
      "u-LL:%x[-2,lower]\n",
      "u--L:%x[-1,lower]\n",
      "u--R:%x[ 1,lower]\n",
      "u-RR:%x[ 2,lower]\n",
      "\n",
      "# Nearby token bigrams (lower)\n",
      "u:wrd-2-LL:%x[-2,lower]/%x[-1,lower]\n",
      "u:wrd-2-L:%x[-1,lower]/%x[0,lower]\n",
      "u:wrd-2-R:%x[0,lower]/%x[1,lower]\n",
      "u:wrd-2-RR:%x[1,lower]/%x[2,lower]\n",
      "\n",
      "# Nearby shapes\n",
      "u:shape-L:%x[-1,shape]\n",
      "u:shape-R:%x[1,shape]\n",
      "\n",
      "u:shape:%x[-1,shape]/%x[0,shape]\n",
      "\n",
      "u:pattern--L:%x[-1,num_pattern2]\n",
      "u:pattern--R:%x[ 1,num_pattern2]\n",
      "\n",
      "u:token-L-weekday:%x[-1,lower]/%x[0, looks_like_weekday]\n",
      "u:token-L-time:%x[-1,lower]/%x[0, looks_like_time]\n",
      "\n",
      "u:weekday-L:%x[-1, looks_like_weekday]\n",
      "u:weekday-R:%x[1, looks_like_weekday]\n",
      "\n",
      "u:time-L:%x[-1, looks_like_time]\n",
      "u:time-R:%x[1, looks_like_time]]\n",
      "\n",
      "u:time-range-2:%x[-1,looks_like_time]/%x[0, looks_like_range]\n",
      "u:time-range-3:%x[-1,looks_like_time]/%x[0, looks_like_range]/%x[1,looks_like_time]\n",
      "\n",
      "u:weekday-range-2:%x[-1,looks_like_weekday]/%x[0, looks_like_weekday]\n",
      "u:weekday-range-3:%x[-1,looks_like_weekday]/%x[0, looks_like_range]/%x[1,looks_like_weekday]\n",
      "'''\n",
      "\n",
      "wapiti_template = we.unigram_features_template() + we.prepare_template(template) \n",
      "\n",
      "with codecs.open('nl-openhours-template.txt', 'w', encoding='utf8') as f:\n",
      "    f.write(wapiti_template)"
     ],
     "language": "python",
     "metadata": {},
     "outputs": [],
     "prompt_number": 35
    },
    {
     "cell_type": "code",
     "collapsed": false,
     "input": [
      "!wapiti train --pattern nl-openhours-template.txt --algo l-bfgs nl_train.txt nl-open-hours.wapiti"
     ],
     "language": "python",
     "metadata": {},
     "outputs": [
      {
       "output_type": "stream",
       "stream": "stdout",
       "text": [
        "* Load patterns\r\n",
        "* Load training data\r\n"
       ]
      },
      {
       "output_type": "stream",
       "stream": "stdout",
       "text": [
        "* Initialize the model\r\n",
        "* Summary\r\n",
        "    nb train:    45\r\n",
        "    nb labels:   3\r\n",
        "    nb blocks:   46644\r\n",
        "    nb features: 242865\r\n",
        "* Train the model with l-bfgs\r\n"
       ]
      },
      {
       "output_type": "stream",
       "stream": "stdout",
       "text": [
        "  [   1] obj=4732.70    act=113938   err= 9.45%/95.56% time=0.12s/0.12s\r\n"
       ]
      },
      {
       "output_type": "stream",
       "stream": "stdout",
       "text": [
        "  [   2] obj=4011.15    act=62381    err= 9.45%/95.56% time=0.07s/0.19s\r\n"
       ]
      },
      {
       "output_type": "stream",
       "stream": "stdout",
       "text": [
        "  [   3] obj=554.45     act=23473    err= 5.52%/100.00% time=0.28s/0.46s\r\n"
       ]
      },
      {
       "output_type": "stream",
       "stream": "stdout",
       "text": [
        "  [   4] obj=524.82     act=24373    err= 3.61%/100.00% time=0.27s/0.74s\r\n"
       ]
      },
      {
       "output_type": "stream",
       "stream": "stdout",
       "text": [
        "  [   5] obj=518.94     act=24996    err= 5.07%/100.00% time=0.22s/0.96s\r\n"
       ]
      },
      {
       "output_type": "stream",
       "stream": "stdout",
       "text": [
        "  [   6] obj=514.75     act=24423    err= 3.48%/100.00% time=0.24s/1.19s\r\n"
       ]
      },
      {
       "output_type": "stream",
       "stream": "stdout",
       "text": [
        "  [   7] obj=504.73     act=25302    err= 4.27%/100.00% time=0.43s/1.62s\r\n"
       ]
      },
      {
       "output_type": "stream",
       "stream": "stdout",
       "text": [
        "  [   8] obj=479.77     act=23819    err= 3.72%/100.00% time=0.08s/1.70s\r\n"
       ]
      },
      {
       "output_type": "stream",
       "stream": "stdout",
       "text": [
        "  [   9] obj=317.16     act=9698     err= 2.92%/77.78% time=0.07s/1.77s\r\n"
       ]
      },
      {
       "output_type": "stream",
       "stream": "stdout",
       "text": [
        "  [  10] obj=316.53     act=9741     err= 4.44%/73.33% time=0.15s/1.92s\r\n"
       ]
      },
      {
       "output_type": "stream",
       "stream": "stdout",
       "text": [
        "  [  11] obj=292.97     act=11466    err= 2.56%/51.11% time=0.09s/2.01s\r\n"
       ]
      },
      {
       "output_type": "stream",
       "stream": "stdout",
       "text": [
        "  [  12] obj=253.96     act=11392    err= 3.59%/66.67% time=0.09s/2.10s\r\n"
       ]
      },
      {
       "output_type": "stream",
       "stream": "stdout",
       "text": [
        "  [  13] obj=226.79     act=11328    err= 2.84%/64.44% time=0.08s/2.18s\r\n"
       ]
      },
      {
       "output_type": "stream",
       "stream": "stdout",
       "text": [
        "  [  14] obj=222.99     act=11260    err= 2.92%/64.44% time=0.07s/2.26s\r\n"
       ]
      },
      {
       "output_type": "stream",
       "stream": "stdout",
       "text": [
        "  [  15] obj=209.90     act=10626    err= 2.88%/62.22% time=0.07s/2.33s\r\n"
       ]
      },
      {
       "output_type": "stream",
       "stream": "stdout",
       "text": [
        "  [  16] obj=179.90     act=8582     err= 2.26%/57.78% time=0.07s/2.40s\r\n"
       ]
      },
      {
       "output_type": "stream",
       "stream": "stdout",
       "text": [
        "  [  17] obj=166.21     act=8473     err= 1.74%/46.67% time=0.07s/2.47s\r\n"
       ]
      },
      {
       "output_type": "stream",
       "stream": "stdout",
       "text": [
        "  [  18] obj=157.38     act=8448     err= 1.60%/51.11% time=0.07s/2.54s\r\n"
       ]
      },
      {
       "output_type": "stream",
       "stream": "stdout",
       "text": [
        "  [  19] obj=151.17     act=8372     err= 0.96%/40.00% time=0.08s/2.61s\r\n"
       ]
      },
      {
       "output_type": "stream",
       "stream": "stdout",
       "text": [
        "  [  20] obj=144.70     act=8391     err= 1.10%/42.22% time=0.08s/2.69s\r\n"
       ]
      },
      {
       "output_type": "stream",
       "stream": "stdout",
       "text": [
        "  [  21] obj=136.50     act=8073     err= 0.77%/28.89% time=0.08s/2.77s\r\n"
       ]
      },
      {
       "output_type": "stream",
       "stream": "stdout",
       "text": [
        "  [  22] obj=125.95     act=8021     err= 0.84%/31.11% time=0.08s/2.85s\r\n"
       ]
      },
      {
       "output_type": "stream",
       "stream": "stdout",
       "text": [
        "  [  23] obj=118.68     act=7671     err= 0.55%/22.22% time=0.08s/2.93s\r\n"
       ]
      },
      {
       "output_type": "stream",
       "stream": "stdout",
       "text": [
        "  [  24] obj=114.28     act=7382     err= 0.46%/22.22% time=0.07s/3.00s\r\n"
       ]
      },
      {
       "output_type": "stream",
       "stream": "stdout",
       "text": [
        "  [  25] obj=111.09     act=6872     err= 0.43%/20.00% time=0.07s/3.07s\r\n"
       ]
      },
      {
       "output_type": "stream",
       "stream": "stdout",
       "text": [
        "  [  26] obj=107.42     act=6207     err= 0.28%/20.00% time=0.07s/3.14s\r\n"
       ]
      },
      {
       "output_type": "stream",
       "stream": "stdout",
       "text": [
        "  [  27] obj=104.29     act=5351     err= 0.16%/15.56% time=0.07s/3.21s\r\n"
       ]
      },
      {
       "output_type": "stream",
       "stream": "stdout",
       "text": [
        "  [  28] obj=101.03     act=5163     err= 0.30%/22.22% time=0.07s/3.29s\r\n"
       ]
      },
      {
       "output_type": "stream",
       "stream": "stdout",
       "text": [
        "  [  29] obj=98.67      act=4702     err= 0.28%/20.00% time=0.07s/3.36s\r\n"
       ]
      },
      {
       "output_type": "stream",
       "stream": "stdout",
       "text": [
        "  [  30] obj=96.00      act=4295     err= 0.28%/20.00% time=0.07s/3.43s\r\n"
       ]
      },
      {
       "output_type": "stream",
       "stream": "stdout",
       "text": [
        "  [  31] obj=94.31      act=3825     err= 0.16%/13.33% time=0.07s/3.50s\r\n"
       ]
      },
      {
       "output_type": "stream",
       "stream": "stdout",
       "text": [
        "  [  32] obj=92.08      act=3837     err= 0.26%/17.78% time=0.08s/3.58s\r\n"
       ]
      },
      {
       "output_type": "stream",
       "stream": "stdout",
       "text": [
        "  [  33] obj=91.25      act=3626     err= 0.16%/11.11% time=0.09s/3.67s\r\n"
       ]
      },
      {
       "output_type": "stream",
       "stream": "stdout",
       "text": [
        "  [  34] obj=90.16      act=3552     err= 0.16%/11.11% time=0.10s/3.77s\r\n"
       ]
      },
      {
       "output_type": "stream",
       "stream": "stdout",
       "text": [
        "  [  35] obj=88.83      act=3213     err= 0.05%/ 4.44% time=0.09s/3.86s\r\n"
       ]
      },
      {
       "output_type": "stream",
       "stream": "stdout",
       "text": [
        "  [  36] obj=88.08      act=3081     err= 0.05%/ 4.44% time=0.08s/3.94s\r\n"
       ]
      },
      {
       "output_type": "stream",
       "stream": "stdout",
       "text": [
        "  [  37] obj=87.24      act=2788     err= 0.05%/ 4.44% time=0.07s/4.02s\r\n"
       ]
      },
      {
       "output_type": "stream",
       "stream": "stdout",
       "text": [
        "  [  38] obj=86.25      act=2294     err= 0.10%/ 6.67% time=0.17s/4.19s\r\n"
       ]
      },
      {
       "output_type": "stream",
       "stream": "stdout",
       "text": [
        "  [  39] obj=85.56      act=2292     err= 0.05%/ 4.44% time=0.07s/4.27s\r\n"
       ]
      },
      {
       "output_type": "stream",
       "stream": "stdout",
       "text": [
        "  [  40] obj=85.11      act=2215     err= 0.05%/ 4.44% time=0.07s/4.34s\r\n"
       ]
      },
      {
       "output_type": "stream",
       "stream": "stdout",
       "text": [
        "  [  41] obj=84.60      act=2108     err= 0.05%/ 4.44% time=0.07s/4.41s\r\n"
       ]
      },
      {
       "output_type": "stream",
       "stream": "stdout",
       "text": [
        "  [  42] obj=84.10      act=2000     err= 0.05%/ 4.44% time=0.08s/4.49s\r\n"
       ]
      },
      {
       "output_type": "stream",
       "stream": "stdout",
       "text": [
        "  [  43] obj=83.80      act=1925     err= 0.05%/ 4.44% time=0.08s/4.57s\r\n",
        "* Save the model\r\n",
        "* Done\r\n"
       ]
      }
     ],
     "prompt_number": 36
    },
    {
     "cell_type": "code",
     "collapsed": false,
     "input": [
      "!wapiti label --model nl-open-hours.wapiti -c nl_test.txt res.txt"
     ],
     "language": "python",
     "metadata": {},
     "outputs": [
      {
       "output_type": "stream",
       "stream": "stdout",
       "text": [
        "* Load model\r\n"
       ]
      },
      {
       "output_type": "stream",
       "stream": "stdout",
       "text": [
        "* Label sequences\r\n"
       ]
      },
      {
       "output_type": "stream",
       "stream": "stdout",
       "text": [
        "    Nb sequences  : 12\r\n",
        "    Token error   :  2.35%\r\n",
        "    Sequence error: 33.33%\r\n",
        "* Per label statistics\r\n",
        "    O       Pr=0.98  Rc=0.99  F1=0.99\r\n",
        "    B-HOURS  Pr=0.95  Rc=0.86  F1=0.90\r\n",
        "    I-HOURS  Pr=0.95  Rc=0.93  F1=0.94\r\n",
        "* Done\r\n"
       ]
      }
     ],
     "prompt_number": 37
    },
    {
     "cell_type": "code",
     "collapsed": false,
     "input": [
      "import wapiti\n",
      "sys.path.insert(0, '../webstruct/')\n",
      "\n",
      "from sklearn.externals import joblib\n",
      "from urllib2 import urlopen\n",
      "from w3lib.encoding import html_to_unicode\n",
      "from webstruct.wapiti import WapitiChunker\n",
      "\n",
      "feature_extractor = joblib.load('nl-openhoursparser-fe.joblib')\n",
      "feature_encoder = joblib.load('nl-openhoursparser-wfe.joblib')\n",
      "wapiti_model = wapiti.Model(model='nl-open-hours.wapiti')\n",
      "ner = WapitiChunker(wapiti_model, feature_encoder, feature_extractor=feature_extractor)\n",
      "\n",
      "url = 'http://www.rug.nl/bibliotheek/services/bibcmb/contact/'\n",
      "url ='http://www.hanos.nl/Horeca-groothandels/Nijmegen.htm'\n",
      "url = 'http://www.eindhovenairport.com/en/at-the-airport/openingstijden-terminal/'\n",
      "url = 'http://www.uu.nl/faculty/socialsciences/nl/organisatie/diensten/hs/huisvesting/locatie/Pages/default.aspx'\n",
      "url = 'http://www.palazzolelystad.nl/winkels/'\n",
      "url = 'http://dralfietsen.nl/contact-route/'\n",
      "#url = 'http://www.tvewijk.nl/contact/lid-worden/'\n",
      "#url = 'http://www.hetgeheel.nl/drenthe/'\n",
      "#url = 'http://www.avanhooijdonk.nl/'\n",
      "#url = 'http://www.fee-conceptstore.nl/'\n",
      "#url = 'http://www.innocam.nl/contact'\n",
      "html = urlopen(url=url).read()\n",
      "\n",
      "for text, label in ner.transform(html):\n",
      "    if label != 'O':\n",
      "        print text, label\n",
      "    "
     ],
     "language": "python",
     "metadata": {},
     "outputs": [
      {
       "output_type": "stream",
       "stream": "stdout",
       "text": [
        "Maandag: 13:00 \u2013 17:30 Dinsdag: 8:00 \u2013 17:30 Woensdag: 8:00 \u2013 17:30 Donderdag: 8:00 \u2013 17:30 Vrijdag: 8:00 17:30 Zaterdag: 8:30 16:00 HOURS\n",
        "Maandag: 13:00 \u2013 18:00 Dinsdag: 8:30 \u2013 18:00 Woensdag: 8:30 \u2013 18:00 Donderdag: 8:30 \u2013 18:00 Vrijdag: 8:30 \u2013 18:00 Zaterdag: 8:30 \u2013 16:00 HOURS\n"
       ]
      }
     ],
     "prompt_number": 3
    },
    {
     "cell_type": "code",
     "collapsed": false,
     "input": [],
     "language": "python",
     "metadata": {},
     "outputs": []
    }
   ],
   "metadata": {}
  }
 ]
}