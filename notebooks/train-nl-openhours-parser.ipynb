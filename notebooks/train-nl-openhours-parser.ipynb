{
 "metadata": {
  "name": "train-nl-openhours-parser"
 },
 "nbformat": 3,
 "nbformat_minor": 0,
 "worksheets": [
  {
   "cells": [
    {
     "cell_type": "code",
     "collapsed": false,
     "input": [
      "import os\n",
      "import sys\n",
      "import re\n",
      "import codecs\n",
      "import random\n",
      "import itertools\n",
      "\n",
      "sys.path.insert(0, '../token_model/')\n",
      "\n",
      "def tagged_data(folder):\n",
      "    for fname in os.listdir(folder):\n",
      "        path = os.path.join(folder, fname)\n",
      "        try:\n",
      "            with codecs.open(path, 'r', encoding='utf8') as f:\n",
      "                yield path, f.read()\n",
      "        except UnicodeDecodeError:\n",
      "            print 'unicode decode error', path"
     ],
     "language": "python",
     "metadata": {},
     "outputs": [],
     "prompt_number": 1
    },
    {
     "cell_type": "code",
     "collapsed": false,
     "input": [
      "import wapiti\n",
      "from webstruct_token.feature_extraction import HtmlFeaturesExtractor\n",
      "from webstruct_token.wapiti import WapitiFeatureEncoder\n",
      "from webstruct_token.features.utils import CombinedFeatures\n",
      "from webstruct_token.features.block_features import parent_tag, borders, block_length\n",
      "from webstruct_token.features.token_features import token_shape, number_pattern, prefixes_and_suffixes\n",
      "\n",
      "DEFAULT_TAGSET = {\"hours\"}\n",
      "\n",
      "DEFAULT_FEATRUE = CombinedFeatures(\n",
      "   parent_tag,\n",
      "   borders,\n",
      "   block_length,\n",
      "   \n",
      "   token_shape,\n",
      "   number_pattern,\n",
      "   prefixes_and_suffixes\n",
      ")\n",
      "                                   \n",
      "def fit_wapiti_encoder(tagged_data_iter):\n",
      "    fe = HtmlFeaturesExtractor(tags=DEFAULT_TAGSET, feature_func=DEFAULT_FEATRUE)\n",
      "    we = WapitiFeatureEncoder(['token', 'lower'])    \n",
      "    for path, html in tagged_data_iter:\n",
      "        try:\n",
      "            features, labels = fe.fit_transform(html)\n",
      "            we.partial_fit(features)\n",
      "        except AssertionError as e:\n",
      "            print(\"error decoding %s:\\n%s\" % (path, e))\n",
      "    return we\n",
      "\n",
      "\n",
      "def to_wapiti_seq(features, labels, include_labels=True):\n",
      "    lines = []\n",
      "    for line, label in zip(we.transform(features), labels):\n",
      "        if include_labels:\n",
      "            lines.append(\"%s %s\" % (line, label))\n",
      "        else:\n",
      "            lines.append(line)\n",
      "    return '\\n'.join(lines)\n",
      "    \n",
      "\n",
      "def iter_wapiti_sequences(tagged_data_iter, we, include_labels=True):\n",
      "    fe = HtmlFeaturesExtractor()\n",
      "    for path, html in tagged_data_iter:\n",
      "        try:\n",
      "            features, labels = fe.fit_transform(html)\n",
      "        except AssertionError as e:\n",
      "            print(\"error decoding %s:\\n%s\" % (path, e))\n",
      "        else:\n",
      "            yield to_wapiti_seq(features, labels, include_labels)\n",
      "        \n",
      "    \n",
      "def create_wapiti_data(fname, tagged_data_iter, we, include_labels=True):\n",
      "    with codecs.open(fname, 'w', encoding='utf8') as f:            \n",
      "        for seq in iter_wapiti_sequences(tagged_data_iter, we, include_labels):\n",
      "            f.write(seq)\n",
      "            f.write('\\n\\n')\n",
      "            "
     ],
     "language": "python",
     "metadata": {},
     "outputs": [],
     "prompt_number": 25
    },
    {
     "cell_type": "code",
     "collapsed": false,
     "input": [
      "corpus_paths = [\n",
      "    '../webstruct_data/corpus/nl/annotated/',\n",
      "]\n",
      "\n",
      "data = list(itertools.chain(*map(tagged_data, corpus_paths)))\n",
      "print len(data)\n",
      "\n",
      "random.shuffle(data)\n",
      "train, dev = data[:45], data[45:]\n",
      "\n",
      "print(len(train), len(dev))\n",
      "\n",
      "we = fit_wapiti_encoder(train)\n",
      "\n",
      "create_wapiti_data('nl_train.txt', train, we=we)\n",
      "create_wapiti_data('nl_test.txt', dev, we=we)\n",
      "\n",
      "from sklearn.externals.joblib import dump\n",
      "dump(we, 'nl-wfe.joblib', compress=1)"
     ],
     "language": "python",
     "metadata": {},
     "outputs": [
      {
       "output_type": "stream",
       "stream": "stdout",
       "text": [
        "58\n",
        "(45, 13)\n"
       ]
      },
      {
       "output_type": "pyout",
       "prompt_number": 31,
       "text": [
        "['nl-wfe.joblib']"
       ]
      }
     ],
     "prompt_number": 31
    },
    {
     "cell_type": "code",
     "collapsed": false,
     "input": [
      "template = '''\n",
      "# Label unigram & bigram\n",
      "*\n",
      "\n",
      "# Nearby token unigrams (lower)\n",
      "u-LL:%x[-2,lower]\n",
      "u--L:%x[-1,lower]\n",
      "u--R:%x[ 1,lower]\n",
      "u-RR:%x[ 2,lower]\n",
      "\n",
      "# Nearby token bigrams (lower)\n",
      "*bigram_left:%x[-2,lower]/%x[-1,lower]\n",
      "*bigram_right:%x[1,lower]/%x[2,lower]\n",
      "\n",
      "# Nearby shapes\n",
      "u:shape-LL:%x[-2,shape]\n",
      "u:shape--L:%x[-1,shape]\n",
      "u:shape--R:%x[1,shape]\n",
      "u:shape-RR:%x[2,shape]\n",
      "\n",
      "u:shape:%x[-1,shape]/%x[0,shape]\n",
      "u:s4:%x[-2,shape]/%x[-1,shape]/%x[0,shape]\n",
      "u:s5:%x[-3,shape]/%x[-2,shape]/%x[0,shape]\n",
      "\n",
      "u:pattern-LL:%x[-2,num_pattern2]\n",
      "u:pattern--L:%x[-1,num_pattern2]\n",
      "u:pattern--R:%x[ 1,num_pattern2]\n",
      "u:pattern-RR:%x[ 2,num_pattern2]\n",
      "'''\n",
      "\n",
      "wapiti_template = we.unigram_features_template() + we.prepare_template(template) \n",
      "\n",
      "with codecs.open('wapiti-template.txt', 'w', encoding='utf8') as f:\n",
      "    f.write(wapiti_template)"
     ],
     "language": "python",
     "metadata": {},
     "outputs": [],
     "prompt_number": 28
    },
    {
     "cell_type": "code",
     "collapsed": false,
     "input": [
      "%alias wapiti_train wapiti train --pattern wapiti-template.txt --compact --nthread 4 --jobsize 8"
     ],
     "language": "python",
     "metadata": {},
     "outputs": [],
     "prompt_number": 29
    },
    {
     "cell_type": "code",
     "collapsed": false,
     "input": [
      "wapiti_train --algo l-bfgs nl_train.txt nl-open-hours.wapiti"
     ],
     "language": "python",
     "metadata": {},
     "outputs": [
      {
       "output_type": "stream",
       "stream": "stdout",
       "text": [
        "* Load patterns\r\n",
        "* Load training data\r\n"
       ]
      },
      {
       "output_type": "stream",
       "stream": "stdout",
       "text": [
        "* Initialize the model\r\n",
        "* Summary\r\n",
        "    nb train:    45\r\n",
        "    nb labels:   3\r\n",
        "    nb blocks:   33263\r\n",
        "    nb features: 304449\r\n",
        "* Train the model with l-bfgs\r\n"
       ]
      },
      {
       "output_type": "stream",
       "stream": "stdout",
       "text": [
        "  [   1] obj=3679.99    act=101601   err=11.11%/88.89% time=0.07s/0.07s\r\n"
       ]
      },
      {
       "output_type": "stream",
       "stream": "stdout",
       "text": [
        "  [   2] obj=3037.74    act=66361    err=11.11%/88.89% time=0.04s/0.12s\r\n"
       ]
      },
      {
       "output_type": "stream",
       "stream": "stdout",
       "text": [
        "  [   3] obj=801.81     act=24422    err=11.47%/100.00% time=0.08s/0.19s\r\n"
       ]
      },
      {
       "output_type": "stream",
       "stream": "stdout",
       "text": [
        "  [   4] obj=659.73     act=32043    err=10.06%/100.00% time=0.14s/0.33s\r\n"
       ]
      },
      {
       "output_type": "stream",
       "stream": "stdout",
       "text": [
        "  [   5] obj=642.51     act=31838    err= 7.77%/100.00% time=0.11s/0.44s\r\n"
       ]
      },
      {
       "output_type": "stream",
       "stream": "stdout",
       "text": [
        "  [   6] obj=636.00     act=31606    err=10.06%/97.78% time=0.10s/0.54s\r\n"
       ]
      },
      {
       "output_type": "stream",
       "stream": "stdout",
       "text": [
        "  [   7] obj=615.78     act=30516    err= 8.33%/100.00% time=0.20s/0.74s\r\n"
       ]
      },
      {
       "output_type": "stream",
       "stream": "stdout",
       "text": [
        "  [   8] obj=564.38     act=26876    err= 8.11%/100.00% time=0.05s/0.79s\r\n"
       ]
      },
      {
       "output_type": "stream",
       "stream": "stdout",
       "text": [
        "  [   9] obj=367.89     act=13772    err= 6.61%/80.00% time=0.05s/0.83s\r\n"
       ]
      },
      {
       "output_type": "stream",
       "stream": "stdout",
       "text": [
        "  [  10] obj=367.85     act=20387    err= 8.41%/82.22% time=0.08s/0.91s\r\n"
       ]
      },
      {
       "output_type": "stream",
       "stream": "stdout",
       "text": [
        "  [  11] obj=302.81     act=19942    err= 3.73%/64.44% time=0.08s/0.99s\r\n",
        "  [  12] obj=288.35     act=18415    err= 6.28%/73.33% time=0.04s/1.03s\r\n"
       ]
      },
      {
       "output_type": "stream",
       "stream": "stdout",
       "text": [
        "  [  13] obj=280.59     act=16780    err= 3.73%/55.56% time=0.05s/1.08s\r\n"
       ]
      },
      {
       "output_type": "stream",
       "stream": "stdout",
       "text": [
        "  [  14] obj=253.67     act=15832    err= 5.68%/68.89% time=0.05s/1.13s\r\n"
       ]
      },
      {
       "output_type": "stream",
       "stream": "stdout",
       "text": [
        "  [  15] obj=238.54     act=14418    err= 3.80%/55.56% time=0.05s/1.18s\r\n"
       ]
      },
      {
       "output_type": "stream",
       "stream": "stdout",
       "text": [
        "  [  16] obj=218.02     act=13987    err= 3.39%/57.78% time=0.05s/1.23s\r\n"
       ]
      },
      {
       "output_type": "stream",
       "stream": "stdout",
       "text": [
        "  [  17] obj=204.63     act=13267    err= 2.97%/46.67% time=0.05s/1.28s\r\n"
       ]
      },
      {
       "output_type": "stream",
       "stream": "stdout",
       "text": [
        "  [  18] obj=192.10     act=12942    err= 2.73%/48.89% time=0.05s/1.32s\r\n"
       ]
      },
      {
       "output_type": "stream",
       "stream": "stdout",
       "text": [
        "  [  19] obj=180.42     act=12404    err= 2.65%/44.44% time=0.05s/1.38s\r\n"
       ]
      },
      {
       "output_type": "stream",
       "stream": "stdout",
       "text": [
        "  [  20] obj=165.77     act=11778    err= 2.07%/40.00% time=0.05s/1.43s\r\n"
       ]
      },
      {
       "output_type": "stream",
       "stream": "stdout",
       "text": [
        "  [  21] obj=153.14     act=10797    err= 1.62%/31.11% time=0.05s/1.48s\r\n"
       ]
      },
      {
       "output_type": "stream",
       "stream": "stdout",
       "text": [
        "  [  22] obj=143.25     act=10041    err= 1.54%/33.33% time=0.05s/1.53s\r\n"
       ]
      },
      {
       "output_type": "stream",
       "stream": "stdout",
       "text": [
        "  [  23] obj=137.36     act=9350     err= 1.83%/33.33% time=0.05s/1.57s\r\n"
       ]
      },
      {
       "output_type": "stream",
       "stream": "stdout",
       "text": [
        "  [  24] obj=130.57     act=8794     err= 1.16%/28.89% time=0.05s/1.62s\r\n",
        "  [  25] obj=126.29     act=8167     err= 1.20%/22.22% time=0.05s/1.67s\r\n"
       ]
      },
      {
       "output_type": "stream",
       "stream": "stdout",
       "text": [
        "  [  26] obj=121.21     act=7378     err= 0.83%/17.78% time=0.05s/1.72s\r\n"
       ]
      },
      {
       "output_type": "stream",
       "stream": "stdout",
       "text": [
        "  [  27] obj=116.88     act=6776     err= 1.08%/17.78% time=0.05s/1.77s\r\n"
       ]
      },
      {
       "output_type": "stream",
       "stream": "stdout",
       "text": [
        "  [  28] obj=113.97     act=6431     err= 0.86%/17.78% time=0.05s/1.82s\r\n"
       ]
      },
      {
       "output_type": "stream",
       "stream": "stdout",
       "text": [
        "  [  29] obj=111.84     act=6099     err= 0.76%/17.78% time=0.05s/1.86s\r\n"
       ]
      },
      {
       "output_type": "stream",
       "stream": "stdout",
       "text": [
        "  [  30] obj=109.44     act=5491     err= 0.86%/17.78% time=0.05s/1.91s\r\n"
       ]
      },
      {
       "output_type": "stream",
       "stream": "stdout",
       "text": [
        "  [  31] obj=106.98     act=5280     err= 0.51%/13.33% time=0.05s/1.96s\r\n"
       ]
      },
      {
       "output_type": "stream",
       "stream": "stdout",
       "text": [
        "  [  32] obj=104.64     act=5076     err= 0.53%/13.33% time=0.05s/2.01s\r\n"
       ]
      },
      {
       "output_type": "stream",
       "stream": "stdout",
       "text": [
        "  [  33] obj=102.63     act=4504     err= 0.46%/11.11% time=0.05s/2.06s\r\n"
       ]
      },
      {
       "output_type": "stream",
       "stream": "stdout",
       "text": [
        "  [  34] obj=100.51     act=4264     err= 0.15%/ 6.67% time=0.05s/2.11s\r\n"
       ]
      },
      {
       "output_type": "stream",
       "stream": "stdout",
       "text": [
        "  [  35] obj=99.22      act=4059     err= 0.15%/ 6.67% time=0.05s/2.16s\r\n"
       ]
      },
      {
       "output_type": "stream",
       "stream": "stdout",
       "text": [
        "  [  36] obj=98.06      act=3930     err= 0.15%/ 6.67% time=0.05s/2.21s\r\n"
       ]
      },
      {
       "output_type": "stream",
       "stream": "stdout",
       "text": [
        "  [  37] obj=96.63      act=3631     err= 0.08%/ 4.44% time=0.05s/2.26s\r\n"
       ]
      },
      {
       "output_type": "stream",
       "stream": "stdout",
       "text": [
        "  [  38] obj=95.37      act=3241     err= 0.11%/ 6.67% time=0.07s/2.33s\r\n"
       ]
      },
      {
       "output_type": "stream",
       "stream": "stdout",
       "text": [
        "  [  39] obj=94.38      act=3058     err= 0.05%/ 2.22% time=0.06s/2.39s\r\n"
       ]
      },
      {
       "output_type": "stream",
       "stream": "stdout",
       "text": [
        "  [  40] obj=93.28      act=2808     err= 0.00%/ 0.00% time=0.05s/2.44s\r\n"
       ]
      },
      {
       "output_type": "stream",
       "stream": "stdout",
       "text": [
        "  [  41] obj=92.50      act=2530     err= 0.05%/ 2.22% time=0.05s/2.49s\r\n"
       ]
      },
      {
       "output_type": "stream",
       "stream": "stdout",
       "text": [
        "  [  42] obj=91.66      act=2424     err= 0.05%/ 2.22% time=0.05s/2.54s\r\n"
       ]
      },
      {
       "output_type": "stream",
       "stream": "stdout",
       "text": [
        "  [  43] obj=90.90      act=2221     err= 0.05%/ 2.22% time=0.05s/2.59s\r\n"
       ]
      },
      {
       "output_type": "stream",
       "stream": "stdout",
       "text": [
        "  [  44] obj=90.33      act=2261     err= 0.08%/ 4.44% time=0.05s/2.64s\r\n"
       ]
      },
      {
       "output_type": "stream",
       "stream": "stdout",
       "text": [
        "  [  45] obj=89.82      act=2175     err= 0.08%/ 4.44% time=0.05s/2.69s\r\n"
       ]
      },
      {
       "output_type": "stream",
       "stream": "stdout",
       "text": [
        "  [  46] obj=89.35      act=2009     err= 0.03%/ 2.22% time=0.05s/2.74s\r\n"
       ]
      },
      {
       "output_type": "stream",
       "stream": "stdout",
       "text": [
        "  [  47] obj=88.55      act=2066     err= 0.00%/ 0.00% time=0.05s/2.79s\r\n"
       ]
      },
      {
       "output_type": "stream",
       "stream": "stdout",
       "text": [
        "  [  48] obj=88.08      act=2028     err= 0.00%/ 0.00% time=0.05s/2.84s\r\n"
       ]
      },
      {
       "output_type": "stream",
       "stream": "stdout",
       "text": [
        "  [  49] obj=87.81      act=1973     err= 0.00%/ 0.00% time=0.05s/2.89s\r\n"
       ]
      },
      {
       "output_type": "stream",
       "stream": "stdout",
       "text": [
        "  [  50] obj=87.55      act=1998     err= 0.00%/ 0.00% time=0.05s/2.94s\r\n"
       ]
      },
      {
       "output_type": "stream",
       "stream": "stdout",
       "text": [
        "  [  51] obj=87.24      act=1931     err= 0.00%/ 0.00% time=0.05s/2.99s\r\n",
        "* Compacting the model\r\n",
        "    - Scan the model\r\n",
        "    - Compact it\r\n",
        "       32557 observations removed\r\n",
        "      298425 features removed\r\n",
        "* Save the model\r\n",
        "* Done\r\n"
       ]
      }
     ],
     "prompt_number": 33
    },
    {
     "cell_type": "code",
     "collapsed": false,
     "input": [
      "!wapiti label --model nl-open-hours.wapiti -c nl_test.txt res.txt"
     ],
     "language": "python",
     "metadata": {},
     "outputs": [
      {
       "output_type": "stream",
       "stream": "stdout",
       "text": [
        "* Load model\r\n",
        "* Label sequences\r\n"
       ]
      },
      {
       "output_type": "stream",
       "stream": "stdout",
       "text": [
        "    Nb sequences  : 13\r\n",
        "    Token error   :  5.49%\r\n",
        "    Sequence error: 84.62%\r\n",
        "* Per label statistics\r\n",
        "    O       Pr=0.95  Rc=0.99  F1=0.97\r\n",
        "    B-HOURS  Pr=0.50  Rc=0.27  F1=0.35\r\n",
        "    I-HOURS  Pr=0.76  Rc=0.38  F1=0.50\r\n",
        "* Done\r\n"
       ]
      }
     ],
     "prompt_number": 35
    },
    {
     "cell_type": "code",
     "collapsed": false,
     "input": [],
     "language": "python",
     "metadata": {},
     "outputs": []
    }
   ],
   "metadata": {}
  }
 ]
}