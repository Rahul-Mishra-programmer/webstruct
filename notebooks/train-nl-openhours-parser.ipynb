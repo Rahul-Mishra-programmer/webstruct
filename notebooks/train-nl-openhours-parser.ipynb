{
 "metadata": {
  "name": "train-nl-openhours-parser"
 },
 "nbformat": 3,
 "nbformat_minor": 0,
 "worksheets": [
  {
   "cells": [
    {
     "cell_type": "code",
     "collapsed": true,
     "input": [
      "import os\n",
      "import sys\n",
      "import re\n",
      "import codecs\n",
      "import random\n",
      "import itertools\n",
      "\n",
      "import wapiti\n",
      "sys.path.insert(0, '../token_model/')\n",
      "\n",
      "from webstruct_token.feature_extraction import HtmlFeaturesExtractor\n",
      "from webstruct_token.wapiti import WapitiFeatureEncoder\n",
      "from webstruct_token.features.utils import CombinedFeatures\n",
      "from webstruct_token.features.block_features import parent_tag, borders, block_length\n",
      "from webstruct_token.features.token_features import token_shape, number_pattern, prefixes_and_suffixes\n",
      "from webstruct_token.features.data_features import looks_like_time, looks_like_month, looks_like_year, \\\n",
      "                                                   looks_like_weekday, looks_like_email, looks_like_range\n",
      "\n",
      "def tagged_data(folder):\n",
      "    for fname in os.listdir(folder):\n",
      "        path = os.path.join(folder, fname)\n",
      "        try:\n",
      "            with codecs.open(path, 'r', encoding='utf8') as f:\n",
      "                yield path, f.read()\n",
      "        except UnicodeDecodeError:\n",
      "            print 'unicode decode error', path\n",
      "            \n",
      "DEFAULT_TAGSET = {\"hours\"}\n",
      "\n",
      "DEFAULT_FEATRUE = CombinedFeatures(\n",
      "   parent_tag,\n",
      "   borders,\n",
      "   block_length,\n",
      "   \n",
      "   token_shape,\n",
      "   number_pattern,\n",
      "   prefixes_and_suffixes,\n",
      "   looks_like_email,\n",
      "   \n",
      "   # datetime\n",
      "   looks_like_year,\n",
      "   looks_like_time,\n",
      "   looks_like_month,\n",
      "   looks_like_weekday,\n",
      "   looks_like_range\n",
      ")\n",
      "                                   \n",
      "fe = HtmlFeaturesExtractor(tags=DEFAULT_TAGSET, feature_func=DEFAULT_FEATRUE)    \n",
      "\n",
      "def fit_wapiti_encoder(tagged_data_iter):\n",
      "    we = WapitiFeatureEncoder(['token', 'lower'])    \n",
      "    for path, html in tagged_data_iter:\n",
      "        try:\n",
      "            features, labels = fe.fit_transform(html)\n",
      "            we.partial_fit(features)\n",
      "        except Exception as e:\n",
      "            print(\"error decoding %s:\\n%s\" % (path, e))\n",
      "    return we\n",
      "\n",
      "\n",
      "def to_wapiti_seq(features, labels, include_labels=True):\n",
      "    lines = []\n",
      "    for line, label in zip(we.transform(features), labels):\n",
      "        if include_labels:\n",
      "            lines.append(\"%s %s\" % (line, label))\n",
      "        else:\n",
      "            lines.append(line)\n",
      "    return '\\n'.join(lines)\n",
      "    \n",
      "\n",
      "def iter_wapiti_sequences(tagged_data_iter, we, include_labels=True):\n",
      "    \n",
      "    for path, html in tagged_data_iter:\n",
      "        try:\n",
      "            features, labels = fe.fit_transform(html)\n",
      "        except AssertionError as e:\n",
      "            print(\"error decoding %s:\\n%s\" % (path, e))\n",
      "        else:\n",
      "            yield to_wapiti_seq(features, labels, include_labels)\n",
      "        \n",
      "    \n",
      "def create_wapiti_data(fname, tagged_data_iter, we, include_labels=True):\n",
      "    with codecs.open(fname, 'w', encoding='utf8') as f:            \n",
      "        for seq in iter_wapiti_sequences(tagged_data_iter, we, include_labels):\n",
      "            f.write(seq)\n",
      "            f.write('\\n\\n')\n",
      "            "
     ],
     "language": "python",
     "metadata": {},
     "outputs": [],
     "prompt_number": 42
    },
    {
     "cell_type": "code",
     "collapsed": true,
     "input": [
      "corpus_paths = [\n",
      "    '../webstruct_data/corpus/nl/annotated/',\n",
      "]\n",
      "\n",
      "data = list(itertools.chain(*map(tagged_data, corpus_paths)))\n",
      "print len(data)\n",
      "\n",
      "random.shuffle(data)\n",
      "train, dev = data[:45], data[45:]\n",
      "\n",
      "print(len(train), len(dev))\n",
      "\n",
      "we = fit_wapiti_encoder(train)\n",
      "\n",
      "create_wapiti_data('nl_train.txt', train, we=we)\n",
      "create_wapiti_data('nl_test.txt', dev, we=we)\n",
      "\n",
      "from sklearn.externals.joblib import dump\n",
      "dump(fe, 'nl-fe.joblib', compress=1)\n",
      "dump(we, 'nl-wfe.joblib', compress=1)"
     ],
     "language": "python",
     "metadata": {},
     "outputs": [
      {
       "output_type": "stream",
       "stream": "stdout",
       "text": [
        "57"
       ]
      },
      {
       "output_type": "stream",
       "stream": "stdout",
       "text": [
        "\n",
        "(45, 12)\n"
       ]
      },
      {
       "output_type": "pyout",
       "prompt_number": 68,
       "text": [
        "['nl-wfe.joblib']"
       ]
      }
     ],
     "prompt_number": 68
    },
    {
     "cell_type": "code",
     "collapsed": false,
     "input": [
      "template = '''\n",
      "# Label unigram & bigram\n",
      "*\n",
      "\n",
      "# Nearby token unigrams (lower)\n",
      "u-LL:%x[-2,lower]\n",
      "u--L:%x[-1,lower]\n",
      "u--R:%x[ 1,lower]\n",
      "u-RR:%x[ 2,lower]\n",
      "\n",
      "# Nearby token bigrams (lower)\n",
      "u:wrd-2-LL:%x[-2,lower]/%x[-1,lower]\n",
      "u:wrd-2-L:%x[-1,lower]/%x[0,lower]\n",
      "u:wrd-2-R:%x[0,lower]/%x[1,lower]\n",
      "u:wrd-2-RR:%x[1,lower]/%x[2,lower]\n",
      "\n",
      "# Nearby shapes\n",
      "u:shape-L:%x[-1,shape]\n",
      "u:shape-R:%x[1,shape]\n",
      "\n",
      "u:shape:%x[-1,shape]/%x[0,shape]\n",
      "\n",
      "u:pattern--L:%x[-1,num_pattern2]\n",
      "u:pattern--R:%x[ 1,num_pattern2]\n",
      "\n",
      "u:token-L-weekday:%x[-1,lower]/%x[0, looks_like_weekday]\n",
      "u:token-L-time:%x[-1,lower]/%x[0, looks_like_time]\n",
      "\n",
      "u:weekday-L:%x[-1, looks_like_weekday]\n",
      "u:weekday-R:%x[1, looks_like_weekday]\n",
      "\n",
      "u:time-L:%x[-1, looks_like_time]\n",
      "u:time-R:%x[1, looks_like_time]]\n",
      "\n",
      "u:time-range-2:%x[-1,looks_like_time]/%x[0, looks_like_range]\n",
      "u:time-range-3:%x[-1,looks_like_time]/%x[0, looks_like_range]/%x[1,looks_like_time]\n",
      "\n",
      "u:weekday-range-2:%x[-1,looks_like_weekday]/%x[0, looks_like_weekday]\n",
      "u:weekday-range-3:%x[-1,looks_like_weekday]/%x[0, looks_like_range]/%x[1,looks_like_weekday]\n",
      "'''\n",
      "\n",
      "wapiti_template = we.unigram_features_template() + we.prepare_template(template) \n",
      "\n",
      "with codecs.open('wapiti-template.txt', 'w', encoding='utf8') as f:\n",
      "    f.write(wapiti_template)"
     ],
     "language": "python",
     "metadata": {},
     "outputs": [],
     "prompt_number": 69
    },
    {
     "cell_type": "code",
     "collapsed": false,
     "input": [
      "!wapiti train --pattern wapiti-template.txt --algo l-bfgs nl_train.txt nl-open-hours.wapiti"
     ],
     "language": "python",
     "metadata": {},
     "outputs": [
      {
       "output_type": "stream",
       "stream": "stdout",
       "text": [
        "* Load patterns\r\n",
        "* Load training data\r\n"
       ]
      },
      {
       "output_type": "stream",
       "stream": "stdout",
       "text": [
        "* Initialize the model\r\n",
        "* Summary\r\n",
        "    nb train:    45\r\n",
        "    nb labels:   3\r\n",
        "    nb blocks:   47749\r\n",
        "    nb features: 248178\r\n",
        "* Train the model with l-bfgs\r\n"
       ]
      },
      {
       "output_type": "stream",
       "stream": "stdout",
       "text": [
        "  [   1] obj=5615.08    act=117951   err=11.08%/100.00% time=0.14s/0.14s\r\n"
       ]
      },
      {
       "output_type": "stream",
       "stream": "stdout",
       "text": [
        "  [   2] obj=4641.01    act=72478    err=11.08%/100.00% time=0.07s/0.21s\r\n"
       ]
      },
      {
       "output_type": "stream",
       "stream": "stdout",
       "text": [
        "  [   3] obj=642.00     act=27642    err= 4.11%/100.00% time=0.32s/0.53s\r\n"
       ]
      },
      {
       "output_type": "stream",
       "stream": "stdout",
       "text": [
        "  [   4] obj=628.97     act=28378    err= 3.71%/100.00% time=0.24s/0.78s\r\n"
       ]
      },
      {
       "output_type": "stream",
       "stream": "stdout",
       "text": [
        "  [   5] obj=589.74     act=28940    err= 5.56%/100.00% time=0.13s/0.91s\r\n"
       ]
      },
      {
       "output_type": "stream",
       "stream": "stdout",
       "text": [
        "  [   6] obj=555.44     act=28924    err= 3.62%/100.00% time=0.30s/1.21s\r\n"
       ]
      },
      {
       "output_type": "stream",
       "stream": "stdout",
       "text": [
        "  [   7] obj=553.33     act=28930    err= 3.75%/100.00% time=0.40s/1.62s\r\n"
       ]
      },
      {
       "output_type": "stream",
       "stream": "stdout",
       "text": [
        "  [   8] obj=472.34     act=27145    err= 2.93%/100.00% time=0.08s/1.69s\r\n"
       ]
      },
      {
       "output_type": "stream",
       "stream": "stdout",
       "text": [
        "  [   9] obj=423.92     act=14089    err= 4.73%/100.00% time=0.14s/1.83s\r\n"
       ]
      },
      {
       "output_type": "stream",
       "stream": "stdout",
       "text": [
        "  [  10] obj=378.98     act=11950    err= 2.79%/71.11% time=0.14s/1.97s\r\n"
       ]
      },
      {
       "output_type": "stream",
       "stream": "stdout",
       "text": [
        "  [  11] obj=367.22     act=12603    err= 2.76%/71.11% time=0.08s/2.04s\r\n"
       ]
      },
      {
       "output_type": "stream",
       "stream": "stdout",
       "text": [
        "  [  12] obj=302.64     act=11074    err= 2.74%/68.89% time=0.08s/2.13s\r\n"
       ]
      },
      {
       "output_type": "stream",
       "stream": "stdout",
       "text": [
        "  [  13] obj=276.84     act=10261    err= 1.72%/48.89% time=0.19s/2.32s\r\n"
       ]
      },
      {
       "output_type": "stream",
       "stream": "stdout",
       "text": [
        "  [  14] obj=239.91     act=10592    err= 2.02%/55.56% time=0.07s/2.39s\r\n"
       ]
      },
      {
       "output_type": "stream",
       "stream": "stdout",
       "text": [
        "  [  15] obj=229.74     act=10320    err= 2.13%/57.78% time=0.08s/2.47s\r\n"
       ]
      },
      {
       "output_type": "stream",
       "stream": "stdout",
       "text": [
        "  [  16] obj=221.03     act=9875     err= 2.04%/53.33% time=0.09s/2.56s\r\n"
       ]
      },
      {
       "output_type": "stream",
       "stream": "stdout",
       "text": [
        "  [  17] obj=210.70     act=9394     err= 2.05%/53.33% time=0.12s/2.67s\r\n"
       ]
      },
      {
       "output_type": "stream",
       "stream": "stdout",
       "text": [
        "  [  18] obj=189.37     act=8414     err= 1.70%/46.67% time=0.10s/2.78s\r\n"
       ]
      },
      {
       "output_type": "stream",
       "stream": "stdout",
       "text": [
        "  [  19] obj=173.84     act=8173     err= 1.46%/44.44% time=0.08s/2.86s\r\n"
       ]
      },
      {
       "output_type": "stream",
       "stream": "stdout",
       "text": [
        "  [  20] obj=164.83     act=7815     err= 1.62%/44.44% time=0.08s/2.94s\r\n"
       ]
      },
      {
       "output_type": "stream",
       "stream": "stdout",
       "text": [
        "  [  21] obj=156.35     act=7509     err= 1.56%/40.00% time=0.08s/3.02s\r\n"
       ]
      },
      {
       "output_type": "stream",
       "stream": "stdout",
       "text": [
        "  [  22] obj=146.11     act=7525     err= 0.84%/26.67% time=0.08s/3.10s\r\n"
       ]
      },
      {
       "output_type": "stream",
       "stream": "stdout",
       "text": [
        "  [  23] obj=139.88     act=7198     err= 0.98%/26.67% time=0.08s/3.17s\r\n"
       ]
      },
      {
       "output_type": "stream",
       "stream": "stdout",
       "text": [
        "  [  24] obj=133.16     act=6970     err= 0.54%/24.44% time=0.09s/3.26s\r\n"
       ]
      },
      {
       "output_type": "stream",
       "stream": "stdout",
       "text": [
        "  [  25] obj=125.59     act=6835     err= 0.75%/20.00% time=0.08s/3.34s\r\n"
       ]
      },
      {
       "output_type": "stream",
       "stream": "stdout",
       "text": [
        "  [  26] obj=120.39     act=6495     err= 0.59%/17.78% time=0.08s/3.43s\r\n"
       ]
      },
      {
       "output_type": "stream",
       "stream": "stdout",
       "text": [
        "  [  27] obj=115.40     act=6151     err= 0.29%/15.56% time=0.09s/3.52s\r\n"
       ]
      },
      {
       "output_type": "stream",
       "stream": "stdout",
       "text": [
        "  [  28] obj=112.25     act=5809     err= 0.50%/17.78% time=0.11s/3.63s\r\n"
       ]
      },
      {
       "output_type": "stream",
       "stream": "stdout",
       "text": [
        "  [  29] obj=108.80     act=5307     err= 0.27%/15.56% time=0.10s/3.73s\r\n"
       ]
      },
      {
       "output_type": "stream",
       "stream": "stdout",
       "text": [
        "  [  30] obj=106.38     act=5000     err= 0.37%/13.33% time=0.09s/3.82s\r\n"
       ]
      },
      {
       "output_type": "stream",
       "stream": "stdout",
       "text": [
        "  [  31] obj=103.90     act=4513     err= 0.30%/17.78% time=0.08s/3.90s\r\n"
       ]
      },
      {
       "output_type": "stream",
       "stream": "stdout",
       "text": [
        "  [  32] obj=101.31     act=3917     err= 0.35%/11.11% time=0.08s/3.98s\r\n"
       ]
      },
      {
       "output_type": "stream",
       "stream": "stdout",
       "text": [
        "  [  33] obj=99.98      act=3530     err= 0.16%/ 8.89% time=0.08s/4.06s\r\n"
       ]
      },
      {
       "output_type": "stream",
       "stream": "stdout",
       "text": [
        "  [  34] obj=98.28      act=3136     err= 0.37%/11.11% time=0.08s/4.14s\r\n"
       ]
      },
      {
       "output_type": "stream",
       "stream": "stdout",
       "text": [
        "  [  35] obj=97.01      act=2610     err= 0.28%/ 6.67% time=0.08s/4.23s\r\n"
       ]
      },
      {
       "output_type": "stream",
       "stream": "stdout",
       "text": [
        "  [  36] obj=96.44      act=2613     err= 0.37%/11.11% time=0.09s/4.31s\r\n"
       ]
      },
      {
       "output_type": "stream",
       "stream": "stdout",
       "text": [
        "  [  37] obj=95.84      act=2530     err= 0.03%/ 2.22% time=0.09s/4.40s\r\n"
       ]
      },
      {
       "output_type": "stream",
       "stream": "stdout",
       "text": [
        "  [  38] obj=94.41      act=2317     err= 0.03%/ 2.22% time=0.08s/4.48s\r\n"
       ]
      },
      {
       "output_type": "stream",
       "stream": "stdout",
       "text": [
        "  [  39] obj=94.04      act=1862     err= 0.03%/ 2.22% time=0.17s/4.65s\r\n"
       ]
      },
      {
       "output_type": "stream",
       "stream": "stdout",
       "text": [
        "  [  40] obj=93.36      act=1937     err= 0.03%/ 2.22% time=0.14s/4.79s\r\n"
       ]
      },
      {
       "output_type": "stream",
       "stream": "stdout",
       "text": [
        "  [  41] obj=92.88      act=2038     err= 0.29%/ 4.44% time=0.08s/4.87s\r\n"
       ]
      },
      {
       "output_type": "stream",
       "stream": "stdout",
       "text": [
        "  [  42] obj=92.42      act=2020     err= 0.03%/ 2.22% time=0.08s/4.95s\r\n"
       ]
      },
      {
       "output_type": "stream",
       "stream": "stdout",
       "text": [
        "  [  43] obj=92.09      act=1964     err= 0.03%/ 2.22% time=0.08s/5.03s\r\n"
       ]
      },
      {
       "output_type": "stream",
       "stream": "stdout",
       "text": [
        "  [  44] obj=91.38      act=1800     err= 0.05%/ 4.44% time=0.14s/5.17s\r\n"
       ]
      },
      {
       "output_type": "stream",
       "stream": "stdout",
       "text": [
        "  [  45] obj=90.70      act=1772     err= 0.05%/ 4.44% time=0.15s/5.32s\r\n"
       ]
      },
      {
       "output_type": "stream",
       "stream": "stdout",
       "text": [
        "  [  46] obj=90.44      act=1780     err= 0.05%/ 4.44% time=0.14s/5.46s\r\n",
        "* Save the model\r\n",
        "* Done\r\n"
       ]
      }
     ],
     "prompt_number": 70
    },
    {
     "cell_type": "code",
     "collapsed": false,
     "input": [
      "!wapiti label --model nl-open-hours.wapiti -c nl_test.txt res.txt"
     ],
     "language": "python",
     "metadata": {},
     "outputs": [
      {
       "output_type": "stream",
       "stream": "stdout",
       "text": [
        "* Load model\r\n"
       ]
      },
      {
       "output_type": "stream",
       "stream": "stdout",
       "text": [
        "* Label sequences\r\n"
       ]
      },
      {
       "output_type": "stream",
       "stream": "stdout",
       "text": [
        "    Nb sequences  : 12\r\n",
        "    Token error   :  1.82%\r\n",
        "    Sequence error: 41.67%\r\n",
        "* Per label statistics\r\n",
        "    O       Pr=0.98  Rc=0.99  F1=0.99\r\n",
        "    B-HOURS  Pr=0.87  Rc=0.76  F1=0.81\r\n",
        "    I-HOURS  Pr=0.97  Rc=0.92  F1=0.95\r\n",
        "* Done\r\n"
       ]
      }
     ],
     "prompt_number": 71
    },
    {
     "cell_type": "code",
     "collapsed": false,
     "input": [],
     "language": "python",
     "metadata": {},
     "outputs": [],
     "prompt_number": 5
    },
    {
     "cell_type": "code",
     "collapsed": false,
     "input": [],
     "language": "python",
     "metadata": {},
     "outputs": []
    }
   ],
   "metadata": {}
  }
 ]
}