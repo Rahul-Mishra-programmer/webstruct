{
 "metadata": {
  "name": ""
 },
 "nbformat": 3,
 "nbformat_minor": 0,
 "worksheets": [
  {
   "cells": [
    {
     "cell_type": "code",
     "collapsed": false,
     "input": [
      "import sys\n",
      "sys.path.insert(0, '..')"
     ],
     "language": "python",
     "metadata": {},
     "outputs": [],
     "prompt_number": 1
    },
    {
     "cell_type": "code",
     "collapsed": false,
     "input": [
      "import os\n",
      "import re\n",
      "import codecs\n",
      "import random\n",
      "import itertools\n",
      "from collections import  defaultdict, Counter\n",
      "\n",
      "import pandas as pd\n",
      "import networkx as nx\n",
      "\n",
      "from sklearn.base import BaseEstimator\n",
      "from sklearn.externals import joblib\n",
      "import wapiti\n",
      "import webstruct\n",
      "import webstruct.features\n",
      "from webstruct.wapiti import WapitiFeatureEncoder"
     ],
     "language": "python",
     "metadata": {},
     "outputs": [],
     "prompt_number": 2
    },
    {
     "cell_type": "code",
     "collapsed": false,
     "input": [
      "%alias wapiti_train wapiti train --pattern ng-wapiti-template.txt --compact --nthread 8 --jobsize 1"
     ],
     "language": "python",
     "metadata": {},
     "outputs": [],
     "prompt_number": 3
    },
    {
     "cell_type": "code",
     "collapsed": false,
     "input": [
      "webstruct.features.DEFAULT_TAGSET"
     ],
     "language": "python",
     "metadata": {},
     "outputs": [
      {
       "metadata": {},
       "output_type": "pyout",
       "prompt_number": 4,
       "text": [
        "{'CITY',\n",
        " 'COUNTRY',\n",
        " 'EMAIL',\n",
        " 'FAX',\n",
        " 'FUNC',\n",
        " 'HOURS',\n",
        " 'ORG',\n",
        " 'PER',\n",
        " 'STATE',\n",
        " 'STREET',\n",
        " 'SUBJ',\n",
        " 'TEL',\n",
        " 'ZIPCODE'}"
       ]
      }
     ],
     "prompt_number": 4
    },
    {
     "cell_type": "code",
     "collapsed": false,
     "input": [
      "class NerFeatureExtractor(BaseEstimator):\n",
      "    \n",
      "    def __init__(self, loader, html_tokenizer, feature_extractor):\n",
      "        self.loader = loader\n",
      "        self.html_tokenizer = html_tokenizer\n",
      "        self.feature_extractor = feature_extractor\n",
      "        self.wapiti_encoder = None\n",
      "        super(BaseEstimator, self).__init__()\n",
      "        \n",
      "    def load_tokenized_trees_from_paths(self, paths):\n",
      "        return list(itertools.chain(*map(self.iter_tokenized_trees, paths)))\n",
      "    \n",
      "    def iter_tokenized_trees(self, folder):\n",
      "        for fname in os.listdir(folder):\n",
      "            path = os.path.join(folder, fname)\n",
      "            tree = self.loader.load(path)\n",
      "            yield self.html_tokenizer.tokenize(tree)\n",
      "            \n",
      "    def fit(self, tokenized_trees):\n",
      "        self.wapiti_encoder = WapitiFeatureEncoder(['token', 'lower'])\n",
      "        for html_tokens in tokenized_trees:\n",
      "            feature_dicts = self.feature_extractor.transform(html_tokens)\n",
      "            self.wapiti_encoder.partial_fit(feature_dicts)\n",
      "        return self\n",
      "    \n",
      "    def transform(self, tokenized_trees, include_y=True):\n",
      "        \"\"\" Return Wapiti input sequences \"\"\"\n",
      "        res = []\n",
      "        for html_tokens in tokenized_trees:\n",
      "            feature_dicts = self.feature_extractor.transform(html_tokens)\n",
      "            res.append(self._get_wapiti_seq(html_tokens, feature_dicts, include_y))\n",
      "        return res\n",
      "                \n",
      "    def create_wapiti_input(self, fname, tokenized_trees, include_y=True):\n",
      "        with codecs.open(fname, 'w', encoding='utf8') as f:            \n",
      "            for seq in self.transform(tokenized_trees, include_y):\n",
      "                f.write(seq)\n",
      "                f.write('\\n\\n')\n",
      "                \n",
      "    def create_wapiti_feature_template(self, fname, template, scope='u'):\n",
      "        with codecs.open(fname, 'w', encoding='utf8') as f:\n",
      "            f.write(self.wapiti_encoder.unigram_features_template(scope))\n",
      "            f.write(self.wapiti_encoder.prepare_template(template))\n",
      "        \n",
      "    def _get_wapiti_seq(self, html_tokens, feature_dicts, include_y=True):\n",
      "        lines = []                \n",
      "        for line, token in zip(self.wapiti_encoder.transform(feature_dicts), html_tokens):\n",
      "            if include_y:\n",
      "                lines.append(\"%s %s\" % (line, token.label))\n",
      "            else:\n",
      "                lines.append(line)\n",
      "        return '\\n'.join(lines)\n",
      "\n",
      "# TAGSET = {'HOURS'}\n",
      "# TAGSET = webstruct.features.DEFAULT_TAGSET #- {'SUBJ', 'FUNC', 'HOURS', 'EMAIL'}\n",
      "TAGSET = {'ORG', 'STREET', 'CITY', 'STATE', 'ZIPCODE', 'COUNTRY', 'TEL', 'FAX'}\n",
      "# TAGSET = webstruct.features.DEFAULT_TAGSET - {'FUNC', 'PER', 'HOURS', 'SUBJ'}\n",
      "# TAGSET = {'EMAIL'}\n",
      "    \n",
      "ner_fe = NerFeatureExtractor(\n",
      "    loader = webstruct.GateLoader(known_tags=webstruct.features.DEFAULT_TAGSET),\n",
      "    html_tokenizer = webstruct.HtmlTokenizer(TAGSET),\n",
      "    feature_extractor = webstruct.HtmlFeatureExtractor(webstruct.features.DEFAULT_FEATURES),\n",
      ")"
     ],
     "language": "python",
     "metadata": {},
     "outputs": [],
     "prompt_number": 19
    },
    {
     "cell_type": "code",
     "collapsed": false,
     "input": [
      "%%time\n",
      "random.seed(0)\n",
      "\n",
      "corpus_paths = [\n",
      "    '../webstruct_data/corpus/us_contact_pages/annotated',\n",
      "    '../webstruct_data/corpus/random_pages/annotated',    \n",
      "#     '../webstruct_data/corpus/ie/annotated',    \n",
      "]\n",
      "trees = ner_fe.load_tokenized_trees_from_paths(corpus_paths)\n",
      "random.shuffle(trees)\n",
      "\n",
      "TRAIN_SIZE = 130\n",
      "train, dev = trees[:TRAIN_SIZE], trees[TRAIN_SIZE:]\n",
      "#train, dev = data[:], []\n",
      "\n",
      "print(len(train), len(dev))\n",
      "\n",
      "ner_fe.fit(train)\n",
      "ner_fe.create_wapiti_input('ng-train130.txt', train)\n",
      "ner_fe.create_wapiti_input('ng-dev130.txt', dev)"
     ],
     "language": "python",
     "metadata": {},
     "outputs": [
      {
       "output_type": "stream",
       "stream": "stdout",
       "text": [
        "(130, 25)\n",
        "CPU times: user 15 s, sys: 290 ms, total: 15.3 s"
       ]
      },
      {
       "output_type": "stream",
       "stream": "stdout",
       "text": [
        "\n",
        "Wall time: 15.2 s\n"
       ]
      }
     ],
     "prompt_number": 20
    },
    {
     "cell_type": "code",
     "collapsed": false,
     "input": [
      "template = '''\n",
      "# Label unigram & bigram\n",
      "*\n",
      "\n",
      "# Nearby token unigrams (lower)\n",
      "u-LL:%x[-2,lower]\n",
      "u--L:%x[-1,lower]\n",
      "u--R:%x[ 1,lower]\n",
      "u-RR:%x[ 2,lower]\n",
      "\n",
      "# u:bigram:%x[-2,lower]_%x[-1,lower]\n",
      "\n",
      "u:colon-1:%x[-1,endswith_colon]\n",
      "u:colon-2:%x[-2,endswith_colon]\n",
      "\n",
      "# Bag-of-words\n",
      "# u:bow_left:%x[-5,lower]\n",
      "# u:bow_left:%x[-4,lower]\n",
      "# u:bow_left:%x[-3,lower]\n",
      "# u:bow_left:%x[-2,lower]\n",
      "# u:bow_left:%x[-1,lower]\n",
      "# u:bow_right:%x[1,lower]\n",
      "# u:bow_right:%x[2,lower]\n",
      "# u:bow_right:%x[3,lower]\n",
      "# u:bow_right:%x[4,lower]\n",
      "\n",
      "# Nearby shapes\n",
      "u:shape-LL:%x[-2,shape]\n",
      "u:shape--L:%x[-1,shape]\n",
      "u:shape--R:%x[1,shape]\n",
      "u:shape-RR:%x[2,shape]\n",
      "\n",
      "# Nearby numeric patterns\n",
      "u:pattern-LL:%x[-2,num_pattern2]\n",
      "u:pattern--L:%x[-1,num_pattern2]\n",
      "u:pattern--R:%x[ 1,num_pattern2]\n",
      "u:pattern-RR:%x[ 2,num_pattern2]\n",
      "\n",
      "# Likely dates\n",
      "#u:month_before:%x[-1,looks_like_month]\n",
      "'''\n",
      "ner_fe.create_wapiti_feature_template('ng-wapiti-template.txt', template, 'u')"
     ],
     "language": "python",
     "metadata": {},
     "outputs": [],
     "prompt_number": 22
    },
    {
     "cell_type": "markdown",
     "metadata": {},
     "source": [
      "###First, train the model using fast SGD algorithm to find a good starting point.\n",
      "\n",
      "--eta0 is learning rate; non-default value is crucial here."
     ]
    },
    {
     "cell_type": "code",
     "collapsed": false,
     "input": [
      "wapiti_train --maxiter 10 --eta0 0.001 --rho1 0.5 --devel ng-dev130.txt --algo sgd-l1 ng-train130.txt ng-model-sgd130.wapiti"
     ],
     "language": "python",
     "metadata": {},
     "outputs": [
      {
       "output_type": "stream",
       "stream": "stdout",
       "text": [
        "* Load patterns\r\n",
        "* Load training data\r\n"
       ]
      },
      {
       "output_type": "stream",
       "stream": "stdout",
       "text": [
        "* Load development data\r\n"
       ]
      },
      {
       "output_type": "stream",
       "stream": "stdout",
       "text": [
        "* Initialize the model\r\n",
        "* Summary\r\n",
        "    nb train:    130\r\n",
        "    nb devel:    25\r\n",
        "    nb labels:   17\r\n",
        "    nb blocks:   127121\r\n",
        "    nb features: 2161346\r\n",
        "* Train the model with sgd-l1\r\n",
        "    - Build the index\r\n"
       ]
      },
      {
       "output_type": "stream",
       "stream": "stdout",
       "text": [
        "      Done\r\n"
       ]
      },
      {
       "output_type": "stream",
       "stream": "stdout",
       "text": [
        "  [   1] obj=NA act=157529   err= 7.95%/100.00% time=1.77s/1.77s\r\n"
       ]
      },
      {
       "output_type": "stream",
       "stream": "stdout",
       "text": [
        "  [   2] obj=NA act=64984    err= 7.74%/100.00% time=0.83s/2.61s\r\n"
       ]
      },
      {
       "output_type": "stream",
       "stream": "stdout",
       "text": [
        "  [   3] obj=NA act=61193    err= 7.03%/100.00% time=0.84s/3.45s\r\n"
       ]
      },
      {
       "output_type": "stream",
       "stream": "stdout",
       "text": [
        "  [   4] obj=NA act=58780    err= 6.50%/100.00% time=0.84s/4.28s\r\n"
       ]
      },
      {
       "output_type": "stream",
       "stream": "stdout",
       "text": [
        "  [   5] obj=NA act=57213    err= 6.57%/100.00% time=0.83s/5.12s\r\n"
       ]
      },
      {
       "output_type": "stream",
       "stream": "stdout",
       "text": [
        "  [   6] obj=NA act=56288    err= 6.22%/100.00% time=0.83s/5.95s\r\n"
       ]
      },
      {
       "output_type": "stream",
       "stream": "stdout",
       "text": [
        "  [   7] obj=NA act=55045    err= 5.20%/100.00% time=0.82s/6.77s\r\n"
       ]
      },
      {
       "output_type": "stream",
       "stream": "stdout",
       "text": [
        "  [   8] obj=NA act=54090    err= 5.93%/100.00% time=0.82s/7.59s\r\n"
       ]
      },
      {
       "output_type": "stream",
       "stream": "stdout",
       "text": [
        "  [   9] obj=NA act=53334    err= 5.88%/100.00% time=0.84s/8.43s\r\n"
       ]
      },
      {
       "output_type": "stream",
       "stream": "stdout",
       "text": [
        "  [  10] obj=NA act=52575    err= 5.98%/100.00% time=0.85s/9.28s\r\n",
        "* Compacting the model\r\n",
        "    - Scan the model\r\n",
        "    - Compact it\r\n"
       ]
      },
      {
       "output_type": "stream",
       "stream": "stdout",
       "text": [
        "      102045 observations removed\r\n",
        "     1734765 features removed\r\n",
        "* Save the model\r\n",
        "* Done\r\n"
       ]
      }
     ],
     "prompt_number": 23
    },
    {
     "cell_type": "markdown",
     "metadata": {},
     "source": [
      "###Then refine the model using L-BFGS algorithm. \n",
      "\n",
      "Warning: this requries *a lot* of memory. Set --histsz to 2 to decrease it."
     ]
    },
    {
     "cell_type": "code",
     "collapsed": false,
     "input": [
      "wapiti_train --histsz 5 --rho1 1 --devel ng-dev130.txt --model ng-model-sgd130.wapiti --maxiter 100 --algo l-bfgs ng-train130.txt ng-model130.wapiti"
     ],
     "language": "python",
     "metadata": {},
     "outputs": [
      {
       "output_type": "stream",
       "stream": "stdout",
       "text": [
        "* Load previous model\r\n"
       ]
      },
      {
       "output_type": "stream",
       "stream": "stdout",
       "text": [
        "* Load patterns\r\n",
        "* Load training data\r\n"
       ]
      },
      {
       "output_type": "stream",
       "stream": "stdout",
       "text": [
        "* Load development data\r\n"
       ]
      },
      {
       "output_type": "stream",
       "stream": "stdout",
       "text": [
        "* Resync the model\r\n",
        "* Summary\r\n",
        "    nb train:    130\r\n",
        "    nb devel:    25\r\n",
        "    nb labels:   17\r\n",
        "    nb blocks:   127121\r\n",
        "    nb features: 2161346\r\n",
        "* Train the model with l-bfgs\r\n"
       ]
      },
      {
       "output_type": "stream",
       "stream": "stdout",
       "text": [
        "  [   1] obj=7707.84    act=58155    err= 5.45%/100.00% time=1.85s/1.85s\r\n"
       ]
      },
      {
       "output_type": "stream",
       "stream": "stdout",
       "text": [
        "  [   2] obj=7446.41    act=64933    err= 5.15%/100.00% time=0.67s/2.52s\r\n"
       ]
      },
      {
       "output_type": "stream",
       "stream": "stdout",
       "text": [
        "  [   3] obj=6910.01    act=63125    err= 5.01%/100.00% time=0.69s/3.21s\r\n"
       ]
      },
      {
       "output_type": "stream",
       "stream": "stdout",
       "text": [
        "  [   4] obj=6190.01    act=62911    err= 4.67%/100.00% time=0.69s/3.90s\r\n"
       ]
      },
      {
       "output_type": "stream",
       "stream": "stdout",
       "text": [
        "  [   5] obj=5907.67    act=63942    err= 4.71%/100.00% time=1.25s/5.15s\r\n"
       ]
      },
      {
       "output_type": "stream",
       "stream": "stdout",
       "text": [
        "  [   6] obj=5839.65    act=65313    err= 4.93%/100.00% time=0.68s/5.83s\r\n"
       ]
      },
      {
       "output_type": "stream",
       "stream": "stdout",
       "text": [
        "  [   7] obj=5714.55    act=63189    err= 4.89%/100.00% time=0.67s/6.50s\r\n"
       ]
      },
      {
       "output_type": "stream",
       "stream": "stdout",
       "text": [
        "  [   8] obj=5650.67    act=63524    err= 4.83%/100.00% time=0.66s/7.16s\r\n"
       ]
      },
      {
       "output_type": "stream",
       "stream": "stdout",
       "text": [
        "  [   9] obj=5432.66    act=60822    err= 4.64%/100.00% time=0.66s/7.82s\r\n"
       ]
      },
      {
       "output_type": "stream",
       "stream": "stdout",
       "text": [
        "  [  10] obj=5227.55    act=64448    err= 4.74%/100.00% time=0.67s/8.49s\r\n"
       ]
      },
      {
       "output_type": "stream",
       "stream": "stdout",
       "text": [
        "  [  11] obj=4972.97    act=61728    err= 4.46%/100.00% time=1.24s/9.73s\r\n"
       ]
      },
      {
       "output_type": "stream",
       "stream": "stdout",
       "text": [
        "  [  12] obj=4902.58    act=59817    err= 4.42%/100.00% time=0.66s/10.39s\r\n"
       ]
      },
      {
       "output_type": "stream",
       "stream": "stdout",
       "text": [
        "  [  13] obj=4769.89    act=56997    err= 4.75%/96.00% time=0.66s/11.05s\r\n"
       ]
      },
      {
       "output_type": "stream",
       "stream": "stdout",
       "text": [
        "  [  14] obj=4471.27    act=57241    err= 4.41%/96.00% time=0.66s/11.72s\r\n"
       ]
      },
      {
       "output_type": "stream",
       "stream": "stdout",
       "text": [
        "  [  15] obj=4332.44    act=55453    err= 4.62%/96.00% time=1.27s/12.99s\r\n"
       ]
      },
      {
       "output_type": "stream",
       "stream": "stdout",
       "text": [
        "  [  16] obj=4134.91    act=54133    err= 4.28%/96.00% time=0.67s/13.66s\r\n"
       ]
      },
      {
       "output_type": "stream",
       "stream": "stdout",
       "text": [
        "  [  17] obj=3945.38    act=52365    err= 4.25%/96.00% time=1.25s/14.91s\r\n"
       ]
      },
      {
       "output_type": "stream",
       "stream": "stdout",
       "text": [
        "  [  18] obj=3724.11    act=51097    err= 3.98%/96.00% time=0.67s/15.58s\r\n"
       ]
      },
      {
       "output_type": "stream",
       "stream": "stdout",
       "text": [
        "  [  19] obj=3553.36    act=49413    err= 4.08%/96.00% time=1.27s/16.85s\r\n"
       ]
      },
      {
       "output_type": "stream",
       "stream": "stdout",
       "text": [
        "  [  20] obj=3316.72    act=48142    err= 3.95%/96.00% time=0.70s/17.54s\r\n"
       ]
      },
      {
       "output_type": "stream",
       "stream": "stdout",
       "text": [
        "  [  21] obj=3267.43    act=45426    err= 3.84%/100.00% time=0.67s/18.21s\r\n"
       ]
      },
      {
       "output_type": "stream",
       "stream": "stdout",
       "text": [
        "  [  22] obj=3039.44    act=47113    err= 3.93%/96.00% time=0.67s/18.88s\r\n"
       ]
      },
      {
       "output_type": "stream",
       "stream": "stdout",
       "text": [
        "  [  23] obj=2811.80    act=44466    err= 3.50%/100.00% time=0.67s/19.55s\r\n"
       ]
      },
      {
       "output_type": "stream",
       "stream": "stdout",
       "text": [
        "  [  24] obj=2683.66    act=43835    err= 3.60%/100.00% time=0.68s/20.24s\r\n"
       ]
      },
      {
       "output_type": "stream",
       "stream": "stdout",
       "text": [
        "  [  25] obj=2502.07    act=41768    err= 3.58%/100.00% time=0.69s/20.92s\r\n"
       ]
      },
      {
       "output_type": "stream",
       "stream": "stdout",
       "text": [
        "  [  26] obj=2327.03    act=37321    err= 3.63%/100.00% time=1.84s/22.77s\r\n"
       ]
      },
      {
       "output_type": "stream",
       "stream": "stdout",
       "text": [
        "  [  27] obj=2220.54    act=38024    err= 3.38%/100.00% time=0.66s/23.43s\r\n"
       ]
      },
      {
       "output_type": "stream",
       "stream": "stdout",
       "text": [
        "  [  28] obj=2183.50    act=37506    err= 3.40%/100.00% time=0.67s/24.09s\r\n"
       ]
      },
      {
       "output_type": "stream",
       "stream": "stdout",
       "text": [
        "  [  29] obj=2097.30    act=35672    err= 3.27%/100.00% time=0.68s/24.77s\r\n"
       ]
      },
      {
       "output_type": "stream",
       "stream": "stdout",
       "text": [
        "  [  30] obj=2073.79    act=35763    err= 3.49%/100.00% time=1.86s/26.64s\r\n"
       ]
      },
      {
       "output_type": "stream",
       "stream": "stdout",
       "text": [
        "  [  31] obj=2009.63    act=34560    err= 3.34%/100.00% time=0.67s/27.31s\r\n"
       ]
      },
      {
       "output_type": "stream",
       "stream": "stdout",
       "text": [
        "  [  32] obj=1955.95    act=33361    err= 3.45%/100.00% time=0.71s/28.02s\r\n"
       ]
      },
      {
       "output_type": "stream",
       "stream": "stdout",
       "text": [
        "  [  33] obj=1888.86    act=31876    err= 3.32%/100.00% time=0.69s/28.71s\r\n"
       ]
      },
      {
       "output_type": "stream",
       "stream": "stdout",
       "text": [
        "  [  34] obj=1851.32    act=30966    err= 3.44%/100.00% time=0.68s/29.39s\r\n"
       ]
      },
      {
       "output_type": "stream",
       "stream": "stdout",
       "text": [
        "  [  35] obj=1802.75    act=29854    err= 3.22%/100.00% time=0.85s/30.23s\r\n"
       ]
      },
      {
       "output_type": "stream",
       "stream": "stdout",
       "text": [
        "  [  36] obj=1758.99    act=28638    err= 3.39%/100.00% time=0.83s/31.06s\r\n"
       ]
      },
      {
       "output_type": "stream",
       "stream": "stdout",
       "text": [
        "  [  37] obj=1720.94    act=27383    err= 3.33%/96.00% time=0.71s/31.77s\r\n"
       ]
      },
      {
       "output_type": "stream",
       "stream": "stdout",
       "text": [
        "  [  38] obj=1693.83    act=26527    err= 3.40%/96.00% time=0.71s/32.49s\r\n"
       ]
      },
      {
       "output_type": "stream",
       "stream": "stdout",
       "text": [
        "  [  39] obj=1655.72    act=24935    err= 3.19%/100.00% time=0.94s/33.43s\r\n"
       ]
      },
      {
       "output_type": "stream",
       "stream": "stdout",
       "text": [
        "  [  40] obj=1626.51    act=23811    err= 3.33%/100.00% time=0.84s/34.26s\r\n"
       ]
      },
      {
       "output_type": "stream",
       "stream": "stdout",
       "text": [
        "  [  41] obj=1600.63    act=22048    err= 3.35%/100.00% time=0.75s/35.01s\r\n"
       ]
      },
      {
       "output_type": "stream",
       "stream": "stdout",
       "text": [
        "  [  42] obj=1569.19    act=20082    err= 3.26%/100.00% time=0.74s/35.75s\r\n"
       ]
      },
      {
       "output_type": "stream",
       "stream": "stdout",
       "text": [
        "  [  43] obj=1546.72    act=18052    err= 3.28%/100.00% time=0.97s/36.71s\r\n"
       ]
      },
      {
       "output_type": "stream",
       "stream": "stdout",
       "text": [
        "  [  44] obj=1521.59    act=16476    err= 3.23%/100.00% time=0.74s/37.46s\r\n"
       ]
      },
      {
       "output_type": "stream",
       "stream": "stdout",
       "text": [
        "  [  45] obj=1502.74    act=15386    err= 3.27%/100.00% time=0.70s/38.16s\r\n"
       ]
      },
      {
       "output_type": "stream",
       "stream": "stdout",
       "text": [
        "  [  46] obj=1483.12    act=14378    err= 3.22%/100.00% time=0.73s/38.89s\r\n"
       ]
      },
      {
       "output_type": "stream",
       "stream": "stdout",
       "text": [
        "  [  47] obj=1469.54    act=13423    err= 3.14%/100.00% time=0.71s/39.60s\r\n"
       ]
      },
      {
       "output_type": "stream",
       "stream": "stdout",
       "text": [
        "  [  48] obj=1453.05    act=12731    err= 3.22%/100.00% time=0.70s/40.30s\r\n"
       ]
      },
      {
       "output_type": "stream",
       "stream": "stdout",
       "text": [
        "  [  49] obj=1439.66    act=11881    err= 3.11%/100.00% time=0.71s/41.01s\r\n"
       ]
      },
      {
       "output_type": "stream",
       "stream": "stdout",
       "text": [
        "  [  50] obj=1425.25    act=11436    err= 3.20%/100.00% time=0.72s/41.73s\r\n"
       ]
      },
      {
       "output_type": "stream",
       "stream": "stdout",
       "text": [
        "  [  51] obj=1417.44    act=11113    err= 3.18%/100.00% time=0.69s/42.43s\r\n"
       ]
      },
      {
       "output_type": "stream",
       "stream": "stdout",
       "text": [
        "  [  52] obj=1405.58    act=10614    err= 3.20%/100.00% time=0.70s/43.13s\r\n"
       ]
      },
      {
       "output_type": "stream",
       "stream": "stdout",
       "text": [
        "  [  53] obj=1398.81    act=10363    err= 3.18%/100.00% time=0.70s/43.83s\r\n"
       ]
      },
      {
       "output_type": "stream",
       "stream": "stdout",
       "text": [
        "  [  54] obj=1391.39    act=10119    err= 3.14%/100.00% time=0.70s/44.53s\r\n"
       ]
      },
      {
       "output_type": "stream",
       "stream": "stdout",
       "text": [
        "  [  55] obj=1386.38    act=9853     err= 3.13%/100.00% time=0.67s/45.20s\r\n"
       ]
      },
      {
       "output_type": "stream",
       "stream": "stdout",
       "text": [
        "  [  56] obj=1379.42    act=9565     err= 3.25%/100.00% time=0.67s/45.86s\r\n"
       ]
      },
      {
       "output_type": "stream",
       "stream": "stdout",
       "text": [
        "* Compacting the model\r\n",
        "    - Scan the model\r\n",
        "    - Compact it\r\n",
        "      122101 observations removed\r\n",
        "     2075717 features removed\r\n",
        "* Save the model\r\n"
       ]
      },
      {
       "output_type": "stream",
       "stream": "stdout",
       "text": [
        "* Done\r\n"
       ]
      }
     ],
     "prompt_number": 24
    },
    {
     "cell_type": "code",
     "collapsed": false,
     "input": [
      "!wapiti label --model ng-model130.wapiti -c ng-dev130.txt ng-res.txt"
     ],
     "language": "python",
     "metadata": {},
     "outputs": [
      {
       "output_type": "stream",
       "stream": "stdout",
       "text": [
        "* Load model\r\n",
        "* Label sequences\r\n"
       ]
      },
      {
       "output_type": "stream",
       "stream": "stdout",
       "text": [
        "    Nb sequences  : 25\r\n",
        "    Token error   :  3.25%\r\n",
        "    Sequence error: 100.00%\r\n",
        "* Per label statistics\r\n",
        "    O       Pr=0.98  Rc=1.00  F1=0.99\r\n",
        "    B-STREET  Pr=0.84  Rc=0.63  F1=0.72\r\n",
        "    I-STREET  Pr=0.96  Rc=0.56  F1=0.70\r\n",
        "    B-ZIPCODE  Pr=1.00  Rc=0.84  F1=0.91\r\n",
        "    I-ZIPCODE  Pr=1.00  Rc=0.50  F1=0.67\r\n",
        "    B-CITY  Pr=0.90  Rc=0.66  F1=0.76\r\n",
        "    B-TEL   Pr=0.86  Rc=0.96  F1=0.91\r\n",
        "    I-TEL   Pr=0.90  Rc=0.98  F1=0.94\r\n",
        "    B-ORG   Pr=0.65  Rc=0.37  F1=0.47\r\n",
        "    I-ORG   Pr=0.53  Rc=0.40  F1=0.46\r\n",
        "    B-COUNTRY  Pr=1.00  Rc=0.50  F1=0.67\r\n",
        "    I-CITY  Pr=0.90  Rc=0.56  F1=0.69\r\n",
        "    B-STATE  Pr=0.97  Rc=0.88  F1=0.92\r\n",
        "    I-STATE  Pr=nan  Rc=nan  F1=nan\r\n",
        "    B-FAX   Pr=1.00  Rc=0.61  F1=0.76\r\n",
        "    I-FAX   Pr=1.00  Rc=0.74  F1=0.85\r\n",
        "    I-COUNTRY  Pr=nan  Rc=nan  F1=nan\r\n",
        "* Done\r\n"
       ]
      }
     ],
     "prompt_number": 26
    },
    {
     "cell_type": "code",
     "collapsed": false,
     "input": [
      "!wapiti dump ng-model130.wapiti dump.txt"
     ],
     "language": "python",
     "metadata": {},
     "outputs": [
      {
       "output_type": "stream",
       "stream": "stdout",
       "text": [
        "* Load model\r\n",
        "* Dump model\r\n"
       ]
      }
     ],
     "prompt_number": 27
    },
    {
     "cell_type": "code",
     "collapsed": false,
     "input": [
      "def read_wapiti_dump(fn):\n",
      "    res = []\n",
      "    with codecs.open(fn, 'r', encoding='utf8') as f:\n",
      "        for line in f:\n",
      "            parts = line.split('\\t')\n",
      "            if len(parts) != 4:\n",
      "                continue\n",
      "            feat, tag_1, tag, w = parts\n",
      "            res.append({'feat': feat, 'tag-1': tag_1, 'tag': tag, 'w': float(w)})\n",
      "    return res\n",
      "\n",
      "def get_transition_weights(dump):\n",
      "    transition_weights = Counter()\n",
      "    for row in dump:\n",
      "        t1, t2 = row['tag-1'], row['tag']\n",
      "#         if t1 == '#' or t2 == '#':\n",
      "#             continue\n",
      "        if t1 in {'#', 'O'} or t2 in {'#', 'O'}:\n",
      "            continue\n",
      "        if t1[2:] == t2[2:]:\n",
      "            continue\n",
      "#         if row['feat'] != '*':\n",
      "#             continue\n",
      "        transition_weights[(t1[2:], t2[2:])] += abs(row['w'])\n",
      "    return transition_weights"
     ],
     "language": "python",
     "metadata": {},
     "outputs": [],
     "prompt_number": 23
    },
    {
     "cell_type": "code",
     "collapsed": false,
     "input": [
      "dump = read_wapiti_dump('dump.txt')\n",
      "transition_weights = get_transition_weights(dump).most_common()\n",
      "transition_weights[:30]"
     ],
     "language": "python",
     "metadata": {},
     "outputs": [
      {
       "metadata": {},
       "output_type": "pyout",
       "prompt_number": 24,
       "text": [
        "[((u'ORG', u'STREET'), 2.98287),\n",
        " ((u'CITY', u'STATE'), 2.80187),\n",
        " ((u'TEL', u'HOURS'), 2.6695900000000004),\n",
        " ((u'ZIPCODE', u'CITY'), 2.606),\n",
        " ((u'ORG', u'SUBJ'), 2.60149),\n",
        " ((u'TEL', u'FAX'), 2.4817099999999996),\n",
        " ((u'FUNC', u'PER'), 2.20295),\n",
        " ((u'STATE', u'ZIPCODE'), 1.98793),\n",
        " ((u'STREET', u'ORG'), 1.8619599999999998),\n",
        " ((u'SUBJ', u'ORG'), 1.85544),\n",
        " ((u'FAX', u'TEL'), 1.8010199999999998),\n",
        " ((u'PER', u'FUNC'), 1.60602),\n",
        " ((u'STREET', u'CITY'), 1.5162499999999999),\n",
        " ((u'STATE', u'COUNTRY'), 1.50399),\n",
        " ((u'ZIPCODE', u'COUNTRY'), 1.4954800000000001),\n",
        " ((u'ORG', u'HOURS'), 1.46135),\n",
        " ((u'TEL', u'STREET'), 1.41547),\n",
        " ((u'CITY', u'STREET'), 1.34479),\n",
        " ((u'STREET', u'SUBJ'), 1.31344),\n",
        " ((u'PER', u'ORG'), 1.1901700000000002),\n",
        " ((u'ORG', u'TEL'), 1.1496499999999998),\n",
        " ((u'CITY', u'ORG'), 1.10549),\n",
        " ((u'ORG', u'FUNC'), 0.9814200000000001),\n",
        " ((u'SUBJ', u'STREET'), 0.9158),\n",
        " ((u'ORG', u'PER'), 0.90025),\n",
        " ((u'COUNTRY', u'SUBJ'), 0.89991),\n",
        " ((u'FUNC', u'ORG'), 0.88875),\n",
        " ((u'ZIPCODE', u'STREET'), 0.88298),\n",
        " ((u'SUBJ', u'HOURS'), 0.8156399999999999),\n",
        " ((u'CITY', u'COUNTRY'), 0.78137)]"
       ]
      }
     ],
     "prompt_number": 24
    },
    {
     "cell_type": "code",
     "collapsed": false,
     "input": [
      "df = pd.DataFrame(columns=sorted(TAGSET), index=sorted(TAGSET))\n",
      "for (from_, to_), w in transition_weights:\n",
      "    df[from_][to_] = w\n",
      "df = df.T"
     ],
     "language": "python",
     "metadata": {},
     "outputs": [],
     "prompt_number": 25
    },
    {
     "cell_type": "code",
     "collapsed": false,
     "input": [
      "df"
     ],
     "language": "python",
     "metadata": {},
     "outputs": [
      {
       "html": [
        "<div style=\"max-height:1000px;max-width:1500px;overflow:auto;\">\n",
        "<table border=\"1\" class=\"dataframe\">\n",
        "  <thead>\n",
        "    <tr style=\"text-align: right;\">\n",
        "      <th></th>\n",
        "      <th>CITY</th>\n",
        "      <th>COUNTRY</th>\n",
        "      <th>EMAIL</th>\n",
        "      <th>FAX</th>\n",
        "      <th>FUNC</th>\n",
        "      <th>HOURS</th>\n",
        "      <th>ORG</th>\n",
        "      <th>PER</th>\n",
        "      <th>STATE</th>\n",
        "      <th>STREET</th>\n",
        "      <th>SUBJ</th>\n",
        "      <th>TEL</th>\n",
        "      <th>ZIPCODE</th>\n",
        "    </tr>\n",
        "  </thead>\n",
        "  <tbody>\n",
        "    <tr>\n",
        "      <th>CITY</th>\n",
        "      <td>     NaN</td>\n",
        "      <td> 0.78137</td>\n",
        "      <td>     NaN</td>\n",
        "      <td>     NaN</td>\n",
        "      <td> 0.16599</td>\n",
        "      <td> 0.63933</td>\n",
        "      <td> 1.10549</td>\n",
        "      <td> 0.00242</td>\n",
        "      <td> 2.80187</td>\n",
        "      <td> 1.34479</td>\n",
        "      <td>  0.7561</td>\n",
        "      <td> 0.59022</td>\n",
        "      <td> 0.75781</td>\n",
        "    </tr>\n",
        "    <tr>\n",
        "      <th>COUNTRY</th>\n",
        "      <td>     NaN</td>\n",
        "      <td>     NaN</td>\n",
        "      <td>     NaN</td>\n",
        "      <td>     NaN</td>\n",
        "      <td>     NaN</td>\n",
        "      <td> 0.37194</td>\n",
        "      <td> 0.53836</td>\n",
        "      <td>     NaN</td>\n",
        "      <td>     NaN</td>\n",
        "      <td> 0.26983</td>\n",
        "      <td> 0.89991</td>\n",
        "      <td> 0.05083</td>\n",
        "      <td> 0.76061</td>\n",
        "    </tr>\n",
        "    <tr>\n",
        "      <th>EMAIL</th>\n",
        "      <td>     NaN</td>\n",
        "      <td>     NaN</td>\n",
        "      <td>     NaN</td>\n",
        "      <td>     NaN</td>\n",
        "      <td> 0.01051</td>\n",
        "      <td> 0.00996</td>\n",
        "      <td> 0.10374</td>\n",
        "      <td>     NaN</td>\n",
        "      <td>     NaN</td>\n",
        "      <td>     NaN</td>\n",
        "      <td>  0.4256</td>\n",
        "      <td>     NaN</td>\n",
        "      <td>     NaN</td>\n",
        "    </tr>\n",
        "    <tr>\n",
        "      <th>FAX</th>\n",
        "      <td>     NaN</td>\n",
        "      <td>     NaN</td>\n",
        "      <td>     NaN</td>\n",
        "      <td>     NaN</td>\n",
        "      <td>     NaN</td>\n",
        "      <td> 0.16452</td>\n",
        "      <td> 0.02195</td>\n",
        "      <td>  0.1134</td>\n",
        "      <td>     NaN</td>\n",
        "      <td> 0.14334</td>\n",
        "      <td> 0.16345</td>\n",
        "      <td> 1.80102</td>\n",
        "      <td> 0.03604</td>\n",
        "    </tr>\n",
        "    <tr>\n",
        "      <th>FUNC</th>\n",
        "      <td>     NaN</td>\n",
        "      <td>     NaN</td>\n",
        "      <td>     NaN</td>\n",
        "      <td>     NaN</td>\n",
        "      <td>     NaN</td>\n",
        "      <td>     NaN</td>\n",
        "      <td> 0.88875</td>\n",
        "      <td> 2.20295</td>\n",
        "      <td>     NaN</td>\n",
        "      <td> 0.22249</td>\n",
        "      <td> 0.63505</td>\n",
        "      <td> 0.43029</td>\n",
        "      <td>     NaN</td>\n",
        "    </tr>\n",
        "    <tr>\n",
        "      <th>HOURS</th>\n",
        "      <td>     NaN</td>\n",
        "      <td> 0.01746</td>\n",
        "      <td>     NaN</td>\n",
        "      <td>     NaN</td>\n",
        "      <td>     NaN</td>\n",
        "      <td>     NaN</td>\n",
        "      <td> 0.59637</td>\n",
        "      <td>     NaN</td>\n",
        "      <td>     NaN</td>\n",
        "      <td> 0.38097</td>\n",
        "      <td> 0.35624</td>\n",
        "      <td> 0.30306</td>\n",
        "      <td>     NaN</td>\n",
        "    </tr>\n",
        "    <tr>\n",
        "      <th>ORG</th>\n",
        "      <td> 0.45192</td>\n",
        "      <td> 0.36105</td>\n",
        "      <td> 0.11127</td>\n",
        "      <td>     NaN</td>\n",
        "      <td> 0.98142</td>\n",
        "      <td> 1.46135</td>\n",
        "      <td>     NaN</td>\n",
        "      <td> 0.90025</td>\n",
        "      <td> 0.51423</td>\n",
        "      <td> 2.98287</td>\n",
        "      <td> 2.60149</td>\n",
        "      <td> 1.14965</td>\n",
        "      <td> 0.45031</td>\n",
        "    </tr>\n",
        "    <tr>\n",
        "      <th>PER</th>\n",
        "      <td>     NaN</td>\n",
        "      <td>     NaN</td>\n",
        "      <td> 0.33768</td>\n",
        "      <td>     NaN</td>\n",
        "      <td> 1.60602</td>\n",
        "      <td>     NaN</td>\n",
        "      <td> 1.19017</td>\n",
        "      <td>     NaN</td>\n",
        "      <td> 0.03059</td>\n",
        "      <td> 0.28331</td>\n",
        "      <td> 0.62919</td>\n",
        "      <td> 0.02472</td>\n",
        "      <td>     NaN</td>\n",
        "    </tr>\n",
        "    <tr>\n",
        "      <th>STATE</th>\n",
        "      <td>     NaN</td>\n",
        "      <td> 1.50399</td>\n",
        "      <td>     NaN</td>\n",
        "      <td>     NaN</td>\n",
        "      <td>     NaN</td>\n",
        "      <td> 0.03302</td>\n",
        "      <td> 0.59773</td>\n",
        "      <td>     NaN</td>\n",
        "      <td>     NaN</td>\n",
        "      <td> 0.35754</td>\n",
        "      <td> 0.28004</td>\n",
        "      <td>  0.2589</td>\n",
        "      <td> 1.98793</td>\n",
        "    </tr>\n",
        "    <tr>\n",
        "      <th>STREET</th>\n",
        "      <td> 1.51625</td>\n",
        "      <td>     NaN</td>\n",
        "      <td>     NaN</td>\n",
        "      <td> 0.06187</td>\n",
        "      <td> 0.15427</td>\n",
        "      <td> 0.72102</td>\n",
        "      <td> 1.86196</td>\n",
        "      <td> 0.76746</td>\n",
        "      <td> 0.55598</td>\n",
        "      <td>     NaN</td>\n",
        "      <td> 1.31344</td>\n",
        "      <td> 0.58336</td>\n",
        "      <td> 0.48965</td>\n",
        "    </tr>\n",
        "    <tr>\n",
        "      <th>SUBJ</th>\n",
        "      <td>     NaN</td>\n",
        "      <td> 0.09962</td>\n",
        "      <td>     NaN</td>\n",
        "      <td>     NaN</td>\n",
        "      <td> 0.48292</td>\n",
        "      <td> 0.81564</td>\n",
        "      <td> 1.85544</td>\n",
        "      <td> 0.30703</td>\n",
        "      <td> 0.06847</td>\n",
        "      <td>  0.9158</td>\n",
        "      <td>     NaN</td>\n",
        "      <td> 0.13289</td>\n",
        "      <td>  0.3431</td>\n",
        "    </tr>\n",
        "    <tr>\n",
        "      <th>TEL</th>\n",
        "      <td> 0.00205</td>\n",
        "      <td>     NaN</td>\n",
        "      <td> 0.00737</td>\n",
        "      <td> 2.48171</td>\n",
        "      <td>     NaN</td>\n",
        "      <td> 2.66959</td>\n",
        "      <td>  0.6667</td>\n",
        "      <td> 0.06164</td>\n",
        "      <td>     NaN</td>\n",
        "      <td> 1.41547</td>\n",
        "      <td> 0.33038</td>\n",
        "      <td>     NaN</td>\n",
        "      <td>   0.384</td>\n",
        "    </tr>\n",
        "    <tr>\n",
        "      <th>ZIPCODE</th>\n",
        "      <td>   2.606</td>\n",
        "      <td> 1.49548</td>\n",
        "      <td>     NaN</td>\n",
        "      <td> 0.26622</td>\n",
        "      <td>     NaN</td>\n",
        "      <td> 0.61202</td>\n",
        "      <td> 0.01242</td>\n",
        "      <td>     NaN</td>\n",
        "      <td>     NaN</td>\n",
        "      <td> 0.88298</td>\n",
        "      <td> 0.03523</td>\n",
        "      <td> 0.50494</td>\n",
        "      <td>     NaN</td>\n",
        "    </tr>\n",
        "  </tbody>\n",
        "</table>\n",
        "</div>"
       ],
       "metadata": {},
       "output_type": "pyout",
       "prompt_number": 26,
       "text": [
        "            CITY  COUNTRY    EMAIL      FAX     FUNC    HOURS      ORG      PER  \\\n",
        "CITY         NaN  0.78137      NaN      NaN  0.16599  0.63933  1.10549  0.00242   \n",
        "COUNTRY      NaN      NaN      NaN      NaN      NaN  0.37194  0.53836      NaN   \n",
        "EMAIL        NaN      NaN      NaN      NaN  0.01051  0.00996  0.10374      NaN   \n",
        "FAX          NaN      NaN      NaN      NaN      NaN  0.16452  0.02195   0.1134   \n",
        "FUNC         NaN      NaN      NaN      NaN      NaN      NaN  0.88875  2.20295   \n",
        "HOURS        NaN  0.01746      NaN      NaN      NaN      NaN  0.59637      NaN   \n",
        "ORG      0.45192  0.36105  0.11127      NaN  0.98142  1.46135      NaN  0.90025   \n",
        "PER          NaN      NaN  0.33768      NaN  1.60602      NaN  1.19017      NaN   \n",
        "STATE        NaN  1.50399      NaN      NaN      NaN  0.03302  0.59773      NaN   \n",
        "STREET   1.51625      NaN      NaN  0.06187  0.15427  0.72102  1.86196  0.76746   \n",
        "SUBJ         NaN  0.09962      NaN      NaN  0.48292  0.81564  1.85544  0.30703   \n",
        "TEL      0.00205      NaN  0.00737  2.48171      NaN  2.66959   0.6667  0.06164   \n",
        "ZIPCODE    2.606  1.49548      NaN  0.26622      NaN  0.61202  0.01242      NaN   \n",
        "\n",
        "           STATE   STREET     SUBJ      TEL  ZIPCODE  \n",
        "CITY     2.80187  1.34479   0.7561  0.59022  0.75781  \n",
        "COUNTRY      NaN  0.26983  0.89991  0.05083  0.76061  \n",
        "EMAIL        NaN      NaN   0.4256      NaN      NaN  \n",
        "FAX          NaN  0.14334  0.16345  1.80102  0.03604  \n",
        "FUNC         NaN  0.22249  0.63505  0.43029      NaN  \n",
        "HOURS        NaN  0.38097  0.35624  0.30306      NaN  \n",
        "ORG      0.51423  2.98287  2.60149  1.14965  0.45031  \n",
        "PER      0.03059  0.28331  0.62919  0.02472      NaN  \n",
        "STATE        NaN  0.35754  0.28004   0.2589  1.98793  \n",
        "STREET   0.55598      NaN  1.31344  0.58336  0.48965  \n",
        "SUBJ     0.06847   0.9158      NaN  0.13289   0.3431  \n",
        "TEL          NaN  1.41547  0.33038      NaN    0.384  \n",
        "ZIPCODE      NaN  0.88298  0.03523  0.50494      NaN  "
       ]
      }
     ],
     "prompt_number": 26
    },
    {
     "cell_type": "code",
     "collapsed": false,
     "input": [
      "df[df > 0.5]"
     ],
     "language": "python",
     "metadata": {},
     "outputs": [
      {
       "html": [
        "<div style=\"max-height:1000px;max-width:1500px;overflow:auto;\">\n",
        "<table border=\"1\" class=\"dataframe\">\n",
        "  <thead>\n",
        "    <tr style=\"text-align: right;\">\n",
        "      <th></th>\n",
        "      <th>CITY</th>\n",
        "      <th>COUNTRY</th>\n",
        "      <th>EMAIL</th>\n",
        "      <th>FAX</th>\n",
        "      <th>FUNC</th>\n",
        "      <th>HOURS</th>\n",
        "      <th>ORG</th>\n",
        "      <th>PER</th>\n",
        "      <th>STATE</th>\n",
        "      <th>STREET</th>\n",
        "      <th>SUBJ</th>\n",
        "      <th>TEL</th>\n",
        "      <th>ZIPCODE</th>\n",
        "    </tr>\n",
        "  </thead>\n",
        "  <tbody>\n",
        "    <tr>\n",
        "      <th>CITY</th>\n",
        "      <td>     NaN</td>\n",
        "      <td> 0.78137</td>\n",
        "      <td> NaN</td>\n",
        "      <td>     NaN</td>\n",
        "      <td>     NaN</td>\n",
        "      <td> 0.63933</td>\n",
        "      <td> 1.10549</td>\n",
        "      <td>     NaN</td>\n",
        "      <td> 2.80187</td>\n",
        "      <td> 1.34479</td>\n",
        "      <td>  0.7561</td>\n",
        "      <td> 0.59022</td>\n",
        "      <td> 0.75781</td>\n",
        "    </tr>\n",
        "    <tr>\n",
        "      <th>COUNTRY</th>\n",
        "      <td>     NaN</td>\n",
        "      <td>     NaN</td>\n",
        "      <td> NaN</td>\n",
        "      <td>     NaN</td>\n",
        "      <td>     NaN</td>\n",
        "      <td>     NaN</td>\n",
        "      <td> 0.53836</td>\n",
        "      <td>     NaN</td>\n",
        "      <td>     NaN</td>\n",
        "      <td>     NaN</td>\n",
        "      <td> 0.89991</td>\n",
        "      <td>     NaN</td>\n",
        "      <td> 0.76061</td>\n",
        "    </tr>\n",
        "    <tr>\n",
        "      <th>EMAIL</th>\n",
        "      <td>     NaN</td>\n",
        "      <td>     NaN</td>\n",
        "      <td> NaN</td>\n",
        "      <td>     NaN</td>\n",
        "      <td>     NaN</td>\n",
        "      <td>     NaN</td>\n",
        "      <td>     NaN</td>\n",
        "      <td>     NaN</td>\n",
        "      <td>     NaN</td>\n",
        "      <td>     NaN</td>\n",
        "      <td>     NaN</td>\n",
        "      <td>     NaN</td>\n",
        "      <td>     NaN</td>\n",
        "    </tr>\n",
        "    <tr>\n",
        "      <th>FAX</th>\n",
        "      <td>     NaN</td>\n",
        "      <td>     NaN</td>\n",
        "      <td> NaN</td>\n",
        "      <td>     NaN</td>\n",
        "      <td>     NaN</td>\n",
        "      <td>     NaN</td>\n",
        "      <td>     NaN</td>\n",
        "      <td>     NaN</td>\n",
        "      <td>     NaN</td>\n",
        "      <td>     NaN</td>\n",
        "      <td>     NaN</td>\n",
        "      <td> 1.80102</td>\n",
        "      <td>     NaN</td>\n",
        "    </tr>\n",
        "    <tr>\n",
        "      <th>FUNC</th>\n",
        "      <td>     NaN</td>\n",
        "      <td>     NaN</td>\n",
        "      <td> NaN</td>\n",
        "      <td>     NaN</td>\n",
        "      <td>     NaN</td>\n",
        "      <td>     NaN</td>\n",
        "      <td> 0.88875</td>\n",
        "      <td> 2.20295</td>\n",
        "      <td>     NaN</td>\n",
        "      <td>     NaN</td>\n",
        "      <td> 0.63505</td>\n",
        "      <td>     NaN</td>\n",
        "      <td>     NaN</td>\n",
        "    </tr>\n",
        "    <tr>\n",
        "      <th>HOURS</th>\n",
        "      <td>     NaN</td>\n",
        "      <td>     NaN</td>\n",
        "      <td> NaN</td>\n",
        "      <td>     NaN</td>\n",
        "      <td>     NaN</td>\n",
        "      <td>     NaN</td>\n",
        "      <td> 0.59637</td>\n",
        "      <td>     NaN</td>\n",
        "      <td>     NaN</td>\n",
        "      <td>     NaN</td>\n",
        "      <td>     NaN</td>\n",
        "      <td>     NaN</td>\n",
        "      <td>     NaN</td>\n",
        "    </tr>\n",
        "    <tr>\n",
        "      <th>ORG</th>\n",
        "      <td>     NaN</td>\n",
        "      <td>     NaN</td>\n",
        "      <td> NaN</td>\n",
        "      <td>     NaN</td>\n",
        "      <td> 0.98142</td>\n",
        "      <td> 1.46135</td>\n",
        "      <td>     NaN</td>\n",
        "      <td> 0.90025</td>\n",
        "      <td> 0.51423</td>\n",
        "      <td> 2.98287</td>\n",
        "      <td> 2.60149</td>\n",
        "      <td> 1.14965</td>\n",
        "      <td>     NaN</td>\n",
        "    </tr>\n",
        "    <tr>\n",
        "      <th>PER</th>\n",
        "      <td>     NaN</td>\n",
        "      <td>     NaN</td>\n",
        "      <td> NaN</td>\n",
        "      <td>     NaN</td>\n",
        "      <td> 1.60602</td>\n",
        "      <td>     NaN</td>\n",
        "      <td> 1.19017</td>\n",
        "      <td>     NaN</td>\n",
        "      <td>     NaN</td>\n",
        "      <td>     NaN</td>\n",
        "      <td> 0.62919</td>\n",
        "      <td>     NaN</td>\n",
        "      <td>     NaN</td>\n",
        "    </tr>\n",
        "    <tr>\n",
        "      <th>STATE</th>\n",
        "      <td>     NaN</td>\n",
        "      <td> 1.50399</td>\n",
        "      <td> NaN</td>\n",
        "      <td>     NaN</td>\n",
        "      <td>     NaN</td>\n",
        "      <td>     NaN</td>\n",
        "      <td> 0.59773</td>\n",
        "      <td>     NaN</td>\n",
        "      <td>     NaN</td>\n",
        "      <td>     NaN</td>\n",
        "      <td>     NaN</td>\n",
        "      <td>     NaN</td>\n",
        "      <td> 1.98793</td>\n",
        "    </tr>\n",
        "    <tr>\n",
        "      <th>STREET</th>\n",
        "      <td> 1.51625</td>\n",
        "      <td>     NaN</td>\n",
        "      <td> NaN</td>\n",
        "      <td>     NaN</td>\n",
        "      <td>     NaN</td>\n",
        "      <td> 0.72102</td>\n",
        "      <td> 1.86196</td>\n",
        "      <td> 0.76746</td>\n",
        "      <td> 0.55598</td>\n",
        "      <td>     NaN</td>\n",
        "      <td> 1.31344</td>\n",
        "      <td> 0.58336</td>\n",
        "      <td>     NaN</td>\n",
        "    </tr>\n",
        "    <tr>\n",
        "      <th>SUBJ</th>\n",
        "      <td>     NaN</td>\n",
        "      <td>     NaN</td>\n",
        "      <td> NaN</td>\n",
        "      <td>     NaN</td>\n",
        "      <td>     NaN</td>\n",
        "      <td> 0.81564</td>\n",
        "      <td> 1.85544</td>\n",
        "      <td>     NaN</td>\n",
        "      <td>     NaN</td>\n",
        "      <td>  0.9158</td>\n",
        "      <td>     NaN</td>\n",
        "      <td>     NaN</td>\n",
        "      <td>     NaN</td>\n",
        "    </tr>\n",
        "    <tr>\n",
        "      <th>TEL</th>\n",
        "      <td>     NaN</td>\n",
        "      <td>     NaN</td>\n",
        "      <td> NaN</td>\n",
        "      <td> 2.48171</td>\n",
        "      <td>     NaN</td>\n",
        "      <td> 2.66959</td>\n",
        "      <td>  0.6667</td>\n",
        "      <td>     NaN</td>\n",
        "      <td>     NaN</td>\n",
        "      <td> 1.41547</td>\n",
        "      <td>     NaN</td>\n",
        "      <td>     NaN</td>\n",
        "      <td>     NaN</td>\n",
        "    </tr>\n",
        "    <tr>\n",
        "      <th>ZIPCODE</th>\n",
        "      <td>   2.606</td>\n",
        "      <td> 1.49548</td>\n",
        "      <td> NaN</td>\n",
        "      <td>     NaN</td>\n",
        "      <td>     NaN</td>\n",
        "      <td> 0.61202</td>\n",
        "      <td>     NaN</td>\n",
        "      <td>     NaN</td>\n",
        "      <td>     NaN</td>\n",
        "      <td> 0.88298</td>\n",
        "      <td>     NaN</td>\n",
        "      <td> 0.50494</td>\n",
        "      <td>     NaN</td>\n",
        "    </tr>\n",
        "  </tbody>\n",
        "</table>\n",
        "</div>"
       ],
       "metadata": {},
       "output_type": "pyout",
       "prompt_number": 27,
       "text": [
        "            CITY  COUNTRY EMAIL      FAX     FUNC    HOURS      ORG      PER    STATE  \\\n",
        "CITY         NaN  0.78137   NaN      NaN      NaN  0.63933  1.10549      NaN  2.80187   \n",
        "COUNTRY      NaN      NaN   NaN      NaN      NaN      NaN  0.53836      NaN      NaN   \n",
        "EMAIL        NaN      NaN   NaN      NaN      NaN      NaN      NaN      NaN      NaN   \n",
        "FAX          NaN      NaN   NaN      NaN      NaN      NaN      NaN      NaN      NaN   \n",
        "FUNC         NaN      NaN   NaN      NaN      NaN      NaN  0.88875  2.20295      NaN   \n",
        "HOURS        NaN      NaN   NaN      NaN      NaN      NaN  0.59637      NaN      NaN   \n",
        "ORG          NaN      NaN   NaN      NaN  0.98142  1.46135      NaN  0.90025  0.51423   \n",
        "PER          NaN      NaN   NaN      NaN  1.60602      NaN  1.19017      NaN      NaN   \n",
        "STATE        NaN  1.50399   NaN      NaN      NaN      NaN  0.59773      NaN      NaN   \n",
        "STREET   1.51625      NaN   NaN      NaN      NaN  0.72102  1.86196  0.76746  0.55598   \n",
        "SUBJ         NaN      NaN   NaN      NaN      NaN  0.81564  1.85544      NaN      NaN   \n",
        "TEL          NaN      NaN   NaN  2.48171      NaN  2.66959   0.6667      NaN      NaN   \n",
        "ZIPCODE    2.606  1.49548   NaN      NaN      NaN  0.61202      NaN      NaN      NaN   \n",
        "\n",
        "          STREET     SUBJ      TEL  ZIPCODE  \n",
        "CITY     1.34479   0.7561  0.59022  0.75781  \n",
        "COUNTRY      NaN  0.89991      NaN  0.76061  \n",
        "EMAIL        NaN      NaN      NaN      NaN  \n",
        "FAX          NaN      NaN  1.80102      NaN  \n",
        "FUNC         NaN  0.63505      NaN      NaN  \n",
        "HOURS        NaN      NaN      NaN      NaN  \n",
        "ORG      2.98287  2.60149  1.14965      NaN  \n",
        "PER          NaN  0.62919      NaN      NaN  \n",
        "STATE        NaN      NaN      NaN  1.98793  \n",
        "STREET       NaN  1.31344  0.58336      NaN  \n",
        "SUBJ      0.9158      NaN      NaN      NaN  \n",
        "TEL      1.41547      NaN      NaN      NaN  \n",
        "ZIPCODE  0.88298      NaN  0.50494      NaN  "
       ]
      }
     ],
     "prompt_number": 27
    },
    {
     "cell_type": "code",
     "collapsed": false,
     "input": [
      "gr = nx.DiGraph()\n",
      "for (from_, to_), w in transition_weights:\n",
      "    if w > 1.5:\n",
      "        gr.add_edge(from_, to_, weight=w)\n",
      "        \n",
      "pylab.rcParams['figure.figsize'] = (15.0, 10.0)\n",
      "nx.draw_networkx(gr, node_size=3000, node_color='w')        "
     ],
     "language": "python",
     "metadata": {},
     "outputs": [
      {
       "metadata": {},
       "output_type": "display_data",
       "png": "[encoded data removed]",
       "text": [
        "<matplotlib.figure.Figure at 0x10d262510>"
       ]
      }
     ],
     "prompt_number": 58
    },
    {
     "cell_type": "code",
     "collapsed": false,
     "input": [],
     "language": "python",
     "metadata": {},
     "outputs": []
    }
   ],
   "metadata": {}
  }
 ]
}