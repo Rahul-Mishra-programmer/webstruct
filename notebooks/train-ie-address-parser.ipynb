{
 "metadata": {
  "name": "train-ie-address-parser"
 },
 "nbformat": 3,
 "nbformat_minor": 0,
 "worksheets": [
  {
   "cells": [
    {
     "cell_type": "code",
     "collapsed": false,
     "input": [
      "import os\n",
      "import sys\n",
      "import re\n",
      "import codecs\n",
      "import random\n",
      "import itertools\n",
      "\n",
      "sys.path.insert(0, '../')\n",
      "\n",
      "import wapiti\n",
      "from webstruct.wapiti import WapitiFeatureEncoder\n",
      "from webstruct.feature_extraction import HtmlFeaturesExtractor\n",
      "from webstruct.features import DEFAULT\n",
      "\n",
      "def tagged_data(folder):\n",
      "    for fname in os.listdir(folder):\n",
      "        path = os.path.join(folder, fname)\n",
      "        try:\n",
      "            with codecs.open(path, 'r', encoding='utf8') as f:\n",
      "                yield path, f.read()\n",
      "        except UnicodeDecodeError:\n",
      "            print 'unicode decode error', path\n",
      "            \n",
      "fe = HtmlFeaturesExtractor({'addr'}, DEFAULT)\n",
      "\n",
      "def fit_wapiti_encoder(tagged_data_iter):\n",
      "    we = WapitiFeatureEncoder(['token', 'lower'])    \n",
      "    for path, html in tagged_data_iter:\n",
      "        try:\n",
      "            features, labels = fe.fit_transform(html, encoding='utf8')\n",
      "            we.partial_fit(features)\n",
      "        except Exception as e:\n",
      "            print(\"error decoding %s:\\n%s\" % (path, e))\n",
      "    return we\n",
      "\n",
      "\n",
      "def to_wapiti_seq(features, labels, include_labels=True):\n",
      "    lines = []\n",
      "    for line, label in zip(we.transform(features), labels):\n",
      "        if include_labels:\n",
      "            lines.append(\"%s %s\" % (line, label))\n",
      "        else:\n",
      "            lines.append(line)\n",
      "    return '\\n'.join(lines)\n",
      "    \n",
      "\n",
      "def iter_wapiti_sequences(tagged_data_iter, we, include_labels=True):\n",
      "    \n",
      "    for path, html in tagged_data_iter:\n",
      "        try:\n",
      "            features, labels = fe.fit_transform(html, encoding='utf8')\n",
      "        except AssertionError as e:\n",
      "            print(\"error decoding %s:\\n%s\" % (path, e))\n",
      "        else:\n",
      "            yield to_wapiti_seq(features, labels, include_labels)\n",
      "        \n",
      "    \n",
      "def create_wapiti_data(fname, tagged_data_iter, we, include_labels=True):\n",
      "    with codecs.open(fname, 'w', encoding='utf8') as f:            \n",
      "        for seq in iter_wapiti_sequences(tagged_data_iter, we, include_labels):\n",
      "            f.write(seq)\n",
      "            f.write('\\n\\n')\n",
      "            "
     ],
     "language": "python",
     "metadata": {},
     "outputs": [],
     "prompt_number": 48
    },
    {
     "cell_type": "code",
     "collapsed": false,
     "input": [
      "corpus_paths = [\n",
      "    '../webstruct_data/corpus/ie/annotated/',\n",
      "]\n",
      "\n",
      "data = list(itertools.chain(*map(tagged_data, corpus_paths)))\n",
      "print len(data)\n",
      "\n",
      "random.shuffle(data)\n",
      "train, dev = data[:80], data[80:]\n",
      "\n",
      "print(len(train), len(dev))\n",
      "\n",
      "we = fit_wapiti_encoder(train)\n",
      "\n",
      "create_wapiti_data('ie_addr_train.txt', train, we=we)\n",
      "create_wapiti_data('ie_addr_test.txt', dev, we=we)\n",
      "\n",
      "from sklearn.externals.joblib import dump\n",
      "dump(we, 'ie-address-parser-wfe.joblib', compress=1)\n",
      "dump(fe, 'ie-address-parser-fe.joblib', compress=1)"
     ],
     "language": "python",
     "metadata": {},
     "outputs": [
      {
       "output_type": "stream",
       "stream": "stdout",
       "text": [
        "103"
       ]
      },
      {
       "output_type": "stream",
       "stream": "stdout",
       "text": [
        "\n",
        "(80, 23)\n"
       ]
      },
      {
       "output_type": "pyout",
       "prompt_number": 65,
       "text": [
        "['ie-address-parser-fe.joblib']"
       ]
      }
     ],
     "prompt_number": 65
    },
    {
     "cell_type": "code",
     "collapsed": false,
     "input": [
      "template = '''\n",
      "# Label unigram & bigram\n",
      "*\n",
      "\n",
      "# Nearby token unigrams (lower)\n",
      "u-LL:%x[-2,lower]\n",
      "u--L:%x[-1,lower]\n",
      "u--R:%x[ 1,lower]\n",
      "u-RR:%x[ 2,lower]\n",
      "\n",
      "# Nearby token bigrams (lower)\n",
      "u:wrd-2-LL:%x[-2,lower]/%x[-1,lower]\n",
      "u:wrd-2-L:%x[-1,lower]/%x[0,lower]\n",
      "u:wrd-2-R:%x[0,lower]/%x[1,lower]\n",
      "u:wrd-2-RR:%x[1,lower]/%x[2,lower]\n",
      "\n",
      "# Nearby shapes\n",
      "u:shape-L:%x[-1,shape]\n",
      "u:shape-R:%x[1,shape]\n",
      "u:shape-2-L:%x[-1,shape]/%x[0,shape]\n",
      "u:shape-2-R:%x[0,shape]/%x[1,shape]\n",
      "\n",
      "# num patterns\n",
      "u:pattern--L:%x[-1,num_pattern2]\n",
      "u:pattern--R:%x[ 1,num_pattern2]\n",
      "\n",
      "# word/shape\n",
      "u:wrd-2-shape-L:%x[-1,lower]/%x[0,shape]\n",
      "u:wrd-2-shape-R:%x[0,lower]/%x[1,shape]\n",
      "\n",
      "# nearby bold \n",
      "u:inside_bold-2-L:%x[-1,inside_bold_tag]/%x[0,inside_bold_tag]\n",
      "u:inside_bold-2-R:%x[0,inside_bold_tag]/%x[1,inside_bold_tag]\n",
      "\n",
      "# borders\n",
      "u:wrd-border-L:%x[-1,lower]/%x[0,border_at_left]\n",
      "u:wrd-border-R:%x[0,lower]/%x[1,border_at_left]\n",
      "u:wrd-border-RR:%x[0,lower]/%x[2,border_at_left]\n",
      "'''\n",
      "\n",
      "wapiti_template = we.unigram_features_template() + we.prepare_template(template) \n",
      "\n",
      "with codecs.open('ie-address-parser-template.txt', 'w', encoding='utf8') as f:\n",
      "    f.write(wapiti_template)"
     ],
     "language": "python",
     "metadata": {},
     "outputs": [],
     "prompt_number": 72
    },
    {
     "cell_type": "code",
     "collapsed": false,
     "input": [
      "!wapiti train --pattern ie-address-parser-template.txt --algo l-bfgs ie_addr_train.txt ie-address-parser.wapiti --nthread 4 --jobsize 8"
     ],
     "language": "python",
     "metadata": {},
     "outputs": [
      {
       "output_type": "stream",
       "stream": "stdout",
       "text": [
        "* Load patterns\r\n",
        "* Load training data\r\n"
       ]
      },
      {
       "output_type": "stream",
       "stream": "stdout",
       "text": [
        "* Initialize the model\r\n",
        "* Summary\r\n",
        "    nb train:    80\r\n",
        "    nb labels:   3\r\n",
        "    nb blocks:   114057\r\n",
        "    nb features: 523836\r\n",
        "* Train the model with l-bfgs\r\n"
       ]
      },
      {
       "output_type": "stream",
       "stream": "stdout",
       "text": [
        "  [   1] obj=5008.13    act=246701   err= 3.95%/68.75% time=0.20s/0.20s\r\n"
       ]
      },
      {
       "output_type": "stream",
       "stream": "stdout",
       "text": [
        "  [   2] obj=4654.32    act=121080   err= 3.95%/68.75% time=0.12s/0.32s\r\n"
       ]
      },
      {
       "output_type": "stream",
       "stream": "stdout",
       "text": [
        "  [   3] obj=785.00     act=25671    err= 3.24%/72.50% time=0.15s/0.47s\r\n"
       ]
      },
      {
       "output_type": "stream",
       "stream": "stdout",
       "text": [
        "  [   4] obj=558.41     act=29129    err= 2.48%/56.25% time=0.64s/1.11s\r\n"
       ]
      },
      {
       "output_type": "stream",
       "stream": "stdout",
       "text": [
        "  [   5] obj=547.66     act=33671    err= 2.38%/57.50% time=0.47s/1.57s\r\n"
       ]
      },
      {
       "output_type": "stream",
       "stream": "stdout",
       "text": [
        "  [   6] obj=537.82     act=31991    err= 2.35%/56.25% time=0.47s/2.04s\r\n"
       ]
      },
      {
       "output_type": "stream",
       "stream": "stdout",
       "text": [
        "  [   7] obj=536.36     act=33374    err= 2.37%/57.50% time=0.70s/2.75s\r\n"
       ]
      },
      {
       "output_type": "stream",
       "stream": "stdout",
       "text": [
        "  [   8] obj=522.23     act=32549    err= 2.27%/55.00% time=0.20s/2.95s\r\n"
       ]
      },
      {
       "output_type": "stream",
       "stream": "stdout",
       "text": [
        "  [   9] obj=501.85     act=32259    err= 2.25%/53.75% time=0.12s/3.07s\r\n"
       ]
      },
      {
       "output_type": "stream",
       "stream": "stdout",
       "text": [
        "  [  10] obj=450.34     act=29833    err= 1.94%/52.50% time=0.13s/3.19s\r\n"
       ]
      },
      {
       "output_type": "stream",
       "stream": "stdout",
       "text": [
        "  [  11] obj=380.55     act=24860    err= 1.92%/51.25% time=0.12s/3.31s\r\n"
       ]
      },
      {
       "output_type": "stream",
       "stream": "stdout",
       "text": [
        "  [  12] obj=349.15     act=23913    err= 1.53%/41.25% time=0.12s/3.43s\r\n"
       ]
      },
      {
       "output_type": "stream",
       "stream": "stdout",
       "text": [
        "  [  13] obj=326.05     act=24587    err= 1.52%/38.75% time=0.12s/3.55s\r\n"
       ]
      },
      {
       "output_type": "stream",
       "stream": "stdout",
       "text": [
        "  [  14] obj=308.07     act=23974    err= 1.25%/36.25% time=0.12s/3.67s\r\n"
       ]
      },
      {
       "output_type": "stream",
       "stream": "stdout",
       "text": [
        "  [  15] obj=294.86     act=22922    err= 1.63%/45.00% time=0.12s/3.79s\r\n"
       ]
      },
      {
       "output_type": "stream",
       "stream": "stdout",
       "text": [
        "  [  16] obj=274.52     act=19907    err= 0.85%/27.50% time=0.12s/3.91s\r\n"
       ]
      },
      {
       "output_type": "stream",
       "stream": "stdout",
       "text": [
        "  [  17] obj=257.53     act=19572    err= 1.04%/35.00% time=0.12s/4.03s\r\n"
       ]
      },
      {
       "output_type": "stream",
       "stream": "stdout",
       "text": [
        "  [  18] obj=253.72     act=19187    err= 0.94%/32.50% time=0.12s/4.15s\r\n"
       ]
      },
      {
       "output_type": "stream",
       "stream": "stdout",
       "text": [
        "  [  19] obj=246.32     act=18456    err= 0.94%/32.50% time=0.12s/4.27s\r\n"
       ]
      },
      {
       "output_type": "stream",
       "stream": "stdout",
       "text": [
        "  [  20] obj=210.35     act=12784    err= 0.61%/21.25% time=0.12s/4.39s\r\n"
       ]
      },
      {
       "output_type": "stream",
       "stream": "stdout",
       "text": [
        "  [  21] obj=198.21     act=13654    err= 0.66%/27.50% time=0.12s/4.51s\r\n"
       ]
      },
      {
       "output_type": "stream",
       "stream": "stdout",
       "text": [
        "  [  22] obj=192.32     act=13280    err= 0.44%/16.25% time=0.13s/4.64s\r\n"
       ]
      },
      {
       "output_type": "stream",
       "stream": "stdout",
       "text": [
        "  [  23] obj=186.55     act=12686    err= 0.54%/21.25% time=0.13s/4.77s\r\n"
       ]
      },
      {
       "output_type": "stream",
       "stream": "stdout",
       "text": [
        "  [  24] obj=182.80     act=12301    err= 0.30%/12.50% time=0.12s/4.88s\r\n"
       ]
      },
      {
       "output_type": "stream",
       "stream": "stdout",
       "text": [
        "  [  25] obj=177.20     act=12252    err= 0.28%/12.50% time=0.11s/5.00s\r\n"
       ]
      },
      {
       "output_type": "stream",
       "stream": "stdout",
       "text": [
        "  [  26] obj=175.39     act=12040    err= 0.19%/ 8.75% time=0.13s/5.13s\r\n"
       ]
      },
      {
       "output_type": "stream",
       "stream": "stdout",
       "text": [
        "  [  27] obj=171.81     act=11741    err= 0.20%/10.00% time=0.12s/5.25s\r\n"
       ]
      },
      {
       "output_type": "stream",
       "stream": "stdout",
       "text": [
        "  [  28] obj=168.07     act=11051    err= 0.15%/ 7.50% time=0.12s/5.37s\r\n"
       ]
      },
      {
       "output_type": "stream",
       "stream": "stdout",
       "text": [
        "  [  29] obj=162.98     act=10539    err= 0.10%/ 6.25% time=0.12s/5.49s\r\n"
       ]
      },
      {
       "output_type": "stream",
       "stream": "stdout",
       "text": [
        "  [  30] obj=159.66     act=10140    err= 0.11%/ 5.00% time=0.12s/5.61s\r\n"
       ]
      },
      {
       "output_type": "stream",
       "stream": "stdout",
       "text": [
        "  [  31] obj=156.79     act=9942     err= 0.05%/ 3.75% time=0.15s/5.76s\r\n"
       ]
      },
      {
       "output_type": "stream",
       "stream": "stdout",
       "text": [
        "  [  32] obj=153.48     act=9570     err= 0.07%/ 3.75% time=0.14s/5.91s\r\n"
       ]
      },
      {
       "output_type": "stream",
       "stream": "stdout",
       "text": [
        "  [  33] obj=150.33     act=8786     err= 0.21%/ 8.75% time=0.12s/6.03s\r\n"
       ]
      },
      {
       "output_type": "stream",
       "stream": "stdout",
       "text": [
        "  [  34] obj=145.74     act=8503     err= 0.17%/ 7.50% time=0.12s/6.15s\r\n"
       ]
      },
      {
       "output_type": "stream",
       "stream": "stdout",
       "text": [
        "  [  35] obj=143.30     act=7898     err= 0.17%/ 7.50% time=0.12s/6.27s\r\n"
       ]
      },
      {
       "output_type": "stream",
       "stream": "stdout",
       "text": [
        "  [  36] obj=140.29     act=7329     err= 0.14%/ 6.25% time=0.12s/6.39s\r\n"
       ]
      },
      {
       "output_type": "stream",
       "stream": "stdout",
       "text": [
        "  [  37] obj=139.55     act=6209     err= 0.35%/12.50% time=0.12s/6.51s\r\n"
       ]
      },
      {
       "output_type": "stream",
       "stream": "stdout",
       "text": [
        "  [  38] obj=134.11     act=6576     err= 0.07%/ 2.50% time=0.12s/6.63s\r\n"
       ]
      },
      {
       "output_type": "stream",
       "stream": "stdout",
       "text": [
        "  [  39] obj=133.12     act=5951     err= 0.17%/ 6.25% time=0.12s/6.75s\r\n"
       ]
      },
      {
       "output_type": "stream",
       "stream": "stdout",
       "text": [
        "  [  40] obj=131.59     act=5816     err= 0.09%/ 3.75% time=0.12s/6.87s\r\n"
       ]
      },
      {
       "output_type": "stream",
       "stream": "stdout",
       "text": [
        "  [  41] obj=130.63     act=5455     err= 0.10%/ 3.75% time=0.12s/6.99s\r\n"
       ]
      },
      {
       "output_type": "stream",
       "stream": "stdout",
       "text": [
        "  [  42] obj=129.42     act=5318     err= 0.09%/ 3.75% time=0.14s/7.13s\r\n"
       ]
      },
      {
       "output_type": "stream",
       "stream": "stdout",
       "text": [
        "  [  43] obj=128.69     act=5035     err= 0.05%/ 2.50% time=0.13s/7.26s\r\n"
       ]
      },
      {
       "output_type": "stream",
       "stream": "stdout",
       "text": [
        "  [  44] obj=127.49     act=4805     err= 0.06%/ 2.50% time=0.16s/7.42s\r\n"
       ]
      },
      {
       "output_type": "stream",
       "stream": "stdout",
       "text": [
        "  [  45] obj=126.74     act=4651     err= 0.05%/ 2.50% time=0.16s/7.57s\r\n"
       ]
      },
      {
       "output_type": "stream",
       "stream": "stdout",
       "text": [
        "  [  46] obj=125.59     act=4294     err= 0.00%/ 0.00% time=0.13s/7.70s\r\n"
       ]
      },
      {
       "output_type": "stream",
       "stream": "stdout",
       "text": [
        "  [  47] obj=124.67     act=4179     err= 0.02%/ 1.25% time=0.12s/7.82s\r\n"
       ]
      },
      {
       "output_type": "stream",
       "stream": "stdout",
       "text": [
        "  [  48] obj=123.99     act=3986     err= 0.00%/ 0.00% time=0.12s/7.94s\r\n"
       ]
      },
      {
       "output_type": "stream",
       "stream": "stdout",
       "text": [
        "  [  49] obj=123.28     act=3745     err= 0.05%/ 2.50% time=0.12s/8.06s\r\n"
       ]
      },
      {
       "output_type": "stream",
       "stream": "stdout",
       "text": [
        "  [  50] obj=122.71     act=3644     err= 0.00%/ 0.00% time=0.13s/8.19s\r\n"
       ]
      },
      {
       "output_type": "stream",
       "stream": "stdout",
       "text": [
        "  [  51] obj=121.75     act=3495     err= 0.03%/ 1.25% time=0.13s/8.32s\r\n"
       ]
      },
      {
       "output_type": "stream",
       "stream": "stdout",
       "text": [
        "  [  52] obj=121.42     act=3290     err= 0.03%/ 1.25% time=0.12s/8.44s\r\n"
       ]
      },
      {
       "output_type": "stream",
       "stream": "stdout",
       "text": [
        "  [  53] obj=120.34     act=3208     err= 0.03%/ 1.25% time=0.12s/8.56s\r\n"
       ]
      },
      {
       "output_type": "stream",
       "stream": "stdout",
       "text": [
        "  [  54] obj=120.01     act=2899     err= 0.03%/ 1.25% time=0.12s/8.68s\r\n"
       ]
      },
      {
       "output_type": "stream",
       "stream": "stdout",
       "text": [
        "  [  55] obj=119.46     act=2819     err= 0.03%/ 1.25% time=0.12s/8.80s\r\n"
       ]
      },
      {
       "output_type": "stream",
       "stream": "stdout",
       "text": [
        "* Save the model\r\n"
       ]
      },
      {
       "output_type": "stream",
       "stream": "stdout",
       "text": [
        "* Done\r\n"
       ]
      }
     ],
     "prompt_number": 73
    },
    {
     "cell_type": "code",
     "collapsed": false,
     "input": [
      "!wapiti label --model ie-address-parser.wapiti -c ie_addr_test.txt res.txt"
     ],
     "language": "python",
     "metadata": {},
     "outputs": [
      {
       "output_type": "stream",
       "stream": "stdout",
       "text": [
        "* Load model\r\n"
       ]
      },
      {
       "output_type": "stream",
       "stream": "stdout",
       "text": [
        "* Label sequences\r\n"
       ]
      },
      {
       "output_type": "stream",
       "stream": "stdout",
       "text": [
        "    Nb sequences  : 23\r\n",
        "    Token error   :  1.67%\r\n",
        "    Sequence error: 39.13%\r\n",
        "* Per label statistics\r\n",
        "    O       Pr=1.00  Rc=0.99  F1=0.99\r\n",
        "    B-ADDR  Pr=0.70  Rc=0.88  F1=0.78\r\n",
        "    I-ADDR  Pr=0.61  Rc=0.90  F1=0.73\r\n",
        "* Done\r\n"
       ]
      }
     ],
     "prompt_number": 74
    },
    {
     "cell_type": "code",
     "collapsed": false,
     "input": [
      "import wapiti\n",
      "sys.path.insert(0, '../')\n",
      "\n",
      "from sklearn.externals import joblib\n",
      "from urllib2 import urlopen\n",
      "from w3lib.encoding import html_to_unicode\n",
      "from webstruct.wapiti import WapitiChunker\n",
      "\n",
      "feature_extractor = joblib.load('ie-address-parser-fe.joblib')\n",
      "feature_encoder = joblib.load('ie-address-parser-wfe.joblib')\n",
      "wapiti_model = wapiti.Model(model='ie-address-parser.wapiti')\n",
      "ner = WapitiChunker(wapiti_model, feature_encoder, feature_extractor=feature_extractor)"
     ],
     "language": "python",
     "metadata": {},
     "outputs": [],
     "prompt_number": 75
    },
    {
     "cell_type": "code",
     "collapsed": false,
     "input": [
      "url = 'http://www.gillianosullivan.ie/contact.htm'\n",
      "url = 'http://www.imma.ie/en/subnav_91.htm'\n",
      "url = 'http://www.wechrome.com/'\n",
      "html = urlopen(url=url).read()\n",
      "\n",
      "for text, label in ner.transform(html):\n",
      "    if label != 'O':\n",
      "        print label, text\n"
     ],
     "language": "python",
     "metadata": {},
     "outputs": [
      {
       "output_type": "stream",
       "stream": "stdout",
       "text": [
        "ADDR"
       ]
      },
      {
       "output_type": "stream",
       "stream": "stdout",
       "text": [
        " Unit 6 Landys Industrial Estate Knocklyon Road Dublin 16 Ireland\n"
       ]
      }
     ],
     "prompt_number": 76
    },
    {
     "cell_type": "code",
     "collapsed": false,
     "input": [
      "import glob\n",
      "import os\n",
      "\n",
      "def parse_address(html):\n",
      "    r = []\n",
      "    for text, label in ner.transform(html):\n",
      "        if label == 'ADDR':\n",
      "            r.append(text)\n",
      "    return r\n",
      "\n",
      "# test on unseen pages\n",
      "for path in glob.glob('../webstruct_data/corpus/ireland_contact_pages/source/*.html'):\n",
      "    with open(path, 'r') as f:\n",
      "        html = f.read()\n",
      "        try:\n",
      "            r = parse_address(html)\n",
      "            print os.path.split(path)[1], r\n",
      "        except BaseException, e:\n",
      "            pass\n",
      "        "
     ],
     "language": "python",
     "metadata": {},
     "outputs": [
      {
       "output_type": "stream",
       "stream": "stdout",
       "text": [
        "1.html [u'UCD Science Centre South University College Dublin Belfield Dublin 4 Ireland']\n",
        "10.html"
       ]
      },
      {
       "output_type": "stream",
       "stream": "stdout",
       "text": [
        " ['The Private Security Authority Davis Street Tipperary Town', 'The Private Security Authority Davis Street Tipperary Town']\n",
        "100.html"
       ]
      },
      {
       "output_type": "stream",
       "stream": "stdout",
       "text": [
        " ['P.O. Box 10763 Dublin 1 Ireland']\n",
        "102.html"
       ]
      },
      {
       "output_type": "stream",
       "stream": "stdout",
       "text": [
        " [u'Nine James Terrace Malahide Co. Dublin']\n",
        "104.html"
       ]
      },
      {
       "output_type": "stream",
       "stream": "stdout",
       "text": [
        " []\n",
        "105.html"
       ]
      },
      {
       "output_type": "stream",
       "stream": "stdout",
       "text": [
        " []\n",
        "109.html"
       ]
      },
      {
       "output_type": "stream",
       "stream": "stdout",
       "text": [
        " ['Broadway Pizza Parlor Unit 6 City Centre North Dublin Area Code : Dublin 1']\n",
        "11.html"
       ]
      },
      {
       "output_type": "stream",
       "stream": "stdout",
       "text": [
        " []\n",
        "115.html"
       ]
      },
      {
       "output_type": "stream",
       "stream": "stdout",
       "text": [
        " [u'Sustainable Energy Authority of Ireland Wilton Park House Wilton Place Dublin 2.']\n",
        "120.html"
       ]
      },
      {
       "output_type": "stream",
       "stream": "stdout",
       "text": [
        " ['Kildare Street Dublin 2', u'Carmelite Community Centre Aungier Street Monday @ 4pm St Andrews Resource Centre Pearse Street Thursday @ 7pm Ringsend & Irishtown Community Centre Thorncastle Street Thursday @ 8pm Kevin Humphreys Labour Party D\\xe1il Eireann ( Lenister House ) Kildare Street Dublin 2']\n",
        "121.html"
       ]
      },
      {
       "output_type": "stream",
       "stream": "stdout",
       "text": [
        " [\"Harold's Cross Dublin 6W Blackrock Hospice Sweetman's Avenue Blackrock Co. Dublin\"]\n",
        "123.html"
       ]
      },
      {
       "output_type": "stream",
       "stream": "stdout",
       "text": [
        " ['Unit 3 Mill St']\n",
        "126.html"
       ]
      },
      {
       "output_type": "stream",
       "stream": "stdout",
       "text": [
        " ['Spanish Arch Hotel Quay Street Galway Ireland', u'Copyright \\xa9 2013 Spanish Arch Hotel Quay Street Galway Ireland']\n",
        "128.html"
       ]
      },
      {
       "output_type": "stream",
       "stream": "stdout",
       "text": [
        " ['Student Travelcard 15 Porters Avenue Coolmine Industrial Estate Clonsilla Dublin 15']\n",
        "129.html"
       ]
      },
      {
       "output_type": "stream",
       "stream": "stdout",
       "text": [
        " ['Ballybrit Business Park Ballybrit Galway']\n",
        "131.html"
       ]
      },
      {
       "output_type": "stream",
       "stream": "stdout",
       "text": [
        " []\n",
        "132.html"
       ]
      },
      {
       "output_type": "stream",
       "stream": "stdout",
       "text": [
        " ['28 Lower Drumcondra Road Dublin 9']\n",
        "147.html"
       ]
      },
      {
       "output_type": "stream",
       "stream": "stdout",
       "text": [
        " [u'Irish Tax Institute South Block Longboat Quay Grand Canal Harbour Dublin 2 Ireland']\n",
        "150.html"
       ]
      },
      {
       "output_type": "stream",
       "stream": "stdout",
       "text": [
        " [\"The McKeown Library St. Angela's College Lough Gill Sligo Ireland\"]\n",
        "152.html"
       ]
      },
      {
       "output_type": "stream",
       "stream": "stdout",
       "text": [
        " [\"Ground Floor George's Quay House 43 Townsend St Dublin 2 Ireland\"]\n",
        "153.html"
       ]
      },
      {
       "output_type": "stream",
       "stream": "stdout",
       "text": [
        " ['Davis Lane Mallow Co. Cork']\n",
        "155.html"
       ]
      },
      {
       "output_type": "stream",
       "stream": "stdout",
       "text": [
        " ['Arva Garda Station Main Street R203 Arva Co. Cavan']\n",
        "156.html"
       ]
      },
      {
       "output_type": "stream",
       "stream": "stdout",
       "text": [
        " []\n",
        "158.html"
       ]
      },
      {
       "output_type": "stream",
       "stream": "stdout",
       "text": [
        " ['Fallons Restaurant & Bar Main St. Kilcullen Co. Kildare Ireland']\n",
        "165.html"
       ]
      },
      {
       "output_type": "stream",
       "stream": "stdout",
       "text": [
        " ['Workplace Options 3020 Highwoods Boulevard Raleigh North Carolina 27604', 'Workplace Options Block 6 Belfield Office Park Clonskeagh Dublin 4']\n",
        "171.html"
       ]
      },
      {
       "output_type": "stream",
       "stream": "stdout",
       "text": [
        " [u'George\\u2019s Place Dun Laoghaire Co. Dublin . Ireland']\n",
        "174.html"
       ]
      },
      {
       "output_type": "stream",
       "stream": "stdout",
       "text": [
        " ['Clonsilla East Gorey Co. Wexford']\n",
        "178.html"
       ]
      },
      {
       "output_type": "stream",
       "stream": "stdout",
       "text": [
        " ['Ditchley House Little Island Cork Ireland']\n",
        "179.html"
       ]
      },
      {
       "output_type": "stream",
       "stream": "stdout",
       "text": [
        " ['Talbot Street Dublin 1', u'North Circular Road Dublin 7 \\xe2\\x82\\xac 10 FREE North City Centre Dublin 7 \\xe2\\x82\\xac 10 FREE North Strand Dublin 3']\n",
        "182.html"
       ]
      },
      {
       "output_type": "stream",
       "stream": "stdout",
       "text": [
        " ['Unit 11 Kilbarrack Shopping Centre Kilbarrack Dublin 5']\n",
        "185.html"
       ]
      },
      {
       "output_type": "stream",
       "stream": "stdout",
       "text": [
        " []\n",
        "186.html"
       ]
      },
      {
       "output_type": "stream",
       "stream": "stdout",
       "text": [
        " ['The Bungalow Block 13 Douglas Road Cork Republic of Ireland']\n",
        "189.html"
       ]
      },
      {
       "output_type": "stream",
       "stream": "stdout",
       "text": [
        " ['Winetavern Street Dublin 8', 'ASTI Thomas MacDonagh House Winetavern Street Dublin 8']\n",
        "192.html"
       ]
      },
      {
       "output_type": "stream",
       "stream": "stdout",
       "text": [
        " ['Longford Leader Editor Leader House Dublin Road']\n",
        "193.html"
       ]
      },
      {
       "output_type": "stream",
       "stream": "stdout",
       "text": [
        " []\n",
        "194.html"
       ]
      },
      {
       "output_type": "stream",
       "stream": "stdout",
       "text": [
        " ['Number 58 Upper Grand Canal Street Dublin 4']\n",
        "195.html"
       ]
      },
      {
       "output_type": "stream",
       "stream": "stdout",
       "text": [
        " ['Unit 3D Sandyford Industrial Estate Dublin 18']\n",
        "204.html"
       ]
      },
      {
       "output_type": "stream",
       "stream": "stdout",
       "text": [
        " [u'Radiological Protection Institute of Ireland 3 Clonskeagh Square Dublin 14 Ireland']\n",
        "220.html"
       ]
      },
      {
       "output_type": "stream",
       "stream": "stdout",
       "text": [
        " ['University of Limerick Limerick Ireland', 'Press Officer Sheena Doyle Corporate Affairs University of Limerick Limerick Ireland']\n",
        "224.html"
       ]
      },
      {
       "output_type": "stream",
       "stream": "stdout",
       "text": [
        " [u'Mary Raftery Journalism Fund c/o DHR Communications 1st Floor 30 \\u2013 31 Francis Street Dublin 8', '1st Floor 30 - 31 Francis Street Dublin 8']\n",
        "228.html"
       ]
      },
      {
       "output_type": "stream",
       "stream": "stdout",
       "text": [
        " ['Belfield Innovation Park University College Dublin Belfield Dublin 4 Ireland', 'Belfield Innovation Park University College Dublin Belfield Dublin 4 Ireland']\n",
        "229.html"
       ]
      },
      {
       "output_type": "stream",
       "stream": "stdout",
       "text": [
        " ['Lero - the Irish Software Engineering Research Centre Tierney Building University of Limerick Ireland']\n",
        "231.html"
       ]
      },
      {
       "output_type": "stream",
       "stream": "stdout",
       "text": [
        " ['51 Upper Georges Street Dun Laoghaire Co.Dublin']\n",
        "240.html"
       ]
      },
      {
       "output_type": "stream",
       "stream": "stdout",
       "text": [
        " []\n",
        "242.html"
       ]
      },
      {
       "output_type": "stream",
       "stream": "stdout",
       "text": [
        " ['Free Legal Advice Centres 13 Lower Dorset Street Dublin 1 Ireland', u'13 Lower Dorset Street Dublin 1 Ireland']\n",
        "244.html"
       ]
      },
      {
       "output_type": "stream",
       "stream": "stdout",
       "text": [
        " ['31 & 32 Lower Pembroke Street Dublin 2']\n",
        "246.html"
       ]
      },
      {
       "output_type": "stream",
       "stream": "stdout",
       "text": [
        " ['Northgate Street Athlone Co Westmeath Ireland', u'Northgate Street - Co. Westmeath Co. Westmeath']\n",
        "250.html"
       ]
      },
      {
       "output_type": "stream",
       "stream": "stdout",
       "text": [
        " ['Unit 3 Mill St Maynooth Co Kildare']\n",
        "251.html"
       ]
      },
      {
       "output_type": "stream",
       "stream": "stdout",
       "text": [
        " []\n",
        "253.html"
       ]
      },
      {
       "output_type": "stream",
       "stream": "stdout",
       "text": [
        " []\n",
        "254.html ['Children First 6 Northbrook Road Dublin 6']\n",
        "258.html"
       ]
      },
      {
       "output_type": "stream",
       "stream": "stdout",
       "text": [
        " [u'Greenhills Retail Park Greenhills Road Tallaght Dublin 24.']\n",
        "26.html"
       ]
      },
      {
       "output_type": "stream",
       "stream": "stdout",
       "text": [
        " ['Cavan County Enterprise Board Cavan Innovation and Technology Centre Dublin Road Cavan']\n",
        "273.html"
       ]
      },
      {
       "output_type": "stream",
       "stream": "stdout",
       "text": [
        " ['Mary Immaculate College South Circular Road Limerick Ireland']\n",
        "294.html"
       ]
      },
      {
       "output_type": "stream",
       "stream": "stdout",
       "text": [
        " ['143-149 Rathmines Road Dublin 6']\n",
        "301.html ['Barnakyle Logistics Centre Raheen Business Park Raheen Limerick']\n",
        "302.html"
       ]
      },
      {
       "output_type": "stream",
       "stream": "stdout",
       "text": [
        " []\n",
        "309.html"
       ]
      },
      {
       "output_type": "stream",
       "stream": "stdout",
       "text": [
        " ['PO Box 8942 Malahide Co. Dublin', u'Management Suite GPO O\\u2019Connell Street Dublin 1']\n",
        "31.html"
       ]
      },
      {
       "output_type": "stream",
       "stream": "stdout",
       "text": [
        " ['The O2 North Wall Quay Dublin 1 Republic Of Ireland']\n",
        "310.html"
       ]
      },
      {
       "output_type": "stream",
       "stream": "stdout",
       "text": [
        " ['Bates Restaurant 3 Market Street Market Square Rathdrum Co. Wicklow']\n",
        "313.html"
       ]
      },
      {
       "output_type": "stream",
       "stream": "stdout",
       "text": [
        " ['1st Floor Kinvara House Dublin Hill Cork']\n",
        "315.html"
       ]
      },
      {
       "output_type": "stream",
       "stream": "stdout",
       "text": [
        " ['48 Upper Abbeygate Street Galway Ireland']\n",
        "316.html"
       ]
      },
      {
       "output_type": "stream",
       "stream": "stdout",
       "text": [
        " ['Drumcor Loughduff Co. Cavan Ireland', 'Drumcor Loughduff Co. Cavan Ireland']\n",
        "317.html"
       ]
      },
      {
       "output_type": "stream",
       "stream": "stdout",
       "text": [
        " ['13/14 Aungier Street Dublin 2 Ireland', 'International Department Dublin Business School 13/14 Aungier Street Dublin 2 Ireland', '13/14 Aungier Street Dublin 2 Ireland']\n",
        "320.html"
       ]
      },
      {
       "output_type": "stream",
       "stream": "stdout",
       "text": [
        " ['21 Stoneybatter Dublin 7', 'Private Residential Tenancies Board Canal House Canal Road Dublin 6']\n",
        "323.html"
       ]
      },
      {
       "output_type": "stream",
       "stream": "stdout",
       "text": [
        " ['Leinster House Kildare Street Dublin 2']\n",
        "329.html"
       ]
      },
      {
       "output_type": "stream",
       "stream": "stdout",
       "text": [
        " ['Wilson Hartnell Public Relations 6 Ely Place Dublin 2']\n",
        "332.html"
       ]
      },
      {
       "output_type": "stream",
       "stream": "stdout",
       "text": [
        " ['Ambassador Restaurant 3 Cook Street Cork City Ireland']\n",
        "338.html"
       ]
      },
      {
       "output_type": "stream",
       "stream": "stdout",
       "text": [
        " [\"Citizens Information Board Ground Floor George's Quay House 43 Townsend St Dublin 2\"]\n",
        "342.html"
       ]
      },
      {
       "output_type": "stream",
       "stream": "stdout",
       "text": [
        " []\n",
        "343.html"
       ]
      },
      {
       "output_type": "stream",
       "stream": "stdout",
       "text": [
        " ['7 Ely Place Dublin 2 IRELAND']\n",
        "349.html"
       ]
      },
      {
       "output_type": "stream",
       "stream": "stdout",
       "text": [
        " []\n",
        "355.html ['Irish Hospice Foundation 32 Nassau Street Dublin 2']\n",
        "356.html"
       ]
      },
      {
       "output_type": "stream",
       "stream": "stdout",
       "text": [
        " []\n",
        "357.html"
       ]
      },
      {
       "output_type": "stream",
       "stream": "stdout",
       "text": [
        " ['Unit 16 Oaklawns Hall Dr. Cullen Road Carlow', 'Unit 16 Oaklawns Hall Dr. Cullen Road Carlow']\n",
        "360.html"
       ]
      },
      {
       "output_type": "stream",
       "stream": "stdout",
       "text": [
        " [u'O\\u2019Brien Road Carlow Ireland']\n",
        "367.html"
       ]
      },
      {
       "output_type": "stream",
       "stream": "stdout",
       "text": [
        " ['Johnstown Business Centre Johnstown House Johnstown Naas Co. Kildare Ireland', 'Johnstown Business Centre Johnstown House Johnstown Naas Co. Kildare Ireland']\n",
        "368.html"
       ]
      },
      {
       "output_type": "stream",
       "stream": "stdout",
       "text": [
        " ['1 Leopardstown Business Park Ballyogan Road Carrickmines Dublin 18 Ireland']\n",
        "372.html"
       ]
      },
      {
       "output_type": "stream",
       "stream": "stdout",
       "text": [
        " ['The Spa Mallow Co Cork Advertising']\n",
        "373.html"
       ]
      },
      {
       "output_type": "stream",
       "stream": "stdout",
       "text": [
        " ['28 Lower Drumcondra Road Dublin 9']\n",
        "375.html"
       ]
      },
      {
       "output_type": "stream",
       "stream": "stdout",
       "text": [
        " ['Travel Department Harmony Court Harmony Row Dublin 2', '78 York Street London']\n",
        "379.html"
       ]
      },
      {
       "output_type": "stream",
       "stream": "stdout",
       "text": [
        " ['Tower House Eglinton Street Galway Ireland']\n",
        "380.html"
       ]
      },
      {
       "output_type": "stream",
       "stream": "stdout",
       "text": [
        " ['Contact Information Arrigle Business Park Ballyhale Co. Kilkenny', 'HOLDEN BROTHERS Arrigle Business Park Ballyhale Co. Kilkenny']\n",
        "385.html"
       ]
      },
      {
       "output_type": "stream",
       "stream": "stdout",
       "text": [
        " ['Red Bull Company Limited 1st Floor Harmony Court Harmony Row 2 Dublin Ireland']\n",
        "387.html"
       ]
      },
      {
       "output_type": "stream",
       "stream": "stdout",
       "text": [
        " ['3 Clonskeagh Square Dublin 14 Ireland']\n",
        "399.html"
       ]
      },
      {
       "output_type": "stream",
       "stream": "stdout",
       "text": [
        " ['Father Mathew Hall Father Mathew Street Cork', 'Father Mathew Hall Father Mathew Street Cork']\n",
        "4.html"
       ]
      },
      {
       "output_type": "stream",
       "stream": "stdout",
       "text": [
        " ['Contact Us Dublin Region Oxigen Environmental Merrywell Industrial Park Ballymount Road Dublin 22', '33 North Main Street Naas Co. Kildare', 'Oxigen Environmental Cavan Waste Disposal Killygarry Industrial Park Dublin Road Cavan', 'Oxigen Environmental First Floor Block 4 Quayside Business Park Mill Street Dundalk Co. Louth']\n",
        "400.html"
       ]
      },
      {
       "output_type": "stream",
       "stream": "stdout",
       "text": [
        " ['Durrow Communications 63 Deerpark Road Mount Merrion Co Dublin']\n",
        "403.html"
       ]
      },
      {
       "output_type": "stream",
       "stream": "stdout",
       "text": [
        " ['Newry Street Carlingford Co. Louth / Ireland']\n",
        "41.html"
       ]
      },
      {
       "output_type": "stream",
       "stream": "stdout",
       "text": [
        " []\n",
        "411.html"
       ]
      },
      {
       "output_type": "stream",
       "stream": "stdout",
       "text": [
        " ['Yeats House Barrack Square Ballincollig County Cork Ireland', 'Yeats House Barrack Square Ballincollig Co. Cork Ireland']\n",
        "413.html"
       ]
      },
      {
       "output_type": "stream",
       "stream": "stdout",
       "text": [
        " ['Marconi House Digges Lane Dublin 2', u'Programme Director Phantom 105.2 Marconi House Digges Lane Dublin 2.']\n",
        "417.html"
       ]
      },
      {
       "output_type": "stream",
       "stream": "stdout",
       "text": [
        " []\n",
        "418.html"
       ]
      },
      {
       "output_type": "stream",
       "stream": "stdout",
       "text": [
        " [\"St. Mary's Church The Mall Westport Co. Mayo\"]\n",
        "423.html"
       ]
      },
      {
       "output_type": "stream",
       "stream": "stdout",
       "text": [
        " []\n",
        "427.html"
       ]
      },
      {
       "output_type": "stream",
       "stream": "stdout",
       "text": [
        " ['Unit 4c Elmfiled Court Ninth Lock Road Clondalkin Dublin 22']\n",
        "43.html []\n",
        "430.html"
       ]
      },
      {
       "output_type": "stream",
       "stream": "stdout",
       "text": [
        " ['Royal Dublin Society Anglesea Road Ballsbridge Dublin 4']\n",
        "435.html ['51 Shelbourne Road Ballsbridge Dublin 4']\n",
        "437.html"
       ]
      },
      {
       "output_type": "stream",
       "stream": "stdout",
       "text": [
        " []\n",
        "47.html ['38 Castle Park Monkstown Co Dublin Ireland']\n",
        "48.html"
       ]
      },
      {
       "output_type": "stream",
       "stream": "stdout",
       "text": [
        " ['Unit 3 Village Court Lucan Co. Dublin']\n",
        "52.html"
       ]
      },
      {
       "output_type": "stream",
       "stream": "stdout",
       "text": [
        " [\"Women's Aid 5 Wilton Place Dublin 2\", '5 Wilton Place Dublin 2']\n",
        "54.html"
       ]
      },
      {
       "output_type": "stream",
       "stream": "stdout",
       "text": [
        " []\n",
        "55.html"
       ]
      },
      {
       "output_type": "stream",
       "stream": "stdout",
       "text": [
        " ['The Malthouse Design Centre 537 North Circular Road Dublin 1 Ireland']\n",
        "56.html"
       ]
      },
      {
       "output_type": "stream",
       "stream": "stdout",
       "text": [
        " ['Chapel View Donabate Co. Dublin']\n",
        "57.html"
       ]
      },
      {
       "output_type": "stream",
       "stream": "stdout",
       "text": [
        " ['Food Safety Authority of Ireland Abbey Court Lower Abbey Street Dublin 1', 'Abbey Court Lower Abbey Street Dublin 1', 'Abbey Court Lower Abbey Street Dublin 1']\n",
        "58.html"
       ]
      },
      {
       "output_type": "stream",
       "stream": "stdout",
       "text": [
        " ['Plaza 256 Blanchardstown Corporate Business Park 2 Ballycoolin Dublin 15']\n",
        "59.html"
       ]
      },
      {
       "output_type": "stream",
       "stream": "stdout",
       "text": [
        " []\n",
        "61.html"
       ]
      },
      {
       "output_type": "stream",
       "stream": "stdout",
       "text": [
        " ['China Sichuan Restaurant The Forum Ballymoss Road Sandyford Ind. Est. Dublin 18']\n",
        "63.html"
       ]
      },
      {
       "output_type": "stream",
       "stream": "stdout",
       "text": [
        " ['21 Stoneybatter Dublin 7 Ireland']\n",
        "65.html"
       ]
      },
      {
       "output_type": "stream",
       "stream": "stdout",
       "text": [
        " [\"Blackthorn Business Park Coe's Road Dundalk Co.Louth\", \"O'Callaghan Insurances Blackthorn Business Park Coe's Road Dundalk Co.Louth Ireland\"]\n",
        "73.html"
       ]
      },
      {
       "output_type": "stream",
       "stream": "stdout",
       "text": [
        " ['Lapps Quay Co. Cork . Ireland']\n",
        "74.html"
       ]
      },
      {
       "output_type": "stream",
       "stream": "stdout",
       "text": [
        " ['National Consumer Agency 4 Harcourt Road Dublin 2']\n",
        "76.html"
       ]
      },
      {
       "output_type": "stream",
       "stream": "stdout",
       "text": [
        " ['17 Ely Place Dublin 2 Ireland', '17 Ely Place Dublin 2 Ireland']\n",
        "78.html"
       ]
      },
      {
       "output_type": "stream",
       "stream": "stdout",
       "text": [
        " ['Coolatore House Rosemount Westmeath Ireland', u'Coolatore House Rosemount Co. Westmeath']\n",
        "8.html"
       ]
      },
      {
       "output_type": "stream",
       "stream": "stdout",
       "text": [
        " ['Unit 19 Northwood Court Northwood Business Campus Santry Dublin 9 Ireland']\n",
        "80.html"
       ]
      },
      {
       "output_type": "stream",
       "stream": "stdout",
       "text": [
        " []\n",
        "81.html"
       ]
      },
      {
       "output_type": "stream",
       "stream": "stdout",
       "text": [
        " []\n",
        "82.html"
       ]
      },
      {
       "output_type": "stream",
       "stream": "stdout",
       "text": [
        " ['Strand Road Bray Co. Wicklow Ireland']\n",
        "84.html"
       ]
      },
      {
       "output_type": "stream",
       "stream": "stdout",
       "text": [
        " []\n",
        "87.html"
       ]
      },
      {
       "output_type": "stream",
       "stream": "stdout",
       "text": [
        " ['Model Farm Road Bishopstown Model Farm Rd Co. Cork']\n",
        "88.html ['Biosciences Institute University College Cork College Road Cork Ireland']\n",
        "89.html"
       ]
      },
      {
       "output_type": "stream",
       "stream": "stdout",
       "text": [
        " ['Allianz Direct Division PO Box 48 48 Freepost Dublin 4', 'The Financial Services Ombudsman 3rd Floor Lincoln House Lincoln Place Dublin 2', 'Allianz House Elmpark Merrion Road Dublin 4 Ireland']\n",
        "9.html ['Research & Engineering Building Dublin City University Glasnevin Dublin 9 Ireland']\n",
        "90.html"
       ]
      },
      {
       "output_type": "stream",
       "stream": "stdout",
       "text": [
        " ['Derryolam House Shercock Road Carrickmacross Co. Monaghan Ireland']\n",
        "95.html"
       ]
      },
      {
       "output_type": "stream",
       "stream": "stdout",
       "text": [
        " []\n",
        "96.html"
       ]
      },
      {
       "output_type": "stream",
       "stream": "stdout",
       "text": [
        " ['Postal Address One Direct One House Athlone Business Park Athlone Co. Westmeath']\n",
        "97.html"
       ]
      },
      {
       "output_type": "stream",
       "stream": "stdout",
       "text": [
        " [u'2nd Floor \\xc1ras Treasa Clarendon St . Dublin 2']\n",
        "98.html"
       ]
      },
      {
       "output_type": "stream",
       "stream": "stdout",
       "text": [
        " ['Unit 5 Charlesland Centre Greystones Wicklow']\n"
       ]
      }
     ],
     "prompt_number": 77
    },
    {
     "cell_type": "code",
     "collapsed": false,
     "input": [],
     "language": "python",
     "metadata": {},
     "outputs": []
    }
   ],
   "metadata": {}
  }
 ]
}