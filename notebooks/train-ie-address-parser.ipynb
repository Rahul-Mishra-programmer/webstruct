{
 "metadata": {
  "name": "train-ie-address-parser"
 },
 "nbformat": 3,
 "nbformat_minor": 0,
 "worksheets": [
  {
   "cells": [
    {
     "cell_type": "code",
     "collapsed": false,
     "input": [
      "import os\n",
      "import sys\n",
      "import re\n",
      "import codecs\n",
      "import random\n",
      "import itertools\n",
      "\n",
      "sys.path.insert(0, '../')\n",
      "\n",
      "import wapiti\n",
      "from webstruct.wapiti import WapitiFeatureEncoder\n",
      "from webstruct.feature_extraction import HtmlFeaturesExtractor\n",
      "from webstruct.features import DEFAULT\n",
      "\n",
      "def tagged_data(folder):\n",
      "    for fname in os.listdir(folder):\n",
      "        path = os.path.join(folder, fname)\n",
      "        try:\n",
      "            with codecs.open(path, 'r', encoding='utf8') as f:\n",
      "                yield path, f.read()\n",
      "        except UnicodeDecodeError:\n",
      "            print 'unicode decode error', path\n",
      "            \n",
      "fe = HtmlFeaturesExtractor({'addr'}, DEFAULT)\n",
      "\n",
      "def fit_wapiti_encoder(tagged_data_iter):\n",
      "    we = WapitiFeatureEncoder(['token', 'lower'])    \n",
      "    for path, html in tagged_data_iter:\n",
      "        try:\n",
      "            features, labels = fe.fit_transform(html, encoding='utf8')\n",
      "            we.partial_fit(features)\n",
      "        except Exception as e:\n",
      "            print(\"error decoding %s:\\n%s\" % (path, e))\n",
      "    return we\n",
      "\n",
      "\n",
      "def to_wapiti_seq(features, labels, include_labels=True):\n",
      "    lines = []\n",
      "    for line, label in zip(we.transform(features), labels):\n",
      "        if include_labels:\n",
      "            lines.append(\"%s %s\" % (line, label))\n",
      "        else:\n",
      "            lines.append(line)\n",
      "    return '\\n'.join(lines)\n",
      "    \n",
      "\n",
      "def iter_wapiti_sequences(tagged_data_iter, we, include_labels=True):\n",
      "    \n",
      "    for path, html in tagged_data_iter:\n",
      "        try:\n",
      "            features, labels = fe.fit_transform(html, encoding='utf8')\n",
      "        except AssertionError as e:\n",
      "            print(\"error decoding %s:\\n%s\" % (path, e))\n",
      "        else:\n",
      "            yield to_wapiti_seq(features, labels, include_labels)\n",
      "        \n",
      "    \n",
      "def create_wapiti_data(fname, tagged_data_iter, we, include_labels=True):\n",
      "    with codecs.open(fname, 'w', encoding='utf8') as f:            \n",
      "        for seq in iter_wapiti_sequences(tagged_data_iter, we, include_labels):\n",
      "            f.write(seq)\n",
      "            f.write('\\n\\n')\n",
      "            "
     ],
     "language": "python",
     "metadata": {},
     "outputs": [],
     "prompt_number": 1
    },
    {
     "cell_type": "code",
     "collapsed": false,
     "input": [
      "corpus_paths = [\n",
      "    '../webstruct_data/corpus/ie/annotated/',\n",
      "]\n",
      "\n",
      "data = list(itertools.chain(*map(tagged_data, corpus_paths)))\n",
      "print len(data)\n",
      "\n",
      "random.shuffle(data)\n",
      "train, dev = data[:80], data[80:]\n",
      "\n",
      "print(len(train), len(dev))\n",
      "\n",
      "we = fit_wapiti_encoder(train)\n",
      "\n",
      "create_wapiti_data('ie_addr_train.txt', train, we=we)\n",
      "create_wapiti_data('ie_addr_test.txt', dev, we=we)\n",
      "\n",
      "from sklearn.externals.joblib import dump\n",
      "dump(we, 'ie-address-parser-wfe.joblib', compress=1)\n",
      "dump(fe, 'ie-address-parser-fe.joblib', compress=1)"
     ],
     "language": "python",
     "metadata": {},
     "outputs": [
      {
       "output_type": "stream",
       "stream": "stdout",
       "text": [
        "103\n",
        "(80, 23)\n"
       ]
      },
      {
       "output_type": "pyout",
       "prompt_number": 2,
       "text": [
        "['ie-address-parser-fe.joblib']"
       ]
      }
     ],
     "prompt_number": 2
    },
    {
     "cell_type": "code",
     "collapsed": false,
     "input": [
      "template = '''\n",
      "# Label unigram & bigram\n",
      "*\n",
      "\n",
      "# Nearby token unigrams (lower)\n",
      "u-LL:%x[-2,lower]\n",
      "u--L:%x[-1,lower]\n",
      "u--R:%x[ 1,lower]\n",
      "u-RR:%x[ 2,lower]\n",
      "\n",
      "# Nearby token bigrams (lower)\n",
      "u:wrd-2-LL:%x[-2,lower]/%x[-1,lower]\n",
      "u:wrd-2-L:%x[-1,lower]/%x[0,lower]\n",
      "u:wrd-2-R:%x[0,lower]/%x[1,lower]\n",
      "u:wrd-2-RR:%x[1,lower]/%x[2,lower]\n",
      "\n",
      "# Nearby shapes\n",
      "u:shape-L:%x[-1,shape]\n",
      "u:shape-R:%x[1,shape]\n",
      "u:shape-2-L:%x[-1,shape]/%x[0,shape]\n",
      "u:shape-2-R:%x[0,shape]/%x[1,shape]\n",
      "\n",
      "# num patterns\n",
      "u:pattern--L:%x[-1,num_pattern2]\n",
      "u:pattern--R:%x[ 1,num_pattern2]\n",
      "\n",
      "# word/shape\n",
      "u:wrd-2-shape-L:%x[-1,lower]/%x[0,shape]\n",
      "u:wrd-2-shape-R:%x[0,lower]/%x[1,shape]\n",
      "\n",
      "# nearby bold \n",
      "u:inside_bold-2-L:%x[-1,inside_bold_tag]/%x[0,inside_bold_tag]\n",
      "u:inside_bold-2-R:%x[0,inside_bold_tag]/%x[1,inside_bold_tag]\n",
      "\n",
      "# borders\n",
      "u:wrd-border-L:%x[-1,lower]/%x[0,border_at_left]\n",
      "u:wrd-border-R:%x[0,lower]/%x[1,border_at_left]\n",
      "u:wrd-border-RR:%x[0,lower]/%x[2,border_at_left]\n",
      "\n",
      "# number and street\n",
      "u:shape-street-L:%x[-2,shape]/%x[0,common_street_part]\n",
      "'''\n",
      "\n",
      "wapiti_template = we.unigram_features_template() + we.prepare_template(template) \n",
      "\n",
      "with codecs.open('ie-address-parser-template.txt', 'w', encoding='utf8') as f:\n",
      "    f.write(wapiti_template)"
     ],
     "language": "python",
     "metadata": {},
     "outputs": [],
     "prompt_number": 3
    },
    {
     "cell_type": "code",
     "collapsed": false,
     "input": [
      "!wapiti train --pattern ie-address-parser-template.txt --algo l-bfgs ie_addr_train.txt ie-address-parser.wapiti --nthread 4 --jobsize 8"
     ],
     "language": "python",
     "metadata": {},
     "outputs": [
      {
       "output_type": "stream",
       "stream": "stdout",
       "text": [
        "* Load patterns\r\n",
        "* Load training data\r\n"
       ]
      },
      {
       "output_type": "stream",
       "stream": "stdout",
       "text": [
        "* Initialize the model\r\n",
        "* Summary\r\n",
        "    nb train:    80\r\n",
        "    nb labels:   3\r\n",
        "    nb blocks:   117951\r\n",
        "    nb features: 543384\r\n",
        "* Train the model with l-bfgs\r\n"
       ]
      },
      {
       "output_type": "stream",
       "stream": "stdout",
       "text": [
        "  [   1] obj=4659.01    act=252624   err= 3.61%/61.25% time=0.27s/0.27s\r\n"
       ]
      },
      {
       "output_type": "stream",
       "stream": "stdout",
       "text": [
        "  [   2] obj=4353.98    act=121382   err= 3.61%/61.25% time=0.14s/0.41s\r\n"
       ]
      },
      {
       "output_type": "stream",
       "stream": "stdout",
       "text": [
        "  [   3] obj=614.82     act=23964    err= 2.69%/62.50% time=0.13s/0.54s\r\n"
       ]
      },
      {
       "output_type": "stream",
       "stream": "stdout",
       "text": [
        "  [   4] obj=456.97     act=27013    err= 2.09%/53.75% time=0.63s/1.18s\r\n"
       ]
      },
      {
       "output_type": "stream",
       "stream": "stdout",
       "text": [
        "  [   5] obj=449.56     act=30521    err= 2.07%/55.00% time=0.53s/1.70s\r\n"
       ]
      },
      {
       "output_type": "stream",
       "stream": "stdout",
       "text": [
        "  [   6] obj=443.63     act=29593    err= 2.06%/52.50% time=0.51s/2.21s\r\n"
       ]
      },
      {
       "output_type": "stream",
       "stream": "stdout",
       "text": [
        "  [   7] obj=442.17     act=30394    err= 2.05%/55.00% time=0.78s/2.99s\r\n"
       ]
      },
      {
       "output_type": "stream",
       "stream": "stdout",
       "text": [
        "  [   8] obj=438.45     act=29515    err= 1.95%/48.75% time=0.13s/3.12s\r\n"
       ]
      },
      {
       "output_type": "stream",
       "stream": "stdout",
       "text": [
        "  [   9] obj=412.11     act=29885    err= 1.99%/51.25% time=0.13s/3.25s\r\n"
       ]
      },
      {
       "output_type": "stream",
       "stream": "stdout",
       "text": [
        "  [  10] obj=389.31     act=29051    err= 1.83%/45.00% time=0.13s/3.38s\r\n"
       ]
      },
      {
       "output_type": "stream",
       "stream": "stdout",
       "text": [
        "  [  11] obj=328.37     act=23083    err= 1.54%/45.00% time=0.13s/3.51s\r\n"
       ]
      },
      {
       "output_type": "stream",
       "stream": "stdout",
       "text": [
        "  [  12] obj=311.78     act=21298    err= 1.74%/40.00% time=0.14s/3.65s\r\n"
       ]
      },
      {
       "output_type": "stream",
       "stream": "stdout",
       "text": [
        "  [  13] obj=266.17     act=24647    err= 1.01%/36.25% time=0.13s/3.78s\r\n"
       ]
      },
      {
       "output_type": "stream",
       "stream": "stdout",
       "text": [
        "  [  14] obj=257.07     act=22963    err= 0.92%/33.75% time=0.13s/3.91s\r\n"
       ]
      },
      {
       "output_type": "stream",
       "stream": "stdout",
       "text": [
        "  [  15] obj=231.44     act=21928    err= 0.92%/32.50% time=0.13s/4.05s\r\n"
       ]
      },
      {
       "output_type": "stream",
       "stream": "stdout",
       "text": [
        "  [  16] obj=224.22     act=16696    err= 0.87%/27.50% time=0.13s/4.18s\r\n"
       ]
      },
      {
       "output_type": "stream",
       "stream": "stdout",
       "text": [
        "  [  17] obj=190.25     act=17210    err= 0.49%/20.00% time=0.13s/4.31s\r\n"
       ]
      },
      {
       "output_type": "stream",
       "stream": "stdout",
       "text": [
        "  [  18] obj=184.39     act=16160    err= 0.37%/16.25% time=0.13s/4.45s\r\n"
       ]
      },
      {
       "output_type": "stream",
       "stream": "stdout",
       "text": [
        "  [  19] obj=174.83     act=15302    err= 0.40%/17.50% time=0.16s/4.61s\r\n"
       ]
      },
      {
       "output_type": "stream",
       "stream": "stdout",
       "text": [
        "  [  20] obj=162.52     act=14198    err= 0.30%/12.50% time=0.17s/4.78s\r\n"
       ]
      },
      {
       "output_type": "stream",
       "stream": "stdout",
       "text": [
        "  [  21] obj=153.78     act=13164    err= 0.43%/15.00% time=0.14s/4.92s\r\n"
       ]
      },
      {
       "output_type": "stream",
       "stream": "stdout",
       "text": [
        "  [  22] obj=146.82     act=11683    err= 0.22%/ 6.25% time=0.13s/5.05s\r\n"
       ]
      },
      {
       "output_type": "stream",
       "stream": "stdout",
       "text": [
        "  [  23] obj=142.79     act=11216    err= 0.18%/ 6.25% time=0.13s/5.19s\r\n"
       ]
      },
      {
       "output_type": "stream",
       "stream": "stdout",
       "text": [
        "  [  24] obj=138.67     act=10247    err= 0.15%/ 5.00% time=0.13s/5.32s\r\n"
       ]
      },
      {
       "output_type": "stream",
       "stream": "stdout",
       "text": [
        "  [  25] obj=135.49     act=9732     err= 0.24%/ 7.50% time=0.13s/5.45s\r\n"
       ]
      },
      {
       "output_type": "stream",
       "stream": "stdout",
       "text": [
        "  [  26] obj=132.57     act=8771     err= 0.16%/ 5.00% time=0.14s/5.59s\r\n"
       ]
      },
      {
       "output_type": "stream",
       "stream": "stdout",
       "text": [
        "  [  27] obj=128.65     act=8557     err= 0.10%/ 5.00% time=0.14s/5.73s\r\n"
       ]
      },
      {
       "output_type": "stream",
       "stream": "stdout",
       "text": [
        "  [  28] obj=125.27     act=7703     err= 0.06%/ 3.75% time=0.14s/5.87s\r\n"
       ]
      },
      {
       "output_type": "stream",
       "stream": "stdout",
       "text": [
        "  [  29] obj=122.50     act=7341     err= 0.08%/ 5.00% time=0.14s/6.01s\r\n"
       ]
      },
      {
       "output_type": "stream",
       "stream": "stdout",
       "text": [
        "  [  30] obj=120.88     act=7046     err= 0.06%/ 3.75% time=0.13s/6.14s\r\n"
       ]
      },
      {
       "output_type": "stream",
       "stream": "stdout",
       "text": [
        "  [  31] obj=118.47     act=5926     err= 0.11%/ 5.00% time=0.13s/6.28s\r\n"
       ]
      },
      {
       "output_type": "stream",
       "stream": "stdout",
       "text": [
        "  [  32] obj=116.77     act=5793     err= 0.11%/ 5.00% time=0.13s/6.41s\r\n"
       ]
      },
      {
       "output_type": "stream",
       "stream": "stdout",
       "text": [
        "  [  33] obj=116.14     act=5830     err= 0.11%/ 5.00% time=0.13s/6.54s\r\n"
       ]
      },
      {
       "output_type": "stream",
       "stream": "stdout",
       "text": [
        "  [  34] obj=113.76     act=4768     err= 0.06%/ 2.50% time=0.54s/7.08s\r\n"
       ]
      },
      {
       "output_type": "stream",
       "stream": "stdout",
       "text": [
        "  [  35] obj=111.95     act=4477     err= 0.02%/ 1.25% time=0.17s/7.25s\r\n"
       ]
      },
      {
       "output_type": "stream",
       "stream": "stdout",
       "text": [
        "  [  36] obj=110.54     act=4347     err= 0.03%/ 1.25% time=0.13s/7.39s\r\n"
       ]
      },
      {
       "output_type": "stream",
       "stream": "stdout",
       "text": [
        "  [  37] obj=109.80     act=4082     err= 0.06%/ 2.50% time=0.14s/7.52s\r\n"
       ]
      },
      {
       "output_type": "stream",
       "stream": "stdout",
       "text": [
        "  [  38] obj=108.81     act=3933     err= 0.00%/ 0.00% time=0.13s/7.66s\r\n"
       ]
      },
      {
       "output_type": "stream",
       "stream": "stdout",
       "text": [
        "  [  39] obj=108.22     act=3606     err= 0.06%/ 2.50% time=0.14s/7.79s\r\n"
       ]
      },
      {
       "output_type": "stream",
       "stream": "stdout",
       "text": [
        "  [  40] obj=106.46     act=3511     err= 0.00%/ 0.00% time=0.13s/7.93s\r\n"
       ]
      },
      {
       "output_type": "stream",
       "stream": "stdout",
       "text": [
        "  [  41] obj=105.21     act=3246     err= 0.04%/ 1.25% time=0.14s/8.06s\r\n"
       ]
      },
      {
       "output_type": "stream",
       "stream": "stdout",
       "text": [
        "  [  42] obj=104.19     act=3106     err= 0.00%/ 0.00% time=0.14s/8.21s\r\n"
       ]
      },
      {
       "output_type": "stream",
       "stream": "stdout",
       "text": [
        "  [  43] obj=103.74     act=2766     err= 0.04%/ 1.25% time=0.14s/8.34s\r\n"
       ]
      },
      {
       "output_type": "stream",
       "stream": "stdout",
       "text": [
        "  [  44] obj=102.60     act=2800     err= 0.00%/ 0.00% time=0.13s/8.48s\r\n"
       ]
      },
      {
       "output_type": "stream",
       "stream": "stdout",
       "text": [
        "  [  45] obj=101.68     act=2490     err= 0.00%/ 0.00% time=0.13s/8.61s\r\n"
       ]
      },
      {
       "output_type": "stream",
       "stream": "stdout",
       "text": [
        "  [  46] obj=101.24     act=2350     err= 0.00%/ 0.00% time=0.15s/8.75s\r\n"
       ]
      },
      {
       "output_type": "stream",
       "stream": "stdout",
       "text": [
        "  [  47] obj=100.76     act=2272     err= 0.03%/ 1.25% time=0.16s/8.92s\r\n"
       ]
      },
      {
       "output_type": "stream",
       "stream": "stdout",
       "text": [
        "  [  48] obj=100.48     act=2185     err= 0.00%/ 0.00% time=0.16s/9.07s\r\n"
       ]
      },
      {
       "output_type": "stream",
       "stream": "stdout",
       "text": [
        "  [  49] obj=99.85      act=2200     err= 0.00%/ 0.00% time=0.13s/9.20s\r\n",
        "* Save the model\r\n"
       ]
      },
      {
       "output_type": "stream",
       "stream": "stdout",
       "text": [
        "* Done\r\n"
       ]
      }
     ],
     "prompt_number": 4
    },
    {
     "cell_type": "code",
     "collapsed": false,
     "input": [
      "!wapiti label --model ie-address-parser.wapiti -c ie_addr_test.txt res.txt"
     ],
     "language": "python",
     "metadata": {},
     "outputs": [
      {
       "output_type": "stream",
       "stream": "stdout",
       "text": [
        "* Load model\r\n"
       ]
      },
      {
       "output_type": "stream",
       "stream": "stdout",
       "text": [
        "* Label sequences\r\n"
       ]
      },
      {
       "output_type": "stream",
       "stream": "stdout",
       "text": [
        "    Nb sequences  : 23\r\n",
        "    Token error   :  1.92%\r\n",
        "    Sequence error: 39.13%\r\n",
        "* Per label statistics\r\n",
        "    O       Pr=0.98  Rc=1.00  F1=0.99\r\n",
        "    B-ADDR  Pr=0.89  Rc=0.63  F1=0.74\r\n",
        "    I-ADDR  Pr=0.85  Rc=0.67  F1=0.75\r\n",
        "* Done\r\n"
       ]
      }
     ],
     "prompt_number": 5
    },
    {
     "cell_type": "code",
     "collapsed": false,
     "input": [
      "import wapiti\n",
      "sys.path.insert(0, '../')\n",
      "\n",
      "from sklearn.externals import joblib\n",
      "from urllib2 import urlopen\n",
      "from w3lib.encoding import html_to_unicode\n",
      "from webstruct.wapiti import WapitiChunker\n",
      "\n",
      "feature_extractor = joblib.load('ie-address-parser-fe.joblib')\n",
      "feature_encoder = joblib.load('ie-address-parser-wfe.joblib')\n",
      "wapiti_model = wapiti.Model(model='ie-address-parser.wapiti')\n",
      "ner = WapitiChunker(wapiti_model, feature_encoder, feature_extractor=feature_extractor)"
     ],
     "language": "python",
     "metadata": {},
     "outputs": [],
     "prompt_number": 6
    },
    {
     "cell_type": "code",
     "collapsed": false,
     "input": [
      "url = 'http://www.gillianosullivan.ie/contact.htm'\n",
      "url = 'http://www.imma.ie/en/subnav_91.htm'\n",
      "url = 'http://www.wechrome.com/'\n",
      "html = urlopen(url=url).read()\n",
      "\n",
      "for text, label in ner.transform(html):\n",
      "    if label != 'O':\n",
      "        print label, text\n"
     ],
     "language": "python",
     "metadata": {},
     "outputs": [
      {
       "output_type": "stream",
       "stream": "stdout",
       "text": [
        "ADDR"
       ]
      },
      {
       "output_type": "stream",
       "stream": "stdout",
       "text": [
        " Unit 6 Landys Industrial Estate Knocklyon Road Dublin 16 Ireland\n"
       ]
      }
     ],
     "prompt_number": 7
    },
    {
     "cell_type": "code",
     "collapsed": false,
     "input": [
      "import glob\n",
      "import os\n",
      "\n",
      "def parse_address(html):\n",
      "    r = []\n",
      "    for text, label in ner.transform(html):\n",
      "        if label == 'ADDR':\n",
      "            r.append(text)\n",
      "    return r\n",
      "\n",
      "# test on unseen pages\n",
      "for path in glob.glob('../webstruct_data/corpus/ireland_contact_pages/source/*.html'):\n",
      "    with open(path, 'r') as f:\n",
      "        html = f.read()\n",
      "        try:\n",
      "            r = parse_address(html)\n",
      "            print os.path.split(path)[1], r\n",
      "        except BaseException, e:\n",
      "            pass\n",
      "        "
     ],
     "language": "python",
     "metadata": {},
     "outputs": [
      {
       "output_type": "stream",
       "stream": "stdout",
       "text": [
        "1.html [u'UCD Earth Institute UCD Science Centre South University College Dublin Belfield Dublin 4 Ireland']\n",
        "10.html"
       ]
      },
      {
       "output_type": "stream",
       "stream": "stdout",
       "text": [
        " []\n",
        "100.html"
       ]
      },
      {
       "output_type": "stream",
       "stream": "stdout",
       "text": [
        " ['Tickets.ie P.O. Box 10763 Dublin 1 Ireland']\n",
        "102.html"
       ]
      },
      {
       "output_type": "stream",
       "stream": "stdout",
       "text": [
        " []\n",
        "104.html"
       ]
      },
      {
       "output_type": "stream",
       "stream": "stdout",
       "text": [
        " []\n",
        "105.html"
       ]
      },
      {
       "output_type": "stream",
       "stream": "stdout",
       "text": [
        " ['Digges Lane Dublin 2', 'Marconi House Digges Lane Dublin 2']\n",
        "109.html"
       ]
      },
      {
       "output_type": "stream",
       "stream": "stdout",
       "text": [
        " []\n",
        "11.html"
       ]
      },
      {
       "output_type": "stream",
       "stream": "stdout",
       "text": [
        " []\n",
        "115.html"
       ]
      },
      {
       "output_type": "stream",
       "stream": "stdout",
       "text": [
        " [u'Sustainable Energy Authority of Ireland Wilton Park House Wilton Place Dublin 2.']\n",
        "120.html"
       ]
      },
      {
       "output_type": "stream",
       "stream": "stdout",
       "text": [
        " [u'D\\xe1il Eireann ( Lenister House ) Kildare Street Dublin 2']\n",
        "121.html"
       ]
      },
      {
       "output_type": "stream",
       "stream": "stdout",
       "text": [
        " [\"Our Lady's Hospice Harold's Cross Dublin 6W Blackrock Hospice Sweetman's Avenue Blackrock Co. Dublin\"]\n",
        "123.html"
       ]
      },
      {
       "output_type": "stream",
       "stream": "stdout",
       "text": [
        " ['Unit 3 Mill St. Maynooth Kildare']\n",
        "126.html"
       ]
      },
      {
       "output_type": "stream",
       "stream": "stdout",
       "text": [
        " ['Spanish Arch Hotel Quay Street Galway Ireland.', u'Copyright \\xa9 2013 Spanish Arch Hotel Quay Street Galway Ireland']\n",
        "128.html"
       ]
      },
      {
       "output_type": "stream",
       "stream": "stdout",
       "text": [
        " []\n",
        "129.html"
       ]
      },
      {
       "output_type": "stream",
       "stream": "stdout",
       "text": [
        " ['Ballybrit Business Park Ballybrit Galway']\n",
        "131.html"
       ]
      },
      {
       "output_type": "stream",
       "stream": "stdout",
       "text": [
        " []\n",
        "132.html"
       ]
      },
      {
       "output_type": "stream",
       "stream": "stdout",
       "text": [
        " ['28 Lower Drumcondra Road Dublin 9']\n",
        "147.html"
       ]
      },
      {
       "output_type": "stream",
       "stream": "stdout",
       "text": [
        " [u'Irish Tax Institute South Block Longboat Quay Grand Canal Harbour Dublin 2 Ireland']\n",
        "150.html"
       ]
      },
      {
       "output_type": "stream",
       "stream": "stdout",
       "text": [
        " [\"The McKeown Library St. Angela's College Lough Gill Sligo Ireland\"]\n",
        "152.html"
       ]
      },
      {
       "output_type": "stream",
       "stream": "stdout",
       "text": [
        " [\"Ground Floor George's Quay House 43 Townsend St Dublin 2 Ireland\"]\n",
        "153.html ['Davis Lane Mallow Co. Cork']\n",
        "155.html"
       ]
      },
      {
       "output_type": "stream",
       "stream": "stdout",
       "text": [
        " ['Arva Garda Station Main Street R203 Arva Co. Cavan']\n",
        "156.html"
       ]
      },
      {
       "output_type": "stream",
       "stream": "stdout",
       "text": [
        " []\n",
        "158.html"
       ]
      },
      {
       "output_type": "stream",
       "stream": "stdout",
       "text": [
        " ['Fallons Restaurant & Bar Main St. Kilcullen Co. Kildare Ireland']\n",
        "165.html []\n",
        "171.html"
       ]
      },
      {
       "output_type": "stream",
       "stream": "stdout",
       "text": [
        " ['Dun Laoghaire Co. Dublin']\n",
        "174.html"
       ]
      },
      {
       "output_type": "stream",
       "stream": "stdout",
       "text": [
        " []\n",
        "178.html"
       ]
      },
      {
       "output_type": "stream",
       "stream": "stdout",
       "text": [
        " ['Ditchley House Little Island Cork Ireland']\n",
        "179.html"
       ]
      },
      {
       "output_type": "stream",
       "stream": "stdout",
       "text": [
        " []\n",
        "182.html"
       ]
      },
      {
       "output_type": "stream",
       "stream": "stdout",
       "text": [
        " ['Unit 11 Kilbarrack Shopping Centre Kilbarrack Dublin 5']\n",
        "185.html"
       ]
      },
      {
       "output_type": "stream",
       "stream": "stdout",
       "text": [
        " []\n",
        "186.html"
       ]
      },
      {
       "output_type": "stream",
       "stream": "stdout",
       "text": [
        " [\"School of Medicine UCC @ St. Finbarr's Hospital The Bungalow Block 13 Douglas Road Cork Republic of Ireland\"]\n",
        "189.html"
       ]
      },
      {
       "output_type": "stream",
       "stream": "stdout",
       "text": [
        " ['ASTI Thomas MacDonagh House Winetavern Street Dublin 8']\n",
        "192.html"
       ]
      },
      {
       "output_type": "stream",
       "stream": "stdout",
       "text": [
        " ['Editor Leader House Dublin Road Longford']\n",
        "193.html"
       ]
      },
      {
       "output_type": "stream",
       "stream": "stdout",
       "text": [
        " []\n",
        "194.html"
       ]
      },
      {
       "output_type": "stream",
       "stream": "stdout",
       "text": [
        " ['Number 58 Upper Grand Canal Street Dublin 4']\n",
        "195.html"
       ]
      },
      {
       "output_type": "stream",
       "stream": "stdout",
       "text": [
        " ['Unit 3D Sandyford Industrial Estate Dublin 18']\n",
        "204.html"
       ]
      },
      {
       "output_type": "stream",
       "stream": "stdout",
       "text": [
        " [u'3 Clonskeagh Square Dublin 14 Ireland']\n",
        "220.html"
       ]
      },
      {
       "output_type": "stream",
       "stream": "stdout",
       "text": [
        " ['University of Limerick Limerick Ireland']\n",
        "224.html"
       ]
      },
      {
       "output_type": "stream",
       "stream": "stdout",
       "text": [
        " [u'Mary Raftery Journalism Fund c/o DHR Communications 1st Floor 30 \\u2013 31 Francis Street Dublin 8', 'Mary Raftery Journalism Fund c/o DHR Communications 1st Floor 30 - 31 Francis Street Dublin 8']\n",
        "228.html"
       ]
      },
      {
       "output_type": "stream",
       "stream": "stdout",
       "text": [
        " ['College DublinBelfield Dublin 4 Ireland', 'Innovation Park University College Dublin Belfield Dublin 4 Ireland']\n",
        "229.html"
       ]
      },
      {
       "output_type": "stream",
       "stream": "stdout",
       "text": [
        " ['Lero - the Irish Software Engineering Research Centre Tierney Building University of Limerick Ireland']\n",
        "231.html"
       ]
      },
      {
       "output_type": "stream",
       "stream": "stdout",
       "text": [
        " []\n",
        "240.html"
       ]
      },
      {
       "output_type": "stream",
       "stream": "stdout",
       "text": [
        " ['Artane Clontarf Copeland Dollymount Dublin Port Eastwall Fairview IFSC Kilester Marino']\n",
        "242.html"
       ]
      },
      {
       "output_type": "stream",
       "stream": "stdout",
       "text": [
        " ['Free Legal Advice Centres,13 Lower Dorset Street Dublin 1 Ireland']\n",
        "244.html"
       ]
      },
      {
       "output_type": "stream",
       "stream": "stdout",
       "text": [
        " ['31 & 32 Lower Pembroke Street Dublin 2']\n",
        "246.html"
       ]
      },
      {
       "output_type": "stream",
       "stream": "stdout",
       "text": [
        " ['Northgate Street Athlone Co Westmeath Ireland']\n",
        "250.html"
       ]
      },
      {
       "output_type": "stream",
       "stream": "stdout",
       "text": [
        " ['Unit 3 Mill St Maynooth Co Kildare']\n",
        "251.html"
       ]
      },
      {
       "output_type": "stream",
       "stream": "stdout",
       "text": [
        " []\n",
        "253.html"
       ]
      },
      {
       "output_type": "stream",
       "stream": "stdout",
       "text": [
        " []\n",
        "254.html"
       ]
      },
      {
       "output_type": "stream",
       "stream": "stdout",
       "text": [
        " []\n",
        "258.html"
       ]
      },
      {
       "output_type": "stream",
       "stream": "stdout",
       "text": [
        " [u'Greenhills Road Tallaght Dublin 24.']\n",
        "26.html"
       ]
      },
      {
       "output_type": "stream",
       "stream": "stdout",
       "text": [
        " ['Cavan Innovation and Technology Centre Dublin Road']\n",
        "273.html"
       ]
      },
      {
       "output_type": "stream",
       "stream": "stdout",
       "text": [
        " ['South Circular Road Limerick Ireland']\n",
        "294.html"
       ]
      },
      {
       "output_type": "stream",
       "stream": "stdout",
       "text": [
        " []\n",
        "301.html ['Star Elm Frames Ltd. Barnakyle Logistics Centre Raheen Business Park Raheen Limerick']\n",
        "302.html"
       ]
      },
      {
       "output_type": "stream",
       "stream": "stdout",
       "text": [
        " []\n",
        "309.html"
       ]
      },
      {
       "output_type": "stream",
       "stream": "stdout",
       "text": [
        " []\n",
        "31.html"
       ]
      },
      {
       "output_type": "stream",
       "stream": "stdout",
       "text": [
        " ['The O2 North Wall Quay Dublin 1 Republic Of Ireland']\n",
        "310.html"
       ]
      },
      {
       "output_type": "stream",
       "stream": "stdout",
       "text": [
        " []\n",
        "313.html"
       ]
      },
      {
       "output_type": "stream",
       "stream": "stdout",
       "text": [
        " ['1st Floor Kinvara House Dublin Hill Cork']\n",
        "315.html"
       ]
      },
      {
       "output_type": "stream",
       "stream": "stdout",
       "text": [
        " ['Candyland 48 Upper Abbeygate Street Galway Ireland']\n",
        "316.html"
       ]
      },
      {
       "output_type": "stream",
       "stream": "stdout",
       "text": [
        " ['Drumcor Loughduff Co. Cavan Ireland', u'. Drumcor Loughduff Co. Cavan Ireland']\n",
        "317.html"
       ]
      },
      {
       "output_type": "stream",
       "stream": "stdout",
       "text": [
        " ['Dublin Business School 13/14 Aungier Street Dublin 2 Ireland', 'International Department Dublin Business School 13/14 Aungier Street Dublin 2 Ireland', 'Dublin Business School. 13/14 Aungier Street Dublin 2 Ireland']\n",
        "320.html"
       ]
      },
      {
       "output_type": "stream",
       "stream": "stdout",
       "text": [
        " ['Private Residential Tenancies Board Canal House Canal Road Dublin 6.']\n",
        "323.html"
       ]
      },
      {
       "output_type": "stream",
       "stream": "stdout",
       "text": [
        " [u'Leinster House Kildare Street Dublin 2']\n",
        "329.html"
       ]
      },
      {
       "output_type": "stream",
       "stream": "stdout",
       "text": [
        " [u'Wilson Hartnell Public Relations 6 Ely Place Dublin 2.']\n",
        "332.html"
       ]
      },
      {
       "output_type": "stream",
       "stream": "stdout",
       "text": [
        " ['Ambassador Restaurant 3 Cook Street Cork City Ireland']\n",
        "338.html"
       ]
      },
      {
       "output_type": "stream",
       "stream": "stdout",
       "text": [
        " [\"Citizens Information Board Ground Floor George's Quay House 43 Townsend St Dublin 2\"]\n",
        "342.html"
       ]
      },
      {
       "output_type": "stream",
       "stream": "stdout",
       "text": [
        " []\n",
        "343.html"
       ]
      },
      {
       "output_type": "stream",
       "stream": "stdout",
       "text": [
        " []\n",
        "349.html"
       ]
      },
      {
       "output_type": "stream",
       "stream": "stdout",
       "text": [
        " []\n",
        "355.html ['Irish Hospice Foundation 32 Nassau Street Dublin 2']\n",
        "356.html"
       ]
      },
      {
       "output_type": "stream",
       "stream": "stdout",
       "text": [
        " []\n",
        "357.html"
       ]
      },
      {
       "output_type": "stream",
       "stream": "stdout",
       "text": [
        " ['Unit 16 Oaklawns Hall Dr. Cullen Road Carlow', 'Unit 16 Oaklawns Hall Dr. Cullen Road Carlow']\n",
        "360.html"
       ]
      },
      {
       "output_type": "stream",
       "stream": "stdout",
       "text": [
        " []\n",
        "367.html"
       ]
      },
      {
       "output_type": "stream",
       "stream": "stdout",
       "text": [
        " ['Johnstown Business Centre Johnstown House Johnstown Naas Co. Kildare Ireland']\n",
        "368.html"
       ]
      },
      {
       "output_type": "stream",
       "stream": "stdout",
       "text": [
        " ['1 Leopardstown Business Park Ballyogan Road Carrickmines Dublin 18 Ireland']\n",
        "372.html"
       ]
      },
      {
       "output_type": "stream",
       "stream": "stdout",
       "text": [
        " ['The Spa Mallow Co Cork Advertising']\n",
        "373.html"
       ]
      },
      {
       "output_type": "stream",
       "stream": "stdout",
       "text": [
        " ['28 Lower Drumcondra Road Dublin 9']\n",
        "375.html"
       ]
      },
      {
       "output_type": "stream",
       "stream": "stdout",
       "text": [
        " []\n",
        "379.html"
       ]
      },
      {
       "output_type": "stream",
       "stream": "stdout",
       "text": [
        " []\n",
        "380.html"
       ]
      },
      {
       "output_type": "stream",
       "stream": "stdout",
       "text": [
        " ['Arrigle Business Park Ballyhale Co. Kilkenny.', 'HOLDEN BROTHERS Arrigle Business Park Ballyhale Co. Kilkenny']\n",
        "385.html"
       ]
      },
      {
       "output_type": "stream",
       "stream": "stdout",
       "text": [
        " ['1st Floor Harmony Court Harmony Row 2 Dublin Ireland']\n",
        "387.html"
       ]
      },
      {
       "output_type": "stream",
       "stream": "stdout",
       "text": [
        " ['3 Clonskeagh Square Dublin 14 Ireland']\n",
        "399.html"
       ]
      },
      {
       "output_type": "stream",
       "stream": "stdout",
       "text": [
        " ['Father Mathew Hall Father Mathew Street Cork', 'Father Mathew Hall Father Mathew Street Cork']\n",
        "4.html"
       ]
      },
      {
       "output_type": "stream",
       "stream": "stdout",
       "text": [
        " ['Merrywell Industrial Park Ballymount Road Dublin 22', '33 North Main Street Naas Co. Kildare', 'Oxigen Environmental Cavan Waste Disposal Killygarry Industrial Park Dublin Road Cavan', 'First Floor Block 4 Quayside Business Park Mill Street Dundalk Co. Louth']\n",
        "400.html"
       ]
      },
      {
       "output_type": "stream",
       "stream": "stdout",
       "text": [
        " []\n",
        "403.html"
       ]
      },
      {
       "output_type": "stream",
       "stream": "stdout",
       "text": [
        " ['Newry Street Carlingford Co. Louth / Ireland']\n",
        "41.html"
       ]
      },
      {
       "output_type": "stream",
       "stream": "stdout",
       "text": [
        " []\n",
        "411.html"
       ]
      },
      {
       "output_type": "stream",
       "stream": "stdout",
       "text": [
        " ['Yeats House Barrack Square Ballincollig Co. Cork Ireland']\n",
        "413.html"
       ]
      },
      {
       "output_type": "stream",
       "stream": "stdout",
       "text": [
        " []\n",
        "417.html"
       ]
      },
      {
       "output_type": "stream",
       "stream": "stdout",
       "text": [
        " []\n",
        "418.html"
       ]
      },
      {
       "output_type": "stream",
       "stream": "stdout",
       "text": [
        " []\n",
        "423.html"
       ]
      },
      {
       "output_type": "stream",
       "stream": "stdout",
       "text": [
        " []\n",
        "427.html"
       ]
      },
      {
       "output_type": "stream",
       "stream": "stdout",
       "text": [
        " ['Unit 4c Elmfiled Court Ninth Lock Road Clondalkin Dublin 22']\n",
        "43.html []\n",
        "430.html"
       ]
      },
      {
       "output_type": "stream",
       "stream": "stdout",
       "text": [
        " ['Royal Dublin Society Anglesea Road Ballsbridge Dublin 4']\n",
        "435.html"
       ]
      },
      {
       "output_type": "stream",
       "stream": "stdout",
       "text": [
        " ['51 Shelbourne Road Ballsbridge Dublin 4']\n",
        "437.html"
       ]
      },
      {
       "output_type": "stream",
       "stream": "stdout",
       "text": [
        " []\n",
        "47.html ['38 Castle Park Monkstown Co Dublin Ireland']\n",
        "48.html"
       ]
      },
      {
       "output_type": "stream",
       "stream": "stdout",
       "text": [
        " ['Unit 3 Village Court Lucan Co. Dublin']\n",
        "52.html"
       ]
      },
      {
       "output_type": "stream",
       "stream": "stdout",
       "text": [
        " [u'5 Wilton Place Dublin 2']\n",
        "54.html"
       ]
      },
      {
       "output_type": "stream",
       "stream": "stdout",
       "text": [
        " []\n",
        "55.html"
       ]
      },
      {
       "output_type": "stream",
       "stream": "stdout",
       "text": [
        " ['The Malthouse Design Centre 537 North Circular Road Dublin 1 Ireland']\n",
        "56.html"
       ]
      },
      {
       "output_type": "stream",
       "stream": "stdout",
       "text": [
        " []\n",
        "57.html"
       ]
      },
      {
       "output_type": "stream",
       "stream": "stdout",
       "text": [
        " ['Food Safety Authority of Ireland Abbey Court Lower Abbey Street Dublin 1', 'Abbey Court Lower Abbey Street Dublin 1', 'Abbey Court Lower Abbey Street Dublin 1']\n",
        "58.html"
       ]
      },
      {
       "output_type": "stream",
       "stream": "stdout",
       "text": [
        " []\n",
        "59.html"
       ]
      },
      {
       "output_type": "stream",
       "stream": "stdout",
       "text": [
        " []\n",
        "61.html"
       ]
      },
      {
       "output_type": "stream",
       "stream": "stdout",
       "text": [
        " ['China Sichuan Restaurant The Forum Ballymoss Road Sandyford Ind. Est. Dublin 18']\n",
        "63.html"
       ]
      },
      {
       "output_type": "stream",
       "stream": "stdout",
       "text": [
        " ['21 Stoneybatter Dublin 7 Ireland']\n",
        "65.html"
       ]
      },
      {
       "output_type": "stream",
       "stream": "stdout",
       "text": [
        " [\"O'Callaghan Insurances Blackthorn Business Park Coe's Road Dundalk Co.Louth\", \"O'Callaghan Insurances Blackthorn Business Park Coe's Road Dundalk Co.Louth Ireland\"]\n",
        "73.html"
       ]
      },
      {
       "output_type": "stream",
       "stream": "stdout",
       "text": [
        " []\n",
        "74.html"
       ]
      },
      {
       "output_type": "stream",
       "stream": "stdout",
       "text": [
        " []\n",
        "76.html"
       ]
      },
      {
       "output_type": "stream",
       "stream": "stdout",
       "text": [
        " ['17 Ely Place Dublin 2 Ireland', '17 Ely Place Dublin 2 Ireland']\n",
        "78.html"
       ]
      },
      {
       "output_type": "stream",
       "stream": "stdout",
       "text": [
        " [u'Coolatore House Rosemount Co. Westmeath']\n",
        "8.html"
       ]
      },
      {
       "output_type": "stream",
       "stream": "stdout",
       "text": [
        " ['Athletic Association of Ireland Unit 19 Northwood Court Northwood Business Campus Santry Dublin 9 Ireland']\n",
        "80.html"
       ]
      },
      {
       "output_type": "stream",
       "stream": "stdout",
       "text": [
        " []\n",
        "81.html"
       ]
      },
      {
       "output_type": "stream",
       "stream": "stdout",
       "text": [
        " []\n",
        "82.html"
       ]
      },
      {
       "output_type": "stream",
       "stream": "stdout",
       "text": [
        " ['Strand Road Seafront Bray Co. Wicklow']\n",
        "84.html"
       ]
      },
      {
       "output_type": "stream",
       "stream": "stdout",
       "text": [
        " []\n",
        "87.html"
       ]
      },
      {
       "output_type": "stream",
       "stream": "stdout",
       "text": [
        " ['Model Farm Rd Co. Cork']\n",
        "88.html"
       ]
      },
      {
       "output_type": "stream",
       "stream": "stdout",
       "text": [
        " ['University College Cork College Road Cork Ireland']\n",
        "89.html"
       ]
      },
      {
       "output_type": "stream",
       "stream": "stdout",
       "text": [
        " ['The Financial Services Ombudsman3rd Floor Lincoln House Lincoln Place Dublin 2']\n",
        "9.html []\n",
        "90.html"
       ]
      },
      {
       "output_type": "stream",
       "stream": "stdout",
       "text": [
        " ['Derryolam HouseShercock Road Carrickmacross Co. MonaghanIreland']\n",
        "95.html"
       ]
      },
      {
       "output_type": "stream",
       "stream": "stdout",
       "text": [
        " []\n",
        "96.html"
       ]
      },
      {
       "output_type": "stream",
       "stream": "stdout",
       "text": [
        " []\n",
        "97.html"
       ]
      },
      {
       "output_type": "stream",
       "stream": "stdout",
       "text": [
        " []\n",
        "98.html"
       ]
      },
      {
       "output_type": "stream",
       "stream": "stdout",
       "text": [
        " ['Unit 5 Charlesland Centre Greystones Wicklow']\n"
       ]
      }
     ],
     "prompt_number": 8
    },
    {
     "cell_type": "code",
     "collapsed": false,
     "input": [],
     "language": "python",
     "metadata": {},
     "outputs": []
    }
   ],
   "metadata": {}
  }
 ]
}