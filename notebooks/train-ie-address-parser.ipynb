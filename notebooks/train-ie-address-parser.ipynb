{
 "metadata": {
  "name": "train-ie-address-parser"
 },
 "nbformat": 3,
 "nbformat_minor": 0,
 "worksheets": [
  {
   "cells": [
    {
     "cell_type": "code",
     "collapsed": false,
     "input": [
      "import os\n",
      "import sys\n",
      "import re\n",
      "import codecs\n",
      "import random\n",
      "import itertools\n",
      "\n",
      "sys.path.insert(0, '../')\n",
      "\n",
      "import wapiti\n",
      "from webstruct.wapiti import WapitiFeatureEncoder\n",
      "from webstruct.feature_extraction import HtmlFeaturesExtractor\n",
      "from webstruct.features import DEFAULT\n",
      "from webstruct.htmls import kill_tags, replace_tags\n",
      "\n",
      "class IrelandHtmlFeaturesExtraction(HtmlFeaturesExtractor):\n",
      "    def preprocess(self, html, encoding=None):\n",
      "        doc = super(IrelandHtmlFeaturesExtraction, self).preprocess(html, encoding=encoding)\n",
      "        doc = replace_tags(doc, ['h2', 'h3', 'h4'], 'strong')\n",
      "        doc = kill_tags(doc, ['br'], keep_child=False)\n",
      "        return doc\n",
      "\n",
      "def tagged_data(folder):\n",
      "    for fname in os.listdir(folder):\n",
      "        path = os.path.join(folder, fname)\n",
      "        try:\n",
      "            with codecs.open(path, 'r', encoding='utf8') as f:\n",
      "                yield path, f.read()\n",
      "        except UnicodeDecodeError:\n",
      "            print 'unicode decode error', path\n",
      "            \n",
      "fe = IrelandHtmlFeaturesExtraction({'addr'}, DEFAULT)\n",
      "\n",
      "def fit_wapiti_encoder(tagged_data_iter):\n",
      "    we = WapitiFeatureEncoder(['token', 'lower'])    \n",
      "    for path, html in tagged_data_iter:\n",
      "        try:\n",
      "            features, labels = fe.fit_transform(html, encoding='utf8')\n",
      "            we.partial_fit(features)\n",
      "        except Exception as e:\n",
      "            print(\"error decoding %s:\\n%s\" % (path, e))\n",
      "    return we\n",
      "\n",
      "\n",
      "def to_wapiti_seq(features, labels, include_labels=True):\n",
      "    lines = []\n",
      "    for line, label in zip(we.transform(features), labels):\n",
      "        if include_labels:\n",
      "            lines.append(\"%s %s\" % (line, label))\n",
      "        else:\n",
      "            lines.append(line)\n",
      "    return '\\n'.join(lines)\n",
      "    \n",
      "\n",
      "def iter_wapiti_sequences(tagged_data_iter, we, include_labels=True):\n",
      "    \n",
      "    for path, html in tagged_data_iter:\n",
      "        try:\n",
      "            features, labels = fe.fit_transform(html, encoding='utf8')\n",
      "        except AssertionError as e:\n",
      "            print(\"error decoding %s:\\n%s\" % (path, e))\n",
      "        else:\n",
      "            yield to_wapiti_seq(features, labels, include_labels)\n",
      "        \n",
      "    \n",
      "def create_wapiti_data(fname, tagged_data_iter, we, include_labels=True):\n",
      "    with codecs.open(fname, 'w', encoding='utf8') as f:            \n",
      "        for seq in iter_wapiti_sequences(tagged_data_iter, we, include_labels):\n",
      "            f.write(seq)\n",
      "            f.write('\\n\\n')\n",
      "            "
     ],
     "language": "python",
     "metadata": {},
     "outputs": [],
     "prompt_number": 24
    },
    {
     "cell_type": "code",
     "collapsed": false,
     "input": [
      "corpus_paths = [\n",
      "    '../webstruct_data/corpus/ie/annotated/',\n",
      "]\n",
      "\n",
      "data = list(itertools.chain(*map(tagged_data, corpus_paths)))\n",
      "print len(data)\n",
      "\n",
      "random.shuffle(data)\n",
      "train, dev = data[:80], data[80:]\n",
      "\n",
      "print(len(train), len(dev))\n",
      "\n",
      "we = fit_wapiti_encoder(train)\n",
      "\n",
      "create_wapiti_data('ie_addr_train.txt', train, we=we)\n",
      "create_wapiti_data('ie_addr_test.txt', dev, we=we)\n",
      "\n",
      "from sklearn.externals.joblib import dump\n",
      "dump(we, 'ie-address-parser-wfe.joblib', compress=1)\n",
      "dump(fe, 'ie-address-parser-fe.joblib', compress=1)"
     ],
     "language": "python",
     "metadata": {},
     "outputs": [
      {
       "output_type": "stream",
       "stream": "stdout",
       "text": [
        "103\n",
        "(80, 23)\n"
       ]
      },
      {
       "output_type": "pyout",
       "prompt_number": 25,
       "text": [
        "['ie-address-parser-fe.joblib']"
       ]
      }
     ],
     "prompt_number": 25
    },
    {
     "cell_type": "code",
     "collapsed": false,
     "input": [
      "template = '''\n",
      "# Label unigram & bigram\n",
      "*\n",
      "\n",
      "# Nearby token unigrams (lower)\n",
      "u-LL:%x[-2,lower]\n",
      "u--L:%x[-1,lower]\n",
      "u--R:%x[ 1,lower]\n",
      "u-RR:%x[ 2,lower]\n",
      "\n",
      "# Nearby token bigrams (lower)\n",
      "u:wrd-2-LL:%x[-2,lower]/%x[-1,lower]\n",
      "u:wrd-2-L:%x[-1,lower]/%x[0,lower]\n",
      "u:wrd-2-R:%x[0,lower]/%x[1,lower]\n",
      "u:wrd-2-RR:%x[1,lower]/%x[2,lower]\n",
      "\n",
      "# Nearby shapes\n",
      "u:shape-L:%x[-1,shape]\n",
      "u:shape-R:%x[1,shape]\n",
      "u:shape-2-L:%x[-1,shape]/%x[0,shape]\n",
      "u:shape-2-R:%x[0,shape]/%x[1,shape]\n",
      "\n",
      "# num patterns\n",
      "u:pattern--L:%x[-1,num_pattern2]\n",
      "u:pattern--R:%x[ 1,num_pattern2]\n",
      "\n",
      "# word/shape\n",
      "u:wrd-2-shape-L:%x[-1,lower]/%x[0,shape]\n",
      "u:wrd-2-shape-R:%x[0,lower]/%x[1,shape]\n",
      "\n",
      "# nearby bold \n",
      "u:inside_tag_strong-2-L:%x[-1,inside_tag_strong]/%x[0,inside_tag_strong]\n",
      "u:inside_tag_strong-2-R:%x[0,inside_tag_strong]/%x[1,inside_tag_strong]\n",
      "\n",
      "# borders\n",
      "u:wrd-border-L:%x[-1,lower]/%x[0,border_at_left]\n",
      "u:wrd-border-R:%x[0,lower]/%x[1,border_at_left]\n",
      "u:wrd-border-RR:%x[0,lower]/%x[2,border_at_left]\n",
      "\n",
      "# number and street\n",
      "u:shape-street-L:%x[-2,shape]/%x[0,common_street_part]\n",
      "'''\n",
      "\n",
      "wapiti_template = we.unigram_features_template() + we.prepare_template(template) \n",
      "\n",
      "with codecs.open('ie-address-parser-template.txt', 'w', encoding='utf8') as f:\n",
      "    f.write(wapiti_template)"
     ],
     "language": "python",
     "metadata": {},
     "outputs": [],
     "prompt_number": 26
    },
    {
     "cell_type": "code",
     "collapsed": false,
     "input": [
      "!wapiti train --pattern ie-address-parser-template.txt --algo l-bfgs ie_addr_train.txt ie-address-parser.wapiti --nthread 4 --jobsize 8"
     ],
     "language": "python",
     "metadata": {},
     "outputs": [
      {
       "output_type": "stream",
       "stream": "stdout",
       "text": [
        "* Load patterns\r\n",
        "* Load training data\r\n"
       ]
      },
      {
       "output_type": "stream",
       "stream": "stdout",
       "text": [
        "* Initialize the model\r\n",
        "* Summary\r\n",
        "    nb train:    80\r\n",
        "    nb labels:   3\r\n",
        "    nb blocks:   114858\r\n",
        "    nb features: 529695\r\n",
        "* Train the model with l-bfgs\r\n"
       ]
      },
      {
       "output_type": "stream",
       "stream": "stdout",
       "text": [
        "  [   1] obj=4542.74    act=249282   err= 3.69%/67.50% time=0.21s/0.21s\r\n"
       ]
      },
      {
       "output_type": "stream",
       "stream": "stdout",
       "text": [
        "  [   2] obj=4239.50    act=122199   err= 3.69%/67.50% time=0.13s/0.34s\r\n"
       ]
      },
      {
       "output_type": "stream",
       "stream": "stdout",
       "text": [
        "  [   3] obj=676.91     act=24319    err= 2.70%/66.25% time=0.13s/0.47s\r\n"
       ]
      },
      {
       "output_type": "stream",
       "stream": "stdout",
       "text": [
        "  [   4] obj=467.91     act=27292    err= 2.33%/56.25% time=0.62s/1.09s\r\n"
       ]
      },
      {
       "output_type": "stream",
       "stream": "stdout",
       "text": [
        "  [   5] obj=460.64     act=31316    err= 2.18%/56.25% time=0.53s/1.62s\r\n"
       ]
      },
      {
       "output_type": "stream",
       "stream": "stdout",
       "text": [
        "  [   6] obj=455.54     act=30362    err= 2.19%/56.25% time=0.46s/2.08s\r\n"
       ]
      },
      {
       "output_type": "stream",
       "stream": "stdout",
       "text": [
        "  [   7] obj=453.37     act=31044    err= 2.14%/55.00% time=0.75s/2.84s\r\n"
       ]
      },
      {
       "output_type": "stream",
       "stream": "stdout",
       "text": [
        "  [   8] obj=437.83     act=30199    err= 2.08%/55.00% time=0.12s/2.96s\r\n"
       ]
      },
      {
       "output_type": "stream",
       "stream": "stdout",
       "text": [
        "  [   9] obj=390.11     act=29227    err= 1.95%/55.00% time=0.12s/3.08s\r\n"
       ]
      },
      {
       "output_type": "stream",
       "stream": "stdout",
       "text": [
        "  [  10] obj=356.29     act=25675    err= 1.61%/50.00% time=0.22s/3.30s\r\n"
       ]
      },
      {
       "output_type": "stream",
       "stream": "stdout",
       "text": [
        "  [  11] obj=327.35     act=24298    err= 1.73%/50.00% time=0.13s/3.42s\r\n"
       ]
      },
      {
       "output_type": "stream",
       "stream": "stdout",
       "text": [
        "  [  12] obj=301.55     act=23127    err= 1.23%/38.75% time=0.12s/3.54s\r\n"
       ]
      },
      {
       "output_type": "stream",
       "stream": "stdout",
       "text": [
        "  [  13] obj=281.78     act=23937    err= 1.37%/41.25% time=0.12s/3.65s\r\n"
       ]
      },
      {
       "output_type": "stream",
       "stream": "stdout",
       "text": [
        "  [  14] obj=265.84     act=21349    err= 1.12%/37.50% time=0.12s/3.77s\r\n"
       ]
      },
      {
       "output_type": "stream",
       "stream": "stdout",
       "text": [
        "  [  15] obj=254.57     act=20740    err= 1.28%/40.00% time=0.12s/3.89s\r\n"
       ]
      },
      {
       "output_type": "stream",
       "stream": "stdout",
       "text": [
        "  [  16] obj=235.72     act=19224    err= 0.88%/31.25% time=0.12s/4.00s\r\n"
       ]
      },
      {
       "output_type": "stream",
       "stream": "stdout",
       "text": [
        "  [  17] obj=219.51     act=18495    err= 0.97%/32.50% time=0.12s/4.12s\r\n"
       ]
      },
      {
       "output_type": "stream",
       "stream": "stdout",
       "text": [
        "  [  18] obj=205.37     act=17396    err= 0.57%/20.00% time=0.12s/4.24s\r\n"
       ]
      },
      {
       "output_type": "stream",
       "stream": "stdout",
       "text": [
        "  [  19] obj=191.55     act=16912    err= 0.57%/21.25% time=0.12s/4.36s\r\n"
       ]
      },
      {
       "output_type": "stream",
       "stream": "stdout",
       "text": [
        "  [  20] obj=181.48     act=15708    err= 0.58%/18.75% time=0.12s/4.48s\r\n"
       ]
      },
      {
       "output_type": "stream",
       "stream": "stdout",
       "text": [
        "  [  21] obj=175.64     act=15387    err= 0.44%/16.25% time=0.12s/4.59s\r\n"
       ]
      },
      {
       "output_type": "stream",
       "stream": "stdout",
       "text": [
        "  [  22] obj=171.05     act=14791    err= 0.46%/16.25% time=0.20s/4.79s\r\n"
       ]
      },
      {
       "output_type": "stream",
       "stream": "stdout",
       "text": [
        "  [  23] obj=162.29     act=12816    err= 0.42%/12.50% time=0.16s/4.95s\r\n"
       ]
      },
      {
       "output_type": "stream",
       "stream": "stdout",
       "text": [
        "  [  24] obj=153.50     act=13221    err= 0.34%/12.50% time=0.16s/5.11s\r\n"
       ]
      },
      {
       "output_type": "stream",
       "stream": "stdout",
       "text": [
        "  [  25] obj=149.55     act=12261    err= 0.23%/10.00% time=0.16s/5.27s\r\n"
       ]
      },
      {
       "output_type": "stream",
       "stream": "stdout",
       "text": [
        "  [  26] obj=144.40     act=10934    err= 0.31%/10.00% time=0.15s/5.41s\r\n"
       ]
      },
      {
       "output_type": "stream",
       "stream": "stdout",
       "text": [
        "  [  27] obj=140.41     act=9869     err= 0.14%/ 7.50% time=0.15s/5.56s\r\n"
       ]
      },
      {
       "output_type": "stream",
       "stream": "stdout",
       "text": [
        "  [  28] obj=134.58     act=8857     err= 0.15%/ 6.25% time=0.13s/5.69s\r\n"
       ]
      },
      {
       "output_type": "stream",
       "stream": "stdout",
       "text": [
        "  [  29] obj=132.18     act=7991     err= 0.10%/ 6.25% time=0.12s/5.81s\r\n"
       ]
      },
      {
       "output_type": "stream",
       "stream": "stdout",
       "text": [
        "  [  30] obj=129.43     act=7438     err= 0.12%/ 7.50% time=0.12s/5.92s\r\n"
       ]
      },
      {
       "output_type": "stream",
       "stream": "stdout",
       "text": [
        "  [  31] obj=127.61     act=6739     err= 0.13%/ 7.50% time=0.12s/6.04s\r\n"
       ]
      },
      {
       "output_type": "stream",
       "stream": "stdout",
       "text": [
        "  [  32] obj=124.97     act=6156     err= 0.13%/ 7.50% time=0.13s/6.17s\r\n"
       ]
      },
      {
       "output_type": "stream",
       "stream": "stdout",
       "text": [
        "  [  33] obj=123.67     act=5754     err= 0.07%/ 5.00% time=0.15s/6.32s\r\n"
       ]
      },
      {
       "output_type": "stream",
       "stream": "stdout",
       "text": [
        "  [  34] obj=122.16     act=5274     err= 0.05%/ 3.75% time=0.12s/6.44s\r\n"
       ]
      },
      {
       "output_type": "stream",
       "stream": "stdout",
       "text": [
        "  [  35] obj=120.67     act=4844     err= 0.09%/ 5.00% time=0.12s/6.55s\r\n"
       ]
      },
      {
       "output_type": "stream",
       "stream": "stdout",
       "text": [
        "  [  36] obj=119.17     act=4377     err= 0.07%/ 3.75% time=0.12s/6.67s\r\n"
       ]
      },
      {
       "output_type": "stream",
       "stream": "stdout",
       "text": [
        "  [  37] obj=117.98     act=4288     err= 0.08%/ 3.75% time=0.12s/6.79s\r\n"
       ]
      },
      {
       "output_type": "stream",
       "stream": "stdout",
       "text": [
        "  [  38] obj=117.07     act=4016     err= 0.08%/ 3.75% time=0.12s/6.91s\r\n"
       ]
      },
      {
       "output_type": "stream",
       "stream": "stdout",
       "text": [
        "  [  39] obj=116.25     act=3870     err= 0.11%/ 5.00% time=0.12s/7.03s\r\n"
       ]
      },
      {
       "output_type": "stream",
       "stream": "stdout",
       "text": [
        "  [  40] obj=114.89     act=3499     err= 0.07%/ 2.50% time=0.13s/7.16s\r\n"
       ]
      },
      {
       "output_type": "stream",
       "stream": "stdout",
       "text": [
        "  [  41] obj=114.20     act=3269     err= 0.10%/ 3.75% time=0.12s/7.28s\r\n"
       ]
      },
      {
       "output_type": "stream",
       "stream": "stdout",
       "text": [
        "  [  42] obj=113.37     act=3181     err= 0.07%/ 2.50% time=0.12s/7.39s\r\n"
       ]
      },
      {
       "output_type": "stream",
       "stream": "stdout",
       "text": [
        "  [  43] obj=112.70     act=3036     err= 0.07%/ 2.50% time=0.12s/7.51s\r\n"
       ]
      },
      {
       "output_type": "stream",
       "stream": "stdout",
       "text": [
        "  [  44] obj=111.92     act=2772     err= 0.03%/ 1.25% time=0.12s/7.63s\r\n"
       ]
      },
      {
       "output_type": "stream",
       "stream": "stdout",
       "text": [
        "  [  45] obj=111.34     act=2742     err= 0.03%/ 1.25% time=0.12s/7.74s\r\n"
       ]
      },
      {
       "output_type": "stream",
       "stream": "stdout",
       "text": [
        "  [  46] obj=110.81     act=2628     err= 0.05%/ 2.50% time=0.13s/7.88s\r\n"
       ]
      },
      {
       "output_type": "stream",
       "stream": "stdout",
       "text": [
        "  [  47] obj=110.07     act=2465     err= 0.03%/ 1.25% time=0.13s/8.00s\r\n"
       ]
      },
      {
       "output_type": "stream",
       "stream": "stdout",
       "text": [
        "  [  48] obj=109.51     act=2369     err= 0.03%/ 1.25% time=0.12s/8.12s\r\n"
       ]
      },
      {
       "output_type": "stream",
       "stream": "stdout",
       "text": [
        "* Save the model\r\n"
       ]
      },
      {
       "output_type": "stream",
       "stream": "stdout",
       "text": [
        "* Done\r\n"
       ]
      }
     ],
     "prompt_number": 27
    },
    {
     "cell_type": "code",
     "collapsed": false,
     "input": [
      "!wapiti label --model ie-address-parser.wapiti -c ie_addr_test.txt res.txt"
     ],
     "language": "python",
     "metadata": {},
     "outputs": [
      {
       "output_type": "stream",
       "stream": "stdout",
       "text": [
        "* Load model\r\n"
       ]
      },
      {
       "output_type": "stream",
       "stream": "stdout",
       "text": [
        "* Label sequences\r\n"
       ]
      },
      {
       "output_type": "stream",
       "stream": "stdout",
       "text": [
        "    Nb sequences  : 23\r\n",
        "    Token error   :  2.10%\r\n",
        "    Sequence error: 43.48%\r\n",
        "* Per label statistics\r\n",
        "    O       Pr=0.99  Rc=0.98  F1=0.99\r\n",
        "    B-ADDR  Pr=0.72  Rc=0.81  F1=0.76\r\n",
        "    I-ADDR  Pr=0.67  Rc=0.88  F1=0.76\r\n",
        "* Done\r\n"
       ]
      }
     ],
     "prompt_number": 28
    },
    {
     "cell_type": "code",
     "collapsed": false,
     "input": [
      "import wapiti\n",
      "sys.path.insert(0, '../')\n",
      "\n",
      "from sklearn.externals import joblib\n",
      "from urllib2 import urlopen\n",
      "from w3lib.encoding import html_to_unicode\n",
      "from webstruct.wapiti import WapitiChunker\n",
      "\n",
      "feature_extractor = joblib.load('ie-address-parser-fe.joblib')\n",
      "feature_encoder = joblib.load('ie-address-parser-wfe.joblib')\n",
      "wapiti_model = wapiti.Model(model='ie-address-parser.wapiti')\n",
      "ner = WapitiChunker(wapiti_model, feature_encoder, feature_extractor=feature_extractor)"
     ],
     "language": "python",
     "metadata": {},
     "outputs": [],
     "prompt_number": 29
    },
    {
     "cell_type": "code",
     "collapsed": false,
     "input": [
      "url = 'http://www.gillianosullivan.ie/contact.htm'\n",
      "url = 'http://www.imma.ie/en/subnav_91.htm'\n",
      "url = 'http://www.wechrome.com/'\n",
      "html = urlopen(url=url).read()\n",
      "\n",
      "for text, label in ner.transform(html):\n",
      "    if label != 'O':\n",
      "        print label, text\n"
     ],
     "language": "python",
     "metadata": {},
     "outputs": [
      {
       "output_type": "stream",
       "stream": "stdout",
       "text": [
        "ADDR"
       ]
      },
      {
       "output_type": "stream",
       "stream": "stdout",
       "text": [
        " Unit 6, Landys Industrial Estate Knocklyon Road Dublin 16, Ireland\n"
       ]
      }
     ],
     "prompt_number": 30
    },
    {
     "cell_type": "code",
     "collapsed": false,
     "input": [
      "import glob\n",
      "import os\n",
      "\n",
      "def parse_address(html):\n",
      "    r = []\n",
      "    for text, label in ner.transform(html):\n",
      "        if label == 'ADDR':\n",
      "            r.append(text)\n",
      "    return r\n",
      "\n",
      "# test on unseen pages\n",
      "for path in glob.glob('../webstruct_data/corpus/ireland_contact_pages/source/*.html'):\n",
      "    with open(path, 'r') as f:\n",
      "        html = f.read()\n",
      "        try:\n",
      "            r = parse_address(html)\n",
      "            print os.path.split(path)[1], r\n",
      "        except BaseException, e:\n",
      "            pass\n",
      "        "
     ],
     "language": "python",
     "metadata": {},
     "outputs": [
      {
       "output_type": "stream",
       "stream": "stdout",
       "text": [
        "1.html [u'UCD Earth Institute UCD Science Centre South University College Dublin Belfield Dublin 4, Ireland']\n",
        "10.html"
       ]
      },
      {
       "output_type": "stream",
       "stream": "stdout",
       "text": [
        " ['The Private Security Authority Davis Street Tipperary Town', 'The Private Security Authority Davis Street Tipperary Town']\n",
        "100.html"
       ]
      },
      {
       "output_type": "stream",
       "stream": "stdout",
       "text": [
        " ['Tickets.ie P.O. Box 10763, Dublin 1, Ireland']\n",
        "102.html"
       ]
      },
      {
       "output_type": "stream",
       "stream": "stdout",
       "text": [
        " ['Malahide Village Co. Dublin.', 'include Leg of Lamb Corn-Fed Chicken Roast Rib of Angus Beef and Stuffed Saddle Back Pork', u'Malahide Co. Dublin']\n",
        "104.html"
       ]
      },
      {
       "output_type": "stream",
       "stream": "stdout",
       "text": [
        " []\n",
        "105.html"
       ]
      },
      {
       "output_type": "stream",
       "stream": "stdout",
       "text": [
        " ['Digges Lane Dublin 2']\n",
        "109.html"
       ]
      },
      {
       "output_type": "stream",
       "stream": "stdout",
       "text": [
        " ['Unit 6 City Centre North Dublin Area Code : Dublin 1']\n",
        "11.html"
       ]
      },
      {
       "output_type": "stream",
       "stream": "stdout",
       "text": [
        " []\n",
        "115.html"
       ]
      },
      {
       "output_type": "stream",
       "stream": "stdout",
       "text": [
        " [u'Sustainable Energy Authority of Ireland Wilton Park House Wilton Place Dublin 2.']\n",
        "120.html"
       ]
      },
      {
       "output_type": "stream",
       "stream": "stdout",
       "text": [
        " [u'Kildare Street Dublin 2', 'Carmelite Community Centre Aungier Street Monday @ 4pm St Andrews Resource Centre Pearse Street Thursday @ 7pm Ringsend & Irishtown Community Centre Thorncastle Street']\n",
        "121.html"
       ]
      },
      {
       "output_type": "stream",
       "stream": "stdout",
       "text": [
        " [\"Our Lady's Hospice Harold's Cross Dublin 6W Blackrock Hospice Sweetman's Avenue Blackrock Co. Dublin\"]\n",
        "123.html"
       ]
      },
      {
       "output_type": "stream",
       "stream": "stdout",
       "text": [
        " ['Unit 3 Mill St. Maynooth Kildare']\n",
        "126.html"
       ]
      },
      {
       "output_type": "stream",
       "stream": "stdout",
       "text": [
        " [u'Quay Street Galway Ireland']\n",
        "128.html"
       ]
      },
      {
       "output_type": "stream",
       "stream": "stdout",
       "text": [
        " ['Student Travelcard 15 Porters Avenue Coolmine Industrial Estate Clonsilla Dublin 15']\n",
        "129.html"
       ]
      },
      {
       "output_type": "stream",
       "stream": "stdout",
       "text": [
        " ['Ballybrit Business Park Ballybrit Galway']\n",
        "131.html"
       ]
      },
      {
       "output_type": "stream",
       "stream": "stdout",
       "text": [
        " ['Fish Restaurant & Accommodation East Pier Howth Co. Dublin Rep. of Ireland.']\n",
        "132.html"
       ]
      },
      {
       "output_type": "stream",
       "stream": "stdout",
       "text": [
        " ['28 Lower Drumcondra Road Dublin 9']\n",
        "147.html"
       ]
      },
      {
       "output_type": "stream",
       "stream": "stdout",
       "text": [
        " [u'Irish Tax Institute South Block Longboat Quay Grand Canal Harbour Dublin 2 Ireland']\n",
        "150.html"
       ]
      },
      {
       "output_type": "stream",
       "stream": "stdout",
       "text": [
        " [\"The McKeown Library St. Angela's College Lough Gill Sligo Ireland\"]\n",
        "152.html"
       ]
      },
      {
       "output_type": "stream",
       "stream": "stdout",
       "text": [
        " [\"Ground Floor George's Quay House 43 Townsend St Dublin 2 Ireland\"]\n",
        "153.html ['Davis Lane Mallow Co. Cork']\n",
        "155.html"
       ]
      },
      {
       "output_type": "stream",
       "stream": "stdout",
       "text": [
        " ['Arva Garda Station Main Street R203,Arva Co. Cavan']\n",
        "156.html"
       ]
      },
      {
       "output_type": "stream",
       "stream": "stdout",
       "text": [
        " ['Lahinch Beach Front Lahinch Co. Clare Ireland']\n",
        "158.html"
       ]
      },
      {
       "output_type": "stream",
       "stream": "stdout",
       "text": [
        " ['Fallons Restaurant & Bar Main St. Kilcullen Co. Kildare Ireland']\n",
        "165.html"
       ]
      },
      {
       "output_type": "stream",
       "stream": "stdout",
       "text": [
        " []\n",
        "171.html"
       ]
      },
      {
       "output_type": "stream",
       "stream": "stdout",
       "text": [
        " ['Dun Laoghaire Co. Dublin']\n",
        "174.html"
       ]
      },
      {
       "output_type": "stream",
       "stream": "stdout",
       "text": [
        " []\n",
        "178.html"
       ]
      },
      {
       "output_type": "stream",
       "stream": "stdout",
       "text": [
        " []\n",
        "179.html"
       ]
      },
      {
       "output_type": "stream",
       "stream": "stdout",
       "text": [
        " ['Talbot Street Dublin 1', 'North Circular Road Dublin 7']\n",
        "182.html"
       ]
      },
      {
       "output_type": "stream",
       "stream": "stdout",
       "text": [
        " ['Unit 11, Kilbarrack Shopping Centre Kilbarrack Dublin 5', 'Artane Baldoyle Balgriffin Clarehall Coolock Donaghmede Grange Abbey Hamenstown Raheny Dub 13']\n",
        "185.html"
       ]
      },
      {
       "output_type": "stream",
       "stream": "stdout",
       "text": [
        " []\n",
        "186.html"
       ]
      },
      {
       "output_type": "stream",
       "stream": "stdout",
       "text": [
        " [\"School of Medicine UCC @ St. Finbarr's Hospital The Bungalow Block 13,Douglas Road Cork Republic of Ireland\"]\n",
        "189.html"
       ]
      },
      {
       "output_type": "stream",
       "stream": "stdout",
       "text": [
        " ['ASTI Thomas MacDonagh House Winetavern Street Dublin 8']\n",
        "192.html"
       ]
      },
      {
       "output_type": "stream",
       "stream": "stdout",
       "text": [
        " ['Editor Leader House Dublin Road']\n",
        "193.html"
       ]
      },
      {
       "output_type": "stream",
       "stream": "stdout",
       "text": [
        " ['UPC Po Box 321 Dublin 3']\n",
        "194.html"
       ]
      },
      {
       "output_type": "stream",
       "stream": "stdout",
       "text": [
        " ['Number 58, Upper Grand Canal Street Dublin 4']\n",
        "195.html"
       ]
      },
      {
       "output_type": "stream",
       "stream": "stdout",
       "text": [
        " ['Unit 3D Sandyford Industrial Estate Dublin 18']\n",
        "204.html"
       ]
      },
      {
       "output_type": "stream",
       "stream": "stdout",
       "text": [
        " [u'3 Clonskeagh Square Dublin 14 Ireland']\n",
        "220.html"
       ]
      },
      {
       "output_type": "stream",
       "stream": "stdout",
       "text": [
        " ['University of Limerick Limerick Ireland']\n",
        "224.html"
       ]
      },
      {
       "output_type": "stream",
       "stream": "stdout",
       "text": [
        " [u'Mary Raftery Journalism Fund c/o DHR Communications 1st Floor 30 \\u2013 31 Francis Street Dublin 8']\n",
        "228.html"
       ]
      },
      {
       "output_type": "stream",
       "stream": "stdout",
       "text": [
        " ['Innovation ParkUniversity College DublinBelfield Dublin 4, Ireland', 'Innovation Park University College Dublin Belfield Dublin 4 Ireland']\n",
        "229.html"
       ]
      },
      {
       "output_type": "stream",
       "stream": "stdout",
       "text": [
        " []\n",
        "231.html"
       ]
      },
      {
       "output_type": "stream",
       "stream": "stdout",
       "text": [
        " []\n",
        "240.html"
       ]
      },
      {
       "output_type": "stream",
       "stream": "stdout",
       "text": [
        " ['244 Clontarf Rd Clontarf Dublin 3', 'Artane Clontarf Copeland Dollymount Dublin Port Eastwall Fairview IFSC Kilester Marino']\n",
        "242.html"
       ]
      },
      {
       "output_type": "stream",
       "stream": "stdout",
       "text": [
        " ['Free Legal Advice Centres 13 Lower Dorset Street Dublin 1,Ireland']\n",
        "244.html"
       ]
      },
      {
       "output_type": "stream",
       "stream": "stdout",
       "text": [
        " ['31 & 32 Lower Pembroke Street Dublin 2']\n",
        "246.html"
       ]
      },
      {
       "output_type": "stream",
       "stream": "stdout",
       "text": [
        " ['Northgate Street Athlone Co Westmeath Ireland', u'Northgate Street - Co. Westmeath Co. Westmeath']\n",
        "250.html"
       ]
      },
      {
       "output_type": "stream",
       "stream": "stdout",
       "text": [
        " ['Unit 3 Mill St Maynooth Co Kildare']\n",
        "251.html"
       ]
      },
      {
       "output_type": "stream",
       "stream": "stdout",
       "text": [
        " ['The Cottage Restaurant Jamestown Carrick-on-Shannon Co. Leitrim']\n",
        "253.html"
       ]
      },
      {
       "output_type": "stream",
       "stream": "stdout",
       "text": [
        " []\n",
        "254.html"
       ]
      },
      {
       "output_type": "stream",
       "stream": "stdout",
       "text": [
        " []\n",
        "258.html"
       ]
      },
      {
       "output_type": "stream",
       "stream": "stdout",
       "text": [
        " [u'Greenhills Retail Park Greenhills Road Tallaght Dublin 24.', 'Greenhills Road Tallaght Dublin 24']\n",
        "26.html"
       ]
      },
      {
       "output_type": "stream",
       "stream": "stdout",
       "text": [
        " ['Economic Development Unit Cavan County Council +353 49 4378606 edu@cavancoco.ie Cavan County Enterprise Board Cavan Innovation and Technology Centre Dublin Road Cavan.', u'\\xa9 2013 Cavan Enterprise Board. Johnston Central Library Farnham Street Cavan. All rights reserved']\n",
        "273.html"
       ]
      },
      {
       "output_type": "stream",
       "stream": "stdout",
       "text": [
        " ['South Circular Road Limerick Ireland']\n",
        "294.html"
       ]
      },
      {
       "output_type": "stream",
       "stream": "stdout",
       "text": [
        " []\n",
        "301.html ['Star Elm Frames Ltd. Barnakyle Logistics Centre Raheen Business Park Raheen Limerick']\n",
        "302.html"
       ]
      },
      {
       "output_type": "stream",
       "stream": "stdout",
       "text": [
        " []\n",
        "309.html"
       ]
      },
      {
       "output_type": "stream",
       "stream": "stdout",
       "text": [
        " ['The Gift Voucher ShopPO Box 8942MalahideCo. Dublin', u'Management Suite GPO O\\u2019Connell Street Dublin 1']\n",
        "31.html"
       ]
      },
      {
       "output_type": "stream",
       "stream": "stdout",
       "text": [
        " ['The O2, North Wall Quay Dublin 1 Republic Of Ireland']\n",
        "310.html"
       ]
      },
      {
       "output_type": "stream",
       "stream": "stdout",
       "text": [
        " []\n",
        "313.html"
       ]
      },
      {
       "output_type": "stream",
       "stream": "stdout",
       "text": [
        " ['1st Floor Kinvara House Dublin Hill Cork']\n",
        "315.html"
       ]
      },
      {
       "output_type": "stream",
       "stream": "stdout",
       "text": [
        " ['Candyland 48 Upper Abbeygate Street Galway Ireland']\n",
        "316.html"
       ]
      },
      {
       "output_type": "stream",
       "stream": "stdout",
       "text": [
        " ['Drumcor Loughduff Co. Cavan Ireland', u'. Drumcor Loughduff Co. Cavan Ireland']\n",
        "317.html"
       ]
      },
      {
       "output_type": "stream",
       "stream": "stdout",
       "text": [
        " ['The Admissions Team Dublin Business School 13/14 Aungier Street Dublin 2, Ireland', 'International Department Dublin Business School 13/14 Aungier Street Dublin 2, Ireland', 'Contact DBS Dublin Business School. 13/14 Aungier Street Dublin 2, Ireland']\n",
        "320.html"
       ]
      },
      {
       "output_type": "stream",
       "stream": "stdout",
       "text": [
        " ['Private Residential Tenancies Board Canal House Canal Road Dublin 6.']\n",
        "323.html"
       ]
      },
      {
       "output_type": "stream",
       "stream": "stdout",
       "text": [
        " [u'House Kildare Street Dublin 2']\n",
        "329.html"
       ]
      },
      {
       "output_type": "stream",
       "stream": "stdout",
       "text": [
        " []\n",
        "332.html"
       ]
      },
      {
       "output_type": "stream",
       "stream": "stdout",
       "text": [
        " ['Ambassador Restaurant 3 Cook Street Cork City Ireland']\n",
        "338.html"
       ]
      },
      {
       "output_type": "stream",
       "stream": "stdout",
       "text": [
        " [\"Citizens Information Board Ground Floor George's Quay House 43 Townsend St Dublin 2\"]\n",
        "342.html"
       ]
      },
      {
       "output_type": "stream",
       "stream": "stdout",
       "text": [
        " []\n",
        "343.html"
       ]
      },
      {
       "output_type": "stream",
       "stream": "stdout",
       "text": [
        " []\n",
        "349.html"
       ]
      },
      {
       "output_type": "stream",
       "stream": "stdout",
       "text": [
        " [u'St. Peter\\u2019s Road', \"St. Paul's Secondary School Greenhills Dublin 12\"]\n",
        "355.html ['Irish Hospice Foundation 32 Nassau Street Dublin 2']\n",
        "356.html"
       ]
      },
      {
       "output_type": "stream",
       "stream": "stdout",
       "text": [
        " []\n",
        "357.html"
       ]
      },
      {
       "output_type": "stream",
       "stream": "stdout",
       "text": [
        " ['Unit 16, Oaklawns Hall Dr. Cullen Road Carlow', 'Unit 16, Oaklawns Hall Dr. Cullen Road Carlow']\n",
        "360.html"
       ]
      },
      {
       "output_type": "stream",
       "stream": "stdout",
       "text": [
        " [u'O\\u2019Brien Road Carlow Ireland']\n",
        "367.html"
       ]
      },
      {
       "output_type": "stream",
       "stream": "stdout",
       "text": [
        " ['Johnstown Business CentreJohnstown HouseJohnstown Naas Co. Kildare Ireland', 'Johnstown Business Centre Johnstown House Johnstown Naas Co. Kildare Ireland']\n",
        "368.html"
       ]
      },
      {
       "output_type": "stream",
       "stream": "stdout",
       "text": [
        " ['1 Leopardstown Business Park Ballyogan Road Carrickmines Dublin 18, Ireland']\n",
        "372.html"
       ]
      },
      {
       "output_type": "stream",
       "stream": "stdout",
       "text": [
        " ['The Spa Mallow Co Cork Advertising']\n",
        "373.html"
       ]
      },
      {
       "output_type": "stream",
       "stream": "stdout",
       "text": [
        " ['28 Lower Drumcondra Road Dublin 9']\n",
        "375.html"
       ]
      },
      {
       "output_type": "stream",
       "stream": "stdout",
       "text": [
        " []\n",
        "379.html"
       ]
      },
      {
       "output_type": "stream",
       "stream": "stdout",
       "text": [
        " []\n",
        "380.html"
       ]
      },
      {
       "output_type": "stream",
       "stream": "stdout",
       "text": [
        " ['Arrigle Business Park Ballyhale Co. Kilkenny.', 'HOLDEN BROTHERS Arrigle Business Park Ballyhale Co. Kilkenny']\n",
        "385.html"
       ]
      },
      {
       "output_type": "stream",
       "stream": "stdout",
       "text": [
        " ['1st Floor Harmony Court Harmony Row 2 Dublin Ireland']\n",
        "387.html"
       ]
      },
      {
       "output_type": "stream",
       "stream": "stdout",
       "text": [
        " ['3 Clonskeagh Square Dublin 14 Ireland']\n",
        "399.html"
       ]
      },
      {
       "output_type": "stream",
       "stream": "stdout",
       "text": [
        " ['Father Mathew Hall Father Mathew Street Cork', 'Father Mathew Hall Father Mathew Street Cork']\n",
        "4.html"
       ]
      },
      {
       "output_type": "stream",
       "stream": "stdout",
       "text": [
        " ['Merrywell Industrial Park Ballymount Road Dublin 22', '33 North Main Street Naas Co. Kildare', 'Oxigen Environmental Cavan Waste Disposal Killygarry Industrial Park Dublin Road Cavan', 'Oxigen Environmental First Floor Block 4 Quayside Business Park Mill Street Dundalk Co. Louth']\n",
        "400.html"
       ]
      },
      {
       "output_type": "stream",
       "stream": "stdout",
       "text": [
        " []\n",
        "403.html"
       ]
      },
      {
       "output_type": "stream",
       "stream": "stdout",
       "text": [
        " ['Newry Street Carlingford Co. Louth / Ireland']\n",
        "41.html"
       ]
      },
      {
       "output_type": "stream",
       "stream": "stdout",
       "text": [
        " []\n",
        "411.html"
       ]
      },
      {
       "output_type": "stream",
       "stream": "stdout",
       "text": [
        " ['Yeats House Barrack Square Ballincollig Co. Cork Ireland']\n",
        "413.html"
       ]
      },
      {
       "output_type": "stream",
       "stream": "stdout",
       "text": [
        " ['Marconi HouseDigges LaneDublin 2', u'Nearest Station is Dublin Pearse']\n",
        "417.html"
       ]
      },
      {
       "output_type": "stream",
       "stream": "stdout",
       "text": [
        " ['Rosslare Road Wexford Town']\n",
        "418.html"
       ]
      },
      {
       "output_type": "stream",
       "stream": "stdout",
       "text": [
        " [\"St. Mary's Church The Mall Westport Co. Mayo\"]\n",
        "423.html"
       ]
      },
      {
       "output_type": "stream",
       "stream": "stdout",
       "text": [
        " []\n",
        "427.html"
       ]
      },
      {
       "output_type": "stream",
       "stream": "stdout",
       "text": [
        " ['Unit 4c Elmfiled Court Ninth Lock Road Clondalkin Dublin 22']\n",
        "43.html []\n",
        "430.html"
       ]
      },
      {
       "output_type": "stream",
       "stream": "stdout",
       "text": [
        " ['Contact Details Royal Dublin Society Anglesea Road Ballsbridge Dublin 4']\n",
        "435.html"
       ]
      },
      {
       "output_type": "stream",
       "stream": "stdout",
       "text": [
        " ['51 Shelbourne Road Ballsbridge Dublin 4']\n",
        "437.html"
       ]
      },
      {
       "output_type": "stream",
       "stream": "stdout",
       "text": [
        " []\n",
        "47.html"
       ]
      },
      {
       "output_type": "stream",
       "stream": "stdout",
       "text": [
        " ['38 Castle Park Monkstown Co Dublin Ireland']\n",
        "48.html"
       ]
      },
      {
       "output_type": "stream",
       "stream": "stdout",
       "text": [
        " ['Unit 3 Village Court Lucan Co. Dublin']\n",
        "52.html"
       ]
      },
      {
       "output_type": "stream",
       "stream": "stdout",
       "text": [
        " [u'5 Wilton Place Dublin 2']\n",
        "54.html"
       ]
      },
      {
       "output_type": "stream",
       "stream": "stdout",
       "text": [
        " []\n",
        "55.html"
       ]
      },
      {
       "output_type": "stream",
       "stream": "stdout",
       "text": [
        " ['The Malthouse Design Centre 537 North Circular Road Dublin 1 Ireland']\n",
        "56.html"
       ]
      },
      {
       "output_type": "stream",
       "stream": "stdout",
       "text": [
        " ['Chapel View Donabate Co. Dublin', u'0 reviews Donabate Co. Dublin']\n",
        "57.html"
       ]
      },
      {
       "output_type": "stream",
       "stream": "stdout",
       "text": [
        " ['Food Safety Authority of Ireland Abbey Court Lower Abbey Street Dublin 1', 'Abbey Court Lower Abbey Street Dublin 1', 'Abbey Court Lower Abbey Street Dublin 1']\n",
        "58.html"
       ]
      },
      {
       "output_type": "stream",
       "stream": "stdout",
       "text": [
        " []\n",
        "59.html"
       ]
      },
      {
       "output_type": "stream",
       "stream": "stdout",
       "text": [
        " []\n",
        "61.html"
       ]
      },
      {
       "output_type": "stream",
       "stream": "stdout",
       "text": [
        " ['China Sichuan Restaurant The Forum Ballymoss Road Sandyford Ind. Est. Dublin 18']\n",
        "63.html"
       ]
      },
      {
       "output_type": "stream",
       "stream": "stdout",
       "text": [
        " ['21 Stoneybatter Dublin 7 Ireland']\n",
        "65.html"
       ]
      },
      {
       "output_type": "stream",
       "stream": "stdout",
       "text": [
        " [\"O'Callaghan Insurances Blackthorn Business Park Coe's Road Dundalk Co.Louth\", \"O'Callaghan Insurances Blackthorn Business Park Coe's Road Dundalk Co.Louth Ireland\"]\n",
        "73.html"
       ]
      },
      {
       "output_type": "stream",
       "stream": "stdout",
       "text": [
        " []\n",
        "74.html"
       ]
      },
      {
       "output_type": "stream",
       "stream": "stdout",
       "text": [
        " []\n",
        "76.html"
       ]
      },
      {
       "output_type": "stream",
       "stream": "stdout",
       "text": [
        " ['17 Ely Place Dublin 2, Ireland', '17 Ely Place Dublin 2 Ireland']\n",
        "78.html"
       ]
      },
      {
       "output_type": "stream",
       "stream": "stdout",
       "text": [
        " ['COOLATORE AND BISHOPSTOWN HOUSE ARE ONLY OPEN TO CUSTOMERS WITH BOOKINGS . ANYONE NOT PART OF AN OFFICIAL BOOKING FOUND ON THE PREMISES WILL BE CHARGED WITH TRESPASS']\n",
        "8.html"
       ]
      },
      {
       "output_type": "stream",
       "stream": "stdout",
       "text": [
        " ['Unit 19, Northwood Court Northwood Business Campus Santry Dublin 9 Ireland']\n",
        "80.html"
       ]
      },
      {
       "output_type": "stream",
       "stream": "stdout",
       "text": [
        " []\n",
        "81.html"
       ]
      },
      {
       "output_type": "stream",
       "stream": "stdout",
       "text": [
        " []\n",
        "82.html"
       ]
      },
      {
       "output_type": "stream",
       "stream": "stdout",
       "text": [
        " ['Strand Road Seafront Bray Co. Wicklow']\n",
        "84.html"
       ]
      },
      {
       "output_type": "stream",
       "stream": "stdout",
       "text": [
        " []\n",
        "87.html"
       ]
      },
      {
       "output_type": "stream",
       "stream": "stdout",
       "text": [
        " ['Model Farm Rd Co. Cork']\n",
        "88.html"
       ]
      },
      {
       "output_type": "stream",
       "stream": "stdout",
       "text": [
        " ['University College Cork College Road Cork Ireland']\n",
        "89.html"
       ]
      },
      {
       "output_type": "stream",
       "stream": "stdout",
       "text": [
        " ['The Financial Services Ombudsman3rd Floor Lincoln House Lincoln Place Dublin 2', 'Allianz House Elmpark Merrion Road Dublin 4,Ireland Head Office Switchboard Phone Number']\n",
        "9.html []\n",
        "90.html"
       ]
      },
      {
       "output_type": "stream",
       "stream": "stdout",
       "text": [
        " ['Derryolam HouseShercock Road Carrickmacross Co. MonaghanIreland', 'Huntstown Co. Dublin', 'St. Patricks National School Location: Stamullen Co. Meath', 'Ballyfermot Co. Dublin']\n",
        "95.html"
       ]
      },
      {
       "output_type": "stream",
       "stream": "stdout",
       "text": [
        " []\n",
        "96.html"
       ]
      },
      {
       "output_type": "stream",
       "stream": "stdout",
       "text": [
        " []\n",
        "97.html"
       ]
      },
      {
       "output_type": "stream",
       "stream": "stdout",
       "text": [
        " []\n",
        "98.html"
       ]
      },
      {
       "output_type": "stream",
       "stream": "stdout",
       "text": [
        " ['Unit 5 Charlesland Centre Greystones Wicklow']\n"
       ]
      }
     ],
     "prompt_number": 31
    },
    {
     "cell_type": "code",
     "collapsed": false,
     "input": [],
     "language": "python",
     "metadata": {},
     "outputs": []
    }
   ],
   "metadata": {}
  }
 ]
}