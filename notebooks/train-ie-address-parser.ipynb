{
 "metadata": {
  "name": "train-ie-address-parser"
 },
 "nbformat": 3,
 "nbformat_minor": 0,
 "worksheets": [
  {
   "cells": [
    {
     "cell_type": "code",
     "collapsed": false,
     "input": [
      "import os\n",
      "import sys\n",
      "import re\n",
      "import codecs\n",
      "import random\n",
      "import itertools\n",
      "\n",
      "sys.path.insert(0, '../')\n",
      "\n",
      "import wapiti\n",
      "from webstruct.wapiti import WapitiFeatureEncoder\n",
      "from webstruct.feature_extraction import HtmlFeaturesExtractor\n",
      "from webstruct.features import DEFAULT\n",
      "from webstruct.htmls import kill_tags, replace_tags\n",
      "\n",
      "class IrelandHtmlFeaturesExtraction(HtmlFeaturesExtractor):\n",
      "    def preprocess(self, html, encoding=None):\n",
      "        doc = super(IrelandHtmlFeaturesExtraction, self).preprocess(html, encoding=encoding)\n",
      "        doc = replace_tags(doc, ['h2', 'h3', 'h4'], 'strong')\n",
      "        doc = kill_tags(doc, ['br'], keep_child=False)\n",
      "        return doc\n",
      "\n",
      "def tagged_data(folder):\n",
      "    for fname in os.listdir(folder):\n",
      "        path = os.path.join(folder, fname)\n",
      "        try:\n",
      "            with codecs.open(path, 'r', encoding='utf8') as f:\n",
      "                yield path, f.read()\n",
      "        except UnicodeDecodeError:\n",
      "            print 'unicode decode error', path\n",
      "            \n",
      "fe = IrelandHtmlFeaturesExtraction({'addr'}, DEFAULT)\n",
      "\n",
      "def fit_wapiti_encoder(tagged_data_iter):\n",
      "    we = WapitiFeatureEncoder(['token', 'lower'])    \n",
      "    for path, html in tagged_data_iter:\n",
      "        try:\n",
      "            features, labels = fe.fit_transform(html, encoding='utf8')\n",
      "            we.partial_fit(features)\n",
      "        except Exception as e:\n",
      "            print(\"error decoding %s:\\n%s\" % (path, e))\n",
      "    return we\n",
      "\n",
      "\n",
      "def to_wapiti_seq(features, labels, include_labels=True):\n",
      "    lines = []\n",
      "    for line, label in zip(we.transform(features), labels):\n",
      "        if include_labels:\n",
      "            lines.append(\"%s %s\" % (line, label))\n",
      "        else:\n",
      "            lines.append(line)\n",
      "    return '\\n'.join(lines)\n",
      "    \n",
      "\n",
      "def iter_wapiti_sequences(tagged_data_iter, we, include_labels=True):\n",
      "    \n",
      "    for path, html in tagged_data_iter:\n",
      "        try:\n",
      "            features, labels = fe.fit_transform(html, encoding='utf8')\n",
      "        except AssertionError as e:\n",
      "            print(\"error decoding %s:\\n%s\" % (path, e))\n",
      "        else:\n",
      "            yield to_wapiti_seq(features, labels, include_labels)\n",
      "        \n",
      "    \n",
      "def create_wapiti_data(fname, tagged_data_iter, we, include_labels=True):\n",
      "    with codecs.open(fname, 'w', encoding='utf8') as f:            \n",
      "        for seq in iter_wapiti_sequences(tagged_data_iter, we, include_labels):\n",
      "            f.write(seq)\n",
      "            f.write('\\n\\n')\n",
      "            "
     ],
     "language": "python",
     "metadata": {},
     "outputs": [],
     "prompt_number": 27
    },
    {
     "cell_type": "code",
     "collapsed": false,
     "input": [
      "corpus_paths = [\n",
      "    '../webstruct_data/corpus/ie/annotated/',\n",
      "]\n",
      "\n",
      "data = list(itertools.chain(*map(tagged_data, corpus_paths)))\n",
      "print len(data)\n",
      "\n",
      "random.shuffle(data)\n",
      "train, dev = data[:80], data[80:]\n",
      "\n",
      "print(len(train), len(dev))\n",
      "\n",
      "we = fit_wapiti_encoder(train)\n",
      "\n",
      "create_wapiti_data('ie_addr_train.txt', train, we=we)\n",
      "create_wapiti_data('ie_addr_test.txt', dev, we=we)\n",
      "\n",
      "from sklearn.externals.joblib import dump\n",
      "dump(we, 'ie-address-parser-wfe.joblib', compress=1)\n",
      "dump(fe, 'ie-address-parser-fe.joblib', compress=1)"
     ],
     "language": "python",
     "metadata": {},
     "outputs": [
      {
       "output_type": "stream",
       "stream": "stdout",
       "text": [
        "103"
       ]
      },
      {
       "output_type": "stream",
       "stream": "stdout",
       "text": [
        "\n",
        "(80, 23)\n"
       ]
      },
      {
       "output_type": "pyout",
       "prompt_number": 43,
       "text": [
        "['ie-address-parser-fe.joblib']"
       ]
      }
     ],
     "prompt_number": 43
    },
    {
     "cell_type": "code",
     "collapsed": false,
     "input": [
      "template = '''\n",
      "# Label unigram & bigram\n",
      "*\n",
      "\n",
      "# Nearby token unigrams (lower)\n",
      "u-LL:%x[-2,lower]\n",
      "u--L:%x[-1,lower]\n",
      "u--R:%x[ 1,lower]\n",
      "u-RR:%x[ 2,lower]\n",
      "\n",
      "# Nearby token bigrams (lower)\n",
      "u:wrd-2-LL:%x[-2,lower]/%x[-1,lower]\n",
      "u:wrd-2-L:%x[-1,lower]/%x[0,lower]\n",
      "u:wrd-2-R:%x[0,lower]/%x[1,lower]\n",
      "u:wrd-2-RR:%x[1,lower]/%x[2,lower]\n",
      "\n",
      "# Nearby shapes\n",
      "u:shape-L:%x[-1,shape]\n",
      "u:shape-R:%x[1,shape]\n",
      "u:shape-2-L:%x[-1,shape]/%x[0,shape]\n",
      "u:shape-2-R:%x[0,shape]/%x[1,shape]\n",
      "\n",
      "# num patterns\n",
      "u:pattern--L:%x[-1,num_pattern2]\n",
      "u:pattern--R:%x[ 1,num_pattern2]\n",
      "\n",
      "# word/shape\n",
      "u:wrd-2-shape-L:%x[-1,lower]/%x[0,shape]\n",
      "u:wrd-2-shape-R:%x[0,lower]/%x[1,shape]\n",
      "\n",
      "# nearby bold \n",
      "u:inside_tag_strong-2-L:%x[-1,inside_tag_strong]/%x[0,inside_tag_strong]\n",
      "u:inside_tag_strong-2-R:%x[0,inside_tag_strong]/%x[1,inside_tag_strong]\n",
      "\n",
      "# borders\n",
      "u:wrd-border-L:%x[-1,lower]/%x[0,border_at_left]\n",
      "u:wrd-border-R:%x[0,lower]/%x[1,border_at_left]\n",
      "u:wrd-border-RR:%x[0,lower]/%x[2,border_at_left]\n",
      "\n",
      "# number and street\n",
      "u:shape-street-L:%x[-2,shape]/%x[0,common_street_part]\n",
      "'''\n",
      "\n",
      "wapiti_template = we.unigram_features_template() + we.prepare_template(template) \n",
      "\n",
      "with codecs.open('ie-address-parser-template.txt', 'w', encoding='utf8') as f:\n",
      "    f.write(wapiti_template)"
     ],
     "language": "python",
     "metadata": {},
     "outputs": [],
     "prompt_number": 44
    },
    {
     "cell_type": "code",
     "collapsed": false,
     "input": [
      "!wapiti train --pattern ie-address-parser-template.txt --algo l-bfgs ie_addr_train.txt ie-address-parser.wapiti --nthread 4 --jobsize 8"
     ],
     "language": "python",
     "metadata": {},
     "outputs": [
      {
       "output_type": "stream",
       "stream": "stdout",
       "text": [
        "* Load patterns\r\n",
        "* Load training data\r\n"
       ]
      },
      {
       "output_type": "stream",
       "stream": "stdout",
       "text": [
        "* Initialize the model\r\n",
        "* Summary\r\n",
        "    nb train:    80\r\n",
        "    nb labels:   3\r\n",
        "    nb blocks:   115772\r\n",
        "    nb features: 534156\r\n",
        "* Train the model with l-bfgs\r\n"
       ]
      },
      {
       "output_type": "stream",
       "stream": "stdout",
       "text": [
        "  [   1] obj=4677.51    act=247903   err= 3.75%/66.25% time=0.20s/0.20s\r\n"
       ]
      },
      {
       "output_type": "stream",
       "stream": "stdout",
       "text": [
        "  [   2] obj=4359.68    act=120392   err= 3.75%/66.25% time=0.11s/0.31s\r\n"
       ]
      },
      {
       "output_type": "stream",
       "stream": "stdout",
       "text": [
        "  [   3] obj=715.51     act=24645    err= 2.86%/65.00% time=0.12s/0.43s\r\n"
       ]
      },
      {
       "output_type": "stream",
       "stream": "stdout",
       "text": [
        "  [   4] obj=485.45     act=28004    err= 2.23%/57.50% time=0.54s/0.97s\r\n"
       ]
      },
      {
       "output_type": "stream",
       "stream": "stdout",
       "text": [
        "  [   5] obj=480.99     act=31201    err= 2.18%/58.75% time=0.48s/1.45s\r\n"
       ]
      },
      {
       "output_type": "stream",
       "stream": "stdout",
       "text": [
        "  [   6] obj=477.00     act=30618    err= 2.25%/58.75% time=0.46s/1.92s\r\n"
       ]
      },
      {
       "output_type": "stream",
       "stream": "stdout",
       "text": [
        "  [   7] obj=475.73     act=31223    err= 2.16%/58.75% time=0.80s/2.72s\r\n"
       ]
      },
      {
       "output_type": "stream",
       "stream": "stdout",
       "text": [
        "  [   8] obj=468.73     act=30828    err= 2.16%/58.75% time=0.26s/2.98s\r\n"
       ]
      },
      {
       "output_type": "stream",
       "stream": "stdout",
       "text": [
        "  [   9] obj=454.29     act=30639    err= 2.21%/57.50% time=0.15s/3.13s\r\n"
       ]
      },
      {
       "output_type": "stream",
       "stream": "stdout",
       "text": [
        "  [  10] obj=412.22     act=27875    err= 1.95%/52.50% time=0.16s/3.28s\r\n"
       ]
      },
      {
       "output_type": "stream",
       "stream": "stdout",
       "text": [
        "  [  11] obj=351.27     act=24458    err= 1.83%/48.75% time=0.14s/3.42s\r\n"
       ]
      },
      {
       "output_type": "stream",
       "stream": "stdout",
       "text": [
        "  [  12] obj=333.12     act=23316    err= 1.49%/40.00% time=0.12s/3.54s\r\n"
       ]
      },
      {
       "output_type": "stream",
       "stream": "stdout",
       "text": [
        "  [  13] obj=303.76     act=25263    err= 1.33%/43.75% time=0.12s/3.66s\r\n"
       ]
      },
      {
       "output_type": "stream",
       "stream": "stdout",
       "text": [
        "  [  14] obj=293.58     act=24332    err= 1.28%/41.25% time=0.12s/3.78s\r\n"
       ]
      },
      {
       "output_type": "stream",
       "stream": "stdout",
       "text": [
        "  [  15] obj=269.31     act=23192    err= 1.04%/37.50% time=0.12s/3.90s\r\n"
       ]
      },
      {
       "output_type": "stream",
       "stream": "stdout",
       "text": [
        "  [  16] obj=255.29     act=18170    err= 0.88%/27.50% time=0.13s/4.03s\r\n"
       ]
      },
      {
       "output_type": "stream",
       "stream": "stdout",
       "text": [
        "  [  17] obj=227.81     act=18285    err= 1.11%/35.00% time=0.13s/4.16s\r\n"
       ]
      },
      {
       "output_type": "stream",
       "stream": "stdout",
       "text": [
        "  [  18] obj=214.48     act=17353    err= 0.76%/27.50% time=0.13s/4.29s\r\n"
       ]
      },
      {
       "output_type": "stream",
       "stream": "stdout",
       "text": [
        "  [  19] obj=201.37     act=17652    err= 0.64%/26.25% time=0.13s/4.42s\r\n"
       ]
      },
      {
       "output_type": "stream",
       "stream": "stdout",
       "text": [
        "  [  20] obj=193.07     act=16657    err= 0.60%/25.00% time=0.15s/4.57s\r\n"
       ]
      },
      {
       "output_type": "stream",
       "stream": "stdout",
       "text": [
        "  [  21] obj=182.91     act=14107    err= 0.56%/18.75% time=0.14s/4.71s\r\n"
       ]
      },
      {
       "output_type": "stream",
       "stream": "stdout",
       "text": [
        "  [  22] obj=171.91     act=14645    err= 0.65%/25.00% time=0.12s/4.83s\r\n"
       ]
      },
      {
       "output_type": "stream",
       "stream": "stdout",
       "text": [
        "  [  23] obj=168.64     act=14322    err= 0.65%/25.00% time=0.12s/4.95s\r\n"
       ]
      },
      {
       "output_type": "stream",
       "stream": "stdout",
       "text": [
        "  [  24] obj=163.88     act=13562    err= 0.51%/18.75% time=0.12s/5.07s\r\n"
       ]
      },
      {
       "output_type": "stream",
       "stream": "stdout",
       "text": [
        "  [  25] obj=158.29     act=11480    err= 0.60%/18.75% time=0.12s/5.19s\r\n"
       ]
      },
      {
       "output_type": "stream",
       "stream": "stdout",
       "text": [
        "  [  26] obj=150.58     act=11310    err= 0.40%/13.75% time=0.13s/5.33s\r\n"
       ]
      },
      {
       "output_type": "stream",
       "stream": "stdout",
       "text": [
        "  [  27] obj=147.66     act=10945    err= 0.36%/13.75% time=0.13s/5.46s\r\n"
       ]
      },
      {
       "output_type": "stream",
       "stream": "stdout",
       "text": [
        "  [  28] obj=144.93     act=10652    err= 0.23%/10.00% time=0.12s/5.58s\r\n"
       ]
      },
      {
       "output_type": "stream",
       "stream": "stdout",
       "text": [
        "  [  29] obj=141.62     act=9955     err= 0.31%/13.75% time=0.12s/5.70s\r\n"
       ]
      },
      {
       "output_type": "stream",
       "stream": "stdout",
       "text": [
        "  [  30] obj=139.86     act=9705     err= 0.23%/11.25% time=0.12s/5.82s\r\n"
       ]
      },
      {
       "output_type": "stream",
       "stream": "stdout",
       "text": [
        "  [  31] obj=137.59     act=9197     err= 0.31%/13.75% time=0.12s/5.94s\r\n"
       ]
      },
      {
       "output_type": "stream",
       "stream": "stdout",
       "text": [
        "  [  32] obj=135.66     act=8400     err= 0.15%/ 8.75% time=0.12s/6.07s\r\n"
       ]
      },
      {
       "output_type": "stream",
       "stream": "stdout",
       "text": [
        "  [  33] obj=132.66     act=7776     err= 0.09%/ 5.00% time=0.12s/6.19s\r\n"
       ]
      },
      {
       "output_type": "stream",
       "stream": "stdout",
       "text": [
        "  [  34] obj=130.98     act=6956     err= 0.11%/ 6.25% time=0.12s/6.31s\r\n"
       ]
      },
      {
       "output_type": "stream",
       "stream": "stdout",
       "text": [
        "  [  35] obj=127.88     act=6489     err= 0.12%/ 5.00% time=0.12s/6.43s\r\n"
       ]
      },
      {
       "output_type": "stream",
       "stream": "stdout",
       "text": [
        "  [  36] obj=126.92     act=5779     err= 0.00%/ 0.00% time=0.12s/6.55s\r\n"
       ]
      },
      {
       "output_type": "stream",
       "stream": "stdout",
       "text": [
        "  [  37] obj=124.25     act=5528     err= 0.02%/ 1.25% time=0.12s/6.67s\r\n"
       ]
      },
      {
       "output_type": "stream",
       "stream": "stdout",
       "text": [
        "  [  38] obj=123.42     act=5285     err= 0.00%/ 0.00% time=0.13s/6.80s\r\n"
       ]
      },
      {
       "output_type": "stream",
       "stream": "stdout",
       "text": [
        "  [  39] obj=121.68     act=4854     err= 0.10%/ 3.75% time=0.12s/6.92s\r\n"
       ]
      },
      {
       "output_type": "stream",
       "stream": "stdout",
       "text": [
        "  [  40] obj=121.50     act=4635     err= 0.02%/ 1.25% time=0.12s/7.04s\r\n"
       ]
      },
      {
       "output_type": "stream",
       "stream": "stdout",
       "text": [
        "  [  41] obj=119.32     act=4415     err= 0.03%/ 1.25% time=0.12s/7.17s\r\n"
       ]
      },
      {
       "output_type": "stream",
       "stream": "stdout",
       "text": [
        "  [  42] obj=118.72     act=4220     err= 0.00%/ 0.00% time=0.12s/7.29s\r\n"
       ]
      },
      {
       "output_type": "stream",
       "stream": "stdout",
       "text": [
        "  [  43] obj=117.62     act=3803     err= 0.11%/ 3.75% time=0.12s/7.41s\r\n"
       ]
      },
      {
       "output_type": "stream",
       "stream": "stdout",
       "text": [
        "  [  44] obj=117.04     act=3782     err= 0.00%/ 0.00% time=0.12s/7.53s\r\n"
       ]
      },
      {
       "output_type": "stream",
       "stream": "stdout",
       "text": [
        "  [  45] obj=115.74     act=3576     err= 0.11%/ 3.75% time=0.13s/7.65s\r\n"
       ]
      },
      {
       "output_type": "stream",
       "stream": "stdout",
       "text": [
        "  [  46] obj=115.30     act=3467     err= 0.04%/ 1.25% time=0.16s/7.82s\r\n"
       ]
      },
      {
       "output_type": "stream",
       "stream": "stdout",
       "text": [
        "  [  47] obj=114.23     act=3211     err= 0.07%/ 2.50% time=0.14s/7.96s\r\n"
       ]
      },
      {
       "output_type": "stream",
       "stream": "stdout",
       "text": [
        "  [  48] obj=114.04     act=3109     err= 0.00%/ 0.00% time=0.12s/8.08s\r\n"
       ]
      },
      {
       "output_type": "stream",
       "stream": "stdout",
       "text": [
        "  [  49] obj=113.06     act=2956     err= 0.07%/ 2.50% time=0.12s/8.20s\r\n"
       ]
      },
      {
       "output_type": "stream",
       "stream": "stdout",
       "text": [
        "  [  50] obj=112.75     act=2817     err= 0.03%/ 1.25% time=0.12s/8.32s\r\n"
       ]
      },
      {
       "output_type": "stream",
       "stream": "stdout",
       "text": [
        "  [  51] obj=112.22     act=2569     err= 0.09%/ 3.75% time=0.13s/8.44s\r\n"
       ]
      },
      {
       "output_type": "stream",
       "stream": "stdout",
       "text": [
        "* Save the model\r\n",
        "* Done\r\n"
       ]
      }
     ],
     "prompt_number": 45
    },
    {
     "cell_type": "code",
     "collapsed": false,
     "input": [
      "!wapiti label --model ie-address-parser.wapiti -c ie_addr_test.txt res.txt"
     ],
     "language": "python",
     "metadata": {},
     "outputs": [
      {
       "output_type": "stream",
       "stream": "stdout",
       "text": [
        "* Load model\r\n"
       ]
      },
      {
       "output_type": "stream",
       "stream": "stdout",
       "text": [
        "* Label sequences\r\n"
       ]
      },
      {
       "output_type": "stream",
       "stream": "stdout",
       "text": [
        "    Nb sequences  : 23\r\n",
        "    Token error   :  1.30%\r\n",
        "    Sequence error: 39.13%\r\n",
        "* Per label statistics\r\n",
        "    O       Pr=0.99  Rc=1.00  F1=0.99\r\n",
        "    B-ADDR  Pr=0.88  Rc=0.67  F1=0.76\r\n",
        "    I-ADDR  Pr=0.90  Rc=0.76  F1=0.83\r\n",
        "* Done\r\n"
       ]
      }
     ],
     "prompt_number": 46
    },
    {
     "cell_type": "code",
     "collapsed": false,
     "input": [
      "import wapiti\n",
      "sys.path.insert(0, '../')\n",
      "\n",
      "from sklearn.externals import joblib\n",
      "from urllib2 import urlopen\n",
      "from w3lib.encoding import html_to_unicode\n",
      "from webstruct.wapiti import WapitiChunker\n",
      "\n",
      "feature_extractor = joblib.load('ie-address-parser-fe.joblib')\n",
      "feature_encoder = joblib.load('ie-address-parser-wfe.joblib')\n",
      "wapiti_model = wapiti.Model(model='ie-address-parser.wapiti')\n",
      "ner = WapitiChunker(wapiti_model, feature_encoder, feature_extractor=feature_extractor)"
     ],
     "language": "python",
     "metadata": {},
     "outputs": [],
     "prompt_number": 47
    },
    {
     "cell_type": "code",
     "collapsed": false,
     "input": [
      "url = 'http://www.gillianosullivan.ie/contact.htm'\n",
      "url = 'http://www.imma.ie/en/subnav_91.htm'\n",
      "url = 'http://www.wechrome.com/'\n",
      "html = urlopen(url=url).read()\n",
      "\n",
      "for text, label in ner.transform(html):\n",
      "    if label != 'O':\n",
      "        print label, text\n"
     ],
     "language": "python",
     "metadata": {},
     "outputs": [
      {
       "output_type": "stream",
       "stream": "stdout",
       "text": [
        "ADDR"
       ]
      },
      {
       "output_type": "stream",
       "stream": "stdout",
       "text": [
        " Unit 6 Landys Industrial Estate Knocklyon Road Dublin 16 Ireland\n"
       ]
      }
     ],
     "prompt_number": 48
    },
    {
     "cell_type": "code",
     "collapsed": false,
     "input": [
      "import glob\n",
      "import os\n",
      "\n",
      "def parse_address(html):\n",
      "    r = []\n",
      "    for text, label in ner.transform(html):\n",
      "        if label == 'ADDR':\n",
      "            r.append(text)\n",
      "    return r\n",
      "\n",
      "# test on unseen pages\n",
      "for path in glob.glob('../webstruct_data/corpus/ireland_contact_pages/source/*.html'):\n",
      "    with open(path, 'r') as f:\n",
      "        html = f.read()\n",
      "        try:\n",
      "            r = parse_address(html)\n",
      "            print os.path.split(path)[1], r\n",
      "        except BaseException, e:\n",
      "            pass\n",
      "        "
     ],
     "language": "python",
     "metadata": {},
     "outputs": [
      {
       "output_type": "stream",
       "stream": "stdout",
       "text": [
        "1.html [u'UCD Earth Institute UCD Science Centre South University College Dublin Belfield Dublin 4 Ireland']\n",
        "10.html"
       ]
      },
      {
       "output_type": "stream",
       "stream": "stdout",
       "text": [
        " ['The Private Security Authority Davis Street Tipperary Town', 'The Private Security Authority Davis Street Tipperary Town']\n",
        "100.html"
       ]
      },
      {
       "output_type": "stream",
       "stream": "stdout",
       "text": [
        " ['Tickets.ie P.O. Box 10763 Dublin 1 Ireland']\n",
        "102.html"
       ]
      },
      {
       "output_type": "stream",
       "stream": "stdout",
       "text": [
        " []\n",
        "104.html"
       ]
      },
      {
       "output_type": "stream",
       "stream": "stdout",
       "text": [
        " ['College Rd Cork']\n",
        "105.html"
       ]
      },
      {
       "output_type": "stream",
       "stream": "stdout",
       "text": [
        " ['Digges Lane Dublin 2']\n",
        "109.html"
       ]
      },
      {
       "output_type": "stream",
       "stream": "stdout",
       "text": [
        " ['Unit 6 City Centre North Dublin Area Code : Dublin 1']\n",
        "11.html"
       ]
      },
      {
       "output_type": "stream",
       "stream": "stdout",
       "text": [
        " []\n",
        "115.html"
       ]
      },
      {
       "output_type": "stream",
       "stream": "stdout",
       "text": [
        " [u'Sustainable Energy Authority of Ireland Wilton Park House Wilton Place Dublin']\n",
        "120.html"
       ]
      },
      {
       "output_type": "stream",
       "stream": "stdout",
       "text": [
        " [u'D\\xe1il Eireann ( Lenister House ) Kildare Street Dublin 2', 'Carmelite Community Centre Aungier Street Monday @ 4pm St Andrews Resource Centre Pearse Street Thursday @ 7pm Ringsend & Irishtown Community Centre Thorncastle Street']\n",
        "121.html"
       ]
      },
      {
       "output_type": "stream",
       "stream": "stdout",
       "text": [
        " [\"Our Lady's Hospice Harold's Cross Dublin 6W Blackrock Hospice Sweetman's Avenue Blackrock Co. Dublin\"]\n",
        "123.html"
       ]
      },
      {
       "output_type": "stream",
       "stream": "stdout",
       "text": [
        " ['Unit 3 Mill St. Maynooth Kildare']\n",
        "126.html"
       ]
      },
      {
       "output_type": "stream",
       "stream": "stdout",
       "text": [
        " ['Spanish Arch Hotel Quay Street Galway Ireland.']\n",
        "128.html"
       ]
      },
      {
       "output_type": "stream",
       "stream": "stdout",
       "text": [
        " []\n",
        "129.html"
       ]
      },
      {
       "output_type": "stream",
       "stream": "stdout",
       "text": [
        " ['Ballybrit Business Park Ballybrit Galway']\n",
        "131.html"
       ]
      },
      {
       "output_type": "stream",
       "stream": "stdout",
       "text": [
        " ['Fish Restaurant & Accommodation East Pier Howth Co. Dublin Rep. of Ireland.']\n",
        "132.html"
       ]
      },
      {
       "output_type": "stream",
       "stream": "stdout",
       "text": [
        " ['28 Lower Drumcondra Road Dublin 9']\n",
        "147.html"
       ]
      },
      {
       "output_type": "stream",
       "stream": "stdout",
       "text": [
        " [u'Irish Tax Institute South Block Longboat Quay Grand Canal Harbour Dublin 2 Ireland']\n",
        "150.html"
       ]
      },
      {
       "output_type": "stream",
       "stream": "stdout",
       "text": [
        " [\"The McKeown Library St. Angela's College Lough Gill Sligo Ireland\"]\n",
        "152.html"
       ]
      },
      {
       "output_type": "stream",
       "stream": "stdout",
       "text": [
        " [\"Ground Floor George's Quay House 43 Townsend St Dublin 2 Ireland\"]\n",
        "153.html ['Davis Lane Mallow Co. Cork']\n",
        "155.html"
       ]
      },
      {
       "output_type": "stream",
       "stream": "stdout",
       "text": [
        " ['Arva Garda Station Main Street R203 Arva Co. Cavan']\n",
        "156.html"
       ]
      },
      {
       "output_type": "stream",
       "stream": "stdout",
       "text": [
        " ['Lahinch Beach Front Lahinch Co. Clare Ireland']\n",
        "158.html"
       ]
      },
      {
       "output_type": "stream",
       "stream": "stdout",
       "text": [
        " ['Fallons Restaurant & Bar Main St. Kilcullen Co. Kildare Ireland']\n",
        "165.html"
       ]
      },
      {
       "output_type": "stream",
       "stream": "stdout",
       "text": [
        " ['Workplace Options Block 6 Belfield Office Park Clonskeagh Dublin 4']\n",
        "171.html"
       ]
      },
      {
       "output_type": "stream",
       "stream": "stdout",
       "text": [
        " ['Dun Laoghaire Co. Dublin']\n",
        "174.html"
       ]
      },
      {
       "output_type": "stream",
       "stream": "stdout",
       "text": [
        " []\n",
        "178.html"
       ]
      },
      {
       "output_type": "stream",
       "stream": "stdout",
       "text": [
        " ['Ditchley House Little Island Cork Ireland']\n",
        "179.html"
       ]
      },
      {
       "output_type": "stream",
       "stream": "stdout",
       "text": [
        " []\n",
        "182.html"
       ]
      },
      {
       "output_type": "stream",
       "stream": "stdout",
       "text": [
        " ['Unit 11 Kilbarrack Shopping Centre Kilbarrack Dublin 5', 'Artane Baldoyle Balgriffin Clarehall Coolock Donaghmede Grange Abbey Hamenstown Raheny Dub 13']\n",
        "185.html"
       ]
      },
      {
       "output_type": "stream",
       "stream": "stdout",
       "text": [
        " []\n",
        "186.html"
       ]
      },
      {
       "output_type": "stream",
       "stream": "stdout",
       "text": [
        " [\"School of Medicine UCC @ St. Finbarr's Hospital The Bungalow Block 13 Douglas Road Cork Republic of Ireland\"]\n",
        "189.html"
       ]
      },
      {
       "output_type": "stream",
       "stream": "stdout",
       "text": [
        " ['ASTI Thomas MacDonagh House Winetavern Street Dublin 8']\n",
        "192.html"
       ]
      },
      {
       "output_type": "stream",
       "stream": "stdout",
       "text": [
        " []\n",
        "193.html"
       ]
      },
      {
       "output_type": "stream",
       "stream": "stdout",
       "text": [
        " ['UPC Po Box 321 Dublin 3']\n",
        "194.html"
       ]
      },
      {
       "output_type": "stream",
       "stream": "stdout",
       "text": [
        " ['Number 58 Upper Grand Canal Street Dublin 4']\n",
        "195.html"
       ]
      },
      {
       "output_type": "stream",
       "stream": "stdout",
       "text": [
        " ['Unit 3D Sandyford Industrial Estate Dublin 18']\n",
        "204.html"
       ]
      },
      {
       "output_type": "stream",
       "stream": "stdout",
       "text": [
        " [u'3 Clonskeagh Square Dublin 14 Ireland']\n",
        "220.html"
       ]
      },
      {
       "output_type": "stream",
       "stream": "stdout",
       "text": [
        " ['University of Limerick Limerick Ireland']\n",
        "224.html"
       ]
      },
      {
       "output_type": "stream",
       "stream": "stdout",
       "text": [
        " [u'Mary Raftery Journalism Fund c/o DHR Communications 1st Floor 30 \\u2013 31 Francis Street Dublin 8']\n",
        "228.html"
       ]
      },
      {
       "output_type": "stream",
       "stream": "stdout",
       "text": [
        " ['College DublinBelfield Dublin 4 Ireland', 'Park University College Dublin Belfield Dublin 4 Ireland']\n",
        "229.html"
       ]
      },
      {
       "output_type": "stream",
       "stream": "stdout",
       "text": [
        " ['Lero - the Irish Software Engineering Research Centre Tierney Building University of Limerick Ireland']\n",
        "231.html"
       ]
      },
      {
       "output_type": "stream",
       "stream": "stdout",
       "text": [
        " []\n",
        "240.html"
       ]
      },
      {
       "output_type": "stream",
       "stream": "stdout",
       "text": [
        " ['244 Clontarf Rd Clontarf Dublin 3', 'Artane Clontarf Copeland Dollymount Dublin Port Eastwall Fairview IFSC Kilester Marino']\n",
        "242.html"
       ]
      },
      {
       "output_type": "stream",
       "stream": "stdout",
       "text": [
        " ['Free Legal Advice Centres,13 Lower Dorset Street Dublin 1 Ireland']\n",
        "244.html"
       ]
      },
      {
       "output_type": "stream",
       "stream": "stdout",
       "text": [
        " ['31 & 32 Lower Pembroke Street Dublin 2']\n",
        "246.html"
       ]
      },
      {
       "output_type": "stream",
       "stream": "stdout",
       "text": [
        " ['Northgate Street Athlone Co Westmeath Ireland', u'Northgate Street - Co. Westmeath Co. Westmeath']\n",
        "250.html"
       ]
      },
      {
       "output_type": "stream",
       "stream": "stdout",
       "text": [
        " ['Unit 3 Mill St Maynooth Co Kildare']\n",
        "251.html"
       ]
      },
      {
       "output_type": "stream",
       "stream": "stdout",
       "text": [
        " ['The Cottage Restaurant Jamestown Carrick-on-Shannon Co. Leitrim']\n",
        "253.html []\n",
        "254.html"
       ]
      },
      {
       "output_type": "stream",
       "stream": "stdout",
       "text": [
        " []\n",
        "258.html"
       ]
      },
      {
       "output_type": "stream",
       "stream": "stdout",
       "text": [
        " [u'Greenhills Retail Park Greenhills Road Tallaght Dublin 24.', 'Greenhills Road Tallaght Dublin 24']\n",
        "26.html"
       ]
      },
      {
       "output_type": "stream",
       "stream": "stdout",
       "text": [
        " ['Cavan Innovation and Technology Centre Dublin Road Cavan.']\n",
        "273.html"
       ]
      },
      {
       "output_type": "stream",
       "stream": "stdout",
       "text": [
        " ['South Circular Road Limerick Ireland']\n",
        "294.html"
       ]
      },
      {
       "output_type": "stream",
       "stream": "stdout",
       "text": [
        " []\n",
        "301.html ['Star Elm Frames Ltd. Barnakyle Logistics Centre Raheen Business Park Raheen Limerick']\n",
        "302.html"
       ]
      },
      {
       "output_type": "stream",
       "stream": "stdout",
       "text": [
        " []\n",
        "309.html"
       ]
      },
      {
       "output_type": "stream",
       "stream": "stdout",
       "text": [
        " [u'Management Suite GPO O\\u2019Connell Street Dublin 1']\n",
        "31.html"
       ]
      },
      {
       "output_type": "stream",
       "stream": "stdout",
       "text": [
        " ['The O2 North Wall Quay Dublin 1 Republic Of Ireland']\n",
        "310.html"
       ]
      },
      {
       "output_type": "stream",
       "stream": "stdout",
       "text": [
        " []\n",
        "313.html"
       ]
      },
      {
       "output_type": "stream",
       "stream": "stdout",
       "text": [
        " ['1st Floor Kinvara House Dublin Hill Cork']\n",
        "315.html"
       ]
      },
      {
       "output_type": "stream",
       "stream": "stdout",
       "text": [
        " []\n",
        "316.html"
       ]
      },
      {
       "output_type": "stream",
       "stream": "stdout",
       "text": [
        " ['Drumcor Loughduff Co. Cavan Ireland', u'. Drumcor Loughduff Co. Cavan Ireland']\n",
        "317.html"
       ]
      },
      {
       "output_type": "stream",
       "stream": "stdout",
       "text": [
        " ['The Admissions Team Dublin Business School 13/14 Aungier Street Dublin 2 Ireland', 'International Department Dublin Business School 13/14 Aungier Street Dublin 2 Ireland', 'Dublin Business School. 13/14 Aungier Street Dublin 2 Ireland']\n",
        "320.html"
       ]
      },
      {
       "output_type": "stream",
       "stream": "stdout",
       "text": [
        " ['Private Residential Tenancies Board Canal House Canal Road Dublin 6.']\n",
        "323.html"
       ]
      },
      {
       "output_type": "stream",
       "stream": "stdout",
       "text": [
        " []\n",
        "329.html"
       ]
      },
      {
       "output_type": "stream",
       "stream": "stdout",
       "text": [
        " [u'Wilson Hartnell Public Relations 6 Ely Place Dublin 2.']\n",
        "332.html"
       ]
      },
      {
       "output_type": "stream",
       "stream": "stdout",
       "text": [
        " ['Ambassador Restaurant 3 Cook Street Cork City Ireland']\n",
        "338.html"
       ]
      },
      {
       "output_type": "stream",
       "stream": "stdout",
       "text": [
        " [\"Citizens Information Board Ground Floor George's Quay House 43 Townsend St Dublin 2\"]\n",
        "342.html"
       ]
      },
      {
       "output_type": "stream",
       "stream": "stdout",
       "text": [
        " []\n",
        "343.html"
       ]
      },
      {
       "output_type": "stream",
       "stream": "stdout",
       "text": [
        " []\n",
        "349.html"
       ]
      },
      {
       "output_type": "stream",
       "stream": "stdout",
       "text": [
        " [\"St. Paul's Secondary School Greenhills Dublin 12 |\"]\n",
        "355.html ['Irish Hospice Foundation 32 Nassau Street Dublin 2']\n",
        "356.html"
       ]
      },
      {
       "output_type": "stream",
       "stream": "stdout",
       "text": [
        " []\n",
        "357.html"
       ]
      },
      {
       "output_type": "stream",
       "stream": "stdout",
       "text": [
        " ['Unit 16 Oaklawns Hall Dr. Cullen Road Carlow', 'Unit 16 Oaklawns Hall Dr. Cullen Road Carlow']\n",
        "360.html"
       ]
      },
      {
       "output_type": "stream",
       "stream": "stdout",
       "text": [
        " [u'O\\u2019Brien Road Carlow Ireland']\n",
        "367.html"
       ]
      },
      {
       "output_type": "stream",
       "stream": "stdout",
       "text": [
        " ['Johnstown Business CentreJohnstown HouseJohnstown Naas Co. Kildare Ireland', 'Johnstown Business Centre Johnstown House Johnstown Naas Co. Kildare Ireland']\n",
        "368.html"
       ]
      },
      {
       "output_type": "stream",
       "stream": "stdout",
       "text": [
        " ['1 Leopardstown Business Park Ballyogan Road Carrickmines Dublin 18 Ireland']\n",
        "372.html"
       ]
      },
      {
       "output_type": "stream",
       "stream": "stdout",
       "text": [
        " ['The Spa Mallow Co Cork']\n",
        "373.html"
       ]
      },
      {
       "output_type": "stream",
       "stream": "stdout",
       "text": [
        " ['28 Lower Drumcondra Road Dublin 9']\n",
        "375.html"
       ]
      },
      {
       "output_type": "stream",
       "stream": "stdout",
       "text": [
        " []\n",
        "379.html"
       ]
      },
      {
       "output_type": "stream",
       "stream": "stdout",
       "text": [
        " []\n",
        "380.html"
       ]
      },
      {
       "output_type": "stream",
       "stream": "stdout",
       "text": [
        " ['Arrigle Business Park Ballyhale Co. Kilkenny.', 'HOLDEN BROTHERS Arrigle Business Park Ballyhale Co. Kilkenny']\n",
        "385.html"
       ]
      },
      {
       "output_type": "stream",
       "stream": "stdout",
       "text": [
        " ['1st Floor Harmony Court Harmony Row 2 Dublin Ireland']\n",
        "387.html"
       ]
      },
      {
       "output_type": "stream",
       "stream": "stdout",
       "text": [
        " ['3 Clonskeagh Square Dublin 14 Ireland']\n",
        "399.html"
       ]
      },
      {
       "output_type": "stream",
       "stream": "stdout",
       "text": [
        " ['Father Mathew Hall Father Mathew Street Cork', 'Father Mathew Hall Father Mathew Street Cork']\n",
        "4.html"
       ]
      },
      {
       "output_type": "stream",
       "stream": "stdout",
       "text": [
        " ['Merrywell Industrial Park Ballymount Road Dublin 22', '33 North Main Street Naas Co. Kildare', 'Killygarry Industrial Park Dublin Road Cavan', 'First Floor Block 4 Quayside Business Park Mill Street Dundalk Co. Louth']\n",
        "400.html"
       ]
      },
      {
       "output_type": "stream",
       "stream": "stdout",
       "text": [
        " []\n",
        "403.html"
       ]
      },
      {
       "output_type": "stream",
       "stream": "stdout",
       "text": [
        " ['Newry Street Carlingford Co. Louth / Ireland']\n",
        "41.html"
       ]
      },
      {
       "output_type": "stream",
       "stream": "stdout",
       "text": [
        " ['Yellowstone Newmarket Hall Newmarket Square Dublin 8']\n",
        "411.html"
       ]
      },
      {
       "output_type": "stream",
       "stream": "stdout",
       "text": [
        " ['Yeats House Barrack Square Ballincollig Co. Cork Ireland']\n",
        "413.html"
       ]
      },
      {
       "output_type": "stream",
       "stream": "stdout",
       "text": [
        " [u'Programme Director Phantom 105.2 Marconi House Digges Lane Dublin 2.']\n",
        "417.html"
       ]
      },
      {
       "output_type": "stream",
       "stream": "stdout",
       "text": [
        " ['Rosslare Road Wexford Town']\n",
        "418.html"
       ]
      },
      {
       "output_type": "stream",
       "stream": "stdout",
       "text": [
        " ['The Mall Westport Co. Mayo']\n",
        "423.html"
       ]
      },
      {
       "output_type": "stream",
       "stream": "stdout",
       "text": [
        " []\n",
        "427.html"
       ]
      },
      {
       "output_type": "stream",
       "stream": "stdout",
       "text": [
        " ['Unit 4c Elmfiled Court Ninth Lock Road Clondalkin Dublin 22']\n",
        "43.html"
       ]
      },
      {
       "output_type": "stream",
       "stream": "stdout",
       "text": [
        " []\n",
        "430.html"
       ]
      },
      {
       "output_type": "stream",
       "stream": "stdout",
       "text": [
        " ['Royal Dublin Society Anglesea Road Ballsbridge Dublin 4']\n",
        "435.html"
       ]
      },
      {
       "output_type": "stream",
       "stream": "stdout",
       "text": [
        " ['51 Shelbourne Road Ballsbridge Dublin 4']\n",
        "437.html"
       ]
      },
      {
       "output_type": "stream",
       "stream": "stdout",
       "text": [
        " []\n",
        "47.html ['38 Castle Park Monkstown Co Dublin Ireland']\n",
        "48.html"
       ]
      },
      {
       "output_type": "stream",
       "stream": "stdout",
       "text": [
        " ['Unit 3 Village Court Lucan Co. Dublin']\n",
        "52.html"
       ]
      },
      {
       "output_type": "stream",
       "stream": "stdout",
       "text": [
        " [u'5 Wilton Place Dublin 2']\n",
        "54.html"
       ]
      },
      {
       "output_type": "stream",
       "stream": "stdout",
       "text": [
        " []\n",
        "55.html"
       ]
      },
      {
       "output_type": "stream",
       "stream": "stdout",
       "text": [
        " ['The Malthouse Design Centre 537 North Circular Road Dublin 1 Ireland']\n",
        "56.html"
       ]
      },
      {
       "output_type": "stream",
       "stream": "stdout",
       "text": [
        " []\n",
        "57.html"
       ]
      },
      {
       "output_type": "stream",
       "stream": "stdout",
       "text": [
        " ['Food Safety Authority of Ireland Abbey Court Lower Abbey Street Dublin 1', 'Abbey Court Lower Abbey Street Dublin 1', 'Abbey Court Lower Abbey Street Dublin 1']\n",
        "58.html"
       ]
      },
      {
       "output_type": "stream",
       "stream": "stdout",
       "text": [
        " []\n",
        "59.html"
       ]
      },
      {
       "output_type": "stream",
       "stream": "stdout",
       "text": [
        " []\n",
        "61.html"
       ]
      },
      {
       "output_type": "stream",
       "stream": "stdout",
       "text": [
        " ['China Sichuan Restaurant The Forum Ballymoss Road Sandyford Ind. Est. Dublin 18']\n",
        "63.html"
       ]
      },
      {
       "output_type": "stream",
       "stream": "stdout",
       "text": [
        " ['21 Stoneybatter Dublin 7 Ireland']\n",
        "65.html"
       ]
      },
      {
       "output_type": "stream",
       "stream": "stdout",
       "text": [
        " [\"O'Callaghan Insurances Blackthorn Business Park Coe's Road Dundalk Co.Louth\", \"Blackthorn Business Park Coe's Road Dundalk Co.Louth Ireland\"]\n",
        "73.html"
       ]
      },
      {
       "output_type": "stream",
       "stream": "stdout",
       "text": [
        " ['Lapps Quay Co. Cork']\n",
        "74.html"
       ]
      },
      {
       "output_type": "stream",
       "stream": "stdout",
       "text": [
        " []\n",
        "76.html"
       ]
      },
      {
       "output_type": "stream",
       "stream": "stdout",
       "text": [
        " ['17 Ely Place Dublin 2 Ireland', '17 Ely Place Dublin 2 Ireland']\n",
        "78.html"
       ]
      },
      {
       "output_type": "stream",
       "stream": "stdout",
       "text": [
        " [u'Coolatore House Rosemount Co. Westmeath']\n",
        "8.html"
       ]
      },
      {
       "output_type": "stream",
       "stream": "stdout",
       "text": [
        " ['Unit 19 Northwood Court Northwood Business Campus Santry Dublin 9 Ireland']\n",
        "80.html"
       ]
      },
      {
       "output_type": "stream",
       "stream": "stdout",
       "text": [
        " []\n",
        "81.html"
       ]
      },
      {
       "output_type": "stream",
       "stream": "stdout",
       "text": [
        " []\n",
        "82.html"
       ]
      },
      {
       "output_type": "stream",
       "stream": "stdout",
       "text": [
        " ['Strand Road Seafront Bray Co. Wicklow']\n",
        "84.html"
       ]
      },
      {
       "output_type": "stream",
       "stream": "stdout",
       "text": [
        " []\n",
        "87.html"
       ]
      },
      {
       "output_type": "stream",
       "stream": "stdout",
       "text": [
        " ['Model Farm Rd Co. Cork']\n",
        "88.html"
       ]
      },
      {
       "output_type": "stream",
       "stream": "stdout",
       "text": [
        " ['University College Cork College Road Cork Ireland']\n",
        "89.html"
       ]
      },
      {
       "output_type": "stream",
       "stream": "stdout",
       "text": [
        " ['The Financial Services Ombudsman3rd Floor Lincoln House Lincoln Place Dublin 2', 'Allianz House Elmpark Merrion Road Dublin 4 Ireland']\n",
        "9.html []\n",
        "90.html"
       ]
      },
      {
       "output_type": "stream",
       "stream": "stdout",
       "text": [
        " ['Derryolam HouseShercock Road Carrickmacross Co. MonaghanIreland']\n",
        "95.html"
       ]
      },
      {
       "output_type": "stream",
       "stream": "stdout",
       "text": [
        " []\n",
        "96.html"
       ]
      },
      {
       "output_type": "stream",
       "stream": "stdout",
       "text": [
        " ['One Direct One House Athlone Business Park Athlone Co. Westmeath']\n",
        "97.html"
       ]
      },
      {
       "output_type": "stream",
       "stream": "stdout",
       "text": [
        " [u'2nd Floor \\xc1ras Treasa Clarendon St.Dublin 2']\n",
        "98.html"
       ]
      },
      {
       "output_type": "stream",
       "stream": "stdout",
       "text": [
        " ['Unit 5 Charlesland Centre Greystones Wicklow']\n"
       ]
      }
     ],
     "prompt_number": 49
    },
    {
     "cell_type": "code",
     "collapsed": false,
     "input": [],
     "language": "python",
     "metadata": {},
     "outputs": []
    }
   ],
   "metadata": {}
  }
 ]
}