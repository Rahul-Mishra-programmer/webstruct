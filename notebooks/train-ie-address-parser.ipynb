{
 "metadata": {
  "name": "train-ie-address-parser"
 },
 "nbformat": 3,
 "nbformat_minor": 0,
 "worksheets": [
  {
   "cells": [
    {
     "cell_type": "code",
     "collapsed": false,
     "input": [
      "import os\n",
      "import sys\n",
      "import re\n",
      "import codecs\n",
      "import random\n",
      "import itertools\n",
      "\n",
      "sys.path.insert(0, '../')\n",
      "\n",
      "import wapiti\n",
      "from webstruct.wapiti import WapitiFeatureEncoder\n",
      "from webstruct.feature_extraction import HtmlFeaturesExtractor\n",
      "from webstruct.features import DEFAULT\n",
      "from webstruct.htmls import kill_tags, replace_tags\n",
      "\n",
      "class IrelandHtmlFeaturesExtraction(HtmlFeaturesExtractor):\n",
      "    def prprocess(html, encoding=None):\n",
      "        doc = super(IrelandHtmlFeaturesExtraction, self).preprocess(html, encoding)\n",
      "        doc = replace_tags(doc, {'h3', 'h4'}, 'strong')\n",
      "        doc = kill_tags(doc, {'br'}, keep_child=False)\n",
      "        return doc\n",
      "\n",
      "def tagged_data(folder):\n",
      "    for fname in os.listdir(folder):\n",
      "        path = os.path.join(folder, fname)\n",
      "        try:\n",
      "            with codecs.open(path, 'r', encoding='utf8') as f:\n",
      "                yield path, f.read()\n",
      "        except UnicodeDecodeError:\n",
      "            print 'unicode decode error', path\n",
      "            \n",
      "fe = IrelandHtmlFeaturesExtraction({'addr'}, DEFAULT)\n",
      "\n",
      "def fit_wapiti_encoder(tagged_data_iter):\n",
      "    we = WapitiFeatureEncoder(['token', 'lower'])    \n",
      "    for path, html in tagged_data_iter:\n",
      "        try:\n",
      "            features, labels = fe.fit_transform(html, encoding='utf8')\n",
      "            we.partial_fit(features)\n",
      "        except Exception as e:\n",
      "            print(\"error decoding %s:\\n%s\" % (path, e))\n",
      "    return we\n",
      "\n",
      "\n",
      "def to_wapiti_seq(features, labels, include_labels=True):\n",
      "    lines = []\n",
      "    for line, label in zip(we.transform(features), labels):\n",
      "        if include_labels:\n",
      "            lines.append(\"%s %s\" % (line, label))\n",
      "        else:\n",
      "            lines.append(line)\n",
      "    return '\\n'.join(lines)\n",
      "    \n",
      "\n",
      "def iter_wapiti_sequences(tagged_data_iter, we, include_labels=True):\n",
      "    \n",
      "    for path, html in tagged_data_iter:\n",
      "        try:\n",
      "            features, labels = fe.fit_transform(html, encoding='utf8')\n",
      "        except AssertionError as e:\n",
      "            print(\"error decoding %s:\\n%s\" % (path, e))\n",
      "        else:\n",
      "            yield to_wapiti_seq(features, labels, include_labels)\n",
      "        \n",
      "    \n",
      "def create_wapiti_data(fname, tagged_data_iter, we, include_labels=True):\n",
      "    with codecs.open(fname, 'w', encoding='utf8') as f:            \n",
      "        for seq in iter_wapiti_sequences(tagged_data_iter, we, include_labels):\n",
      "            f.write(seq)\n",
      "            f.write('\\n\\n')\n",
      "            "
     ],
     "language": "python",
     "metadata": {},
     "outputs": [],
     "prompt_number": 1
    },
    {
     "cell_type": "code",
     "collapsed": false,
     "input": [
      "corpus_paths = [\n",
      "    '../webstruct_data/corpus/ie/annotated/',\n",
      "]\n",
      "\n",
      "data = list(itertools.chain(*map(tagged_data, corpus_paths)))\n",
      "print len(data)\n",
      "\n",
      "random.shuffle(data)\n",
      "train, dev = data[:80], data[80:]\n",
      "\n",
      "print(len(train), len(dev))\n",
      "\n",
      "we = fit_wapiti_encoder(train)\n",
      "\n",
      "create_wapiti_data('ie_addr_train.txt', train, we=we)\n",
      "create_wapiti_data('ie_addr_test.txt', dev, we=we)\n",
      "\n",
      "from sklearn.externals.joblib import dump\n",
      "dump(we, 'ie-address-parser-wfe.joblib', compress=1)\n",
      "dump(fe, 'ie-address-parser-fe.joblib', compress=1)"
     ],
     "language": "python",
     "metadata": {},
     "outputs": [
      {
       "output_type": "stream",
       "stream": "stdout",
       "text": [
        "103\n",
        "(80, 23)\n"
       ]
      },
      {
       "output_type": "pyout",
       "prompt_number": 2,
       "text": [
        "['ie-address-parser-fe.joblib']"
       ]
      }
     ],
     "prompt_number": 2
    },
    {
     "cell_type": "code",
     "collapsed": false,
     "input": [
      "template = '''\n",
      "# Label unigram & bigram\n",
      "*\n",
      "\n",
      "# Nearby token unigrams (lower)\n",
      "u-LL:%x[-2,lower]\n",
      "u--L:%x[-1,lower]\n",
      "u--R:%x[ 1,lower]\n",
      "u-RR:%x[ 2,lower]\n",
      "\n",
      "# Nearby token bigrams (lower)\n",
      "u:wrd-2-LL:%x[-2,lower]/%x[-1,lower]\n",
      "u:wrd-2-L:%x[-1,lower]/%x[0,lower]\n",
      "u:wrd-2-R:%x[0,lower]/%x[1,lower]\n",
      "u:wrd-2-RR:%x[1,lower]/%x[2,lower]\n",
      "\n",
      "# Nearby shapes\n",
      "u:shape-L:%x[-1,shape]\n",
      "u:shape-R:%x[1,shape]\n",
      "u:shape-2-L:%x[-1,shape]/%x[0,shape]\n",
      "u:shape-2-R:%x[0,shape]/%x[1,shape]\n",
      "\n",
      "# num patterns\n",
      "u:pattern--L:%x[-1,num_pattern2]\n",
      "u:pattern--R:%x[ 1,num_pattern2]\n",
      "\n",
      "# word/shape\n",
      "u:wrd-2-shape-L:%x[-1,lower]/%x[0,shape]\n",
      "u:wrd-2-shape-R:%x[0,lower]/%x[1,shape]\n",
      "\n",
      "# nearby bold \n",
      "u:inside_tag_strong-2-L:%x[-1,inside_tag_strong]/%x[0,inside_tag_strong]\n",
      "u:inside_tag_strong-2-R:%x[0,inside_tag_strong]/%x[1,inside_tag_strong]\n",
      "\n",
      "# borders\n",
      "u:wrd-border-L:%x[-1,lower]/%x[0,border_at_left]\n",
      "u:wrd-border-R:%x[0,lower]/%x[1,border_at_left]\n",
      "u:wrd-border-RR:%x[0,lower]/%x[2,border_at_left]\n",
      "\n",
      "# number and street\n",
      "u:shape-street-L:%x[-2,shape]/%x[0,common_street_part]\n",
      "'''\n",
      "\n",
      "wapiti_template = we.unigram_features_template() + we.prepare_template(template) \n",
      "\n",
      "with codecs.open('ie-address-parser-template.txt', 'w', encoding='utf8') as f:\n",
      "    f.write(wapiti_template)"
     ],
     "language": "python",
     "metadata": {},
     "outputs": [],
     "prompt_number": 3
    },
    {
     "cell_type": "code",
     "collapsed": false,
     "input": [
      "!wapiti train --pattern ie-address-parser-template.txt --algo l-bfgs ie_addr_train.txt ie-address-parser.wapiti --nthread 4 --jobsize 8"
     ],
     "language": "python",
     "metadata": {},
     "outputs": [
      {
       "output_type": "stream",
       "stream": "stdout",
       "text": [
        "* Load patterns\r\n",
        "* Load training data\r\n"
       ]
      },
      {
       "output_type": "stream",
       "stream": "stdout",
       "text": [
        "* Initialize the model\r\n",
        "* Summary\r\n",
        "    nb train:    80\r\n",
        "    nb labels:   3\r\n",
        "    nb blocks:   112495\r\n",
        "    nb features: 519645\r\n",
        "* Train the model with l-bfgs\r\n"
       ]
      },
      {
       "output_type": "stream",
       "stream": "stdout",
       "text": [
        "  [   1] obj=4910.74    act=241968   err= 4.02%/66.25% time=0.21s/0.21s\r\n"
       ]
      },
      {
       "output_type": "stream",
       "stream": "stdout",
       "text": [
        "  [   2] obj=4554.07    act=118586   err= 4.02%/66.25% time=0.13s/0.34s\r\n"
       ]
      },
      {
       "output_type": "stream",
       "stream": "stdout",
       "text": [
        "  [   3] obj=735.15     act=25759    err= 3.20%/67.50% time=0.12s/0.46s\r\n"
       ]
      },
      {
       "output_type": "stream",
       "stream": "stdout",
       "text": [
        "  [   4] obj=532.90     act=29287    err= 2.29%/53.75% time=0.56s/1.02s\r\n"
       ]
      },
      {
       "output_type": "stream",
       "stream": "stdout",
       "text": [
        "  [   5] obj=521.77     act=32686    err= 2.44%/57.50% time=0.38s/1.40s\r\n"
       ]
      },
      {
       "output_type": "stream",
       "stream": "stdout",
       "text": [
        "  [   6] obj=510.03     act=31857    err= 2.27%/53.75% time=0.47s/1.87s\r\n"
       ]
      },
      {
       "output_type": "stream",
       "stream": "stdout",
       "text": [
        "  [   7] obj=507.07     act=32431    err= 2.31%/53.75% time=0.71s/2.58s\r\n"
       ]
      },
      {
       "output_type": "stream",
       "stream": "stdout",
       "text": [
        "  [   8] obj=461.21     act=31819    err= 2.30%/55.00% time=0.13s/2.71s\r\n"
       ]
      },
      {
       "output_type": "stream",
       "stream": "stdout",
       "text": [
        "  [   9] obj=367.34     act=29429    err= 1.83%/50.00% time=0.22s/2.93s\r\n"
       ]
      },
      {
       "output_type": "stream",
       "stream": "stdout",
       "text": [
        "  [  10] obj=364.72     act=23526    err= 2.49%/58.75% time=0.21s/3.14s\r\n"
       ]
      },
      {
       "output_type": "stream",
       "stream": "stdout",
       "text": [
        "  [  11] obj=345.28     act=23860    err= 1.65%/43.75% time=0.13s/3.27s\r\n"
       ]
      },
      {
       "output_type": "stream",
       "stream": "stdout",
       "text": [
        "  [  12] obj=331.21     act=25428    err= 2.00%/55.00% time=0.13s/3.40s\r\n"
       ]
      },
      {
       "output_type": "stream",
       "stream": "stdout",
       "text": [
        "  [  13] obj=306.62     act=23330    err= 1.40%/41.25% time=0.13s/3.53s\r\n"
       ]
      },
      {
       "output_type": "stream",
       "stream": "stdout",
       "text": [
        "  [  14] obj=296.53     act=22640    err= 1.47%/45.00% time=0.13s/3.66s\r\n"
       ]
      },
      {
       "output_type": "stream",
       "stream": "stdout",
       "text": [
        "  [  15] obj=287.08     act=20767    err= 1.24%/38.75% time=0.13s/3.80s\r\n"
       ]
      },
      {
       "output_type": "stream",
       "stream": "stdout",
       "text": [
        "  [  16] obj=266.97     act=19185    err= 1.49%/45.00% time=0.13s/3.92s\r\n"
       ]
      },
      {
       "output_type": "stream",
       "stream": "stdout",
       "text": [
        "  [  17] obj=252.12     act=18088    err= 0.96%/31.25% time=0.12s/4.05s\r\n"
       ]
      },
      {
       "output_type": "stream",
       "stream": "stdout",
       "text": [
        "  [  18] obj=230.53     act=18785    err= 0.92%/32.50% time=0.12s/4.17s\r\n"
       ]
      },
      {
       "output_type": "stream",
       "stream": "stdout",
       "text": [
        "  [  19] obj=218.55     act=18228    err= 0.65%/25.00% time=0.12s/4.29s\r\n"
       ]
      },
      {
       "output_type": "stream",
       "stream": "stdout",
       "text": [
        "  [  20] obj=206.67     act=17793    err= 0.70%/27.50% time=0.12s/4.41s\r\n"
       ]
      },
      {
       "output_type": "stream",
       "stream": "stdout",
       "text": [
        "  [  21] obj=195.48     act=16946    err= 0.63%/26.25% time=0.13s/4.54s\r\n"
       ]
      },
      {
       "output_type": "stream",
       "stream": "stdout",
       "text": [
        "  [  22] obj=186.43     act=15889    err= 0.65%/27.50% time=0.12s/4.66s\r\n"
       ]
      },
      {
       "output_type": "stream",
       "stream": "stdout",
       "text": [
        "  [  23] obj=180.12     act=15365    err= 0.62%/25.00% time=0.12s/4.79s\r\n"
       ]
      },
      {
       "output_type": "stream",
       "stream": "stdout",
       "text": [
        "  [  24] obj=173.83     act=15127    err= 0.40%/18.75% time=0.12s/4.91s\r\n"
       ]
      },
      {
       "output_type": "stream",
       "stream": "stdout",
       "text": [
        "  [  25] obj=170.27     act=14600    err= 0.46%/20.00% time=0.12s/5.03s\r\n"
       ]
      },
      {
       "output_type": "stream",
       "stream": "stdout",
       "text": [
        "  [  26] obj=165.53     act=13914    err= 0.42%/18.75% time=0.12s/5.16s\r\n"
       ]
      },
      {
       "output_type": "stream",
       "stream": "stdout",
       "text": [
        "  [  27] obj=161.51     act=13094    err= 0.27%/11.25% time=0.12s/5.28s\r\n"
       ]
      },
      {
       "output_type": "stream",
       "stream": "stdout",
       "text": [
        "  [  28] obj=156.90     act=13100    err= 0.32%/13.75% time=0.12s/5.40s\r\n"
       ]
      },
      {
       "output_type": "stream",
       "stream": "stdout",
       "text": [
        "  [  29] obj=153.95     act=12736    err= 0.22%/ 8.75% time=0.12s/5.53s\r\n"
       ]
      },
      {
       "output_type": "stream",
       "stream": "stdout",
       "text": [
        "  [  30] obj=149.70     act=11930    err= 0.25%/ 8.75% time=0.12s/5.65s\r\n"
       ]
      },
      {
       "output_type": "stream",
       "stream": "stdout",
       "text": [
        "  [  31] obj=145.81     act=10651    err= 0.12%/ 3.75% time=0.12s/5.77s\r\n"
       ]
      },
      {
       "output_type": "stream",
       "stream": "stdout",
       "text": [
        "  [  32] obj=141.70     act=9979     err= 0.08%/ 2.50% time=0.13s/5.90s\r\n"
       ]
      },
      {
       "output_type": "stream",
       "stream": "stdout",
       "text": [
        "  [  33] obj=139.66     act=9353     err= 0.02%/ 1.25% time=0.12s/6.02s\r\n"
       ]
      },
      {
       "output_type": "stream",
       "stream": "stdout",
       "text": [
        "  [  34] obj=137.52     act=8920     err= 0.00%/ 0.00% time=0.13s/6.14s\r\n"
       ]
      },
      {
       "output_type": "stream",
       "stream": "stdout",
       "text": [
        "  [  35] obj=134.93     act=8020     err= 0.04%/ 1.25% time=0.12s/6.27s\r\n"
       ]
      },
      {
       "output_type": "stream",
       "stream": "stdout",
       "text": [
        "  [  36] obj=131.64     act=7428     err= 0.08%/ 3.75% time=0.12s/6.39s\r\n"
       ]
      },
      {
       "output_type": "stream",
       "stream": "stdout",
       "text": [
        "  [  37] obj=129.82     act=6681     err= 0.11%/ 3.75% time=0.13s/6.52s\r\n"
       ]
      },
      {
       "output_type": "stream",
       "stream": "stdout",
       "text": [
        "  [  38] obj=127.92     act=6282     err= 0.08%/ 3.75% time=0.12s/6.64s\r\n"
       ]
      },
      {
       "output_type": "stream",
       "stream": "stdout",
       "text": [
        "  [  39] obj=126.94     act=5804     err= 0.04%/ 1.25% time=0.12s/6.76s\r\n"
       ]
      },
      {
       "output_type": "stream",
       "stream": "stdout",
       "text": [
        "  [  40] obj=125.60     act=5290     err= 0.05%/ 2.50% time=0.12s/6.88s\r\n"
       ]
      },
      {
       "output_type": "stream",
       "stream": "stdout",
       "text": [
        "  [  41] obj=124.71     act=4815     err= 0.04%/ 1.25% time=0.12s/7.01s\r\n"
       ]
      },
      {
       "output_type": "stream",
       "stream": "stdout",
       "text": [
        "  [  42] obj=123.89     act=4695     err= 0.04%/ 1.25% time=0.12s/7.13s\r\n"
       ]
      },
      {
       "output_type": "stream",
       "stream": "stdout",
       "text": [
        "  [  43] obj=122.76     act=4283     err= 0.06%/ 2.50% time=0.12s/7.25s\r\n"
       ]
      },
      {
       "output_type": "stream",
       "stream": "stdout",
       "text": [
        "  [  44] obj=122.59     act=3764     err= 0.06%/ 2.50% time=0.13s/7.38s\r\n"
       ]
      },
      {
       "output_type": "stream",
       "stream": "stdout",
       "text": [
        "  [  45] obj=120.71     act=3798     err= 0.04%/ 1.25% time=0.12s/7.50s\r\n"
       ]
      },
      {
       "output_type": "stream",
       "stream": "stdout",
       "text": [
        "  [  46] obj=120.38     act=3676     err= 0.00%/ 0.00% time=0.12s/7.62s\r\n"
       ]
      },
      {
       "output_type": "stream",
       "stream": "stdout",
       "text": [
        "  [  47] obj=118.76     act=3092     err= 0.02%/ 1.25% time=0.13s/7.74s\r\n"
       ]
      },
      {
       "output_type": "stream",
       "stream": "stdout",
       "text": [
        "  [  48] obj=117.68     act=3309     err= 0.00%/ 0.00% time=0.12s/7.87s\r\n"
       ]
      },
      {
       "output_type": "stream",
       "stream": "stdout",
       "text": [
        "  [  49] obj=117.20     act=3245     err= 0.00%/ 0.00% time=0.13s/7.99s\r\n"
       ]
      },
      {
       "output_type": "stream",
       "stream": "stdout",
       "text": [
        "  [  50] obj=116.39     act=3135     err= 0.00%/ 0.00% time=0.12s/8.12s\r\n",
        "* Save the model\r\n"
       ]
      },
      {
       "output_type": "stream",
       "stream": "stdout",
       "text": [
        "* Done\r\n"
       ]
      }
     ],
     "prompt_number": 4
    },
    {
     "cell_type": "code",
     "collapsed": false,
     "input": [
      "!wapiti label --model ie-address-parser.wapiti -c ie_addr_test.txt res.txt"
     ],
     "language": "python",
     "metadata": {},
     "outputs": [
      {
       "output_type": "stream",
       "stream": "stdout",
       "text": [
        "* Load model\r\n"
       ]
      },
      {
       "output_type": "stream",
       "stream": "stdout",
       "text": [
        "* Label sequences\r\n"
       ]
      },
      {
       "output_type": "stream",
       "stream": "stdout",
       "text": [
        "    Nb sequences  : 23\r\n",
        "    Token error   :  1.67%\r\n",
        "    Sequence error: 43.48%\r\n",
        "* Per label statistics\r\n",
        "    O       Pr=0.99  Rc=0.99  F1=0.99\r\n",
        "    B-ADDR  Pr=0.62  Rc=0.53  F1=0.57\r\n",
        "    I-ADDR  Pr=0.74  Rc=0.63  F1=0.68\r\n",
        "* Done\r\n"
       ]
      }
     ],
     "prompt_number": 5
    },
    {
     "cell_type": "code",
     "collapsed": false,
     "input": [
      "import wapiti\n",
      "sys.path.insert(0, '../')\n",
      "\n",
      "from sklearn.externals import joblib\n",
      "from urllib2 import urlopen\n",
      "from w3lib.encoding import html_to_unicode\n",
      "from webstruct.wapiti import WapitiChunker\n",
      "\n",
      "feature_extractor = joblib.load('ie-address-parser-fe.joblib')\n",
      "feature_encoder = joblib.load('ie-address-parser-wfe.joblib')\n",
      "wapiti_model = wapiti.Model(model='ie-address-parser.wapiti')\n",
      "ner = WapitiChunker(wapiti_model, feature_encoder, feature_extractor=feature_extractor)"
     ],
     "language": "python",
     "metadata": {},
     "outputs": [],
     "prompt_number": 6
    },
    {
     "cell_type": "code",
     "collapsed": false,
     "input": [
      "url = 'http://www.gillianosullivan.ie/contact.htm'\n",
      "url = 'http://www.imma.ie/en/subnav_91.htm'\n",
      "url = 'http://www.wechrome.com/'\n",
      "html = urlopen(url=url).read()\n",
      "\n",
      "for text, label in ner.transform(html):\n",
      "    if label != 'O':\n",
      "        print label, text\n"
     ],
     "language": "python",
     "metadata": {},
     "outputs": [
      {
       "output_type": "stream",
       "stream": "stdout",
       "text": [
        "ADDR"
       ]
      },
      {
       "output_type": "stream",
       "stream": "stdout",
       "text": [
        " Unit 6, Landys Industrial Estate Knocklyon Road Dublin 16, Ireland\n"
       ]
      }
     ],
     "prompt_number": 7
    },
    {
     "cell_type": "code",
     "collapsed": false,
     "input": [
      "import glob\n",
      "import os\n",
      "\n",
      "def parse_address(html):\n",
      "    r = []\n",
      "    for text, label in ner.transform(html):\n",
      "        if label == 'ADDR':\n",
      "            r.append(text)\n",
      "    return r\n",
      "\n",
      "# test on unseen pages\n",
      "for path in glob.glob('../webstruct_data/corpus/ireland_contact_pages/source/*.html'):\n",
      "    with open(path, 'r') as f:\n",
      "        html = f.read()\n",
      "        try:\n",
      "            r = parse_address(html)\n",
      "            print os.path.split(path)[1], r\n",
      "        except BaseException, e:\n",
      "            pass\n",
      "        "
     ],
     "language": "python",
     "metadata": {},
     "outputs": [
      {
       "output_type": "stream",
       "stream": "stdout",
       "text": [
        "1.html [u'UCD Science Centre South University College Dublin Belfield Dublin 4, Ireland']\n",
        "10.html"
       ]
      },
      {
       "output_type": "stream",
       "stream": "stdout",
       "text": [
        " ['The Private Security Authority Davis Street Tipperary Town']\n",
        "100.html"
       ]
      },
      {
       "output_type": "stream",
       "stream": "stdout",
       "text": [
        " ['P.O. Box 10763, Dublin 1, Ireland']\n",
        "102.html"
       ]
      },
      {
       "output_type": "stream",
       "stream": "stdout",
       "text": [
        " [u'Malahide Co. Dublin']\n",
        "104.html"
       ]
      },
      {
       "output_type": "stream",
       "stream": "stdout",
       "text": [
        " []\n",
        "105.html"
       ]
      },
      {
       "output_type": "stream",
       "stream": "stdout",
       "text": [
        " ['Digges Lane Dublin 2']\n",
        "109.html"
       ]
      },
      {
       "output_type": "stream",
       "stream": "stdout",
       "text": [
        " ['Unit 6 City Centre North Dublin Area Code : Dublin 1']\n",
        "11.html"
       ]
      },
      {
       "output_type": "stream",
       "stream": "stdout",
       "text": [
        " []\n",
        "115.html"
       ]
      },
      {
       "output_type": "stream",
       "stream": "stdout",
       "text": [
        " ['Sustainable Energy Authority of Ireland PO Box 135 Cahirciveen Co Kerry', u'Sustainable Energy Authority of Ireland Wilton Park House Wilton Place Dublin 2.']\n",
        "120.html"
       ]
      },
      {
       "output_type": "stream",
       "stream": "stdout",
       "text": [
        " ['Kildare Street Dublin 2', 'Advice Centres Carmelite Community Centre Aungier Street Monday @ 4pm St Andrews Resource Centre Pearse Street Thursday @ 7pm Ringsend & Irishtown Community Centre Thorncastle Street', 'Kildare Street Dublin 2']\n",
        "121.html"
       ]
      },
      {
       "output_type": "stream",
       "stream": "stdout",
       "text": [
        " [\"Harold's Cross Dublin 6W Blackrock Hospice Sweetman's Avenue Blackrock Co. Dublin\"]\n",
        "123.html"
       ]
      },
      {
       "output_type": "stream",
       "stream": "stdout",
       "text": [
        " ['Unit 3 Mill St']\n",
        "126.html"
       ]
      },
      {
       "output_type": "stream",
       "stream": "stdout",
       "text": [
        " ['Quay Street Galway Ireland', u'Quay Street Galway Ireland']\n",
        "128.html"
       ]
      },
      {
       "output_type": "stream",
       "stream": "stdout",
       "text": [
        " ['Student Travelcard 15 Porters Avenue Coolmine Industrial Estate Clonsilla Dublin 15']\n",
        "129.html"
       ]
      },
      {
       "output_type": "stream",
       "stream": "stdout",
       "text": [
        " []\n",
        "131.html"
       ]
      },
      {
       "output_type": "stream",
       "stream": "stdout",
       "text": [
        " []\n",
        "132.html"
       ]
      },
      {
       "output_type": "stream",
       "stream": "stdout",
       "text": [
        " ['28 Lower Drumcondra Road Dublin 9']\n",
        "147.html"
       ]
      },
      {
       "output_type": "stream",
       "stream": "stdout",
       "text": [
        " [u'Irish Tax Institute South Block Longboat Quay Grand Canal Harbour Dublin 2 Ireland']\n",
        "150.html"
       ]
      },
      {
       "output_type": "stream",
       "stream": "stdout",
       "text": [
        " [\"The McKeown Library St. Angela's College Lough Gill Sligo Ireland\"]\n",
        "152.html"
       ]
      },
      {
       "output_type": "stream",
       "stream": "stdout",
       "text": [
        " [\"Ground Floor George's Quay House 43 Townsend St Dublin 2 Ireland\"]\n",
        "153.html ['Davis Lane Mallow Co. Cork']\n",
        "155.html"
       ]
      },
      {
       "output_type": "stream",
       "stream": "stdout",
       "text": [
        " ['Arva Garda Station Main Street R203, Arva Co. Cavan']\n",
        "156.html"
       ]
      },
      {
       "output_type": "stream",
       "stream": "stdout",
       "text": [
        " ['Lahinch Beach Front Lahinch Co. Clare Ireland']\n",
        "158.html"
       ]
      },
      {
       "output_type": "stream",
       "stream": "stdout",
       "text": [
        " ['Main St . Kilcullen Co. Kildare Ireland', 'Fallons Restaurant & Bar Main St. Kilcullen Co. Kildare Ireland']\n",
        "165.html ['Block 6 Belfield Office Park Clonskeagh Dublin 4']\n",
        "171.html"
       ]
      },
      {
       "output_type": "stream",
       "stream": "stdout",
       "text": [
        " [u'George\\u2019s Place Dun Laoghaire Co. Dublin']\n",
        "174.html"
       ]
      },
      {
       "output_type": "stream",
       "stream": "stdout",
       "text": [
        " ['Clonsilla East Gorey Co. Wexford']\n",
        "178.html"
       ]
      },
      {
       "output_type": "stream",
       "stream": "stdout",
       "text": [
        " ['Ditchley House Little Island Cork Ireland']\n",
        "179.html"
       ]
      },
      {
       "output_type": "stream",
       "stream": "stdout",
       "text": [
        " ['Talbot Street Dublin 1']\n",
        "182.html"
       ]
      },
      {
       "output_type": "stream",
       "stream": "stdout",
       "text": [
        " ['Unit 11, Kilbarrack Shopping Centre Kilbarrack Dublin 5']\n",
        "185.html"
       ]
      },
      {
       "output_type": "stream",
       "stream": "stdout",
       "text": [
        " []\n",
        "186.html"
       ]
      },
      {
       "output_type": "stream",
       "stream": "stdout",
       "text": [
        " ['The Bungalow Block 13, Douglas Road Cork Republic of Ireland']\n",
        "189.html"
       ]
      },
      {
       "output_type": "stream",
       "stream": "stdout",
       "text": [
        " ['Winetavern Street Dublin 8', 'ASTI Thomas MacDonagh House Winetavern Street Dublin 8']\n",
        "192.html"
       ]
      },
      {
       "output_type": "stream",
       "stream": "stdout",
       "text": [
        " ['Leader House Dublin Road']\n",
        "193.html"
       ]
      },
      {
       "output_type": "stream",
       "stream": "stdout",
       "text": [
        " []\n",
        "194.html"
       ]
      },
      {
       "output_type": "stream",
       "stream": "stdout",
       "text": [
        " ['Number 58, Upper Grand Canal Street Dublin 4']\n",
        "195.html"
       ]
      },
      {
       "output_type": "stream",
       "stream": "stdout",
       "text": [
        " ['Unit 3D Sandyford Industrial Estate Dublin 18']\n",
        "204.html"
       ]
      },
      {
       "output_type": "stream",
       "stream": "stdout",
       "text": [
        " [u'Radiological Protection Institute of Ireland 3 Clonskeagh Square Dublin 14 Ireland']\n",
        "220.html"
       ]
      },
      {
       "output_type": "stream",
       "stream": "stdout",
       "text": [
        " ['University of Limerick Limerick Ireland', 'Press Officer Sheena Doyle Corporate Affairs University of Limerick Limerick Ireland']\n",
        "224.html"
       ]
      },
      {
       "output_type": "stream",
       "stream": "stdout",
       "text": [
        " [u'1st Floor 30 \\u2013 31 Francis Street Dublin 8', '1st Floor 30 - 31 Francis Street Dublin 8']\n",
        "228.html"
       ]
      },
      {
       "output_type": "stream",
       "stream": "stdout",
       "text": [
        " ['Belfield Innovation Park University College Dublin Belfield Dublin 4, Ireland', 'Belfield Innovation Park University College Dublin Belfield Dublin 4 Ireland']\n",
        "229.html"
       ]
      },
      {
       "output_type": "stream",
       "stream": "stdout",
       "text": [
        " ['Lero - the Irish Software Engineering Research Centre Tierney Building University of Limerick Ireland']\n",
        "231.html"
       ]
      },
      {
       "output_type": "stream",
       "stream": "stdout",
       "text": [
        " ['51 Upper Georges Street Dun Laoghaire Co.Dublin']\n",
        "240.html"
       ]
      },
      {
       "output_type": "stream",
       "stream": "stdout",
       "text": [
        " ['244 Clontarf Rd Clontarf Dublin 3', 'Artane Clontarf Copeland Dollymount Dublin Port Eastwall Fairview IFSC Kilester Marino']\n",
        "242.html"
       ]
      },
      {
       "output_type": "stream",
       "stream": "stdout",
       "text": [
        " ['Free Legal Advice Centres 13 Lower Dorset Street Dublin 1, Ireland', u'13 Lower Dorset Street Dublin 1, Ireland']\n",
        "244.html"
       ]
      },
      {
       "output_type": "stream",
       "stream": "stdout",
       "text": [
        " ['31 & 32 Lower Pembroke Street Dublin 2']\n",
        "246.html"
       ]
      },
      {
       "output_type": "stream",
       "stream": "stdout",
       "text": [
        " ['Northgate Street Athlone Co Westmeath Ireland', u'Northgate Street - Co. Westmeath Co. Westmeath']\n",
        "250.html"
       ]
      },
      {
       "output_type": "stream",
       "stream": "stdout",
       "text": [
        " ['Unit 3 Mill St Maynooth Co Kildare']\n",
        "251.html"
       ]
      },
      {
       "output_type": "stream",
       "stream": "stdout",
       "text": [
        " ['The Cottage Restaurant Jamestown Carrick-on-Shannon Co. Leitrim']\n",
        "253.html"
       ]
      },
      {
       "output_type": "stream",
       "stream": "stdout",
       "text": [
        " []\n",
        "254.html"
       ]
      },
      {
       "output_type": "stream",
       "stream": "stdout",
       "text": [
        " ['Children First 6 Northbrook Road Dublin 6']\n",
        "258.html"
       ]
      },
      {
       "output_type": "stream",
       "stream": "stdout",
       "text": [
        " [u'Greenhills Retail Park Greenhills Road Tallaght Dublin 24.', 'Greenhills Road Tallaght Dublin 24']\n",
        "26.html"
       ]
      },
      {
       "output_type": "stream",
       "stream": "stdout",
       "text": [
        " ['Economic Development Unit Cavan County Council +353 49 4378606 edu@cavancoco.ie Cavan County Enterprise Board Cavan Innovation and Technology Centre Dublin Road Cavan']\n",
        "273.html"
       ]
      },
      {
       "output_type": "stream",
       "stream": "stdout",
       "text": [
        " ['Mary Immaculate College South Circular Road Limerick Ireland']\n",
        "294.html"
       ]
      },
      {
       "output_type": "stream",
       "stream": "stdout",
       "text": [
        " ['Graduate Research School Office 143-149 Rathmines Road Dublin 6']\n",
        "301.html ['Barnakyle Logistics Centre Raheen Business Park Raheen Limerick']\n",
        "302.html"
       ]
      },
      {
       "output_type": "stream",
       "stream": "stdout",
       "text": [
        " []\n",
        "309.html"
       ]
      },
      {
       "output_type": "stream",
       "stream": "stdout",
       "text": [
        " ['PO Box 8942 Malahide Co. Dublin', u'Suite GPO O\\u2019Connell Street Dublin 1']\n",
        "31.html"
       ]
      },
      {
       "output_type": "stream",
       "stream": "stdout",
       "text": [
        " ['The O2, North Wall Quay Dublin 1 Republic Of Ireland']\n",
        "310.html"
       ]
      },
      {
       "output_type": "stream",
       "stream": "stdout",
       "text": [
        " ['Bates Restaurant 3 Market Street Market Square Rathdrum Co. Wicklow']\n",
        "313.html"
       ]
      },
      {
       "output_type": "stream",
       "stream": "stdout",
       "text": [
        " ['1st Floor Kinvara House Dublin Hill Cork']\n",
        "315.html"
       ]
      },
      {
       "output_type": "stream",
       "stream": "stdout",
       "text": [
        " ['48 Upper Abbeygate Street Galway Ireland']\n",
        "316.html"
       ]
      },
      {
       "output_type": "stream",
       "stream": "stdout",
       "text": [
        " ['Drumcor Loughduff Co. Cavan Ireland', 'Drumcor Loughduff Co. Cavan Ireland']\n",
        "317.html"
       ]
      },
      {
       "output_type": "stream",
       "stream": "stdout",
       "text": [
        " ['The Admissions Team Dublin Business School 13/14 Aungier Street Dublin 2, Ireland', 'International Department Dublin Business School 13/14 Aungier Street Dublin 2, Ireland', '13/14 Aungier Street Dublin 2, Ireland']\n",
        "320.html"
       ]
      },
      {
       "output_type": "stream",
       "stream": "stdout",
       "text": [
        " ['21 Stoneybatter Dublin 7', 'Canal House Canal Road Dublin 6']\n",
        "323.html"
       ]
      },
      {
       "output_type": "stream",
       "stream": "stdout",
       "text": [
        " ['Kildare Street Dublin 2']\n",
        "329.html"
       ]
      },
      {
       "output_type": "stream",
       "stream": "stdout",
       "text": [
        " ['6 Ely Place Dublin 2']\n",
        "332.html"
       ]
      },
      {
       "output_type": "stream",
       "stream": "stdout",
       "text": [
        " ['3 Cook Street Cork City Ireland']\n",
        "338.html"
       ]
      },
      {
       "output_type": "stream",
       "stream": "stdout",
       "text": [
        " [\"Ground Floor George's Quay House 43 Townsend St Dublin 2\"]\n",
        "342.html"
       ]
      },
      {
       "output_type": "stream",
       "stream": "stdout",
       "text": [
        " []\n",
        "343.html"
       ]
      },
      {
       "output_type": "stream",
       "stream": "stdout",
       "text": [
        " ['7 Ely Place Dublin 2 IRELAND']\n",
        "349.html"
       ]
      },
      {
       "output_type": "stream",
       "stream": "stdout",
       "text": [
        " []\n",
        "355.html ['Irish Hospice Foundation 32 Nassau Street Dublin 2']\n",
        "356.html"
       ]
      },
      {
       "output_type": "stream",
       "stream": "stdout",
       "text": [
        " []\n",
        "357.html"
       ]
      },
      {
       "output_type": "stream",
       "stream": "stdout",
       "text": [
        " ['Unit 16, Oaklawns Hall Dr. Cullen Road Carlow', 'Unit 16, Oaklawns Hall Dr. Cullen Road Carlow']\n",
        "360.html"
       ]
      },
      {
       "output_type": "stream",
       "stream": "stdout",
       "text": [
        " [u'O\\u2019Brien Road Carlow Ireland']\n",
        "367.html"
       ]
      },
      {
       "output_type": "stream",
       "stream": "stdout",
       "text": [
        " ['Johnstown Business Centre Johnstown House Johnstown Naas Co. Kildare Ireland', 'Johnstown Business Centre Johnstown House Johnstown Naas Co. Kildare Ireland']\n",
        "368.html"
       ]
      },
      {
       "output_type": "stream",
       "stream": "stdout",
       "text": [
        " ['1 Leopardstown Business Park Ballyogan Road Carrickmines Dublin 18, Ireland']\n",
        "372.html"
       ]
      },
      {
       "output_type": "stream",
       "stream": "stdout",
       "text": [
        " ['The Spa Mallow Co Cork Advertising']\n",
        "373.html"
       ]
      },
      {
       "output_type": "stream",
       "stream": "stdout",
       "text": [
        " ['28 Lower Drumcondra Road Dublin 9']\n",
        "375.html"
       ]
      },
      {
       "output_type": "stream",
       "stream": "stdout",
       "text": [
        " ['Travel Department Harmony Court Harmony Row Dublin 2 Republic of Ireland', '78 York Street London']\n",
        "379.html"
       ]
      },
      {
       "output_type": "stream",
       "stream": "stdout",
       "text": [
        " ['Eglinton Street Galway Ireland']\n",
        "380.html"
       ]
      },
      {
       "output_type": "stream",
       "stream": "stdout",
       "text": [
        " ['Arrigle Business Park Ballyhale Co. Kilkenny', 'HOLDEN BROTHERS Arrigle Business Park Ballyhale Co. Kilkenny']\n",
        "385.html"
       ]
      },
      {
       "output_type": "stream",
       "stream": "stdout",
       "text": [
        " ['1st Floor Harmony Court Harmony Row 2 Dublin Ireland']\n",
        "387.html"
       ]
      },
      {
       "output_type": "stream",
       "stream": "stdout",
       "text": [
        " ['3 Clonskeagh Square Dublin 14 Ireland']\n",
        "399.html"
       ]
      },
      {
       "output_type": "stream",
       "stream": "stdout",
       "text": [
        " ['Father Mathew Hall Father Mathew Street Cork']\n",
        "4.html"
       ]
      },
      {
       "output_type": "stream",
       "stream": "stdout",
       "text": [
        " ['Contact Us Dublin Region Oxigen Environmental Merrywell Industrial Park Ballymount Road Dublin 22', 'Oxigen Environmental 33 North Main Street Naas Co. Kildare', 'Cavan Region Oxigen Environmental Cavan Waste Disposal Killygarry Industrial Park Dublin Road Cavan', 'Oxigen Environmental First Floor Block 4 Quayside Business Park Mill Street Dundalk Co. Louth', 'Oxigen Environmental Barnan Rhode Co Offaly']\n",
        "400.html"
       ]
      },
      {
       "output_type": "stream",
       "stream": "stdout",
       "text": [
        " ['63 Deerpark Road Mount Merrion Co Dublin']\n",
        "403.html"
       ]
      },
      {
       "output_type": "stream",
       "stream": "stdout",
       "text": [
        " ['Newry Street Carlingford Co. Louth / Ireland']\n",
        "41.html"
       ]
      },
      {
       "output_type": "stream",
       "stream": "stdout",
       "text": [
        " []\n",
        "411.html"
       ]
      },
      {
       "output_type": "stream",
       "stream": "stdout",
       "text": [
        " ['Yeats House Barrack Square Ballincollig Co. Cork Ireland']\n",
        "413.html"
       ]
      },
      {
       "output_type": "stream",
       "stream": "stdout",
       "text": [
        " ['Marconi House Digges Lane Dublin 2', u'Nearest Station is Dublin Pearse', u'Digges Lane Dublin 2.']\n",
        "417.html"
       ]
      },
      {
       "output_type": "stream",
       "stream": "stdout",
       "text": [
        " []\n",
        "418.html"
       ]
      },
      {
       "output_type": "stream",
       "stream": "stdout",
       "text": [
        " [\"St. Mary's Church The Mall Westport Co. Mayo\"]\n",
        "423.html"
       ]
      },
      {
       "output_type": "stream",
       "stream": "stdout",
       "text": [
        " []\n",
        "427.html"
       ]
      },
      {
       "output_type": "stream",
       "stream": "stdout",
       "text": [
        " ['Unit 4c Elmfiled Court Ninth Lock Road Clondalkin Dublin 22']\n",
        "43.html []\n",
        "430.html"
       ]
      },
      {
       "output_type": "stream",
       "stream": "stdout",
       "text": [
        " ['Royal Dublin Society Anglesea Road Ballsbridge Dublin 4']\n",
        "435.html"
       ]
      },
      {
       "output_type": "stream",
       "stream": "stdout",
       "text": [
        " ['51 Shelbourne Road Ballsbridge Dublin 4']\n",
        "437.html"
       ]
      },
      {
       "output_type": "stream",
       "stream": "stdout",
       "text": [
        " []\n",
        "47.html ['38 Castle Park Monkstown Co Dublin Ireland']\n",
        "48.html"
       ]
      },
      {
       "output_type": "stream",
       "stream": "stdout",
       "text": [
        " ['Unit 3 Village Court Lucan Co. Dublin']\n",
        "52.html"
       ]
      },
      {
       "output_type": "stream",
       "stream": "stdout",
       "text": [
        " [\"Training and Development Department Women's Aid 5 Wilton Place Dublin 2\", '5 Wilton Place Dublin 2']\n",
        "54.html"
       ]
      },
      {
       "output_type": "stream",
       "stream": "stdout",
       "text": [
        " []\n",
        "55.html"
       ]
      },
      {
       "output_type": "stream",
       "stream": "stdout",
       "text": [
        " ['The Malthouse Design Centre 537 North Circular Road Dublin 1 Ireland']\n",
        "56.html"
       ]
      },
      {
       "output_type": "stream",
       "stream": "stdout",
       "text": [
        " ['Chapel View Donabate Co. Dublin', u'0 reviews Donabate Co. Dublin']\n",
        "57.html"
       ]
      },
      {
       "output_type": "stream",
       "stream": "stdout",
       "text": [
        " ['Food Safety Authority of Ireland Abbey Court Lower Abbey Street Dublin 1', 'Food Safety Authority of Ireland Abbey Court Lower Abbey Street Dublin 1', 'Food Safety Authority of Ireland Abbey Court Lower Abbey Street Dublin 1']\n",
        "58.html"
       ]
      },
      {
       "output_type": "stream",
       "stream": "stdout",
       "text": [
        " ['Plaza 256 Blanchardstown Corporate Business Park 2 Ballycoolin Dublin 15']\n",
        "59.html"
       ]
      },
      {
       "output_type": "stream",
       "stream": "stdout",
       "text": [
        " []\n",
        "61.html"
       ]
      },
      {
       "output_type": "stream",
       "stream": "stdout",
       "text": [
        " ['China Sichuan Restaurant The Forum Ballymoss Road Sandyford Ind. Est. Dublin 18']\n",
        "63.html"
       ]
      },
      {
       "output_type": "stream",
       "stream": "stdout",
       "text": [
        " ['21 Stoneybatter Dublin 7 Ireland']\n",
        "65.html"
       ]
      },
      {
       "output_type": "stream",
       "stream": "stdout",
       "text": [
        " [\"Blackthorn Business Park Coe's Road Dundalk Co.Louth\", \"O'Callaghan Insurances Blackthorn Business Park Coe's Road Dundalk Co.Louth Ireland\"]\n",
        "73.html"
       ]
      },
      {
       "output_type": "stream",
       "stream": "stdout",
       "text": [
        " ['Lapps Quay Co. Cork . Ireland']\n",
        "74.html"
       ]
      },
      {
       "output_type": "stream",
       "stream": "stdout",
       "text": [
        " ['National Consumer Agency 4 Harcourt Road Dublin 2']\n",
        "76.html"
       ]
      },
      {
       "output_type": "stream",
       "stream": "stdout",
       "text": [
        " ['17 Ely Place Dublin 2, Ireland', '17 Ely Place Dublin 2 Ireland']\n",
        "78.html"
       ]
      },
      {
       "output_type": "stream",
       "stream": "stdout",
       "text": [
        " [u'Coolatore House Rosemount Co. Westmeath']\n",
        "8.html"
       ]
      },
      {
       "output_type": "stream",
       "stream": "stdout",
       "text": [
        " ['Unit 19, Northwood Court Northwood Business Campus Santry Dublin 9 Ireland']\n",
        "80.html"
       ]
      },
      {
       "output_type": "stream",
       "stream": "stdout",
       "text": [
        " []\n",
        "81.html"
       ]
      },
      {
       "output_type": "stream",
       "stream": "stdout",
       "text": [
        " []\n",
        "82.html"
       ]
      },
      {
       "output_type": "stream",
       "stream": "stdout",
       "text": [
        " ['Barracuda Steak & Seafood Restaurant Strand Road Bray Co. Wicklow Ireland']\n",
        "84.html"
       ]
      },
      {
       "output_type": "stream",
       "stream": "stdout",
       "text": [
        " ['Just-Eat Ireland Limited 173 Ivy Exchange Granby Place Dublin 1']\n",
        "87.html"
       ]
      },
      {
       "output_type": "stream",
       "stream": "stdout",
       "text": [
        " ['Model Farm Road Bishopstown Model Farm Rd Co. Cork']\n",
        "88.html"
       ]
      },
      {
       "output_type": "stream",
       "stream": "stdout",
       "text": [
        " ['University College Cork College Road Cork Ireland']\n",
        "89.html"
       ]
      },
      {
       "output_type": "stream",
       "stream": "stdout",
       "text": [
        " ['PO Box 48 48 Freepost Dublin 4', 'Allianz Direct Division PO Box 48 48 Freepost Dublin 4', 'The Financial Services Ombudsman 3rd Floor Lincoln House Lincoln Place Dublin 2', 'Allianz House Elmpark Merrion Road Dublin 4, Ireland']\n",
        "9.html ['Research & Engineering Building Dublin City University Glasnevin Dublin 9 Ireland']\n",
        "90.html"
       ]
      },
      {
       "output_type": "stream",
       "stream": "stdout",
       "text": [
        " ['Derryolam House Shercock Road Carrickmacross Co. Monaghan Ireland', 'Huntstown Co. Dublin', 'Ballyfermot Co. Dublin']\n",
        "95.html"
       ]
      },
      {
       "output_type": "stream",
       "stream": "stdout",
       "text": [
        " []\n",
        "96.html"
       ]
      },
      {
       "output_type": "stream",
       "stream": "stdout",
       "text": [
        " ['Athlone Business Park Athlone Co. Westmeath']\n",
        "97.html"
       ]
      },
      {
       "output_type": "stream",
       "stream": "stdout",
       "text": [
        " [u'2nd Floor \\xc1ras Treasa Clarendon St . Dublin 2']\n",
        "98.html"
       ]
      },
      {
       "output_type": "stream",
       "stream": "stdout",
       "text": [
        " ['Unit 5 Charlesland Centre']\n"
       ]
      }
     ],
     "prompt_number": 8
    },
    {
     "cell_type": "code",
     "collapsed": false,
     "input": [],
     "language": "python",
     "metadata": {},
     "outputs": []
    }
   ],
   "metadata": {}
  }
 ]
}