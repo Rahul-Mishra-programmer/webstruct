{
 "metadata": {
  "name": "train-ie-openhours-parser"
 },
 "nbformat": 3,
 "nbformat_minor": 0,
 "worksheets": [
  {
   "cells": [
    {
     "cell_type": "code",
     "collapsed": false,
     "input": [
      "import os\n",
      "import sys\n",
      "import re\n",
      "import codecs\n",
      "import random\n",
      "import itertools\n",
      "\n",
      "import wapiti\n",
      "sys.path.insert(0, '../webstruct/')\n",
      "\n",
      "from webstruct.wapiti import WapitiFeatureEncoder\n",
      "from webstruct.feature_extraction import HtmlFeaturesExtractor\n",
      "from webstruct.features.utils import CombinedFeatures\n",
      "from webstruct.features.block_features import parent_tag, borders, block_length\n",
      "from webstruct.features.token_features import token_shape, number_pattern, prefixes_and_suffixes\n",
      "from webstruct.features.data_features import looks_like_time, looks_like_month, looks_like_year, \\\n",
      "                                             looks_like_weekday, looks_like_email, looks_like_range\n",
      "\n",
      "def tagged_data(folder):\n",
      "    for fname in os.listdir(folder):\n",
      "        path = os.path.join(folder, fname)\n",
      "        try:\n",
      "            with codecs.open(path, 'r', encoding='utf8') as f:\n",
      "                yield path, f.read()\n",
      "        except UnicodeDecodeError:\n",
      "            print 'unicode decode error', path\n",
      "            \n",
      "DEFAULT_TAGSET = {\"hours\"}\n",
      "\n",
      "DEFAULT_FEATURES = CombinedFeatures(\n",
      "   parent_tag,\n",
      "   borders,\n",
      "   block_length,\n",
      "   \n",
      "   token_shape,\n",
      "   number_pattern,\n",
      "   prefixes_and_suffixes,\n",
      "   looks_like_email,\n",
      "   \n",
      "   # datetime\n",
      "   looks_like_year,\n",
      "   looks_like_time,\n",
      "   looks_like_month,\n",
      "   looks_like_weekday,\n",
      "   looks_like_range\n",
      ")\n",
      "                                   \n",
      "fe = HtmlFeaturesExtractor(tags=DEFAULT_TAGSET, feature_func=DEFAULT_FEATURES)    \n",
      "\n",
      "def fit_wapiti_encoder(tagged_data_iter):\n",
      "    we = WapitiFeatureEncoder(['token', 'lower'])    \n",
      "    for path, html in tagged_data_iter:\n",
      "        try:\n",
      "            features, labels = fe.fit_transform(html)\n",
      "            we.partial_fit(features)\n",
      "        except Exception as e:\n",
      "            print(\"error decoding %s:\\n%s\" % (path, e))\n",
      "    return we\n",
      "\n",
      "\n",
      "def to_wapiti_seq(features, labels, include_labels=True):\n",
      "    lines = []\n",
      "    for line, label in zip(we.transform(features), labels):\n",
      "        if include_labels:\n",
      "            lines.append(\"%s %s\" % (line, label))\n",
      "        else:\n",
      "            lines.append(line)\n",
      "    return '\\n'.join(lines)\n",
      "    \n",
      "\n",
      "def iter_wapiti_sequences(tagged_data_iter, we, include_labels=True):\n",
      "    \n",
      "    for path, html in tagged_data_iter:\n",
      "        try:\n",
      "            features, labels = fe.fit_transform(html)\n",
      "        except AssertionError as e:\n",
      "            print(\"error decoding %s:\\n%s\" % (path, e))\n",
      "        else:\n",
      "            yield to_wapiti_seq(features, labels, include_labels)\n",
      "        \n",
      "    \n",
      "def create_wapiti_data(fname, tagged_data_iter, we, include_labels=True):\n",
      "    with codecs.open(fname, 'w', encoding='utf8') as f:            \n",
      "        for seq in iter_wapiti_sequences(tagged_data_iter, we, include_labels):\n",
      "            f.write(seq)\n",
      "            f.write('\\n\\n')\n",
      "            "
     ],
     "language": "python",
     "metadata": {},
     "outputs": [],
     "prompt_number": 7
    },
    {
     "cell_type": "code",
     "collapsed": false,
     "input": [
      "corpus_paths = [\n",
      "    '../webstruct_data/corpus/ie/annotated/',\n",
      "]\n",
      "\n",
      "data = list(itertools.chain(*map(tagged_data, corpus_paths)))\n",
      "print len(data)\n",
      "\n",
      "random.shuffle(data)\n",
      "train, dev = data[:80], data[80:]\n",
      "\n",
      "print(len(train), len(dev))\n",
      "\n",
      "we = fit_wapiti_encoder(train)\n",
      "\n",
      "create_wapiti_data('ie_train.txt', train, we=we)\n",
      "create_wapiti_data('ie_test.txt', dev, we=we)\n",
      "\n",
      "from sklearn.externals.joblib import dump\n",
      "dump(we, 'ie-openhoursparser-wfe.joblib', compress=1)\n",
      "dump(fe, 'ie-openhoursparser-fe.joblib', compress=1)"
     ],
     "language": "python",
     "metadata": {},
     "outputs": [
      {
       "output_type": "stream",
       "stream": "stdout",
       "text": [
        "103"
       ]
      },
      {
       "output_type": "stream",
       "stream": "stdout",
       "text": [
        "\n",
        "(80, 23)\n"
       ]
      },
      {
       "output_type": "pyout",
       "prompt_number": 25,
       "text": [
        "['ie-openhoursparser-fe.joblib']"
       ]
      }
     ],
     "prompt_number": 25
    },
    {
     "cell_type": "code",
     "collapsed": false,
     "input": [
      "template = '''\n",
      "# Label unigram & bigram\n",
      "*\n",
      "\n",
      "# Nearby token unigrams (lower)\n",
      "u-LL:%x[-2,lower]\n",
      "u--L:%x[-1,lower]\n",
      "u--R:%x[ 1,lower]\n",
      "u-RR:%x[ 2,lower]\n",
      "\n",
      "# Nearby token bigrams (lower)\n",
      "u:wrd-2-LL:%x[-2,lower]/%x[-1,lower]\n",
      "u:wrd-2-L:%x[-1,lower]/%x[0,lower]\n",
      "u:wrd-2-R:%x[0,lower]/%x[1,lower]\n",
      "u:wrd-2-RR:%x[1,lower]/%x[2,lower]\n",
      "\n",
      "# Nearby shapes\n",
      "u:shape-L:%x[-1,shape]\n",
      "u:shape-R:%x[1,shape]\n",
      "\n",
      "u:shape:%x[-1,shape]/%x[0,shape]\n",
      "\n",
      "u:pattern--L:%x[-1,num_pattern2]\n",
      "u:pattern--R:%x[ 1,num_pattern2]\n",
      "\n",
      "u:token-L-weekday:%x[-1,lower]/%x[0, looks_like_weekday]\n",
      "u:token-L-time:%x[-1,lower]/%x[0, looks_like_time]\n",
      "\n",
      "u:weekday-L:%x[-1, looks_like_weekday]\n",
      "u:weekday-R:%x[1, looks_like_weekday]\n",
      "\n",
      "u:time-L:%x[-1, looks_like_time]\n",
      "u:time-R:%x[1, looks_like_time]]\n",
      "\n",
      "u:time-range-2:%x[-1,looks_like_time]/%x[0, looks_like_range]\n",
      "u:time-range-3:%x[-1,looks_like_time]/%x[0, looks_like_range]/%x[1,looks_like_time]\n",
      "\n",
      "u:weekday-range-2:%x[-1,looks_like_weekday]/%x[0, looks_like_weekday]\n",
      "u:weekday-range-3:%x[-1,looks_like_weekday]/%x[0, looks_like_range]/%x[1,looks_like_weekday]\n",
      "'''\n",
      "\n",
      "wapiti_template = we.unigram_features_template() + we.prepare_template(template) \n",
      "\n",
      "with codecs.open('ie-openhours-template.txt', 'w', encoding='utf8') as f:\n",
      "    f.write(wapiti_template)"
     ],
     "language": "python",
     "metadata": {},
     "outputs": [],
     "prompt_number": 26
    },
    {
     "cell_type": "code",
     "collapsed": false,
     "input": [
      "!wapiti train --pattern ie-openhours-template.txt --algo l-bfgs ie_train.txt ie-openhoursparser.wapiti"
     ],
     "language": "python",
     "metadata": {},
     "outputs": [
      {
       "output_type": "stream",
       "stream": "stdout",
       "text": [
        "* Load patterns\r\n",
        "* Load training data\r\n"
       ]
      },
      {
       "output_type": "stream",
       "stream": "stdout",
       "text": [
        "* Initialize the model\r\n",
        "* Summary\r\n",
        "    nb train:    80\r\n",
        "    nb labels:   3\r\n",
        "    nb blocks:   89244\r\n",
        "    nb features: 442314\r\n",
        "* Train the model with l-bfgs\r\n"
       ]
      },
      {
       "output_type": "stream",
       "stream": "stdout",
       "text": [
        "  [   1] obj=3992.76    act=202263   err= 3.88%/48.75% time=0.29s/0.29s\r\n"
       ]
      },
      {
       "output_type": "stream",
       "stream": "stdout",
       "text": [
        "  [   2] obj=3720.88    act=97101    err= 3.88%/48.75% time=0.16s/0.45s\r\n"
       ]
      },
      {
       "output_type": "stream",
       "stream": "stdout",
       "text": [
        "  [   3] obj=1442.77    act=16806    err= 3.35%/62.50% time=0.15s/0.60s\r\n"
       ]
      },
      {
       "output_type": "stream",
       "stream": "stdout",
       "text": [
        "  [   4] obj=847.25     act=23341    err= 1.89%/42.50% time=0.46s/1.06s\r\n"
       ]
      },
      {
       "output_type": "stream",
       "stream": "stdout",
       "text": [
        "  [   5] obj=804.04     act=24007    err= 1.96%/38.75% time=0.35s/1.41s\r\n"
       ]
      },
      {
       "output_type": "stream",
       "stream": "stdout",
       "text": [
        "  [   6] obj=758.51     act=23439    err= 1.78%/38.75% time=0.36s/1.77s\r\n"
       ]
      },
      {
       "output_type": "stream",
       "stream": "stdout",
       "text": [
        "  [   7] obj=742.58     act=22925    err= 1.88%/36.25% time=0.68s/2.44s\r\n"
       ]
      },
      {
       "output_type": "stream",
       "stream": "stdout",
       "text": [
        "  [   8] obj=611.72     act=18712    err= 2.04%/41.25% time=0.14s/2.59s\r\n"
       ]
      },
      {
       "output_type": "stream",
       "stream": "stdout",
       "text": [
        "  [   9] obj=387.37     act=13057    err= 1.68%/28.75% time=0.15s/2.73s\r\n"
       ]
      },
      {
       "output_type": "stream",
       "stream": "stdout",
       "text": [
        "  [  10] obj=358.92     act=10007    err= 2.58%/40.00% time=0.24s/2.97s\r\n"
       ]
      },
      {
       "output_type": "stream",
       "stream": "stdout",
       "text": [
        "  [  11] obj=253.21     act=12047    err= 1.36%/30.00% time=0.34s/3.31s\r\n"
       ]
      },
      {
       "output_type": "stream",
       "stream": "stdout",
       "text": [
        "  [  12] obj=222.93     act=11981    err= 1.08%/31.25% time=0.43s/3.74s\r\n"
       ]
      },
      {
       "output_type": "stream",
       "stream": "stdout",
       "text": [
        "  [  13] obj=213.28     act=9993     err= 1.39%/28.75% time=0.14s/3.88s\r\n"
       ]
      },
      {
       "output_type": "stream",
       "stream": "stdout",
       "text": [
        "  [  14] obj=186.33     act=10758    err= 1.18%/30.00% time=0.14s/4.02s\r\n"
       ]
      },
      {
       "output_type": "stream",
       "stream": "stdout",
       "text": [
        "  [  15] obj=179.47     act=10481    err= 1.18%/26.25% time=0.14s/4.17s\r\n"
       ]
      },
      {
       "output_type": "stream",
       "stream": "stdout",
       "text": [
        "  [  16] obj=168.92     act=10509    err= 1.16%/27.50% time=0.14s/4.30s\r\n"
       ]
      },
      {
       "output_type": "stream",
       "stream": "stdout",
       "text": [
        "  [  17] obj=163.77     act=10467    err= 0.94%/23.75% time=0.25s/4.55s\r\n"
       ]
      },
      {
       "output_type": "stream",
       "stream": "stdout",
       "text": [
        "  [  18] obj=157.22     act=10260    err= 0.94%/26.25% time=0.14s/4.69s\r\n"
       ]
      },
      {
       "output_type": "stream",
       "stream": "stdout",
       "text": [
        "  [  19] obj=157.21     act=9566     err= 0.90%/22.50% time=0.14s/4.83s\r\n"
       ]
      },
      {
       "output_type": "stream",
       "stream": "stdout",
       "text": [
        "  [  20] obj=147.51     act=9615     err= 0.84%/25.00% time=0.14s/4.97s\r\n"
       ]
      },
      {
       "output_type": "stream",
       "stream": "stdout",
       "text": [
        "  [  21] obj=142.06     act=9247     err= 0.78%/21.25% time=0.15s/5.12s\r\n"
       ]
      },
      {
       "output_type": "stream",
       "stream": "stdout",
       "text": [
        "  [  22] obj=136.17     act=9114     err= 0.55%/21.25% time=0.14s/5.26s\r\n"
       ]
      },
      {
       "output_type": "stream",
       "stream": "stdout",
       "text": [
        "  [  23] obj=133.12     act=8926     err= 0.57%/18.75% time=0.14s/5.40s\r\n"
       ]
      },
      {
       "output_type": "stream",
       "stream": "stdout",
       "text": [
        "  [  24] obj=128.12     act=8661     err= 0.59%/20.00% time=0.14s/5.54s\r\n"
       ]
      },
      {
       "output_type": "stream",
       "stream": "stdout",
       "text": [
        "  [  25] obj=124.59     act=8192     err= 0.34%/15.00% time=0.15s/5.69s\r\n"
       ]
      },
      {
       "output_type": "stream",
       "stream": "stdout",
       "text": [
        "  [  26] obj=117.68     act=7977     err= 0.29%/15.00% time=0.14s/5.83s\r\n"
       ]
      },
      {
       "output_type": "stream",
       "stream": "stdout",
       "text": [
        "  [  27] obj=114.30     act=7417     err= 0.18%/11.25% time=0.14s/5.98s\r\n"
       ]
      },
      {
       "output_type": "stream",
       "stream": "stdout",
       "text": [
        "  [  28] obj=108.36     act=6994     err= 0.18%/11.25% time=0.14s/6.12s\r\n"
       ]
      },
      {
       "output_type": "stream",
       "stream": "stdout",
       "text": [
        "  [  29] obj=104.43     act=6576     err= 0.21%/10.00% time=0.14s/6.26s\r\n"
       ]
      },
      {
       "output_type": "stream",
       "stream": "stdout",
       "text": [
        "  [  30] obj=101.28     act=6390     err= 0.11%/ 8.75% time=0.14s/6.40s\r\n"
       ]
      },
      {
       "output_type": "stream",
       "stream": "stdout",
       "text": [
        "  [  31] obj=97.97      act=5983     err= 0.13%/ 8.75% time=0.14s/6.54s\r\n"
       ]
      },
      {
       "output_type": "stream",
       "stream": "stdout",
       "text": [
        "  [  32] obj=94.05      act=4700     err= 0.19%/ 7.50% time=0.46s/7.00s\r\n"
       ]
      },
      {
       "output_type": "stream",
       "stream": "stdout",
       "text": [
        "  [  33] obj=92.27      act=4331     err= 0.39%/10.00% time=0.14s/7.14s\r\n"
       ]
      },
      {
       "output_type": "stream",
       "stream": "stdout",
       "text": [
        "  [  34] obj=90.00      act=4251     err= 0.07%/ 5.00% time=0.14s/7.28s\r\n"
       ]
      },
      {
       "output_type": "stream",
       "stream": "stdout",
       "text": [
        "  [  35] obj=87.84      act=3871     err= 0.12%/ 6.25% time=0.14s/7.42s\r\n"
       ]
      },
      {
       "output_type": "stream",
       "stream": "stdout",
       "text": [
        "  [  36] obj=87.05      act=3506     err= 0.07%/ 5.00% time=0.17s/7.59s\r\n"
       ]
      },
      {
       "output_type": "stream",
       "stream": "stdout",
       "text": [
        "  [  37] obj=84.55      act=3508     err= 0.08%/ 5.00% time=0.14s/7.73s\r\n"
       ]
      },
      {
       "output_type": "stream",
       "stream": "stdout",
       "text": [
        "  [  38] obj=83.72      act=3330     err= 0.13%/ 5.00% time=0.14s/7.88s\r\n"
       ]
      },
      {
       "output_type": "stream",
       "stream": "stdout",
       "text": [
        "  [  39] obj=82.19      act=3055     err= 0.18%/ 5.00% time=0.14s/8.01s\r\n"
       ]
      },
      {
       "output_type": "stream",
       "stream": "stdout",
       "text": [
        "  [  40] obj=80.59      act=2973     err= 0.09%/ 2.50% time=0.14s/8.15s\r\n"
       ]
      },
      {
       "output_type": "stream",
       "stream": "stdout",
       "text": [
        "  [  41] obj=79.73      act=2827     err= 0.01%/ 1.25% time=0.14s/8.29s\r\n"
       ]
      },
      {
       "output_type": "stream",
       "stream": "stdout",
       "text": [
        "  [  42] obj=79.26      act=2735     err= 0.09%/ 2.50% time=0.14s/8.43s\r\n"
       ]
      },
      {
       "output_type": "stream",
       "stream": "stdout",
       "text": [
        "  [  43] obj=78.40      act=2542     err= 0.01%/ 1.25% time=0.14s/8.57s\r\n"
       ]
      },
      {
       "output_type": "stream",
       "stream": "stdout",
       "text": [
        "  [  44] obj=77.68      act=2486     err= 0.01%/ 1.25% time=0.14s/8.71s\r\n"
       ]
      },
      {
       "output_type": "stream",
       "stream": "stdout",
       "text": [
        "  [  45] obj=77.10      act=2383     err= 0.01%/ 1.25% time=0.14s/8.85s\r\n"
       ]
      },
      {
       "output_type": "stream",
       "stream": "stdout",
       "text": [
        "  [  46] obj=76.26      act=2188     err= 0.02%/ 2.50% time=0.14s/8.99s\r\n"
       ]
      },
      {
       "output_type": "stream",
       "stream": "stdout",
       "text": [
        "  [  47] obj=75.35      act=2038     err= 0.03%/ 2.50% time=0.14s/9.13s\r\n",
        "* Save the model\r\n"
       ]
      },
      {
       "output_type": "stream",
       "stream": "stdout",
       "text": [
        "* Done\r\n"
       ]
      }
     ],
     "prompt_number": 27
    },
    {
     "cell_type": "code",
     "collapsed": false,
     "input": [
      "!wapiti label --model ie-openhoursparser.wapiti -c ie_test.txt res.txt"
     ],
     "language": "python",
     "metadata": {},
     "outputs": [
      {
       "output_type": "stream",
       "stream": "stdout",
       "text": [
        "* Load model\r\n"
       ]
      },
      {
       "output_type": "stream",
       "stream": "stdout",
       "text": [
        "* Label sequences\r\n"
       ]
      },
      {
       "output_type": "stream",
       "stream": "stdout",
       "text": [
        "    Nb sequences  : 23\r\n",
        "    Token error   :  0.89%\r\n",
        "    Sequence error: 26.09%\r\n",
        "* Per label statistics\r\n",
        "    O       Pr=0.99  Rc=1.00  F1=1.00\r\n",
        "    B-HOURS  Pr=0.89  Rc=0.76  F1=0.82\r\n",
        "    I-HOURS  Pr=0.95  Rc=0.93  F1=0.94\r\n",
        "* Done\r\n"
       ]
      }
     ],
     "prompt_number": 28
    },
    {
     "cell_type": "code",
     "collapsed": false,
     "input": [
      "import wapiti\n",
      "sys.path.insert(0, '../webstruct/')\n",
      "\n",
      "from sklearn.externals import joblib\n",
      "from urllib2 import urlopen\n",
      "from w3lib.encoding import html_to_unicode\n",
      "from webstruct.wapiti import WapitiChunker\n",
      "\n",
      "feature_extractor = joblib.load('ie-openhoursparser-fe.joblib')\n",
      "feature_encoder = joblib.load('ie-openhoursparser-wfe.joblib')\n",
      "wapiti_model = wapiti.Model(model='ie-openhoursparser.wapiti')\n",
      "ner = WapitiChunker(wapiti_model, feature_encoder, feature_extractor=feature_extractor)"
     ],
     "language": "python",
     "metadata": {},
     "outputs": [],
     "prompt_number": 35
    },
    {
     "cell_type": "code",
     "collapsed": false,
     "input": [
      "url = 'http://www.gillianosullivan.ie/contact.htm'\n",
      "#url = 'http://www.nli.ie/en/opening-hours.aspx'\n",
      "#url = 'http://www.library.nuigalway.ie/usingthelibrary/openinghours/'\n",
      "#url = 'http://www.universityarena.com/v2/opening-hours'\n",
      "url = 'http://www.imma.ie/en/subnav_91.htm'\n",
      "\n",
      "html = urlopen(url=url).read()\n",
      "\n",
      "for text, label in ner.transform(html):\n",
      "    if label != 'O':\n",
      "        print text, label\n"
     ],
     "language": "python",
     "metadata": {},
     "outputs": [
      {
       "output_type": "stream",
       "stream": "stdout",
       "text": [
        "Tuesday - Saturday: 10.00am - 5.30pm except Wednesday: 10.30am - 5.30pm Sunday and Bank Holidays: 12noon - 5.30pm Monday Good Friday and 24 - 26 December: Closed HOURS\n",
        "Monday: 10.00am - 3.00pm Tuesday - Saturday: 10.00am - 5.00pm Sunday and Bank Holidays: 12noon - 5.00pm IMMA Shop Tuesday - Saturday: 10.00am - 5.30pm Sunday and Bank Holidays: 12noon - 5.30pm Monday: Closed HOURS\n"
       ]
      }
     ],
     "prompt_number": 36
    },
    {
     "cell_type": "code",
     "collapsed": false,
     "input": [
      "import glob\n",
      "import os\n",
      "\n",
      "def parse_openhours(html):\n",
      "    r = []\n",
      "    for text, label in ner.transform(html):\n",
      "        if label  == 'HOURS':\n",
      "            r.append(text)\n",
      "    return r\n",
      "\n",
      "# test on unseen pages\n",
      "for path in glob.glob('../webstruct_data/corpus/ireland_contact_pages/source/*.html'):\n",
      "    with open(path, 'r') as f:\n",
      "        html = f.read()\n",
      "        try:\n",
      "            hours = parse_openhours(html)\n",
      "            print os.path.split(path)[1], hours\n",
      "        except BaseException, e:\n",
      "            pass\n",
      "        "
     ],
     "language": "python",
     "metadata": {},
     "outputs": [
      {
       "output_type": "stream",
       "stream": "stdout",
       "text": [
        "1.html []\n",
        "10.html"
       ]
      },
      {
       "output_type": "stream",
       "stream": "stdout",
       "text": [
        " []\n",
        "100.html"
       ]
      },
      {
       "output_type": "stream",
       "stream": "stdout",
       "text": [
        " []\n",
        "102.html"
       ]
      },
      {
       "output_type": "stream",
       "stream": "stdout",
       "text": [
        " []\n",
        "104.html"
       ]
      },
      {
       "output_type": "stream",
       "stream": "stdout",
       "text": [
        " []\n",
        "105.html"
       ]
      },
      {
       "output_type": "stream",
       "stream": "stdout",
       "text": [
        " ['06:30 - 10:00 Breakfast 10:00 - 12:00 Tom Dunne 12:00 - 13:30 Lunchtime 13:30 - 16:30 Moncrieff 16:30 - 19:00']\n",
        "109.html"
       ]
      },
      {
       "output_type": "stream",
       "stream": "stdout",
       "text": [
        " []\n",
        "11.html"
       ]
      },
      {
       "output_type": "stream",
       "stream": "stdout",
       "text": [
        " ['12:00 - 00:00 Tues: 12:00 - 00:00 Wed: 12:00 - 00:00 Thurs: 12:00 - 00:00 Fri: 12:00 - 02:00 Sat: 12:00 - 03:00 Sun: 12:00 - 00:00']\n",
        "115.html"
       ]
      },
      {
       "output_type": "stream",
       "stream": "stdout",
       "text": [
        " []\n",
        "120.html"
       ]
      },
      {
       "output_type": "stream",
       "stream": "stdout",
       "text": [
        " []\n",
        "121.html"
       ]
      },
      {
       "output_type": "stream",
       "stream": "stdout",
       "text": [
        " []\n",
        "123.html"
       ]
      },
      {
       "output_type": "stream",
       "stream": "stdout",
       "text": [
        " ['Monday 5:00 PM - 12:00 AM 5:00 PM - 12:00 AM Tuesday 5:00 PM - 12:00 AM 5:00 PM - 12:00 AM Wednesday 5:00 PM - 12:00 AM 5:00 PM - 12:00 AM Thursday 5:00 PM - 12:00 AM 5:00 PM - 12:00 AM Friday 5:00 PM - 12:00 AM 5:00 PM - 12:00 AM Saturday 5:00 PM - 12:00 AM 5:00 PM - 12:00 AM Sunday 5:00 PM - 12:00 AM 5:00 PM - 12:00 AM']\n",
        "126.html"
       ]
      },
      {
       "output_type": "stream",
       "stream": "stdout",
       "text": [
        " []\n",
        "128.html"
       ]
      },
      {
       "output_type": "stream",
       "stream": "stdout",
       "text": [
        " ['Monday to Friday 9am to 5.30pm Closed Saturdays Sundays Bank Holidays .', 'Monday to Friday 7am to 7pm Saturday and Bank Holidays 9am to 3pm Closed Sundays']\n",
        "129.html"
       ]
      },
      {
       "output_type": "stream",
       "stream": "stdout",
       "text": [
        " []\n",
        "131.html"
       ]
      },
      {
       "output_type": "stream",
       "stream": "stdout",
       "text": [
        " [u'Thurs to Sat. from 6.30pm Sunday 1.00 \\u2013 5.00']\n",
        "132.html"
       ]
      },
      {
       "output_type": "stream",
       "stream": "stdout",
       "text": [
        " [u'Monday \\u2013 Saturday Lunch Specials from 12 noon to 5.00 pm Evening Menu from 5:00pm to 11.00pm']\n",
        "147.html"
       ]
      },
      {
       "output_type": "stream",
       "stream": "stdout",
       "text": [
        " []\n",
        "150.html"
       ]
      },
      {
       "output_type": "stream",
       "stream": "stdout",
       "text": [
        " []\n",
        "152.html"
       ]
      },
      {
       "output_type": "stream",
       "stream": "stdout",
       "text": [
        " []\n",
        "153.html"
       ]
      },
      {
       "output_type": "stream",
       "stream": "stdout",
       "text": [
        " []\n",
        "155.html"
       ]
      },
      {
       "output_type": "stream",
       "stream": "stdout",
       "text": [
        " []\n",
        "156.html"
       ]
      },
      {
       "output_type": "stream",
       "stream": "stdout",
       "text": [
        " []\n",
        "158.html"
       ]
      },
      {
       "output_type": "stream",
       "stream": "stdout",
       "text": [
        " []\n",
        "165.html"
       ]
      },
      {
       "output_type": "stream",
       "stream": "stdout",
       "text": [
        " []\n",
        "171.html"
       ]
      },
      {
       "output_type": "stream",
       "stream": "stdout",
       "text": [
        " []\n",
        "174.html"
       ]
      },
      {
       "output_type": "stream",
       "stream": "stdout",
       "text": [
        " []\n",
        "178.html"
       ]
      },
      {
       "output_type": "stream",
       "stream": "stdout",
       "text": [
        " []\n",
        "179.html"
       ]
      },
      {
       "output_type": "stream",
       "stream": "stdout",
       "text": [
        " ['Monday 18:00 - 23:30 Tuesday 18:00 - 23:30 Wednesday 18:00 - 23:30 Thursday 18:00 - 23:30 Friday 18:00 - 23:30 Saturday 18:00 - 23:30 Sunday 18:00 - 23:30']\n",
        "182.html"
       ]
      },
      {
       "output_type": "stream",
       "stream": "stdout",
       "text": [
        " []\n",
        "185.html"
       ]
      },
      {
       "output_type": "stream",
       "stream": "stdout",
       "text": [
        " []\n",
        "186.html"
       ]
      },
      {
       "output_type": "stream",
       "stream": "stdout",
       "text": [
        " []\n",
        "189.html"
       ]
      },
      {
       "output_type": "stream",
       "stream": "stdout",
       "text": [
        " []\n",
        "192.html"
       ]
      },
      {
       "output_type": "stream",
       "stream": "stdout",
       "text": [
        " []\n",
        "193.html"
       ]
      },
      {
       "output_type": "stream",
       "stream": "stdout",
       "text": [
        " []\n",
        "194.html"
       ]
      },
      {
       "output_type": "stream",
       "stream": "stdout",
       "text": [
        " []\n",
        "195.html"
       ]
      },
      {
       "output_type": "stream",
       "stream": "stdout",
       "text": [
        " []\n",
        "204.html"
       ]
      },
      {
       "output_type": "stream",
       "stream": "stdout",
       "text": [
        " []\n",
        "220.html"
       ]
      },
      {
       "output_type": "stream",
       "stream": "stdout",
       "text": [
        " []\n",
        "224.html"
       ]
      },
      {
       "output_type": "stream",
       "stream": "stdout",
       "text": [
        " []\n",
        "228.html"
       ]
      },
      {
       "output_type": "stream",
       "stream": "stdout",
       "text": [
        " []\n",
        "229.html"
       ]
      },
      {
       "output_type": "stream",
       "stream": "stdout",
       "text": [
        " []\n",
        "231.html"
       ]
      },
      {
       "output_type": "stream",
       "stream": "stdout",
       "text": [
        " ['16:00 - 00:00 Tues: 16:00 - 00:00 Wed: 16:00 - 00:00 Thurs: 16:00 - 00:00 Fri: 12:00 - 00:00 Sat: 12:00 - 01:00 Sun: 12:00 - 00:00']\n",
        "240.html"
       ]
      },
      {
       "output_type": "stream",
       "stream": "stdout",
       "text": [
        " []\n",
        "242.html"
       ]
      },
      {
       "output_type": "stream",
       "stream": "stdout",
       "text": [
        " []\n",
        "244.html"
       ]
      },
      {
       "output_type": "stream",
       "stream": "stdout",
       "text": [
        " ['Mon - Sat Lunch 12pm to 5pm Evenings from 5pm - last orders 9.45pm Sundays - from 1pm - last orders 8pm']\n",
        "246.html"
       ]
      },
      {
       "output_type": "stream",
       "stream": "stdout",
       "text": [
        " []\n",
        "250.html"
       ]
      },
      {
       "output_type": "stream",
       "stream": "stdout",
       "text": [
        " []\n",
        "251.html"
       ]
      },
      {
       "output_type": "stream",
       "stream": "stdout",
       "text": [
        " []\n",
        "253.html"
       ]
      },
      {
       "output_type": "stream",
       "stream": "stdout",
       "text": [
        " ['15:00 - 00:00 Tues: 15:00 - 00:00 Wed: 15:00 - 00:00 Thurs: 12:00 - 00:00 Fri: 12:00 - 00:00 Sat: 12:00 - 00:00 Sun: 12:00 - 00:00']\n",
        "254.html []\n",
        "258.html"
       ]
      },
      {
       "output_type": "stream",
       "stream": "stdout",
       "text": [
        " []\n",
        "26.html"
       ]
      },
      {
       "output_type": "stream",
       "stream": "stdout",
       "text": [
        " []\n",
        "273.html"
       ]
      },
      {
       "output_type": "stream",
       "stream": "stdout",
       "text": [
        " []\n",
        "294.html"
       ]
      },
      {
       "output_type": "stream",
       "stream": "stdout",
       "text": [
        " []\n",
        "301.html"
       ]
      },
      {
       "output_type": "stream",
       "stream": "stdout",
       "text": [
        " []\n",
        "302.html"
       ]
      },
      {
       "output_type": "stream",
       "stream": "stdout",
       "text": [
        " []\n",
        "309.html"
       ]
      },
      {
       "output_type": "stream",
       "stream": "stdout",
       "text": [
        " ['Monday to Friday: 9am - 6.00pm Saturday: 9am - 1.30pm']\n",
        "31.html"
       ]
      },
      {
       "output_type": "stream",
       "stream": "stdout",
       "text": [
        " []\n",
        "310.html"
       ]
      },
      {
       "output_type": "stream",
       "stream": "stdout",
       "text": [
        " []\n",
        "313.html"
       ]
      },
      {
       "output_type": "stream",
       "stream": "stdout",
       "text": [
        " []\n",
        "315.html"
       ]
      },
      {
       "output_type": "stream",
       "stream": "stdout",
       "text": [
        " []\n",
        "316.html"
       ]
      },
      {
       "output_type": "stream",
       "stream": "stdout",
       "text": [
        " []\n",
        "317.html"
       ]
      },
      {
       "output_type": "stream",
       "stream": "stdout",
       "text": [
        " []\n",
        "320.html"
       ]
      },
      {
       "output_type": "stream",
       "stream": "stdout",
       "text": [
        " []\n",
        "323.html"
       ]
      },
      {
       "output_type": "stream",
       "stream": "stdout",
       "text": [
        " []\n",
        "329.html"
       ]
      },
      {
       "output_type": "stream",
       "stream": "stdout",
       "text": [
        " [u'Bank Holidays 11.00am to 6.00pm Monday 9.00am to 8.00pm Tuesday 9.00am to 8.00pm Wednesday 9.00am to 9.00pm Thursday 9.00am to 9.00pm Friday 9.00am to 9.00pm Saturday 9.00am to 6.00pm Sunday 10.00am to 6.00pm']\n",
        "332.html"
       ]
      },
      {
       "output_type": "stream",
       "stream": "stdout",
       "text": [
        " []\n",
        "338.html"
       ]
      },
      {
       "output_type": "stream",
       "stream": "stdout",
       "text": [
        " []\n",
        "342.html"
       ]
      },
      {
       "output_type": "stream",
       "stream": "stdout",
       "text": [
        " ['Mon-Fri 9.30am-5.30pm']\n",
        "343.html"
       ]
      },
      {
       "output_type": "stream",
       "stream": "stdout",
       "text": [
        " []\n",
        "349.html"
       ]
      },
      {
       "output_type": "stream",
       "stream": "stdout",
       "text": [
        " []\n",
        "355.html []\n",
        "356.html"
       ]
      },
      {
       "output_type": "stream",
       "stream": "stdout",
       "text": [
        " []\n",
        "357.html"
       ]
      },
      {
       "output_type": "stream",
       "stream": "stdout",
       "text": [
        " []\n",
        "360.html"
       ]
      },
      {
       "output_type": "stream",
       "stream": "stdout",
       "text": [
        " []\n",
        "367.html"
       ]
      },
      {
       "output_type": "stream",
       "stream": "stdout",
       "text": [
        " []\n",
        "368.html"
       ]
      },
      {
       "output_type": "stream",
       "stream": "stdout",
       "text": [
        " []\n",
        "372.html"
       ]
      },
      {
       "output_type": "stream",
       "stream": "stdout",
       "text": [
        " []\n",
        "373.html"
       ]
      },
      {
       "output_type": "stream",
       "stream": "stdout",
       "text": [
        " []\n",
        "375.html"
       ]
      },
      {
       "output_type": "stream",
       "stream": "stdout",
       "text": [
        " ['Monday to Friday 08:00 to 20:00, Saturdays 10:00 to 17:00 and Sundays 13:00 to 17:00 .']\n",
        "379.html"
       ]
      },
      {
       "output_type": "stream",
       "stream": "stdout",
       "text": [
        " ['are 09:30 to 13:00 and 14:00 to 17:15 Monday to Friday']\n",
        "380.html"
       ]
      },
      {
       "output_type": "stream",
       "stream": "stdout",
       "text": [
        " []\n",
        "385.html"
       ]
      },
      {
       "output_type": "stream",
       "stream": "stdout",
       "text": [
        " []\n",
        "387.html"
       ]
      },
      {
       "output_type": "stream",
       "stream": "stdout",
       "text": [
        " []\n",
        "399.html"
       ]
      },
      {
       "output_type": "stream",
       "stream": "stdout",
       "text": [
        " []\n",
        "4.html"
       ]
      },
      {
       "output_type": "stream",
       "stream": "stdout",
       "text": [
        " []\n",
        "400.html"
       ]
      },
      {
       "output_type": "stream",
       "stream": "stdout",
       "text": [
        " []\n",
        "403.html"
       ]
      },
      {
       "output_type": "stream",
       "stream": "stdout",
       "text": [
        " []\n",
        "41.html"
       ]
      },
      {
       "output_type": "stream",
       "stream": "stdout",
       "text": [
        " []\n",
        "411.html"
       ]
      },
      {
       "output_type": "stream",
       "stream": "stdout",
       "text": [
        " ['Monday to Friday: 8.30am to 12.45pm and 1.30pm to 4.30pm']\n",
        "413.html"
       ]
      },
      {
       "output_type": "stream",
       "stream": "stdout",
       "text": [
        " []\n",
        "417.html"
       ]
      },
      {
       "output_type": "stream",
       "stream": "stdout",
       "text": [
        " []\n",
        "418.html"
       ]
      },
      {
       "output_type": "stream",
       "stream": "stdout",
       "text": [
        " ['9.30 a.m. to 5.30 p.m. Monday to Thursday and 9.30 a.m. to 4.30 p.m. Friday']\n",
        "423.html"
       ]
      },
      {
       "output_type": "stream",
       "stream": "stdout",
       "text": [
        " []\n",
        "427.html"
       ]
      },
      {
       "output_type": "stream",
       "stream": "stdout",
       "text": [
        " ['Monday 12:00 PM - 11:45 PM 12:00 PM - 11:45 PM Tuesday 12:00 PM - 11:45 PM 12:00 PM - 11:45 PM Wednesday 12:00 PM - 11:45 PM 12:00 PM - 11:45 PM Thursday 12:00 PM - 12:45 AM 12:00 PM - 12:45 AM Friday 12:00 PM - 2:45 AM 12:00 PM - 2:45 AM Saturday 12:00 PM - 2:45 AM 12:00 PM - 2:45 AM Sunday 12:00 PM - 12:45 AM 12:00 PM - 12:45 AM']\n",
        "43.html []\n",
        "430.html"
       ]
      },
      {
       "output_type": "stream",
       "stream": "stdout",
       "text": [
        " []\n",
        "435.html"
       ]
      },
      {
       "output_type": "stream",
       "stream": "stdout",
       "text": [
        " ['12:00 - 00:00 Tue: 12:00 - 00:00 Wed: 12:00 - 00:00 Thu: 12:00 - 00:00 Fri: 12:00 - 01:00 Sat: 12:00 - 01:00 Sun: 12:00 - 00:00']\n",
        "437.html"
       ]
      },
      {
       "output_type": "stream",
       "stream": "stdout",
       "text": [
        " []\n",
        "47.html []\n",
        "48.html"
       ]
      },
      {
       "output_type": "stream",
       "stream": "stdout",
       "text": [
        " ['1:00pm - 4:00pm A La Carte 4:00pm - 10:30pm Sunday 3 course family lunch menu available']\n",
        "52.html"
       ]
      },
      {
       "output_type": "stream",
       "stream": "stdout",
       "text": [
        " []\n",
        "54.html"
       ]
      },
      {
       "output_type": "stream",
       "stream": "stdout",
       "text": [
        " ['Monday 13:00 - 23:59 Tuesday 13:00 - 23:59 Wednesday 13:00 - 23:59 Thursday 13:00 - 23:59 Friday 13:00 - 23:59 Saturday 13:00 - 23:59 Sunday 13:00 - 23:59']\n",
        "55.html"
       ]
      },
      {
       "output_type": "stream",
       "stream": "stdout",
       "text": [
        " []\n",
        "56.html"
       ]
      },
      {
       "output_type": "stream",
       "stream": "stdout",
       "text": [
        " []\n",
        "57.html"
       ]
      },
      {
       "output_type": "stream",
       "stream": "stdout",
       "text": [
        " []\n",
        "58.html"
       ]
      },
      {
       "output_type": "stream",
       "stream": "stdout",
       "text": [
        " []\n",
        "59.html"
       ]
      },
      {
       "output_type": "stream",
       "stream": "stdout",
       "text": [
        " []\n",
        "61.html"
       ]
      },
      {
       "output_type": "stream",
       "stream": "stdout",
       "text": [
        " ['Lunch: Mon-Fri 12-3pm | Sun 12-9pm | Dinner: Mon-Sat 5-10pm']\n",
        "63.html"
       ]
      },
      {
       "output_type": "stream",
       "stream": "stdout",
       "text": [
        " []\n",
        "65.html"
       ]
      },
      {
       "output_type": "stream",
       "stream": "stdout",
       "text": [
        " ['Monday - Friday: 9:00am - 5:30pm Saturday & Sunday: Closed']\n",
        "73.html"
       ]
      },
      {
       "output_type": "stream",
       "stream": "stdout",
       "text": [
        " ['Monday: Closed Tuesday: 17:30 - 22:00 Wednesday: 17:30 - 22:00 Thursday: 17:30 - 22:00 Friday: 17:30 - 22:00 Saturday: 17:30 - 22:00 Sunday: Closed']\n",
        "74.html"
       ]
      },
      {
       "output_type": "stream",
       "stream": "stdout",
       "text": [
        " []\n",
        "76.html"
       ]
      },
      {
       "output_type": "stream",
       "stream": "stdout",
       "text": [
        " []\n",
        "78.html"
       ]
      },
      {
       "output_type": "stream",
       "stream": "stdout",
       "text": [
        " []\n",
        "8.html"
       ]
      },
      {
       "output_type": "stream",
       "stream": "stdout",
       "text": [
        " []\n",
        "80.html"
       ]
      },
      {
       "output_type": "stream",
       "stream": "stdout",
       "text": [
        " ['Monday 16:00 - 01:00 Tuesday 16:00 - 01:00 Wednesday 16:00 - 01:00 Thursday 16:00 - 01:00 Friday 16:00 - 03:30 Saturday 16:00 - 03:30 Sunday 16:00 - 01:00']\n",
        "81.html"
       ]
      },
      {
       "output_type": "stream",
       "stream": "stdout",
       "text": [
        " []\n",
        "82.html"
       ]
      },
      {
       "output_type": "stream",
       "stream": "stdout",
       "text": [
        " []\n",
        "84.html"
       ]
      },
      {
       "output_type": "stream",
       "stream": "stdout",
       "text": [
        " ['Weekdays: 09:00 - 23:00 Weekends: 17:00 - 02:00']\n",
        "87.html"
       ]
      },
      {
       "output_type": "stream",
       "stream": "stdout",
       "text": [
        " []\n",
        "88.html"
       ]
      },
      {
       "output_type": "stream",
       "stream": "stdout",
       "text": [
        " []\n",
        "89.html"
       ]
      },
      {
       "output_type": "stream",
       "stream": "stdout",
       "text": [
        " ['Monday to Friday 8am - 6pm and Saturday 9am - 1pm', 'Monday to Friday 8am - 6pm and Saturday 9am - 1pm']\n",
        "9.html"
       ]
      },
      {
       "output_type": "stream",
       "stream": "stdout",
       "text": [
        " []\n",
        "90.html"
       ]
      },
      {
       "output_type": "stream",
       "stream": "stdout",
       "text": [
        " []\n",
        "95.html"
       ]
      },
      {
       "output_type": "stream",
       "stream": "stdout",
       "text": [
        " ['Monday 17:00 - 01:30 Tuesday 17:00 - 01:30 Wednesday 17:00 - 01:30 Thursday 17:00 - 02:00 Friday 17:00 - 04:00 Saturday 17:00 - 04:00 Sunday 17:00 - 02:00']\n",
        "96.html"
       ]
      },
      {
       "output_type": "stream",
       "stream": "stdout",
       "text": [
        " ['Monday - Friday: 8.45am to 6.45pm Saturday: 10am to 2pm']\n",
        "97.html"
       ]
      },
      {
       "output_type": "stream",
       "stream": "stdout",
       "text": [
        " []\n",
        "98.html"
       ]
      },
      {
       "output_type": "stream",
       "stream": "stdout",
       "text": [
        " ['Monday 4:00 PM - 11:15 PM 4:00 PM - 11:15 PM Tuesday 4:00 PM - 11:15 PM 4:00 PM - 11:15 PM Wednesday 4:00 PM - 11:15 PM 4:00 PM - 11:15 PM Thursday 4:00 PM - 11:15 PM 4:00 PM - 11:15 PM Friday 4:00 PM - 11:45 PM 4:00 PM - 11:45 PM Saturday 4:00 PM - 11:45 PM 4:00 PM - 11:45 PM Sunday 4:00 PM - 11:45 PM 4:00 PM - 11:45 PM']\n"
       ]
      }
     ],
     "prompt_number": 40
    },
    {
     "cell_type": "code",
     "collapsed": false,
     "input": [],
     "language": "python",
     "metadata": {},
     "outputs": []
    }
   ],
   "metadata": {}
  }
 ]
}