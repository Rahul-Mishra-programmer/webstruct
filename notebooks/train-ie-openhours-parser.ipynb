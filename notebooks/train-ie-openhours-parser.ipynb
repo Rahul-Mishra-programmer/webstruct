{
 "metadata": {
  "name": "train-ie-openhours-parser"
 },
 "nbformat": 3,
 "nbformat_minor": 0,
 "worksheets": [
  {
   "cells": [
    {
     "cell_type": "code",
     "collapsed": false,
     "input": [
      "import os\n",
      "import sys\n",
      "import re\n",
      "import codecs\n",
      "import random\n",
      "import itertools\n",
      "\n",
      "sys.path.insert(0, '../')\n",
      "\n",
      "import wapiti\n",
      "from webstruct.wapiti import WapitiFeatureEncoder\n",
      "from webstruct.feature_extraction import HtmlFeaturesExtractor\n",
      "from webstruct.features import OPEN_HOURS_FEATURES, OPEN_HOURS_TAGSET\n",
      "\n",
      "def tagged_data(folder):\n",
      "    for fname in os.listdir(folder):\n",
      "        path = os.path.join(folder, fname)\n",
      "        try:\n",
      "            with codecs.open(path, 'r', encoding='utf8') as f:\n",
      "                yield path, f.read()\n",
      "        except UnicodeDecodeError:\n",
      "            print 'unicode decode error', path\n",
      "            \n",
      "           \n",
      "fe = HtmlFeaturesExtractor(OPEN_HOURS_TAGSET, OPEN_HOURS_FEATURES)\n",
      "\n",
      "def fit_wapiti_encoder(tagged_data_iter):\n",
      "    we = WapitiFeatureEncoder(['token', 'lower'])    \n",
      "    for path, html in tagged_data_iter:\n",
      "        try:\n",
      "            features, labels = fe.fit_transform(html)\n",
      "            we.partial_fit(features)\n",
      "        except Exception as e:\n",
      "            print(\"error decoding %s:\\n%s\" % (path, e))\n",
      "    return we\n",
      "\n",
      "\n",
      "def to_wapiti_seq(features, labels, include_labels=True):\n",
      "    lines = []\n",
      "    for line, label in zip(we.transform(features), labels):\n",
      "        if include_labels:\n",
      "            lines.append(\"%s %s\" % (line, label))\n",
      "        else:\n",
      "            lines.append(line)\n",
      "    return '\\n'.join(lines)\n",
      "    \n",
      "\n",
      "def iter_wapiti_sequences(tagged_data_iter, we, include_labels=True):\n",
      "    \n",
      "    for path, html in tagged_data_iter:\n",
      "        try:\n",
      "            features, labels = fe.fit_transform(html)\n",
      "        except AssertionError as e:\n",
      "            print(\"error decoding %s:\\n%s\" % (path, e))\n",
      "        else:\n",
      "            yield to_wapiti_seq(features, labels, include_labels)\n",
      "        \n",
      "    \n",
      "def create_wapiti_data(fname, tagged_data_iter, we, include_labels=True):\n",
      "    with codecs.open(fname, 'w', encoding='utf8') as f:            \n",
      "        for seq in iter_wapiti_sequences(tagged_data_iter, we, include_labels):\n",
      "            f.write(seq)\n",
      "            f.write('\\n\\n')\n",
      "            "
     ],
     "language": "python",
     "metadata": {},
     "outputs": [],
     "prompt_number": 1
    },
    {
     "cell_type": "code",
     "collapsed": false,
     "input": [
      "corpus_paths = [\n",
      "    '../webstruct_data/corpus/ie/annotated/',\n",
      "]\n",
      "\n",
      "data = list(itertools.chain(*map(tagged_data, corpus_paths)))\n",
      "print len(data)\n",
      "\n",
      "random.shuffle(data)\n",
      "train, dev = data[:80], data[80:]\n",
      "\n",
      "print(len(train), len(dev))\n",
      "\n",
      "we = fit_wapiti_encoder(train)\n",
      "\n",
      "create_wapiti_data('ie_train.txt', train, we=we)\n",
      "create_wapiti_data('ie_test.txt', dev, we=we)\n",
      "\n",
      "from sklearn.externals.joblib import dump\n",
      "dump(we, 'ie-openhoursparser-wfe.joblib', compress=1)\n",
      "dump(fe, 'ie-openhoursparser-fe.joblib', compress=1)"
     ],
     "language": "python",
     "metadata": {},
     "outputs": [
      {
       "output_type": "stream",
       "stream": "stdout",
       "text": [
        "103\n",
        "(80, 23)\n"
       ]
      },
      {
       "output_type": "pyout",
       "prompt_number": 17,
       "text": [
        "['ie-openhoursparser-fe.joblib']"
       ]
      }
     ],
     "prompt_number": 17
    },
    {
     "cell_type": "code",
     "collapsed": false,
     "input": [
      "template = '''\n",
      "# Label unigram & bigram\n",
      "*\n",
      "\n",
      "# Nearby token unigrams (lower)\n",
      "u-LL:%x[-2,lower]\n",
      "u--L:%x[-1,lower]\n",
      "u--R:%x[ 1,lower]\n",
      "u-RR:%x[ 2,lower]\n",
      "\n",
      "# Nearby token bigrams (lower)\n",
      "u:wrd-2-LL:%x[-2,lower]/%x[-1,lower]\n",
      "u:wrd-2-L:%x[-1,lower]/%x[0,lower]\n",
      "u:wrd-2-R:%x[0,lower]/%x[1,lower]\n",
      "u:wrd-2-RR:%x[1,lower]/%x[2,lower]\n",
      "\n",
      "# Nearby shapes\n",
      "u:shape-L:%x[-1,shape]\n",
      "u:shape-R:%x[1,shape]\n",
      "\n",
      "u:shape:%x[-1,shape]/%x[0,shape]\n",
      "\n",
      "u:pattern--L:%x[-1,num_pattern2]\n",
      "u:pattern--R:%x[ 1,num_pattern2]\n",
      "\n",
      "u:token-L-weekday:%x[-1,lower]/%x[0, looks_like_weekday]\n",
      "u:token-L-time:%x[-1,lower]/%x[0, looks_like_time]\n",
      "\n",
      "u:weekday-L:%x[-1, looks_like_weekday]\n",
      "u:weekday-R:%x[1, looks_like_weekday]\n",
      "\n",
      "u:time-L:%x[-1, looks_like_time]\n",
      "u:time-R:%x[1, looks_like_time]]\n",
      "\n",
      "u:time-range-2:%x[-1,looks_like_time]/%x[0, looks_like_range]\n",
      "u:time-range-3:%x[-1,looks_like_time]/%x[0, looks_like_range]/%x[1,looks_like_time]\n",
      "\n",
      "u:weekday-range-2:%x[-1,looks_like_weekday]/%x[0, looks_like_weekday]\n",
      "u:weekday-range-3:%x[-1,looks_like_weekday]/%x[0, looks_like_range]/%x[1,looks_like_weekday]\n",
      "'''\n",
      "\n",
      "wapiti_template = we.unigram_features_template() + we.prepare_template(template) \n",
      "\n",
      "with codecs.open('ie-openhours-template.txt', 'w', encoding='utf8') as f:\n",
      "    f.write(wapiti_template)"
     ],
     "language": "python",
     "metadata": {},
     "outputs": [],
     "prompt_number": 18
    },
    {
     "cell_type": "code",
     "collapsed": false,
     "input": [
      "!wapiti train --pattern ie-openhours-template.txt --algo l-bfgs ie_train.txt ie-openhoursparser.wapiti"
     ],
     "language": "python",
     "metadata": {},
     "outputs": [
      {
       "output_type": "stream",
       "stream": "stdout",
       "text": [
        "* Load patterns\r\n",
        "* Load training data\r\n"
       ]
      },
      {
       "output_type": "stream",
       "stream": "stdout",
       "text": [
        "* Initialize the model\r\n",
        "* Summary\r\n",
        "    nb train:    80\r\n",
        "    nb labels:   3\r\n",
        "    nb blocks:   94783\r\n",
        "    nb features: 467247\r\n",
        "* Train the model with l-bfgs\r\n"
       ]
      },
      {
       "output_type": "stream",
       "stream": "stdout",
       "text": [
        "  [   1] obj=5762.79    act=214086   err= 5.42%/47.50% time=0.26s/0.26s\r\n"
       ]
      },
      {
       "output_type": "stream",
       "stream": "stdout",
       "text": [
        "  [   2] obj=5203.24    act=104017   err= 5.42%/47.50% time=0.15s/0.41s\r\n"
       ]
      },
      {
       "output_type": "stream",
       "stream": "stdout",
       "text": [
        "  [   3] obj=4239.98    act=21837    err=12.84%/92.50% time=0.25s/0.66s\r\n"
       ]
      },
      {
       "output_type": "stream",
       "stream": "stdout",
       "text": [
        "  [   4] obj=3360.02    act=49564    err= 3.72%/47.50% time=0.46s/1.12s\r\n"
       ]
      },
      {
       "output_type": "stream",
       "stream": "stdout",
       "text": [
        "  [   5] obj=759.61     act=48974    err= 2.09%/55.00% time=0.36s/1.48s\r\n"
       ]
      },
      {
       "output_type": "stream",
       "stream": "stdout",
       "text": [
        "  [   6] obj=717.94     act=48559    err= 2.03%/47.50% time=0.36s/1.84s\r\n"
       ]
      },
      {
       "output_type": "stream",
       "stream": "stdout",
       "text": [
        "  [   7] obj=707.03     act=48042    err= 1.87%/50.00% time=0.66s/2.50s\r\n"
       ]
      },
      {
       "output_type": "stream",
       "stream": "stdout",
       "text": [
        "  [   8] obj=629.20     act=31342    err= 1.65%/46.25% time=0.15s/2.65s\r\n"
       ]
      },
      {
       "output_type": "stream",
       "stream": "stdout",
       "text": [
        "  [   9] obj=458.72     act=15619    err= 1.13%/36.25% time=0.15s/2.80s\r\n"
       ]
      },
      {
       "output_type": "stream",
       "stream": "stdout",
       "text": [
        "  [  10] obj=212.61     act=8153     err= 0.81%/31.25% time=0.15s/2.95s\r\n"
       ]
      },
      {
       "output_type": "stream",
       "stream": "stdout",
       "text": [
        "  [  11] obj=212.32     act=9639     err= 1.18%/30.00% time=0.15s/3.10s\r\n"
       ]
      },
      {
       "output_type": "stream",
       "stream": "stdout",
       "text": [
        "  [  12] obj=183.61     act=10712    err= 0.62%/26.25% time=0.15s/3.26s\r\n"
       ]
      },
      {
       "output_type": "stream",
       "stream": "stdout",
       "text": [
        "  [  13] obj=170.97     act=10696    err= 0.69%/27.50% time=0.25s/3.50s\r\n"
       ]
      },
      {
       "output_type": "stream",
       "stream": "stdout",
       "text": [
        "  [  14] obj=163.51     act=9760     err= 0.60%/25.00% time=0.15s/3.66s\r\n"
       ]
      },
      {
       "output_type": "stream",
       "stream": "stdout",
       "text": [
        "  [  15] obj=159.74     act=9606     err= 0.79%/25.00% time=0.35s/4.01s\r\n"
       ]
      },
      {
       "output_type": "stream",
       "stream": "stdout",
       "text": [
        "  [  16] obj=153.42     act=9256     err= 0.54%/20.00% time=0.25s/4.26s\r\n"
       ]
      },
      {
       "output_type": "stream",
       "stream": "stdout",
       "text": [
        "  [  17] obj=146.69     act=9047     err= 0.75%/22.50% time=0.26s/4.52s\r\n"
       ]
      },
      {
       "output_type": "stream",
       "stream": "stdout",
       "text": [
        "  [  18] obj=145.93     act=8854     err= 0.50%/20.00% time=0.15s/4.67s\r\n"
       ]
      },
      {
       "output_type": "stream",
       "stream": "stdout",
       "text": [
        "  [  19] obj=136.67     act=8769     err= 0.45%/20.00% time=0.14s/4.81s\r\n"
       ]
      },
      {
       "output_type": "stream",
       "stream": "stdout",
       "text": [
        "  [  20] obj=132.97     act=8478     err= 0.40%/20.00% time=0.15s/4.96s\r\n"
       ]
      },
      {
       "output_type": "stream",
       "stream": "stdout",
       "text": [
        "  [  21] obj=126.59     act=8169     err= 0.41%/17.50% time=0.15s/5.11s\r\n"
       ]
      },
      {
       "output_type": "stream",
       "stream": "stdout",
       "text": [
        "  [  22] obj=120.15     act=7387     err= 0.28%/13.75% time=0.15s/5.26s\r\n"
       ]
      },
      {
       "output_type": "stream",
       "stream": "stdout",
       "text": [
        "  [  23] obj=112.96     act=6989     err= 0.38%/13.75% time=0.15s/5.41s\r\n"
       ]
      },
      {
       "output_type": "stream",
       "stream": "stdout",
       "text": [
        "  [  24] obj=106.75     act=6846     err= 0.22%/10.00% time=0.15s/5.56s\r\n"
       ]
      },
      {
       "output_type": "stream",
       "stream": "stdout",
       "text": [
        "  [  25] obj=101.99     act=6329     err= 0.21%/10.00% time=0.15s/5.71s\r\n"
       ]
      },
      {
       "output_type": "stream",
       "stream": "stdout",
       "text": [
        "  [  26] obj=97.72      act=6036     err= 0.22%/10.00% time=0.15s/5.85s\r\n"
       ]
      },
      {
       "output_type": "stream",
       "stream": "stdout",
       "text": [
        "  [  27] obj=94.56      act=5646     err= 0.12%/ 6.25% time=0.15s/6.00s\r\n"
       ]
      },
      {
       "output_type": "stream",
       "stream": "stdout",
       "text": [
        "  [  28] obj=91.70      act=5158     err= 0.18%/ 7.50% time=0.15s/6.15s\r\n"
       ]
      },
      {
       "output_type": "stream",
       "stream": "stdout",
       "text": [
        "  [  29] obj=87.66      act=4447     err= 0.17%/ 6.25% time=0.15s/6.29s\r\n"
       ]
      },
      {
       "output_type": "stream",
       "stream": "stdout",
       "text": [
        "  [  30] obj=85.28      act=3988     err= 0.11%/ 5.00% time=0.15s/6.44s\r\n"
       ]
      },
      {
       "output_type": "stream",
       "stream": "stdout",
       "text": [
        "  [  31] obj=82.96      act=3587     err= 0.21%/ 3.75% time=0.15s/6.59s\r\n"
       ]
      },
      {
       "output_type": "stream",
       "stream": "stdout",
       "text": [
        "  [  32] obj=80.78      act=2976     err= 0.08%/ 3.75% time=0.15s/6.74s\r\n"
       ]
      },
      {
       "output_type": "stream",
       "stream": "stdout",
       "text": [
        "  [  33] obj=78.88      act=2725     err= 0.14%/ 2.50% time=0.15s/6.89s\r\n"
       ]
      },
      {
       "output_type": "stream",
       "stream": "stdout",
       "text": [
        "  [  34] obj=77.10      act=2703     err= 0.12%/ 3.75% time=0.15s/7.04s\r\n"
       ]
      },
      {
       "output_type": "stream",
       "stream": "stdout",
       "text": [
        "  [  35] obj=75.97      act=2539     err= 0.11%/ 2.50% time=0.15s/7.19s\r\n"
       ]
      },
      {
       "output_type": "stream",
       "stream": "stdout",
       "text": [
        "  [  36] obj=74.78      act=2435     err= 0.12%/ 3.75% time=0.15s/7.34s\r\n"
       ]
      },
      {
       "output_type": "stream",
       "stream": "stdout",
       "text": [
        "  [  37] obj=74.21      act=2313     err= 0.06%/ 2.50% time=0.15s/7.49s\r\n"
       ]
      },
      {
       "output_type": "stream",
       "stream": "stdout",
       "text": [
        "  [  38] obj=73.79      act=2297     err= 0.07%/ 3.75% time=0.15s/7.63s\r\n"
       ]
      },
      {
       "output_type": "stream",
       "stream": "stdout",
       "text": [
        "  [  39] obj=73.04      act=2157     err= 0.07%/ 3.75% time=0.14s/7.78s\r\n"
       ]
      },
      {
       "output_type": "stream",
       "stream": "stdout",
       "text": [
        "  [  40] obj=72.12      act=1634     err= 0.09%/ 2.50% time=0.26s/8.04s\r\n"
       ]
      },
      {
       "output_type": "stream",
       "stream": "stdout",
       "text": [
        "  [  41] obj=70.95      act=1769     err= 0.06%/ 2.50% time=0.15s/8.19s\r\n"
       ]
      },
      {
       "output_type": "stream",
       "stream": "stdout",
       "text": [
        "  [  42] obj=70.50      act=1780     err= 0.06%/ 2.50% time=0.15s/8.34s\r\n"
       ]
      },
      {
       "output_type": "stream",
       "stream": "stdout",
       "text": [
        "  [  43] obj=70.24      act=1743     err= 0.06%/ 2.50% time=0.15s/8.48s\r\n"
       ]
      },
      {
       "output_type": "stream",
       "stream": "stdout",
       "text": [
        "  [  44] obj=69.89      act=1660     err= 0.07%/ 3.75% time=0.25s/8.74s\r\n"
       ]
      },
      {
       "output_type": "stream",
       "stream": "stdout",
       "text": [
        "  [  45] obj=69.37      act=1579     err= 0.14%/ 5.00% time=0.15s/8.88s\r\n"
       ]
      },
      {
       "output_type": "stream",
       "stream": "stdout",
       "text": [
        "  [  46] obj=68.96      act=1581     err= 0.02%/ 1.25% time=0.15s/9.03s\r\n"
       ]
      },
      {
       "output_type": "stream",
       "stream": "stdout",
       "text": [
        "  [  47] obj=68.40      act=1548     err= 0.13%/ 5.00% time=0.15s/9.18s\r\n"
       ]
      },
      {
       "output_type": "stream",
       "stream": "stdout",
       "text": [
        "  [  48] obj=68.03      act=1529     err= 0.02%/ 1.25% time=0.15s/9.34s\r\n"
       ]
      },
      {
       "output_type": "stream",
       "stream": "stdout",
       "text": [
        "  [  49] obj=67.63      act=1511     err= 0.13%/ 3.75% time=0.15s/9.49s\r\n"
       ]
      },
      {
       "output_type": "stream",
       "stream": "stdout",
       "text": [
        "  [  50] obj=67.40      act=1464     err= 0.13%/ 3.75% time=0.15s/9.63s\r\n"
       ]
      },
      {
       "output_type": "stream",
       "stream": "stdout",
       "text": [
        "  [  51] obj=66.83      act=1396     err= 0.11%/ 2.50% time=0.15s/9.78s\r\n"
       ]
      },
      {
       "output_type": "stream",
       "stream": "stdout",
       "text": [
        "  [  52] obj=66.66      act=1369     err= 0.11%/ 2.50% time=0.16s/9.94s\r\n"
       ]
      },
      {
       "output_type": "stream",
       "stream": "stdout",
       "text": [
        "  [  53] obj=66.26      act=1347     err= 0.11%/ 2.50% time=0.15s/10.09s\r\n",
        "* Save the model\r\n"
       ]
      },
      {
       "output_type": "stream",
       "stream": "stdout",
       "text": [
        "* Done\r\n"
       ]
      }
     ],
     "prompt_number": 19
    },
    {
     "cell_type": "code",
     "collapsed": false,
     "input": [
      "!wapiti label --model ie-openhoursparser.wapiti -c ie_test.txt res.txt"
     ],
     "language": "python",
     "metadata": {},
     "outputs": [
      {
       "output_type": "stream",
       "stream": "stdout",
       "text": [
        "* Load model\r\n"
       ]
      },
      {
       "output_type": "stream",
       "stream": "stdout",
       "text": [
        "* Label sequences\r\n"
       ]
      },
      {
       "output_type": "stream",
       "stream": "stdout",
       "text": [
        "    Nb sequences  : 23\r\n",
        "    Token error   :  1.05%\r\n",
        "    Sequence error: 30.43%\r\n",
        "* Per label statistics\r\n",
        "    O       Pr=0.99  Rc=1.00  F1=0.99\r\n",
        "    B-HOURS  Pr=0.90  Rc=0.86  F1=0.88\r\n",
        "    I-HOURS  Pr=0.90  Rc=0.89  F1=0.90\r\n",
        "* Done\r\n"
       ]
      }
     ],
     "prompt_number": 20
    },
    {
     "cell_type": "code",
     "collapsed": false,
     "input": [
      "import wapiti\n",
      "sys.path.insert(0, '../webstruct/')\n",
      "\n",
      "from sklearn.externals import joblib\n",
      "from urllib2 import urlopen\n",
      "from w3lib.encoding import html_to_unicode\n",
      "from webstruct.wapiti import WapitiChunker\n",
      "\n",
      "feature_extractor = joblib.load('ie-openhoursparser-fe.joblib')\n",
      "feature_encoder = joblib.load('ie-openhoursparser-wfe.joblib')\n",
      "wapiti_model = wapiti.Model(model='ie-openhoursparser.wapiti')\n",
      "ner = WapitiChunker(wapiti_model, feature_encoder, feature_extractor=feature_extractor)"
     ],
     "language": "python",
     "metadata": {},
     "outputs": [],
     "prompt_number": 22
    },
    {
     "cell_type": "code",
     "collapsed": false,
     "input": [
      "url = 'http://www.gillianosullivan.ie/contact.htm'\n",
      "#url = 'http://www.nli.ie/en/opening-hours.aspx'\n",
      "#url = 'http://www.library.nuigalway.ie/usingthelibrary/openinghours/'\n",
      "#url = 'http://www.universityarena.com/v2/opening-hours'\n",
      "url = 'http://www.imma.ie/en/subnav_91.htm'\n",
      "\n",
      "html = urlopen(url=url).read()\n",
      "\n",
      "for text, label in ner.transform(html):\n",
      "    if label != 'O':\n",
      "        print label, text\n"
     ],
     "language": "python",
     "metadata": {},
     "outputs": [
      {
       "output_type": "stream",
       "stream": "stdout",
       "text": [
        "HOURS"
       ]
      },
      {
       "output_type": "stream",
       "stream": "stdout",
       "text": [
        " Tuesday - Saturday: 10.00am - 5.30pm except Wednesday: 10.30am - 5.30pm Sunday and Bank Holidays: 12noon - 5.30pm Monday Good Friday and 24 - 26 December: Closed\n",
        "HOURS Monday: 10.00am - 3.00pm Tuesday - Saturday: 10.00am - 5.00pm Sunday and Bank Holidays: 12noon - 5.00pm IMMA Shop Tuesday - Saturday: 10.00am - 5.30pm Sunday and Bank Holidays: 12noon - 5.30pm Monday: Closed\n"
       ]
      }
     ],
     "prompt_number": 23
    },
    {
     "cell_type": "code",
     "collapsed": false,
     "input": [
      "import glob\n",
      "import os\n",
      "\n",
      "def parse_openhours(html):\n",
      "    r = []\n",
      "    for text, label in ner.transform(html):\n",
      "        if label  == 'HOURS':\n",
      "            r.append(text)\n",
      "    return r\n",
      "\n",
      "# test on unseen pages\n",
      "for path in glob.glob('../webstruct_data/corpus/ireland_contact_pages/source/*.html'):\n",
      "    with open(path, 'r') as f:\n",
      "        html = f.read()\n",
      "        try:\n",
      "            hours = parse_openhours(html)\n",
      "            print os.path.split(path)[1], hours\n",
      "        except BaseException, e:\n",
      "            pass\n",
      "        "
     ],
     "language": "python",
     "metadata": {},
     "outputs": [
      {
       "output_type": "stream",
       "stream": "stdout",
       "text": [
        "1.html []\n",
        "10.html"
       ]
      },
      {
       "output_type": "stream",
       "stream": "stdout",
       "text": [
        " []\n",
        "100.html"
       ]
      },
      {
       "output_type": "stream",
       "stream": "stdout",
       "text": [
        " []\n",
        "102.html"
       ]
      },
      {
       "output_type": "stream",
       "stream": "stdout",
       "text": [
        " []\n",
        "104.html"
       ]
      },
      {
       "output_type": "stream",
       "stream": "stdout",
       "text": [
        " []\n",
        "105.html"
       ]
      },
      {
       "output_type": "stream",
       "stream": "stdout",
       "text": [
        " ['06:30 - 10:00 Breakfast 10:00 - 12:00 Tom Dunne 12:00 - 13:30 Lunchtime 13:30 - 16:30 Moncrieff 16:30 - 19:00 The Right Hook 19:00 - 22:00 Off The Ball 22:00 - 00:00']\n",
        "109.html"
       ]
      },
      {
       "output_type": "stream",
       "stream": "stdout",
       "text": [
        " []\n",
        "11.html"
       ]
      },
      {
       "output_type": "stream",
       "stream": "stdout",
       "text": [
        " ['Mon: 12:00 - 00:00 Tues: 12:00 - 00:00 Wed: 12:00 - 00:00 Thurs: 12:00 - 00:00 Fri: 12:00 - 02:00 Sat: 12:00 - 03:00 Sun: 12:00 - 00:00']\n",
        "115.html"
       ]
      },
      {
       "output_type": "stream",
       "stream": "stdout",
       "text": [
        " []\n",
        "120.html"
       ]
      },
      {
       "output_type": "stream",
       "stream": "stdout",
       "text": [
        " []\n",
        "121.html"
       ]
      },
      {
       "output_type": "stream",
       "stream": "stdout",
       "text": [
        " []\n",
        "123.html"
       ]
      },
      {
       "output_type": "stream",
       "stream": "stdout",
       "text": [
        " ['Monday June 24 2013 - 3:02:49 am', 'Monday 5:00 PM - 12:00 AM 5:00 PM - 12:00 AM Tuesday 5:00 PM - 12:00 AM 5:00 PM - 12:00 AM Wednesday 5:00 PM - 12:00 AM 5:00 PM - 12:00 AM Thursday 5:00 PM - 12:00 AM 5:00 PM - 12:00 AM Friday 5:00 PM - 12:00 AM 5:00 PM - 12:00 AM Saturday 5:00 PM - 12:00 AM 5:00 PM - 12:00 AM Sunday 5:00 PM - 12:00 AM 5:00 PM - 12:00 AM']\n",
        "126.html"
       ]
      },
      {
       "output_type": "stream",
       "stream": "stdout",
       "text": [
        " []\n",
        "128.html"
       ]
      },
      {
       "output_type": "stream",
       "stream": "stdout",
       "text": [
        " ['Monday to Friday 9am to 5.30pm Closed', 'Monday to Friday 7am to 7pm Saturday and Bank Holidays 9am to 3pm Closed Sundays']\n",
        "129.html"
       ]
      },
      {
       "output_type": "stream",
       "stream": "stdout",
       "text": [
        " []\n",
        "131.html"
       ]
      },
      {
       "output_type": "stream",
       "stream": "stdout",
       "text": [
        " [u'Thurs to Sat. from 6.30pm Sunday 1.00 \\u2013 5.00']\n",
        "132.html"
       ]
      },
      {
       "output_type": "stream",
       "stream": "stdout",
       "text": [
        " [u'Monday \\u2013 Saturday Lunch Specials from 12 noon to 5.00 pm Evening Menu from 5:00pm to 11.00pm']\n",
        "147.html"
       ]
      },
      {
       "output_type": "stream",
       "stream": "stdout",
       "text": [
        " []\n",
        "150.html"
       ]
      },
      {
       "output_type": "stream",
       "stream": "stdout",
       "text": [
        " []\n",
        "152.html"
       ]
      },
      {
       "output_type": "stream",
       "stream": "stdout",
       "text": [
        " []\n",
        "153.html []\n",
        "155.html"
       ]
      },
      {
       "output_type": "stream",
       "stream": "stdout",
       "text": [
        " []\n",
        "156.html"
       ]
      },
      {
       "output_type": "stream",
       "stream": "stdout",
       "text": [
        " []\n",
        "158.html"
       ]
      },
      {
       "output_type": "stream",
       "stream": "stdout",
       "text": [
        " []\n",
        "165.html []\n",
        "171.html"
       ]
      },
      {
       "output_type": "stream",
       "stream": "stdout",
       "text": [
        " []\n",
        "174.html"
       ]
      },
      {
       "output_type": "stream",
       "stream": "stdout",
       "text": [
        " []\n",
        "178.html"
       ]
      },
      {
       "output_type": "stream",
       "stream": "stdout",
       "text": [
        " []\n",
        "179.html"
       ]
      },
      {
       "output_type": "stream",
       "stream": "stdout",
       "text": [
        " ['Monday : 18:00 - 23:30', 'Monday 18:00 - 23:30 Tuesday 18:00 - 23:30 Wednesday 18:00 - 23:30 Thursday 18:00 - 23:30 Friday 18:00 - 23:30 Saturday 18:00 - 23:30 Sunday 18:00 - 23:30']\n",
        "182.html"
       ]
      },
      {
       "output_type": "stream",
       "stream": "stdout",
       "text": [
        " []\n",
        "185.html"
       ]
      },
      {
       "output_type": "stream",
       "stream": "stdout",
       "text": [
        " []\n",
        "186.html"
       ]
      },
      {
       "output_type": "stream",
       "stream": "stdout",
       "text": [
        " []\n",
        "189.html"
       ]
      },
      {
       "output_type": "stream",
       "stream": "stdout",
       "text": [
        " []\n",
        "192.html"
       ]
      },
      {
       "output_type": "stream",
       "stream": "stdout",
       "text": [
        " []\n",
        "193.html"
       ]
      },
      {
       "output_type": "stream",
       "stream": "stdout",
       "text": [
        " []\n",
        "194.html"
       ]
      },
      {
       "output_type": "stream",
       "stream": "stdout",
       "text": [
        " []\n",
        "195.html"
       ]
      },
      {
       "output_type": "stream",
       "stream": "stdout",
       "text": [
        " []\n",
        "204.html"
       ]
      },
      {
       "output_type": "stream",
       "stream": "stdout",
       "text": [
        " []\n",
        "220.html"
       ]
      },
      {
       "output_type": "stream",
       "stream": "stdout",
       "text": [
        " []\n",
        "224.html"
       ]
      },
      {
       "output_type": "stream",
       "stream": "stdout",
       "text": [
        " []\n",
        "228.html"
       ]
      },
      {
       "output_type": "stream",
       "stream": "stdout",
       "text": [
        " []\n",
        "229.html"
       ]
      },
      {
       "output_type": "stream",
       "stream": "stdout",
       "text": [
        " []\n",
        "231.html"
       ]
      },
      {
       "output_type": "stream",
       "stream": "stdout",
       "text": [
        " ['Mon: 16:00 - 00:00 Tues: 16:00 - 00:00 Wed: 16:00 - 00:00 Thurs: 16:00 - 00:00 Fri: 12:00 - 00:00 Sat: 12:00 - 01:00 Sun: 12:00 - 00:00']\n",
        "240.html"
       ]
      },
      {
       "output_type": "stream",
       "stream": "stdout",
       "text": [
        " []\n",
        "242.html"
       ]
      },
      {
       "output_type": "stream",
       "stream": "stdout",
       "text": [
        " []\n",
        "244.html"
       ]
      },
      {
       "output_type": "stream",
       "stream": "stdout",
       "text": [
        " []\n",
        "246.html"
       ]
      },
      {
       "output_type": "stream",
       "stream": "stdout",
       "text": [
        " []\n",
        "250.html"
       ]
      },
      {
       "output_type": "stream",
       "stream": "stdout",
       "text": [
        " []\n",
        "251.html"
       ]
      },
      {
       "output_type": "stream",
       "stream": "stdout",
       "text": [
        " []\n",
        "253.html"
       ]
      },
      {
       "output_type": "stream",
       "stream": "stdout",
       "text": [
        " ['Mon: 15:00 - 00:00 Tues: 15:00 - 00:00 Wed: 15:00 - 00:00 Thurs: 12:00 - 00:00 Fri: 12:00 - 00:00 Sat: 12:00 - 00:00 Sun: 12:00 - 00:00']\n",
        "254.html []\n",
        "258.html"
       ]
      },
      {
       "output_type": "stream",
       "stream": "stdout",
       "text": [
        " []\n",
        "26.html"
       ]
      },
      {
       "output_type": "stream",
       "stream": "stdout",
       "text": [
        " []\n",
        "273.html"
       ]
      },
      {
       "output_type": "stream",
       "stream": "stdout",
       "text": [
        " []\n",
        "294.html"
       ]
      },
      {
       "output_type": "stream",
       "stream": "stdout",
       "text": [
        " []\n",
        "301.html []\n",
        "302.html"
       ]
      },
      {
       "output_type": "stream",
       "stream": "stdout",
       "text": [
        " []\n",
        "309.html"
       ]
      },
      {
       "output_type": "stream",
       "stream": "stdout",
       "text": [
        " ['Monday to Friday: 9am - 6.00pm Saturday: 9am - 1.30pm']\n",
        "31.html"
       ]
      },
      {
       "output_type": "stream",
       "stream": "stdout",
       "text": [
        " []\n",
        "310.html"
       ]
      },
      {
       "output_type": "stream",
       "stream": "stdout",
       "text": [
        " ['Monday Closed Tuesday 6pm - 9:30pm Wednesday 6pm - 9:30pm Thursday 6pm - 9:30pm Friday 6pm - 9:30pm Saturday 5:30pm - 9:30pm Sunday 12:30pm - 3:00pm 6pm - 9:00pm']\n",
        "313.html"
       ]
      },
      {
       "output_type": "stream",
       "stream": "stdout",
       "text": [
        " []\n",
        "315.html"
       ]
      },
      {
       "output_type": "stream",
       "stream": "stdout",
       "text": [
        " []\n",
        "316.html"
       ]
      },
      {
       "output_type": "stream",
       "stream": "stdout",
       "text": [
        " []\n",
        "317.html"
       ]
      },
      {
       "output_type": "stream",
       "stream": "stdout",
       "text": [
        " [u'Monday to Friday 8.45am to 5.15pm.', u'Monday to Friday 8.45am to 5.15pm or email']\n",
        "320.html"
       ]
      },
      {
       "output_type": "stream",
       "stream": "stdout",
       "text": [
        " []\n",
        "323.html"
       ]
      },
      {
       "output_type": "stream",
       "stream": "stdout",
       "text": [
        " []\n",
        "329.html"
       ]
      },
      {
       "output_type": "stream",
       "stream": "stdout",
       "text": [
        " [u'Bank Holidays 11.00am to 6.00pm Monday 9.00am to 8.00pm Tuesday 9.00am to 8.00pm Wednesday 9.00am to 9.00pm Thursday 9.00am to 9.00pm Friday 9.00am to 9.00pm Saturday 9.00am to 6.00pm Sunday 10.00am to 6.00pm']\n",
        "332.html"
       ]
      },
      {
       "output_type": "stream",
       "stream": "stdout",
       "text": [
        " ['5.30pm - 11.30pm ( Sun-Tues ) | 5.30pm']\n",
        "338.html"
       ]
      },
      {
       "output_type": "stream",
       "stream": "stdout",
       "text": [
        " ['Monday to Friday 9.30am to 5pm']\n",
        "342.html"
       ]
      },
      {
       "output_type": "stream",
       "stream": "stdout",
       "text": [
        " ['Mon-Fri 9.30am-5.30pm']\n",
        "343.html"
       ]
      },
      {
       "output_type": "stream",
       "stream": "stdout",
       "text": [
        " []\n",
        "349.html"
       ]
      },
      {
       "output_type": "stream",
       "stream": "stdout",
       "text": [
        " []\n",
        "355.html []\n",
        "356.html"
       ]
      },
      {
       "output_type": "stream",
       "stream": "stdout",
       "text": [
        " ['Tuesday through Saturday from 5:30pm until late']\n",
        "357.html"
       ]
      },
      {
       "output_type": "stream",
       "stream": "stdout",
       "text": [
        " []\n",
        "360.html"
       ]
      },
      {
       "output_type": "stream",
       "stream": "stdout",
       "text": [
        " []\n",
        "367.html"
       ]
      },
      {
       "output_type": "stream",
       "stream": "stdout",
       "text": [
        " []\n",
        "368.html"
       ]
      },
      {
       "output_type": "stream",
       "stream": "stdout",
       "text": [
        " []\n",
        "372.html"
       ]
      },
      {
       "output_type": "stream",
       "stream": "stdout",
       "text": [
        " []\n",
        "373.html"
       ]
      },
      {
       "output_type": "stream",
       "stream": "stdout",
       "text": [
        " []\n",
        "375.html"
       ]
      },
      {
       "output_type": "stream",
       "stream": "stdout",
       "text": [
        " ['Monday to Friday 08:00 to 20:00, Saturdays 10:00 to 17:00 and Sundays 13:00 to 17:00 . 01 637 1600']\n",
        "379.html"
       ]
      },
      {
       "output_type": "stream",
       "stream": "stdout",
       "text": [
        " ['are 09:30 to 13:00 and 14:00 to 17:15 Monday to Friday']\n",
        "380.html"
       ]
      },
      {
       "output_type": "stream",
       "stream": "stdout",
       "text": [
        " []\n",
        "385.html"
       ]
      },
      {
       "output_type": "stream",
       "stream": "stdout",
       "text": [
        " []\n",
        "387.html"
       ]
      },
      {
       "output_type": "stream",
       "stream": "stdout",
       "text": [
        " []\n",
        "399.html"
       ]
      },
      {
       "output_type": "stream",
       "stream": "stdout",
       "text": [
        " []\n",
        "4.html"
       ]
      },
      {
       "output_type": "stream",
       "stream": "stdout",
       "text": [
        " []\n",
        "400.html"
       ]
      },
      {
       "output_type": "stream",
       "stream": "stdout",
       "text": [
        " []\n",
        "403.html"
       ]
      },
      {
       "output_type": "stream",
       "stream": "stdout",
       "text": [
        " []\n",
        "41.html"
       ]
      },
      {
       "output_type": "stream",
       "stream": "stdout",
       "text": [
        " []\n",
        "411.html"
       ]
      },
      {
       "output_type": "stream",
       "stream": "stdout",
       "text": [
        " ['Monday to Friday: 8.30am to 12.45pm and 1.30pm to 4.30pm']\n",
        "413.html"
       ]
      },
      {
       "output_type": "stream",
       "stream": "stdout",
       "text": [
        " []\n",
        "417.html"
       ]
      },
      {
       "output_type": "stream",
       "stream": "stdout",
       "text": [
        " []\n",
        "418.html"
       ]
      },
      {
       "output_type": "stream",
       "stream": "stdout",
       "text": [
        " ['Monday to Thursday and 9.30 a.m. to 4.30 p.m. Friday']\n",
        "423.html"
       ]
      },
      {
       "output_type": "stream",
       "stream": "stdout",
       "text": [
        " []\n",
        "427.html"
       ]
      },
      {
       "output_type": "stream",
       "stream": "stdout",
       "text": [
        " ['Monday June 24 2013 - 3:00:59 am', 'Monday 12:00 PM - 11:45 PM 12:00 PM - 11:45 PM Tuesday 12:00 PM - 11:45 PM 12:00 PM - 11:45 PM Wednesday 12:00 PM - 11:45 PM 12:00 PM - 11:45 PM Thursday 12:00 PM - 12:45 AM 12:00 PM - 12:45 AM Friday 12:00 PM - 2:45 AM 12:00 PM - 2:45 AM Saturday 12:00 PM - 2:45 AM 12:00 PM - 2:45 AM Sunday 12:00 PM - 12:45 AM 12:00 PM - 12:45 AM']\n",
        "43.html []\n",
        "430.html"
       ]
      },
      {
       "output_type": "stream",
       "stream": "stdout",
       "text": [
        " []\n",
        "435.html"
       ]
      },
      {
       "output_type": "stream",
       "stream": "stdout",
       "text": [
        " ['Mon: 12:00 - 00:00 Tue: 12:00 - 00:00 Wed: 12:00 - 00:00 Thu: 12:00 - 00:00 Fri: 12:00 - 01:00 Sat: 12:00 - 01:00 Sun: 12:00 - 00:00']\n",
        "437.html"
       ]
      },
      {
       "output_type": "stream",
       "stream": "stdout",
       "text": [
        " []\n",
        "47.html []\n",
        "48.html"
       ]
      },
      {
       "output_type": "stream",
       "stream": "stdout",
       "text": [
        " ['Monday to Thursday Dinner 5:00pm - 11:30pm Friday & Saturday', '1:00pm - 4:00pm A La Carte 4:00pm - 10:30pm']\n",
        "52.html"
       ]
      },
      {
       "output_type": "stream",
       "stream": "stdout",
       "text": [
        " []\n",
        "54.html"
       ]
      },
      {
       "output_type": "stream",
       "stream": "stdout",
       "text": [
        " ['Monday : 13:00 - 23:59', 'Monday 13:00 - 23:59 Tuesday 13:00 - 23:59 Wednesday 13:00 - 23:59 Thursday 13:00 - 23:59 Friday 13:00 - 23:59 Saturday 13:00 - 23:59 Sunday 13:00 - 23:59']\n",
        "55.html"
       ]
      },
      {
       "output_type": "stream",
       "stream": "stdout",
       "text": [
        " []\n",
        "56.html"
       ]
      },
      {
       "output_type": "stream",
       "stream": "stdout",
       "text": [
        " []\n",
        "57.html"
       ]
      },
      {
       "output_type": "stream",
       "stream": "stdout",
       "text": [
        " []\n",
        "58.html"
       ]
      },
      {
       "output_type": "stream",
       "stream": "stdout",
       "text": [
        " []\n",
        "59.html"
       ]
      },
      {
       "output_type": "stream",
       "stream": "stdout",
       "text": [
        " []\n",
        "61.html"
       ]
      },
      {
       "output_type": "stream",
       "stream": "stdout",
       "text": [
        " []\n",
        "63.html"
       ]
      },
      {
       "output_type": "stream",
       "stream": "stdout",
       "text": [
        " []\n",
        "65.html"
       ]
      },
      {
       "output_type": "stream",
       "stream": "stdout",
       "text": [
        " ['Monday - Friday: 9:00am - 5:30pm Saturday & Sunday: Closed']\n",
        "73.html"
       ]
      },
      {
       "output_type": "stream",
       "stream": "stdout",
       "text": [
        " ['Monday: Closed Tuesday: 17:30 - 22:00 Wednesday: 17:30 - 22:00 Thursday: 17:30 - 22:00 Friday: 17:30 - 22:00 Saturday: 17:30 - 22:00 Sunday: Closed']\n",
        "74.html"
       ]
      },
      {
       "output_type": "stream",
       "stream": "stdout",
       "text": [
        " []\n",
        "76.html"
       ]
      },
      {
       "output_type": "stream",
       "stream": "stdout",
       "text": [
        " []\n",
        "78.html"
       ]
      },
      {
       "output_type": "stream",
       "stream": "stdout",
       "text": [
        " []\n",
        "8.html"
       ]
      },
      {
       "output_type": "stream",
       "stream": "stdout",
       "text": [
        " []\n",
        "80.html"
       ]
      },
      {
       "output_type": "stream",
       "stream": "stdout",
       "text": [
        " ['Monday : 16:00 - 01:00', 'Monday 16:00 - 01:00 Tuesday 16:00 - 01:00 Wednesday 16:00 - 01:00 Thursday 16:00 - 01:00 Friday 16:00 - 03:30 Saturday 16:00 - 03:30 Sunday 16:00 - 01:00']\n",
        "81.html"
       ]
      },
      {
       "output_type": "stream",
       "stream": "stdout",
       "text": [
        " []\n",
        "82.html"
       ]
      },
      {
       "output_type": "stream",
       "stream": "stdout",
       "text": [
        " ['Monday 10am - 9:30pm Tuesday 10am - 9:30pm Wednesday 10am - 9:30pm Thursday 10am - 9:30pm Friday 10am - 10pm Saturday 10am - 10pm Sunday 10am - 9:30pm']\n",
        "84.html"
       ]
      },
      {
       "output_type": "stream",
       "stream": "stdout",
       "text": [
        " ['Weekdays: 09:00 - 23:00 Weekends: 17:00 - 02:00']\n",
        "87.html"
       ]
      },
      {
       "output_type": "stream",
       "stream": "stdout",
       "text": [
        " []\n",
        "88.html []\n",
        "89.html"
       ]
      },
      {
       "output_type": "stream",
       "stream": "stdout",
       "text": [
        " ['Monday to Friday 8am - 6pm and Saturday 9am - 1pm', 'Monday to Friday 8am - 6pm and Saturday 9am - 1pm']\n",
        "9.html []\n",
        "90.html"
       ]
      },
      {
       "output_type": "stream",
       "stream": "stdout",
       "text": [
        " []\n",
        "95.html"
       ]
      },
      {
       "output_type": "stream",
       "stream": "stdout",
       "text": [
        " ['Monday : 17:00 - 01:30', 'Monday 17:00 - 01:30 Tuesday 17:00 - 01:30 Wednesday 17:00 - 01:30 Thursday 17:00 - 02:00 Friday 17:00 - 04:00 Saturday 17:00 - 04:00 Sunday 17:00 - 02:00']\n",
        "96.html"
       ]
      },
      {
       "output_type": "stream",
       "stream": "stdout",
       "text": [
        " ['Monday - Friday: 8.45am to 6.45pm Saturday: 10am to 2pm']\n",
        "97.html"
       ]
      },
      {
       "output_type": "stream",
       "stream": "stdout",
       "text": [
        " []\n",
        "98.html"
       ]
      },
      {
       "output_type": "stream",
       "stream": "stdout",
       "text": [
        " ['Monday June 24 2013 - 3:01:12 am', 'Monday 4:00 PM - 11:15 PM 4:00 PM - 11:15 PM Tuesday 4:00 PM - 11:15 PM 4:00 PM - 11:15 PM Wednesday 4:00 PM - 11:15 PM 4:00 PM - 11:15 PM Thursday 4:00 PM - 11:15 PM 4:00 PM - 11:15 PM Friday 4:00 PM - 11:45 PM 4:00 PM - 11:45 PM Saturday 4:00 PM - 11:45 PM 4:00 PM - 11:45 PM Sunday 4:00 PM - 11:45 PM 4:00 PM - 11:45 PM']\n"
       ]
      }
     ],
     "prompt_number": 24
    },
    {
     "cell_type": "code",
     "collapsed": false,
     "input": [],
     "language": "python",
     "metadata": {},
     "outputs": []
    }
   ],
   "metadata": {}
  }
 ]
}