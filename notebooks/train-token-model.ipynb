{
 "metadata": {
  "name": ""
 },
 "nbformat": 3,
 "nbformat_minor": 0,
 "worksheets": [
  {
   "cells": [
    {
     "cell_type": "code",
     "collapsed": false,
     "input": [
      "import os\n",
      "import sys\n",
      "import re\n",
      "import codecs\n",
      "import random\n",
      "import itertools\n",
      "\n",
      "sys.path.insert(0, '..')\n",
      "\n",
      "import wapiti\n",
      "from webstruct.feature_extraction import HtmlFeaturesExtractor\n",
      "import webstruct.features\n",
      "import webstruct.preprocess\n",
      "from webstruct.wapiti import WapitiFeatureEncoder"
     ],
     "language": "python",
     "metadata": {},
     "outputs": [],
     "prompt_number": 25
    },
    {
     "cell_type": "code",
     "collapsed": false,
     "input": [
      "def tagged_data(folder):\n",
      "    for fname in os.listdir(folder):\n",
      "        path = os.path.join(folder, fname)\n",
      "        with codecs.open(path, 'r', encoding='utf8') as f:\n",
      "            yield path, f.read()\n",
      "            \n",
      "\n",
      "def fit_wapiti_encoder(tagged_data_iter):\n",
      "    fe = HtmlFeaturesExtractor(webstruct.preprocess.DEFAULT_TAGSET, webstruct.features.DEFAULT)\n",
      "    we = WapitiFeatureEncoder(['token', 'lower'])    \n",
      "    for path, html in tagged_data_iter:\n",
      "        try:\n",
      "            features, labels = fe.fit_transform(html)\n",
      "            we.partial_fit(features)\n",
      "        except AssertionError as e:\n",
      "            print(\"error decoding %s:\\n%s\" % (path, e))\n",
      "    return we\n",
      "\n",
      "\n",
      "def to_wapiti_seq(features, labels, include_labels=True):\n",
      "    lines = []\n",
      "    for line, label in zip(we.transform(features), labels):\n",
      "        if include_labels:\n",
      "            lines.append(\"%s %s\" % (line, label))\n",
      "        else:\n",
      "            lines.append(line)\n",
      "    return '\\n'.join(lines)\n",
      "    \n",
      "\n",
      "def iter_wapiti_sequences(tagged_data_iter, we, include_labels=True):\n",
      "    fe = HtmlFeaturesExtractor(webstruct.preprocess.DEFAULT_TAGSET, webstruct.features.DEFAULT)\n",
      "    for path, html in tagged_data_iter:\n",
      "        try:\n",
      "            features, labels = fe.fit_transform(html)\n",
      "        except AssertionError as e:\n",
      "            print(\"error decoding %s:\\n%s\" % (path, e))\n",
      "        else:\n",
      "            yield to_wapiti_seq(features, labels, include_labels)\n",
      "        \n",
      "    \n",
      "def create_wapiti_data(fname, tagged_data_iter, we, include_labels=True):\n",
      "    with codecs.open(fname, 'w', encoding='utf8') as f:            \n",
      "        for seq in iter_wapiti_sequences(tagged_data_iter, we, include_labels):\n",
      "            f.write(seq)\n",
      "            f.write('\\n\\n')"
     ],
     "language": "python",
     "metadata": {},
     "outputs": [],
     "prompt_number": 26
    },
    {
     "cell_type": "code",
     "collapsed": false,
     "input": [
      "random.seed(0)\n",
      "\n",
      "corpus_paths = [\n",
      "    '../webstruct_data/corpus/us_contact_pages/annotated',\n",
      "    '../webstruct_data/corpus/random_pages/annotated',    \n",
      "]\n",
      "data = list(itertools.chain(*map(tagged_data, corpus_paths)))\n",
      "\n",
      "TRAIN_SIZE = 70\n",
      "\n",
      "random.shuffle(data)\n",
      "train, dev = data[:130], data[130:]\n",
      "#train, dev = data[:], []\n",
      "\n",
      "print(len(train), len(dev))\n",
      "\n",
      "we = fit_wapiti_encoder(train)\n",
      "\n",
      "create_wapiti_data('train130.txt', train, we=we)\n",
      "create_wapiti_data('dev130.txt', dev, we=we)\n",
      "\n",
      "from sklearn.externals.joblib import dump\n",
      "#dump(we, 'wfe-155.joblib', compress=1)\n",
      "dump(we, 'wfe130.joblib', compress=1)"
     ],
     "language": "python",
     "metadata": {},
     "outputs": [
      {
       "output_type": "stream",
       "stream": "stdout",
       "text": [
        "(130, 25)\n"
       ]
      },
      {
       "metadata": {},
       "output_type": "pyout",
       "prompt_number": 27,
       "text": [
        "['wfe130.joblib']"
       ]
      }
     ],
     "prompt_number": 27
    },
    {
     "cell_type": "code",
     "collapsed": false,
     "input": [
      "template = '''\n",
      "# Label unigram & bigram\n",
      "*\n",
      "\n",
      "# Nearby token unigrams (lower)\n",
      "u-LL:%x[-2,lower]\n",
      "u--L:%x[-1,lower]\n",
      "u--R:%x[ 1,lower]\n",
      "u-RR:%x[ 2,lower]\n",
      "\n",
      "# Bag of Words\n",
      "#u:bow_left:%x[-4,lower]\n",
      "#u:bow_left:%x[-3,lower]\n",
      "#u:bow_left:%x[-2,lower]\n",
      "#u:bow_left:%x[-1,lower]\n",
      "#u:bow_right:%x[1,lower]\n",
      "#u:bow_right:%x[2,lower]\n",
      "#u:bow_right:%x[3,lower]\n",
      "#u:bow_right:%x[4,lower]\n",
      "\n",
      "# Nearby token bigrams (lower)\n",
      "#*bigram_left:%x[-2,lower]/%x[-1,lower]\n",
      "#*bigram_right:%x[1,lower]/%x[2,lower]\n",
      "\n",
      "# Nearby shapes\n",
      "u:shape-LL:%x[-2,shape]\n",
      "u:shape--L:%x[-1,shape]\n",
      "u:shape--R:%x[1,shape]\n",
      "u:shape-RR:%x[2,shape]\n",
      "\n",
      "#u:shape:%x[-1,shape]/%x[0,shape]\n",
      "#u:s4:%x[-2,shape]/%x[-1,shape]/%x[0,shape]\n",
      "#u:s5:%x[-3,shape]/%x[-2,shape]/%x[0,shape]\n",
      "\n",
      "# Nearby numeric patterns\n",
      "u:pattern-LL:%x[-2,num_pattern2]\n",
      "u:pattern--L:%x[-1,num_pattern2]\n",
      "u:pattern--R:%x[ 1,num_pattern2]\n",
      "u:pattern-RR:%x[ 2,num_pattern2]\n",
      "\n",
      "# Numeric pattern + previous token\n",
      "# u:pattern-and-token:%x[-1, lower]/%x[0,num_pattern2]\n",
      "\n",
      "# Likely dates\n",
      "#u:date1:%x[-1,looks_like_year]/%x[0,looks_like_month]\n",
      "#u:date2:%x[-1,looks_like_month]/%x[0,looks_like_year]\n",
      "u:month_before:%x[-1,looks_like_month]\n",
      "'''\n",
      "\n",
      "wapiti_template = we.unigram_features_template() + we.prepare_template(template) \n",
      "\n",
      "with codecs.open('wapiti-template.txt', 'w', encoding='utf8') as f:\n",
      "    f.write(wapiti_template)"
     ],
     "language": "python",
     "metadata": {},
     "outputs": [],
     "prompt_number": 28
    },
    {
     "cell_type": "code",
     "collapsed": false,
     "input": [
      "%alias wapiti_train wapiti train --pattern wapiti-template.txt --compact --nthread 4 --jobsize 8"
     ],
     "language": "python",
     "metadata": {},
     "outputs": [],
     "prompt_number": 32
    },
    {
     "cell_type": "markdown",
     "metadata": {},
     "source": [
      "###First, train the model using fast SGD algorithm to find a good starting point.\n",
      "\n",
      "--eta0 is learning rate; non-default value is crucial here."
     ]
    },
    {
     "cell_type": "code",
     "collapsed": false,
     "input": [
      "wapiti_train --maxiter 7 --eta0 0.001 --devel dev130.txt --algo sgd-l1 train130.txt model-sgd130.wapiti"
     ],
     "language": "python",
     "metadata": {},
     "outputs": [
      {
       "output_type": "stream",
       "stream": "stdout",
       "text": [
        "* Load patterns\r\n",
        "* Load training data\r\n"
       ]
      },
      {
       "output_type": "stream",
       "stream": "stdout",
       "text": [
        "* Load development data\r\n"
       ]
      },
      {
       "output_type": "stream",
       "stream": "stdout",
       "text": [
        "* Initialize the model\r\n"
       ]
      },
      {
       "output_type": "stream",
       "stream": "stdout",
       "text": [
        "* Summary\r\n",
        "    nb train:    130\r\n",
        "    nb devel:    25\r\n",
        "    nb labels:   27\r\n",
        "    nb blocks:   126226\r\n",
        "    nb features: 49605561\r\n",
        "* Train the model with sgd-l1\r\n",
        "    - Build the index\r\n"
       ]
      },
      {
       "output_type": "stream",
       "stream": "stdout",
       "text": [
        "      Done\r\n"
       ]
      },
      {
       "output_type": "stream",
       "stream": "stdout",
       "text": [
        "  [   1] obj=NA act=237716   err= 9.61%/100.00% time=13.59s/13.59s\r\n"
       ]
      },
      {
       "output_type": "stream",
       "stream": "stdout",
       "text": [
        "  [   2] obj=NA act=153553   err= 9.74%/100.00% time=12.17s/25.76s\r\n"
       ]
      },
      {
       "output_type": "stream",
       "stream": "stdout",
       "text": [
        "  [   3] obj=NA act=142821   err= 8.82%/100.00% time=12.14s/37.90s\r\n"
       ]
      },
      {
       "output_type": "stream",
       "stream": "stdout",
       "text": [
        "  [   4] obj=NA act=137419   err= 7.90%/100.00% time=12.11s/50.01s\r\n"
       ]
      },
      {
       "output_type": "stream",
       "stream": "stdout",
       "text": [
        "  [   5] obj=NA act=134581   err= 7.57%/96.00% time=12.11s/62.12s\r\n"
       ]
      },
      {
       "output_type": "stream",
       "stream": "stdout",
       "text": [
        "  [   6] obj=NA act=131827   err= 6.76%/100.00% time=12.12s/74.23s\r\n"
       ]
      },
      {
       "output_type": "stream",
       "stream": "stdout",
       "text": [
        "  [   7] obj=NA act=128503   err= 7.21%/100.00% time=12.17s/86.40s\r\n",
        "* Compacting the model\r\n",
        "    - Scan the model\r\n"
       ]
      },
      {
       "output_type": "stream",
       "stream": "stdout",
       "text": [
        "    - Compact it\r\n"
       ]
      },
      {
       "output_type": "stream",
       "stream": "stdout",
       "text": [
        "       94230 observations removed\r\n",
        "    34499196 features removed\r\n",
        "* Save the model\r\n"
       ]
      },
      {
       "output_type": "stream",
       "stream": "stdout",
       "text": [
        "* Done\r\n"
       ]
      }
     ],
     "prompt_number": 30
    },
    {
     "cell_type": "markdown",
     "metadata": {},
     "source": [
      "###Then refine the model using L-BFGS algorithm. \n",
      "\n",
      "Warning: this requries *a lot* of memory. Set --histsz to 2 to decrease it."
     ]
    },
    {
     "cell_type": "code",
     "collapsed": false,
     "input": [
      "wapiti_train --histsz 5 --devel dev130.txt --model model-sgd130.wapiti --maxiter 35 --algo l-bfgs train130.txt model130.wapiti"
     ],
     "language": "python",
     "metadata": {},
     "outputs": [
      {
       "output_type": "stream",
       "stream": "stdout",
       "text": [
        "* Load previous model\r\n"
       ]
      },
      {
       "output_type": "stream",
       "stream": "stdout",
       "text": [
        "* Load patterns\r\n",
        "* Load training data\r\n"
       ]
      },
      {
       "output_type": "stream",
       "stream": "stdout",
       "text": [
        "* Load development data\r\n"
       ]
      },
      {
       "output_type": "stream",
       "stream": "stdout",
       "text": [
        "* Resync the model\r\n"
       ]
      },
      {
       "output_type": "stream",
       "stream": "stdout",
       "text": [
        "* Summary\r\n",
        "    nb train:    130\r\n",
        "    nb devel:    25\r\n",
        "    nb labels:   27\r\n",
        "    nb blocks:   126226\r\n",
        "    nb features: 49605561\r\n",
        "* Train the model with l-bfgs\r\n"
       ]
      },
      {
       "output_type": "stream",
       "stream": "stdout",
       "text": [
        "  [   1] obj=8293.46    act=185055   err= 6.44%/100.00% time=22.32s/22.32s\r\n"
       ]
      },
      {
       "output_type": "stream",
       "stream": "stdout",
       "text": [
        "  [   2] obj=7893.88    act=181106   err= 6.39%/100.00% time=8.48s/30.81s\r\n"
       ]
      },
      {
       "output_type": "stream",
       "stream": "stdout",
       "text": [
        "  [   3] obj=7618.32    act=176431   err= 6.21%/100.00% time=8.69s/39.49s\r\n"
       ]
      },
      {
       "output_type": "stream",
       "stream": "stdout",
       "text": [
        "  [   4] obj=7195.33    act=166051   err= 6.25%/100.00% time=8.83s/48.32s\r\n"
       ]
      },
      {
       "output_type": "stream",
       "stream": "stdout",
       "text": [
        "  [   5] obj=7019.57    act=182414   err= 6.10%/100.00% time=9.01s/57.33s\r\n"
       ]
      },
      {
       "output_type": "stream",
       "stream": "stdout",
       "text": [
        "  [   6] obj=6808.11    act=178480   err= 6.17%/100.00% time=9.26s/66.60s\r\n"
       ]
      },
      {
       "output_type": "stream",
       "stream": "stdout",
       "text": [
        "  [   7] obj=6536.74    act=179532   err= 6.01%/100.00% time=9.08s/75.68s\r\n"
       ]
      },
      {
       "output_type": "stream",
       "stream": "stdout",
       "text": [
        "  [   8] obj=6397.94    act=176787   err= 6.57%/100.00% time=9.16s/84.84s\r\n"
       ]
      },
      {
       "output_type": "stream",
       "stream": "stdout",
       "text": [
        "  [   9] obj=5907.50    act=191716   err= 6.32%/100.00% time=9.09s/93.93s\r\n"
       ]
      },
      {
       "output_type": "stream",
       "stream": "stdout",
       "text": [
        "  [  10] obj=5668.90    act=184878   err= 5.71%/100.00% time=9.24s/103.17s\r\n"
       ]
      },
      {
       "output_type": "stream",
       "stream": "stdout",
       "text": [
        "  [  11] obj=5608.79    act=177917   err= 6.10%/100.00% time=9.29s/112.46s\r\n"
       ]
      },
      {
       "output_type": "stream",
       "stream": "stdout",
       "text": [
        "  [  12] obj=5154.73    act=189125   err= 5.77%/100.00% time=9.21s/121.67s\r\n"
       ]
      },
      {
       "output_type": "stream",
       "stream": "stdout",
       "text": [
        "  [  13] obj=5007.59    act=182064   err= 5.70%/100.00% time=9.19s/130.86s\r\n"
       ]
      },
      {
       "output_type": "stream",
       "stream": "stdout",
       "text": [
        "  [  14] obj=4660.65    act=183779   err= 5.62%/96.00% time=9.37s/140.24s\r\n"
       ]
      },
      {
       "output_type": "stream",
       "stream": "stdout",
       "text": [
        "  [  15] obj=4615.56    act=178980   err= 6.05%/100.00% time=9.31s/149.55s\r\n"
       ]
      },
      {
       "output_type": "stream",
       "stream": "stdout",
       "text": [
        "  [  16] obj=4312.03    act=192781   err= 5.86%/96.00% time=16.44s/165.99s\r\n"
       ]
      },
      {
       "output_type": "stream",
       "stream": "stdout",
       "text": [
        "  [  17] obj=4138.12    act=185752   err= 5.80%/96.00% time=16.38s/182.37s\r\n"
       ]
      },
      {
       "output_type": "stream",
       "stream": "stdout",
       "text": [
        "  [  18] obj=3848.62    act=178725   err= 5.91%/96.00% time=9.06s/191.43s\r\n"
       ]
      },
      {
       "output_type": "stream",
       "stream": "stdout",
       "text": [
        "  [  19] obj=3542.49    act=166009   err= 5.68%/100.00% time=9.12s/200.56s\r\n"
       ]
      },
      {
       "output_type": "stream",
       "stream": "stdout",
       "text": [
        "  [  20] obj=3339.35    act=172661   err= 5.68%/100.00% time=9.09s/209.65s\r\n"
       ]
      },
      {
       "output_type": "stream",
       "stream": "stdout",
       "text": [
        "  [  21] obj=3108.39    act=164269   err= 6.43%/100.00% time=9.04s/218.69s\r\n"
       ]
      },
      {
       "output_type": "stream",
       "stream": "stdout",
       "text": [
        "  [  22] obj=3054.08    act=163183   err= 6.54%/100.00% time=9.05s/227.74s\r\n"
       ]
      },
      {
       "output_type": "stream",
       "stream": "stdout",
       "text": [
        "  [  23] obj=2815.59    act=155219   err= 6.39%/100.00% time=9.04s/236.79s\r\n"
       ]
      },
      {
       "output_type": "stream",
       "stream": "stdout",
       "text": [
        "  [  24] obj=2634.32    act=149809   err= 5.28%/100.00% time=9.05s/245.83s\r\n"
       ]
      },
      {
       "output_type": "stream",
       "stream": "stdout",
       "text": [
        "  [  25] obj=2401.09    act=140284   err= 5.01%/100.00% time=9.05s/254.88s\r\n"
       ]
      },
      {
       "output_type": "stream",
       "stream": "stdout",
       "text": [
        "  [  26] obj=2209.30    act=136906   err= 5.15%/100.00% time=9.04s/263.92s\r\n"
       ]
      },
      {
       "output_type": "stream",
       "stream": "stdout",
       "text": [
        "  [  27] obj=2007.61    act=127799   err= 4.87%/100.00% time=9.07s/273.00s\r\n"
       ]
      },
      {
       "output_type": "stream",
       "stream": "stdout",
       "text": [
        "  [  28] obj=1886.37    act=122661   err= 4.93%/100.00% time=9.10s/282.09s\r\n"
       ]
      },
      {
       "output_type": "stream",
       "stream": "stdout",
       "text": [
        "  [  29] obj=1759.42    act=114593   err= 4.72%/100.00% time=9.01s/291.10s\r\n"
       ]
      },
      {
       "output_type": "stream",
       "stream": "stdout",
       "text": [
        "  [  30] obj=1666.46    act=108558   err= 4.99%/100.00% time=9.08s/300.18s\r\n"
       ]
      },
      {
       "output_type": "stream",
       "stream": "stdout",
       "text": [
        "  [  31] obj=1589.07    act=103465   err= 4.77%/100.00% time=9.08s/309.25s\r\n"
       ]
      },
      {
       "output_type": "stream",
       "stream": "stdout",
       "text": [
        "  [  32] obj=1521.31    act=100660   err= 4.87%/100.00% time=9.07s/318.33s\r\n"
       ]
      },
      {
       "output_type": "stream",
       "stream": "stdout",
       "text": [
        "  [  33] obj=1466.60    act=96479    err= 4.85%/100.00% time=9.07s/327.40s\r\n"
       ]
      },
      {
       "output_type": "stream",
       "stream": "stdout",
       "text": [
        "  [  34] obj=1414.11    act=91759    err= 4.86%/100.00% time=9.06s/336.46s\r\n"
       ]
      },
      {
       "output_type": "stream",
       "stream": "stdout",
       "text": [
        "  [  35] obj=1372.02    act=87661    err= 4.89%/100.00% time=9.13s/345.59s\r\n"
       ]
      },
      {
       "output_type": "stream",
       "stream": "stdout",
       "text": [
        "* Compacting the model\r\n",
        "    - Scan the model\r\n"
       ]
      },
      {
       "output_type": "stream",
       "stream": "stdout",
       "text": [
        "    - Compact it\r\n"
       ]
      },
      {
       "output_type": "stream",
       "stream": "stdout",
       "text": [
        "      104752 observations removed\r\n",
        "    39074184 features removed\r\n",
        "* Save the model\r\n"
       ]
      },
      {
       "output_type": "stream",
       "stream": "stdout",
       "text": [
        "* Done\r\n"
       ]
      }
     ],
     "prompt_number": 33
    },
    {
     "cell_type": "markdown",
     "metadata": {},
     "source": [
      "###Quick check:"
     ]
    },
    {
     "cell_type": "code",
     "collapsed": false,
     "input": [
      "!wapiti label --model model130.wapiti -c dev130.txt res.txt"
     ],
     "language": "python",
     "metadata": {},
     "outputs": [
      {
       "output_type": "stream",
       "stream": "stdout",
       "text": [
        "* Load model\r\n"
       ]
      },
      {
       "output_type": "stream",
       "stream": "stdout",
       "text": [
        "* Label sequences\r\n"
       ]
      },
      {
       "output_type": "stream",
       "stream": "stdout",
       "text": [
        "    Nb sequences  : 25\r\n",
        "    Token error   :  4.89%\r\n",
        "    Sequence error: 100.00%\r\n",
        "* Per label statistics\r\n",
        "    O       Pr=0.97  Rc=0.99  F1=0.98\r\n",
        "    B-STREET  Pr=0.84  Rc=0.76  F1=0.79\r\n",
        "    I-STREET  Pr=0.76  Rc=0.67  F1=0.71\r\n",
        "    B-ZIPCODE  Pr=1.00  Rc=0.89  F1=0.94\r\n",
        "    I-ZIPCODE  Pr=1.00  Rc=0.50  F1=0.67\r\n",
        "    B-CITY  Pr=0.79  Rc=0.73  F1=0.76\r\n",
        "    B-TEL   Pr=0.94  Rc=0.88  F1=0.91\r\n",
        "    I-TEL   Pr=0.89  Rc=0.94  F1=0.91\r\n",
        "    B-EMAIL  Pr=0.96  Rc=0.62  F1=0.75\r\n",
        "    B-ORG   Pr=0.61  Rc=0.45  F1=0.52\r\n",
        "    I-ORG   Pr=0.56  Rc=0.48  F1=0.52\r\n",
        "    B-COUNTRY  Pr=nan  Rc=0.00  F1=nan\r\n",
        "    I-CITY  Pr=0.75  Rc=0.56  F1=0.64\r\n",
        "    B-STATE  Pr=0.94  Rc=0.91  F1=0.92\r\n",
        "    I-STATE  Pr=nan  Rc=nan  F1=nan\r\n",
        "    B-SUBJ  Pr=0.71  Rc=0.26  F1=0.38\r\n",
        "    I-SUBJ  Pr=0.51  Rc=0.28  F1=0.36\r\n",
        "    B-PER   Pr=nan  Rc=0.00  F1=nan\r\n",
        "    I-PER   Pr=nan  Rc=0.00  F1=nan\r\n",
        "    B-FAX   Pr=1.00  Rc=0.52  F1=0.69\r\n",
        "    B-HOURS  Pr=0.86  Rc=0.46  F1=0.60\r\n",
        "    I-HOURS  Pr=0.99  Rc=0.59  F1=0.74\r\n",
        "    I-FAX   Pr=1.00  Rc=0.62  F1=0.76\r\n",
        "    B-FUNC  Pr=0.00  Rc=nan  F1=nan\r\n",
        "    I-FUNC  Pr=0.00  Rc=nan  F1=nan\r\n",
        "    I-COUNTRY  Pr=nan  Rc=nan  F1=nan\r\n",
        "    I-EMAIL  Pr=nan  Rc=0.00  F1=nan\r\n",
        "* Done\r\n"
       ]
      }
     ],
     "prompt_number": 34
    },
    {
     "cell_type": "code",
     "collapsed": false,
     "input": [],
     "language": "python",
     "metadata": {},
     "outputs": []
    }
   ],
   "metadata": {}
  }
 ]
}