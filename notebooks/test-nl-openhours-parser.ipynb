{
 "metadata": {
  "name": "test-nl-openhours-parser"
 },
 "nbformat": 3,
 "nbformat_minor": 0,
 "worksheets": [
  {
   "cells": [
    {
     "cell_type": "code",
     "collapsed": false,
     "input": [
      "import wapiti\n",
      "sys.path.insert(0, '../webstruct/')\n",
      "\n",
      "from sklearn.externals import joblib\n",
      "from urllib2 import urlopen\n",
      "from w3lib.encoding import html_to_unicode\n",
      "from webstruct.wapiti import WapitiChunker\n",
      "\n",
      "feature_extractor = joblib.load('nl-openhoursparser-fe.joblib')\n",
      "feature_encoder = joblib.load('nl-openhoursparser-wfe.joblib')\n",
      "wapiti_model = wapiti.Model(model='nl-open-hours.wapiti')\n",
      "ner = WapitiChunker(wapiti_model, feature_encoder, feature_extractor=feature_extractor)\n",
      "\n",
      "url = 'http://www.rug.nl/bibliotheek/services/bibcmb/contact/'\n",
      "url ='http://www.hanos.nl/Horeca-groothandels/Nijmegen.htm'\n",
      "url = 'http://www.eindhovenairport.com/en/at-the-airport/openingstijden-terminal/'\n",
      "url = 'http://www.uu.nl/faculty/socialsciences/nl/organisatie/diensten/hs/huisvesting/locatie/Pages/default.aspx'\n",
      "url = 'http://www.palazzolelystad.nl/winkels/'\n",
      "url = 'http://dralfietsen.nl/contact-route/'\n",
      "#url = 'http://www.tvewijk.nl/contact/lid-worden/'\n",
      "#url = 'http://www.hetgeheel.nl/drenthe/'\n",
      "#url = 'http://www.avanhooijdonk.nl/'\n",
      "\n",
      "html = urlopen(url=url).read()\n",
      "html = html_to_unicode(None, html)[1]\n",
      "\n",
      "for text, label in ner.transform(html):\n",
      "    if label != 'O':\n",
      "        print text, label\n",
      "    "
     ],
     "language": "python",
     "metadata": {},
     "outputs": [
      {
       "output_type": "stream",
       "stream": "stdout",
       "text": [
        "Maandag: 13:00 \u2013 17:30 Dinsdag: 8:00 \u2013 17:30 Woensdag: 8:00 \u2013 17:30 Donderdag: 8:00 \u2013 17:30 Vrijdag: 8:00 17:30 Zaterdag: 8:30 16:00 HOURS\n",
        "Maandag: 13:00 \u2013 18:00 Dinsdag: 8:30 \u2013 18:00 Woensdag: 8:30 \u2013 18:00 Donderdag: 8:30 \u2013 18:00 Vrijdag: 8:30 \u2013 18:00 Zaterdag: 8:30 \u2013 16:00 HOURS\n"
       ]
      }
     ],
     "prompt_number": 16
    }
   ],
   "metadata": {}
  }
 ]
}